{
 "cells": [
  {
   "cell_type": "markdown",
   "id": "ae186b7a",
   "metadata": {
    "papermill": {
     "duration": 0.007604,
     "end_time": "2022-05-26T15:30:47.119787",
     "exception": false,
     "start_time": "2022-05-26T15:30:47.112183",
     "status": "completed"
    },
    "tags": []
   },
   "source": [
    "*Predicting the Insurance cost based on several features related to patient like physical and health metrics*"
   ]
  },
  {
   "cell_type": "markdown",
   "id": "350dddfd",
   "metadata": {
    "papermill": {
     "duration": 0.004039,
     "end_time": "2022-05-26T15:30:47.128344",
     "exception": false,
     "start_time": "2022-05-26T15:30:47.124305",
     "status": "completed"
    },
    "tags": []
   },
   "source": [
    "**Lasso**\n",
    "\n",
    "**Linear Regression**\n",
    "\n",
    "**Ridge**"
   ]
  },
  {
   "cell_type": "code",
   "execution_count": 1,
   "id": "3b8f4e4f",
   "metadata": {
    "execution": {
     "iopub.execute_input": "2022-05-26T15:30:47.138984Z",
     "iopub.status.busy": "2022-05-26T15:30:47.138444Z",
     "iopub.status.idle": "2022-05-26T15:30:48.551712Z",
     "shell.execute_reply": "2022-05-26T15:30:48.550705Z"
    },
    "papermill": {
     "duration": 1.421663,
     "end_time": "2022-05-26T15:30:48.554300",
     "exception": false,
     "start_time": "2022-05-26T15:30:47.132637",
     "status": "completed"
    },
    "tags": []
   },
   "outputs": [],
   "source": [
    "import pandas as pd #Dataframe Manipulation library\n",
    "import numpy as np #Data Manipulation library\n",
    "\n",
    "#sklearn modules for Linear Regression\n",
    "from sklearn.linear_model import LinearRegression,Lasso,Ridge\n",
    "from sklearn.model_selection import train_test_split\n",
    "from sklearn.metrics import confusion_matrix\n",
    "from sklearn.preprocessing import StandardScaler,MinMaxScaler,OneHotEncoder,OrdinalEncoder,LabelEncoder\n",
    "\n",
    "#Libraries for preprocessing via Pipeline and HyperParameter Tuning\n",
    "from sklearn.impute import SimpleImputer\n",
    "from sklearn.pipeline import Pipeline\n",
    "from sklearn.compose import ColumnTransformer\n",
    "\n",
    "#Libraries for Plotting \n",
    "import matplotlib.pyplot as plt\n",
    "%matplotlib inline\n",
    "import seaborn as sns\n",
    "sns.set(color_codes=True)\n",
    "import plotly.graph_objects as go"
   ]
  },
  {
   "cell_type": "code",
   "execution_count": 2,
   "id": "103dcaa4",
   "metadata": {
    "execution": {
     "iopub.execute_input": "2022-05-26T15:30:48.564806Z",
     "iopub.status.busy": "2022-05-26T15:30:48.564429Z",
     "iopub.status.idle": "2022-05-26T15:30:48.582747Z",
     "shell.execute_reply": "2022-05-26T15:30:48.581806Z"
    },
    "papermill": {
     "duration": 0.026143,
     "end_time": "2022-05-26T15:30:48.584970",
     "exception": false,
     "start_time": "2022-05-26T15:30:48.558827",
     "status": "completed"
    },
    "tags": []
   },
   "outputs": [],
   "source": [
    "# Loading the dataset\n",
    "df = pd.read_csv(\"../input/insurance/insurance.csv\")"
   ]
  },
  {
   "cell_type": "code",
   "execution_count": 3,
   "id": "0a245adb",
   "metadata": {
    "execution": {
     "iopub.execute_input": "2022-05-26T15:30:48.595877Z",
     "iopub.status.busy": "2022-05-26T15:30:48.595236Z",
     "iopub.status.idle": "2022-05-26T15:30:48.622445Z",
     "shell.execute_reply": "2022-05-26T15:30:48.621720Z"
    },
    "papermill": {
     "duration": 0.034959,
     "end_time": "2022-05-26T15:30:48.624574",
     "exception": false,
     "start_time": "2022-05-26T15:30:48.589615",
     "status": "completed"
    },
    "tags": []
   },
   "outputs": [
    {
     "data": {
      "text/html": [
       "<div>\n",
       "<style scoped>\n",
       "    .dataframe tbody tr th:only-of-type {\n",
       "        vertical-align: middle;\n",
       "    }\n",
       "\n",
       "    .dataframe tbody tr th {\n",
       "        vertical-align: top;\n",
       "    }\n",
       "\n",
       "    .dataframe thead th {\n",
       "        text-align: right;\n",
       "    }\n",
       "</style>\n",
       "<table border=\"1\" class=\"dataframe\">\n",
       "  <thead>\n",
       "    <tr style=\"text-align: right;\">\n",
       "      <th></th>\n",
       "      <th>index</th>\n",
       "      <th>age</th>\n",
       "      <th>sex</th>\n",
       "      <th>bmi</th>\n",
       "      <th>children</th>\n",
       "      <th>smoker</th>\n",
       "      <th>region</th>\n",
       "      <th>charges</th>\n",
       "    </tr>\n",
       "  </thead>\n",
       "  <tbody>\n",
       "    <tr>\n",
       "      <th>0</th>\n",
       "      <td>0</td>\n",
       "      <td>19</td>\n",
       "      <td>female</td>\n",
       "      <td>27.900</td>\n",
       "      <td>0</td>\n",
       "      <td>yes</td>\n",
       "      <td>southwest</td>\n",
       "      <td>16884.92400</td>\n",
       "    </tr>\n",
       "    <tr>\n",
       "      <th>1</th>\n",
       "      <td>1</td>\n",
       "      <td>18</td>\n",
       "      <td>male</td>\n",
       "      <td>33.770</td>\n",
       "      <td>1</td>\n",
       "      <td>no</td>\n",
       "      <td>southeast</td>\n",
       "      <td>1725.55230</td>\n",
       "    </tr>\n",
       "    <tr>\n",
       "      <th>2</th>\n",
       "      <td>2</td>\n",
       "      <td>28</td>\n",
       "      <td>male</td>\n",
       "      <td>33.000</td>\n",
       "      <td>3</td>\n",
       "      <td>no</td>\n",
       "      <td>southeast</td>\n",
       "      <td>4449.46200</td>\n",
       "    </tr>\n",
       "    <tr>\n",
       "      <th>3</th>\n",
       "      <td>3</td>\n",
       "      <td>33</td>\n",
       "      <td>male</td>\n",
       "      <td>22.705</td>\n",
       "      <td>0</td>\n",
       "      <td>no</td>\n",
       "      <td>northwest</td>\n",
       "      <td>21984.47061</td>\n",
       "    </tr>\n",
       "    <tr>\n",
       "      <th>4</th>\n",
       "      <td>4</td>\n",
       "      <td>32</td>\n",
       "      <td>male</td>\n",
       "      <td>28.880</td>\n",
       "      <td>0</td>\n",
       "      <td>no</td>\n",
       "      <td>northwest</td>\n",
       "      <td>3866.85520</td>\n",
       "    </tr>\n",
       "  </tbody>\n",
       "</table>\n",
       "</div>"
      ],
      "text/plain": [
       "   index  age     sex     bmi  children smoker     region      charges\n",
       "0      0   19  female  27.900         0    yes  southwest  16884.92400\n",
       "1      1   18    male  33.770         1     no  southeast   1725.55230\n",
       "2      2   28    male  33.000         3     no  southeast   4449.46200\n",
       "3      3   33    male  22.705         0     no  northwest  21984.47061\n",
       "4      4   32    male  28.880         0     no  northwest   3866.85520"
      ]
     },
     "execution_count": 3,
     "metadata": {},
     "output_type": "execute_result"
    }
   ],
   "source": [
    "df = df.reset_index()\n",
    "df = df.dropna()\n",
    "df.head()"
   ]
  },
  {
   "cell_type": "code",
   "execution_count": 4,
   "id": "237a7df9",
   "metadata": {
    "execution": {
     "iopub.execute_input": "2022-05-26T15:30:48.636529Z",
     "iopub.status.busy": "2022-05-26T15:30:48.635783Z",
     "iopub.status.idle": "2022-05-26T15:30:48.643103Z",
     "shell.execute_reply": "2022-05-26T15:30:48.642137Z"
    },
    "papermill": {
     "duration": 0.015741,
     "end_time": "2022-05-26T15:30:48.645195",
     "exception": false,
     "start_time": "2022-05-26T15:30:48.629454",
     "status": "completed"
    },
    "tags": []
   },
   "outputs": [
    {
     "data": {
      "text/plain": [
       "Index(['index', 'age', 'sex', 'bmi', 'children', 'smoker', 'region',\n",
       "       'charges'],\n",
       "      dtype='object')"
      ]
     },
     "execution_count": 4,
     "metadata": {},
     "output_type": "execute_result"
    }
   ],
   "source": [
    "df.columns"
   ]
  },
  {
   "cell_type": "code",
   "execution_count": 5,
   "id": "ebc8abe4",
   "metadata": {
    "execution": {
     "iopub.execute_input": "2022-05-26T15:30:48.657688Z",
     "iopub.status.busy": "2022-05-26T15:30:48.656572Z",
     "iopub.status.idle": "2022-05-26T15:30:48.693775Z",
     "shell.execute_reply": "2022-05-26T15:30:48.692895Z"
    },
    "papermill": {
     "duration": 0.045553,
     "end_time": "2022-05-26T15:30:48.695745",
     "exception": false,
     "start_time": "2022-05-26T15:30:48.650192",
     "status": "completed"
    },
    "tags": []
   },
   "outputs": [
    {
     "data": {
      "text/html": [
       "<div>\n",
       "<style scoped>\n",
       "    .dataframe tbody tr th:only-of-type {\n",
       "        vertical-align: middle;\n",
       "    }\n",
       "\n",
       "    .dataframe tbody tr th {\n",
       "        vertical-align: top;\n",
       "    }\n",
       "\n",
       "    .dataframe thead th {\n",
       "        text-align: right;\n",
       "    }\n",
       "</style>\n",
       "<table border=\"1\" class=\"dataframe\">\n",
       "  <thead>\n",
       "    <tr style=\"text-align: right;\">\n",
       "      <th></th>\n",
       "      <th>index</th>\n",
       "      <th>age</th>\n",
       "      <th>sex</th>\n",
       "      <th>bmi</th>\n",
       "      <th>children</th>\n",
       "      <th>smoker</th>\n",
       "      <th>region</th>\n",
       "      <th>charges</th>\n",
       "    </tr>\n",
       "  </thead>\n",
       "  <tbody>\n",
       "    <tr>\n",
       "      <th>count</th>\n",
       "      <td>1338.000000</td>\n",
       "      <td>1338.000000</td>\n",
       "      <td>1338</td>\n",
       "      <td>1338.000000</td>\n",
       "      <td>1338.000000</td>\n",
       "      <td>1338</td>\n",
       "      <td>1338</td>\n",
       "      <td>1338.000000</td>\n",
       "    </tr>\n",
       "    <tr>\n",
       "      <th>unique</th>\n",
       "      <td>NaN</td>\n",
       "      <td>NaN</td>\n",
       "      <td>2</td>\n",
       "      <td>NaN</td>\n",
       "      <td>NaN</td>\n",
       "      <td>2</td>\n",
       "      <td>4</td>\n",
       "      <td>NaN</td>\n",
       "    </tr>\n",
       "    <tr>\n",
       "      <th>top</th>\n",
       "      <td>NaN</td>\n",
       "      <td>NaN</td>\n",
       "      <td>male</td>\n",
       "      <td>NaN</td>\n",
       "      <td>NaN</td>\n",
       "      <td>no</td>\n",
       "      <td>southeast</td>\n",
       "      <td>NaN</td>\n",
       "    </tr>\n",
       "    <tr>\n",
       "      <th>freq</th>\n",
       "      <td>NaN</td>\n",
       "      <td>NaN</td>\n",
       "      <td>676</td>\n",
       "      <td>NaN</td>\n",
       "      <td>NaN</td>\n",
       "      <td>1064</td>\n",
       "      <td>364</td>\n",
       "      <td>NaN</td>\n",
       "    </tr>\n",
       "    <tr>\n",
       "      <th>mean</th>\n",
       "      <td>668.500000</td>\n",
       "      <td>39.207025</td>\n",
       "      <td>NaN</td>\n",
       "      <td>30.663397</td>\n",
       "      <td>1.094918</td>\n",
       "      <td>NaN</td>\n",
       "      <td>NaN</td>\n",
       "      <td>13270.422265</td>\n",
       "    </tr>\n",
       "    <tr>\n",
       "      <th>std</th>\n",
       "      <td>386.391641</td>\n",
       "      <td>14.049960</td>\n",
       "      <td>NaN</td>\n",
       "      <td>6.098187</td>\n",
       "      <td>1.205493</td>\n",
       "      <td>NaN</td>\n",
       "      <td>NaN</td>\n",
       "      <td>12110.011237</td>\n",
       "    </tr>\n",
       "    <tr>\n",
       "      <th>min</th>\n",
       "      <td>0.000000</td>\n",
       "      <td>18.000000</td>\n",
       "      <td>NaN</td>\n",
       "      <td>15.960000</td>\n",
       "      <td>0.000000</td>\n",
       "      <td>NaN</td>\n",
       "      <td>NaN</td>\n",
       "      <td>1121.873900</td>\n",
       "    </tr>\n",
       "    <tr>\n",
       "      <th>25%</th>\n",
       "      <td>334.250000</td>\n",
       "      <td>27.000000</td>\n",
       "      <td>NaN</td>\n",
       "      <td>26.296250</td>\n",
       "      <td>0.000000</td>\n",
       "      <td>NaN</td>\n",
       "      <td>NaN</td>\n",
       "      <td>4740.287150</td>\n",
       "    </tr>\n",
       "    <tr>\n",
       "      <th>50%</th>\n",
       "      <td>668.500000</td>\n",
       "      <td>39.000000</td>\n",
       "      <td>NaN</td>\n",
       "      <td>30.400000</td>\n",
       "      <td>1.000000</td>\n",
       "      <td>NaN</td>\n",
       "      <td>NaN</td>\n",
       "      <td>9382.033000</td>\n",
       "    </tr>\n",
       "    <tr>\n",
       "      <th>75%</th>\n",
       "      <td>1002.750000</td>\n",
       "      <td>51.000000</td>\n",
       "      <td>NaN</td>\n",
       "      <td>34.693750</td>\n",
       "      <td>2.000000</td>\n",
       "      <td>NaN</td>\n",
       "      <td>NaN</td>\n",
       "      <td>16639.912515</td>\n",
       "    </tr>\n",
       "    <tr>\n",
       "      <th>max</th>\n",
       "      <td>1337.000000</td>\n",
       "      <td>64.000000</td>\n",
       "      <td>NaN</td>\n",
       "      <td>53.130000</td>\n",
       "      <td>5.000000</td>\n",
       "      <td>NaN</td>\n",
       "      <td>NaN</td>\n",
       "      <td>63770.428010</td>\n",
       "    </tr>\n",
       "  </tbody>\n",
       "</table>\n",
       "</div>"
      ],
      "text/plain": [
       "              index          age   sex          bmi     children smoker  \\\n",
       "count   1338.000000  1338.000000  1338  1338.000000  1338.000000   1338   \n",
       "unique          NaN          NaN     2          NaN          NaN      2   \n",
       "top             NaN          NaN  male          NaN          NaN     no   \n",
       "freq            NaN          NaN   676          NaN          NaN   1064   \n",
       "mean     668.500000    39.207025   NaN    30.663397     1.094918    NaN   \n",
       "std      386.391641    14.049960   NaN     6.098187     1.205493    NaN   \n",
       "min        0.000000    18.000000   NaN    15.960000     0.000000    NaN   \n",
       "25%      334.250000    27.000000   NaN    26.296250     0.000000    NaN   \n",
       "50%      668.500000    39.000000   NaN    30.400000     1.000000    NaN   \n",
       "75%     1002.750000    51.000000   NaN    34.693750     2.000000    NaN   \n",
       "max     1337.000000    64.000000   NaN    53.130000     5.000000    NaN   \n",
       "\n",
       "           region       charges  \n",
       "count        1338   1338.000000  \n",
       "unique          4           NaN  \n",
       "top     southeast           NaN  \n",
       "freq          364           NaN  \n",
       "mean          NaN  13270.422265  \n",
       "std           NaN  12110.011237  \n",
       "min           NaN   1121.873900  \n",
       "25%           NaN   4740.287150  \n",
       "50%           NaN   9382.033000  \n",
       "75%           NaN  16639.912515  \n",
       "max           NaN  63770.428010  "
      ]
     },
     "execution_count": 5,
     "metadata": {},
     "output_type": "execute_result"
    }
   ],
   "source": [
    "df.describe(include = 'all')"
   ]
  },
  {
   "cell_type": "markdown",
   "id": "d70f46d2",
   "metadata": {
    "papermill": {
     "duration": 0.005183,
     "end_time": "2022-05-26T15:30:48.706503",
     "exception": false,
     "start_time": "2022-05-26T15:30:48.701320",
     "status": "completed"
    },
    "tags": []
   },
   "source": [
    "#### Pipeline for continuous and categorical features"
   ]
  },
  {
   "cell_type": "code",
   "execution_count": 6,
   "id": "001a67d8",
   "metadata": {
    "execution": {
     "iopub.execute_input": "2022-05-26T15:30:48.719339Z",
     "iopub.status.busy": "2022-05-26T15:30:48.718707Z",
     "iopub.status.idle": "2022-05-26T15:30:48.724864Z",
     "shell.execute_reply": "2022-05-26T15:30:48.724153Z"
    },
    "papermill": {
     "duration": 0.014688,
     "end_time": "2022-05-26T15:30:48.726630",
     "exception": false,
     "start_time": "2022-05-26T15:30:48.711942",
     "status": "completed"
    },
    "tags": []
   },
   "outputs": [
    {
     "data": {
      "text/plain": [
       "index         int64\n",
       "age           int64\n",
       "sex          object\n",
       "bmi         float64\n",
       "children      int64\n",
       "smoker       object\n",
       "region       object\n",
       "charges     float64\n",
       "dtype: object"
      ]
     },
     "execution_count": 6,
     "metadata": {},
     "output_type": "execute_result"
    }
   ],
   "source": [
    "df.dtypes"
   ]
  },
  {
   "cell_type": "code",
   "execution_count": 7,
   "id": "89e0d3df",
   "metadata": {
    "execution": {
     "iopub.execute_input": "2022-05-26T15:30:48.739012Z",
     "iopub.status.busy": "2022-05-26T15:30:48.738434Z",
     "iopub.status.idle": "2022-05-26T15:30:48.744796Z",
     "shell.execute_reply": "2022-05-26T15:30:48.744114Z"
    },
    "papermill": {
     "duration": 0.014886,
     "end_time": "2022-05-26T15:30:48.746828",
     "exception": false,
     "start_time": "2022-05-26T15:30:48.731942",
     "status": "completed"
    },
    "tags": []
   },
   "outputs": [],
   "source": [
    "x_train,x_test,y_train,y_test = train_test_split(df.iloc[:,:7],df.iloc[:,-1:],\n",
    "                                                test_size=0.2,\n",
    "                                                random_state=41)"
   ]
  },
  {
   "cell_type": "markdown",
   "id": "ba08e864",
   "metadata": {
    "papermill": {
     "duration": 0.00507,
     "end_time": "2022-05-26T15:30:48.757559",
     "exception": false,
     "start_time": "2022-05-26T15:30:48.752489",
     "status": "completed"
    },
    "tags": []
   },
   "source": [
    "*Selecting Numeric and categorical features using List Comprehensions and dtypes*"
   ]
  },
  {
   "cell_type": "code",
   "execution_count": 8,
   "id": "91066270",
   "metadata": {
    "execution": {
     "iopub.execute_input": "2022-05-26T15:30:48.769982Z",
     "iopub.status.busy": "2022-05-26T15:30:48.769323Z",
     "iopub.status.idle": "2022-05-26T15:30:48.786996Z",
     "shell.execute_reply": "2022-05-26T15:30:48.785634Z"
    },
    "papermill": {
     "duration": 0.026338,
     "end_time": "2022-05-26T15:30:48.789107",
     "exception": false,
     "start_time": "2022-05-26T15:30:48.762769",
     "status": "completed"
    },
    "tags": []
   },
   "outputs": [
    {
     "name": "stdout",
     "output_type": "stream",
     "text": [
      "The dataframe information is as below: \n",
      "\n",
      "<class 'pandas.core.frame.DataFrame'>\n",
      "Int64Index: 1338 entries, 0 to 1337\n",
      "Data columns (total 7 columns):\n",
      " #   Column    Non-Null Count  Dtype  \n",
      "---  ------    --------------  -----  \n",
      " 0   index     1338 non-null   int64  \n",
      " 1   age       1338 non-null   int64  \n",
      " 2   sex       1338 non-null   object \n",
      " 3   bmi       1338 non-null   float64\n",
      " 4   children  1338 non-null   int64  \n",
      " 5   smoker    1338 non-null   object \n",
      " 6   region    1338 non-null   object \n",
      "dtypes: float64(1), int64(3), object(3)\n",
      "memory usage: 83.6+ KB\n"
     ]
    }
   ],
   "source": [
    "df_new = df.iloc[:,:7]\n",
    "\n",
    "#df_new.columns\n",
    "print(\"The dataframe information is as below: \\n\" )\n",
    "df_new.info()"
   ]
  },
  {
   "cell_type": "code",
   "execution_count": 9,
   "id": "f843232d",
   "metadata": {
    "execution": {
     "iopub.execute_input": "2022-05-26T15:30:48.802094Z",
     "iopub.status.busy": "2022-05-26T15:30:48.801094Z",
     "iopub.status.idle": "2022-05-26T15:30:48.810008Z",
     "shell.execute_reply": "2022-05-26T15:30:48.809148Z"
    },
    "papermill": {
     "duration": 0.017216,
     "end_time": "2022-05-26T15:30:48.811875",
     "exception": false,
     "start_time": "2022-05-26T15:30:48.794659",
     "status": "completed"
    },
    "tags": []
   },
   "outputs": [
    {
     "data": {
      "text/html": [
       "<div>\n",
       "<style scoped>\n",
       "    .dataframe tbody tr th:only-of-type {\n",
       "        vertical-align: middle;\n",
       "    }\n",
       "\n",
       "    .dataframe tbody tr th {\n",
       "        vertical-align: top;\n",
       "    }\n",
       "\n",
       "    .dataframe thead th {\n",
       "        text-align: right;\n",
       "    }\n",
       "</style>\n",
       "<table border=\"1\" class=\"dataframe\">\n",
       "  <thead>\n",
       "    <tr style=\"text-align: right;\">\n",
       "      <th></th>\n",
       "      <th>charges</th>\n",
       "    </tr>\n",
       "  </thead>\n",
       "  <tbody>\n",
       "    <tr>\n",
       "      <th>0</th>\n",
       "      <td>16884.92400</td>\n",
       "    </tr>\n",
       "    <tr>\n",
       "      <th>1</th>\n",
       "      <td>1725.55230</td>\n",
       "    </tr>\n",
       "    <tr>\n",
       "      <th>2</th>\n",
       "      <td>4449.46200</td>\n",
       "    </tr>\n",
       "    <tr>\n",
       "      <th>3</th>\n",
       "      <td>21984.47061</td>\n",
       "    </tr>\n",
       "    <tr>\n",
       "      <th>4</th>\n",
       "      <td>3866.85520</td>\n",
       "    </tr>\n",
       "  </tbody>\n",
       "</table>\n",
       "</div>"
      ],
      "text/plain": [
       "       charges\n",
       "0  16884.92400\n",
       "1   1725.55230\n",
       "2   4449.46200\n",
       "3  21984.47061\n",
       "4   3866.85520"
      ]
     },
     "execution_count": 9,
     "metadata": {},
     "output_type": "execute_result"
    }
   ],
   "source": [
    "df.iloc[:5,-1:]"
   ]
  },
  {
   "cell_type": "code",
   "execution_count": 10,
   "id": "2760bea1",
   "metadata": {
    "execution": {
     "iopub.execute_input": "2022-05-26T15:30:48.824684Z",
     "iopub.status.busy": "2022-05-26T15:30:48.824104Z",
     "iopub.status.idle": "2022-05-26T15:30:48.829907Z",
     "shell.execute_reply": "2022-05-26T15:30:48.828804Z"
    },
    "papermill": {
     "duration": 0.014981,
     "end_time": "2022-05-26T15:30:48.832458",
     "exception": false,
     "start_time": "2022-05-26T15:30:48.817477",
     "status": "completed"
    },
    "tags": []
   },
   "outputs": [
    {
     "name": "stdout",
     "output_type": "stream",
     "text": [
      "The Numerical Features are ['index', 'age', 'bmi', 'children']\n",
      "The Categorical Features are ['sex', 'smoker', 'region']\n"
     ]
    }
   ],
   "source": [
    "numerical_features = [col for col in df_new.columns if df_new[col].dtypes in ['int64','float64']]\n",
    "print(f\"The Numerical Features are {numerical_features}\")\n",
    "\n",
    "#categorical_features = [col for col in df.columns if df[col].dtypes in ['object']]  OR\n",
    "categorical_features = [col for col in df_new.columns if col not in numerical_features]\n",
    "print(f\"The Categorical Features are {categorical_features}\")"
   ]
  },
  {
   "cell_type": "markdown",
   "id": "96ec1589",
   "metadata": {
    "papermill": {
     "duration": 0.005362,
     "end_time": "2022-05-26T15:30:48.844398",
     "exception": false,
     "start_time": "2022-05-26T15:30:48.839036",
     "status": "completed"
    },
    "tags": []
   },
   "source": [
    "**LASSO**"
   ]
  },
  {
   "cell_type": "code",
   "execution_count": 11,
   "id": "4b1874e4",
   "metadata": {
    "execution": {
     "iopub.execute_input": "2022-05-26T15:30:48.857043Z",
     "iopub.status.busy": "2022-05-26T15:30:48.856671Z",
     "iopub.status.idle": "2022-05-26T15:30:48.863779Z",
     "shell.execute_reply": "2022-05-26T15:30:48.862659Z"
    },
    "papermill": {
     "duration": 0.015437,
     "end_time": "2022-05-26T15:30:48.865676",
     "exception": false,
     "start_time": "2022-05-26T15:30:48.850239",
     "status": "completed"
    },
    "tags": []
   },
   "outputs": [],
   "source": [
    "numerical_transformer = Pipeline(steps=\n",
    "                                 [('imputer',SimpleImputer(strategy='mean')),\n",
    "                                  ('scaler',StandardScaler())\n",
    "                                 ])\n",
    "categorical_transformer = Pipeline(steps=\n",
    "                                 [('imputer',SimpleImputer(strategy='constant',fill_value='missing')),\n",
    "                                  ('scaler',OneHotEncoder(sparse=False,handle_unknown='error'))\n",
    "                                 ])\n",
    "\n",
    "preprocessor = ColumnTransformer(transformers=[\n",
    "    ('num_trans',numerical_transformer,numerical_features),\n",
    "    ('cat_trans',categorical_transformer,categorical_features)\n",
    "])\n",
    "\n",
    "lasso_mdl = Pipeline(steps=\n",
    "                [\n",
    "                    ('preprocessor',preprocessor),\n",
    "                    ('model',Lasso(max_iter=500,random_state=41))\n",
    "                ])"
   ]
  },
  {
   "cell_type": "code",
   "execution_count": 12,
   "id": "11106cdd",
   "metadata": {
    "execution": {
     "iopub.execute_input": "2022-05-26T15:30:48.878911Z",
     "iopub.status.busy": "2022-05-26T15:30:48.877943Z",
     "iopub.status.idle": "2022-05-26T15:30:48.939060Z",
     "shell.execute_reply": "2022-05-26T15:30:48.938142Z"
    },
    "papermill": {
     "duration": 0.071048,
     "end_time": "2022-05-26T15:30:48.942310",
     "exception": false,
     "start_time": "2022-05-26T15:30:48.871262",
     "status": "completed"
    },
    "tags": []
   },
   "outputs": [
    {
     "name": "stdout",
     "output_type": "stream",
     "text": [
      "The score of the Lasso model is: 68.482%\n",
      "\n",
      " The test values are: \n",
      "          charges\n",
      "1083   4076.49700\n",
      "1237  12224.35085\n",
      "519    3857.75925\n",
      "79     6571.02435\n",
      "930    2927.06470\n",
      "\n",
      " The predicted values of the Lasso model are: \n",
      "[ 6401.69901139 12233.68886916  6613.41226134  9447.63852663\n",
      " 10074.78571932]\n"
     ]
    }
   ],
   "source": [
    "lasso_mdl.fit(x_train,y_train)\n",
    "lasso_score = lasso_mdl.score(x_test,y_test)*100\n",
    "print(f\"The score of the Lasso model is: {lasso_score:0.3f}%\")\n",
    "lasso_y_predict = lasso_mdl.predict(x_test)\n",
    "#y_test = y_test.reset_index()\n",
    "print(f\"\\n The test values are: \")\n",
    "print(y_test[:5])\n",
    "print(f\"\\n The predicted values of the Lasso model are: \")\n",
    "print(lasso_y_predict[:5])"
   ]
  },
  {
   "cell_type": "markdown",
   "id": "460d5ff7",
   "metadata": {
    "papermill": {
     "duration": 0.010624,
     "end_time": "2022-05-26T15:30:48.963810",
     "exception": false,
     "start_time": "2022-05-26T15:30:48.953186",
     "status": "completed"
    },
    "tags": []
   },
   "source": [
    "**Linear Regression**"
   ]
  },
  {
   "cell_type": "code",
   "execution_count": 13,
   "id": "0ebf5803",
   "metadata": {
    "execution": {
     "iopub.execute_input": "2022-05-26T15:30:48.987781Z",
     "iopub.status.busy": "2022-05-26T15:30:48.987248Z",
     "iopub.status.idle": "2022-05-26T15:30:48.996842Z",
     "shell.execute_reply": "2022-05-26T15:30:48.995899Z"
    },
    "papermill": {
     "duration": 0.024564,
     "end_time": "2022-05-26T15:30:48.999410",
     "exception": false,
     "start_time": "2022-05-26T15:30:48.974846",
     "status": "completed"
    },
    "tags": []
   },
   "outputs": [],
   "source": [
    "numerical_transformer = Pipeline(steps=\n",
    "                                 [('imputer',SimpleImputer(strategy='median')),\n",
    "                                  ('scaler',StandardScaler())\n",
    "                                 ])\n",
    "categorical_transformer = Pipeline(steps=\n",
    "                                 [('imputer',SimpleImputer(strategy='most_frequent',fill_value='missing')),\n",
    "                                  ('scaler',OrdinalEncoder(handle_unknown='error'))\n",
    "                                 ])\n",
    "\n",
    "preprocessor = ColumnTransformer(transformers=[\n",
    "    ('num_trans',numerical_transformer,numerical_features),\n",
    "    ('cat_trans',categorical_transformer,categorical_features)\n",
    "])\n",
    "\n",
    "linear_mdl = Pipeline(steps=\n",
    "                [\n",
    "                    ('preprocessor',preprocessor),\n",
    "                    ('model',LinearRegression())\n",
    "                ])"
   ]
  },
  {
   "cell_type": "code",
   "execution_count": 14,
   "id": "a20774bc",
   "metadata": {
    "execution": {
     "iopub.execute_input": "2022-05-26T15:30:49.023109Z",
     "iopub.status.busy": "2022-05-26T15:30:49.022545Z",
     "iopub.status.idle": "2022-05-26T15:30:49.073886Z",
     "shell.execute_reply": "2022-05-26T15:30:49.072699Z"
    },
    "papermill": {
     "duration": 0.066769,
     "end_time": "2022-05-26T15:30:49.077129",
     "exception": false,
     "start_time": "2022-05-26T15:30:49.010360",
     "status": "completed"
    },
    "tags": []
   },
   "outputs": [
    {
     "name": "stdout",
     "output_type": "stream",
     "text": [
      "The score of the Linear Regression model is: 68.494%\n",
      "\n",
      " The test values are: \n",
      "          charges\n",
      "1083   4076.49700\n",
      "1237  12224.35085\n",
      "519    3857.75925\n",
      "79     6571.02435\n",
      "930    2927.06470\n",
      "\n",
      " The predicted values of the Linear model are: \n",
      "[[ 6221.97192053]\n",
      " [12129.61796578]\n",
      " [ 6578.68748637]\n",
      " [ 9279.67288513]\n",
      " [10246.44266928]]\n"
     ]
    }
   ],
   "source": [
    "linear_mdl.fit(x_train,y_train)\n",
    "linear_score = linear_mdl.score(x_test,y_test)*100\n",
    "print(f\"The score of the Linear Regression model is: {linear_score:0.3f}%\")\n",
    "linear_y_predict = linear_mdl.predict(x_test)\n",
    "#y_test = y_test.reset_index()\n",
    "print(f\"\\n The test values are: \")\n",
    "print(y_test[:5])\n",
    "print(f\"\\n The predicted values of the Linear model are: \")\n",
    "print(linear_y_predict[:5])"
   ]
  },
  {
   "cell_type": "markdown",
   "id": "f975c1d5",
   "metadata": {
    "papermill": {
     "duration": 0.005168,
     "end_time": "2022-05-26T15:30:49.088384",
     "exception": false,
     "start_time": "2022-05-26T15:30:49.083216",
     "status": "completed"
    },
    "tags": []
   },
   "source": [
    "**Ridge**"
   ]
  },
  {
   "cell_type": "code",
   "execution_count": 15,
   "id": "8110a96f",
   "metadata": {
    "execution": {
     "iopub.execute_input": "2022-05-26T15:30:49.101106Z",
     "iopub.status.busy": "2022-05-26T15:30:49.100719Z",
     "iopub.status.idle": "2022-05-26T15:30:49.107272Z",
     "shell.execute_reply": "2022-05-26T15:30:49.106259Z"
    },
    "papermill": {
     "duration": 0.01512,
     "end_time": "2022-05-26T15:30:49.109051",
     "exception": false,
     "start_time": "2022-05-26T15:30:49.093931",
     "status": "completed"
    },
    "tags": []
   },
   "outputs": [],
   "source": [
    "numerical_transformer = Pipeline(steps=\n",
    "                                 [('imputer',SimpleImputer(strategy='mean')),\n",
    "                                  ('scaler',MinMaxScaler())\n",
    "                                 ])\n",
    "categorical_transformer = Pipeline(steps=\n",
    "                                 [('imputer',SimpleImputer(strategy='most_frequent',fill_value='missing')),\n",
    "                                  ('encoder',OrdinalEncoder(handle_unknown='error'))\n",
    "#('encoder',LabelEncoder()) This transformer should be used to encode target values, *i.e.* `y`, and\n",
    "#not the input `X`)\n",
    "                                 ])\n",
    "\n",
    "preprocessor = ColumnTransformer(transformers=[\n",
    "    ('num_trans',numerical_transformer,numerical_features),\n",
    "    ('cat_trans',categorical_transformer,categorical_features)\n",
    "])\n",
    "\n",
    "ridge_mdl = Pipeline(steps=\n",
    "                [\n",
    "                    ('preprocessor',preprocessor),\n",
    "                    ('model',Ridge(alpha=1.0))\n",
    "                ])"
   ]
  },
  {
   "cell_type": "code",
   "execution_count": 16,
   "id": "ee06b127",
   "metadata": {
    "execution": {
     "iopub.execute_input": "2022-05-26T15:30:49.121451Z",
     "iopub.status.busy": "2022-05-26T15:30:49.121010Z",
     "iopub.status.idle": "2022-05-26T15:30:49.157547Z",
     "shell.execute_reply": "2022-05-26T15:30:49.156636Z"
    },
    "papermill": {
     "duration": 0.045057,
     "end_time": "2022-05-26T15:30:49.159593",
     "exception": false,
     "start_time": "2022-05-26T15:30:49.114536",
     "status": "completed"
    },
    "tags": []
   },
   "outputs": [
    {
     "name": "stdout",
     "output_type": "stream",
     "text": [
      "The score of the Ridge model is: 68.615%\n",
      "\n",
      " The test values are: \n",
      "          charges\n",
      "1083   4076.49700\n",
      "1237  12224.35085\n",
      "519    3857.75925\n",
      "79     6571.02435\n",
      "930    2927.06470\n",
      "\n",
      " The predicted values of the Ridge Model are: \n",
      "[[ 6277.36083609]\n",
      " [12132.57119328]\n",
      " [ 6618.37752966]\n",
      " [ 9276.38323781]\n",
      " [10140.01103767]]\n"
     ]
    }
   ],
   "source": [
    "ridge_mdl.fit(x_train,y_train)\n",
    "ridge_score = ridge_mdl.score(x_test,y_test)*100\n",
    "print(f\"The score of the Ridge model is: {ridge_score:0.3f}%\")\n",
    "ridge_y_predict = ridge_mdl.predict(x_test)\n",
    "#y_test = y_test.reset_index()\n",
    "print(f\"\\n The test values are: \")\n",
    "print(y_test[:5])\n",
    "print(f\"\\n The predicted values of the Ridge Model are: \")\n",
    "print(ridge_y_predict[:5])"
   ]
  }
 ],
 "metadata": {
  "kernelspec": {
   "display_name": "Python 3",
   "language": "python",
   "name": "python3"
  },
  "language_info": {
   "codemirror_mode": {
    "name": "ipython",
    "version": 3
   },
   "file_extension": ".py",
   "mimetype": "text/x-python",
   "name": "python",
   "nbconvert_exporter": "python",
   "pygments_lexer": "ipython3",
   "version": "3.7.12"
  },
  "papermill": {
   "default_parameters": {},
   "duration": 11.124524,
   "end_time": "2022-05-26T15:30:49.885916",
   "environment_variables": {},
   "exception": null,
   "input_path": "__notebook__.ipynb",
   "output_path": "__notebook__.ipynb",
   "parameters": {},
   "start_time": "2022-05-26T15:30:38.761392",
   "version": "2.3.4"
  }
 },
 "nbformat": 4,
 "nbformat_minor": 5
}
