{
 "cells": [
  {
   "cell_type": "markdown",
   "id": "4979fd89",
   "metadata": {
    "papermill": {
     "duration": 0.011333,
     "end_time": "2022-06-14T21:43:29.538802",
     "exception": false,
     "start_time": "2022-06-14T21:43:29.527469",
     "status": "completed"
    },
    "tags": []
   },
   "source": [
    "*Predicting the **news article category** of the specified news groups, from the given 20 articles*\n",
    "\n",
    "*Extracting feature vectors from a list of the raw texts that are fed to text feature extractors such as **CountVectorizer** or **TfidfVectorizer** with custom parameters*"
   ]
  },
  {
   "cell_type": "code",
   "execution_count": 1,
   "id": "64c434dd",
   "metadata": {
    "_cell_guid": "b1076dfc-b9ad-4769-8c92-a6c4dae69d19",
    "_uuid": "8f2839f25d086af736a60e9eeb907d3b93b6e0e5",
    "execution": {
     "iopub.execute_input": "2022-06-14T21:43:29.556997Z",
     "iopub.status.busy": "2022-06-14T21:43:29.556122Z",
     "iopub.status.idle": "2022-06-14T21:43:30.786799Z",
     "shell.execute_reply": "2022-06-14T21:43:30.785859Z"
    },
    "papermill": {
     "duration": 1.242694,
     "end_time": "2022-06-14T21:43:30.789375",
     "exception": false,
     "start_time": "2022-06-14T21:43:29.546681",
     "status": "completed"
    },
    "tags": []
   },
   "outputs": [],
   "source": [
    "import pandas as pd #DataFrame manipulation library\n",
    "\n",
    "#Loading the dataset having details of 18000 newsgroups posts on 20 topics from the 20 newsgroups dataset\n",
    "from sklearn.datasets import fetch_20newsgroups \n",
    "from sklearn.feature_extraction.text import CountVectorizer, TfidfVectorizer\n",
    "\n",
    "from sklearn.linear_model import LogisticRegression"
   ]
  },
  {
   "cell_type": "markdown",
   "id": "c876a078",
   "metadata": {
    "papermill": {
     "duration": 0.007339,
     "end_time": "2022-06-14T21:43:30.804429",
     "exception": false,
     "start_time": "2022-06-14T21:43:30.797090",
     "status": "completed"
    },
    "tags": []
   },
   "source": [
    "##### Transforming a processed Text to Document Term Matrix/ Term Document Matrix/ Term Frequency Document Matrix"
   ]
  },
  {
   "cell_type": "code",
   "execution_count": 2,
   "id": "66a8ce6b",
   "metadata": {
    "execution": {
     "iopub.execute_input": "2022-06-14T21:43:30.821655Z",
     "iopub.status.busy": "2022-06-14T21:43:30.820864Z",
     "iopub.status.idle": "2022-06-14T21:43:42.640772Z",
     "shell.execute_reply": "2022-06-14T21:43:42.640017Z"
    },
    "papermill": {
     "duration": 11.83094,
     "end_time": "2022-06-14T21:43:42.642958",
     "exception": false,
     "start_time": "2022-06-14T21:43:30.812018",
     "status": "completed"
    },
    "tags": []
   },
   "outputs": [
    {
     "data": {
      "text/plain": [
       "dict_keys(['data', 'filenames', 'target_names', 'target', 'DESCR'])"
      ]
     },
     "execution_count": 2,
     "metadata": {},
     "output_type": "execute_result"
    }
   ],
   "source": [
    "ds_ng =  fetch_20newsgroups(subset = 'train', shuffle = True, random_state=42) #load the dataset in fetch_ng\n",
    "#subset = 'train' as dataset is split in two subsets: training (or development) and testing (or for performance evaluation)\n",
    "#The split between the train and test set is based upon a messages posted before and after a specific date\n",
    "ds_ng.keys() #Dataset loaded is a dictionary "
   ]
  },
  {
   "cell_type": "markdown",
   "id": "3bb8063b",
   "metadata": {
    "papermill": {
     "duration": 0.007489,
     "end_time": "2022-06-14T21:43:42.658184",
     "exception": false,
     "start_time": "2022-06-14T21:43:42.650695",
     "status": "completed"
    },
    "tags": []
   },
   "source": [
    "##### Considering a small sample from dataset"
   ]
  },
  {
   "cell_type": "code",
   "execution_count": 3,
   "id": "950457f6",
   "metadata": {
    "execution": {
     "iopub.execute_input": "2022-06-14T21:43:42.675622Z",
     "iopub.status.busy": "2022-06-14T21:43:42.674973Z",
     "iopub.status.idle": "2022-06-14T21:43:42.680359Z",
     "shell.execute_reply": "2022-06-14T21:43:42.679751Z"
    },
    "papermill": {
     "duration": 0.016227,
     "end_time": "2022-06-14T21:43:42.682196",
     "exception": false,
     "start_time": "2022-06-14T21:43:42.665969",
     "status": "completed"
    },
    "tags": []
   },
   "outputs": [
    {
     "data": {
      "text/plain": [
       "['From: mathew <mathew@mantis.co.uk>\\nSubject: Re: <Political Atheists?\\nOrganization: Mantis Consultants, Cambridge. UK.\\nX-Newsreader: rusnews v1.01\\nLines: 22\\n\\nkmr4@po.CWRU.edu (Keith M. Ryan) writes:\\n> ( I am almost sure that Zyklon-B is immediate and painless method of \\n> death. If not, insert soem other form. )\\n> \\n>         And, ethnic and minority groups have been killed, mutilated and \\n> exterminated through out history, so I guess it was not unusual.\\n> \\n>         So, you would agree that the holocost would be allowed under the US \\n> Constitution?  [ in so far, the punishment. I doubt they recieved what would \\n> be considered a \"fair\" trial by US standards.\\n\\nDon\\'t be so sure.  Look what happened to Japanese citizens in the US during\\nWorld War II.  If you\\'re prepared to say \"Let\\'s round these people up and\\nstick them in a concentration camp without trial\", it\\'s only a short step to\\ngassing them without trial.  After all, it seems that the Nazis originally\\nonly intended to imprison the Jews; the Final Solution was dreamt up partly\\nbecause they couldn\\'t afford to run the camps because of the devastation\\ncaused by Goering\\'s Total War.  Those who weren\\'t gassed generally died of\\nmalnutrition or disease.\\n\\n\\nmathew\\n']"
      ]
     },
     "execution_count": 3,
     "metadata": {},
     "output_type": "execute_result"
    }
   ],
   "source": [
    "ds_ng.data[15:16]"
   ]
  },
  {
   "cell_type": "code",
   "execution_count": 4,
   "id": "8c848663",
   "metadata": {
    "execution": {
     "iopub.execute_input": "2022-06-14T21:43:42.700438Z",
     "iopub.status.busy": "2022-06-14T21:43:42.699828Z",
     "iopub.status.idle": "2022-06-14T21:43:42.703863Z",
     "shell.execute_reply": "2022-06-14T21:43:42.703230Z"
    },
    "papermill": {
     "duration": 0.01516,
     "end_time": "2022-06-14T21:43:42.705606",
     "exception": false,
     "start_time": "2022-06-14T21:43:42.690446",
     "status": "completed"
    },
    "tags": []
   },
   "outputs": [],
   "source": [
    "corpus = ['Look what happened to Japanese citizens in the US during\\nWorld War II.',\n",
    "          'If you\\'re prepared to say \"Let\\'s round these people up and\\nstick them in a concentration camp without trial\"',\n",
    "          'it\\'s only a short step to\\ngassing them without trial.',\n",
    "          'After all, it seems that the Nazis originally\\nonly intended to imprison the Jews;',\n",
    "          'the Final Solution was dreamt up partly\\nbecause they couldn\\'t afford to run the camps because of the devastation\\ncaused by Goering\\'s Total War.']"
   ]
  },
  {
   "cell_type": "code",
   "execution_count": 5,
   "id": "3317bfc1",
   "metadata": {
    "execution": {
     "iopub.execute_input": "2022-06-14T21:43:42.736270Z",
     "iopub.status.busy": "2022-06-14T21:43:42.735605Z",
     "iopub.status.idle": "2022-06-14T21:43:42.750605Z",
     "shell.execute_reply": "2022-06-14T21:43:42.749478Z"
    },
    "papermill": {
     "duration": 0.026919,
     "end_time": "2022-06-14T21:43:42.752559",
     "exception": false,
     "start_time": "2022-06-14T21:43:42.725640",
     "status": "completed"
    },
    "tags": []
   },
   "outputs": [
    {
     "name": "stdout",
     "output_type": "stream",
     "text": [
      "(5, 36)\n"
     ]
    },
    {
     "data": {
      "text/plain": [
       "<5x36 sparse matrix of type '<class 'numpy.int64'>'\n",
       "\twith 38 stored elements in Compressed Sparse Row format>"
      ]
     },
     "execution_count": 5,
     "metadata": {},
     "output_type": "execute_result"
    }
   ],
   "source": [
    "count_vect = CountVectorizer(stop_words='english') #Initializing Vectorizer\n",
    "                          #   predefined list of stop words\n",
    "                          #  ,strip_accents='ascii' for enabling Stemming of words to root words\n",
    "                          #  ,token_pattern for tokenizing the sample data i.e. separating/splitting each word where there is tab or space into tokens\n",
    "                          #  , analyzer = 'word'  or character tokenization is prefered as taking 3 or n number of characters as a token reduces matrix size\n",
    "dtm = count_vect.fit_transform(corpus) # fit and transform\n",
    "print(dtm.shape)\n",
    "dtm"
   ]
  },
  {
   "cell_type": "markdown",
   "id": "a31e30cf",
   "metadata": {
    "papermill": {
     "duration": 0.007732,
     "end_time": "2022-06-14T21:43:42.770443",
     "exception": false,
     "start_time": "2022-06-14T21:43:42.762711",
     "status": "completed"
    },
    "tags": []
   },
   "source": [
    "##### Sparse Matrix : \n",
    "* Any matrix having more than 90% values as 0      \n",
    "* Text Related Transformation matrix is sparse marix as not all words in the corpus occur in all the documents      \n",
    "* Sparse matrix (can't be viewed) as it's function is to capture the indices of the values or position of cell values in the matrix which are 0 and hence reduce the space    \n",
    "* It creates another datastructure that stores the indices of cell values which are 0  \n",
    "\n",
    "##### todense() :\n",
    "* Uses the index created by sparse matrix and adds value of 0 in that given cell\n",
    "* Sparse Matrix : zipping of files      \n",
    "* Dense Matrix : Unzipping of files"
   ]
  },
  {
   "cell_type": "code",
   "execution_count": 6,
   "id": "22086c35",
   "metadata": {
    "execution": {
     "iopub.execute_input": "2022-06-14T21:43:42.788555Z",
     "iopub.status.busy": "2022-06-14T21:43:42.787876Z",
     "iopub.status.idle": "2022-06-14T21:43:42.794164Z",
     "shell.execute_reply": "2022-06-14T21:43:42.793246Z"
    },
    "papermill": {
     "duration": 0.017704,
     "end_time": "2022-06-14T21:43:42.796096",
     "exception": false,
     "start_time": "2022-06-14T21:43:42.778392",
     "status": "completed"
    },
    "tags": []
   },
   "outputs": [
    {
     "data": {
      "text/plain": [
       "matrix([[0, 0, 0, 0, 1, 0, 0, 0, 0, 0, 0, 0, 1, 1, 0, 0, 1, 0, 0, 1, 0,\n",
       "         0, 0, 0, 0, 0, 0, 0, 0, 0, 0, 0, 0, 0, 1, 1],\n",
       "        [0, 1, 0, 0, 0, 1, 0, 0, 0, 0, 0, 0, 0, 0, 0, 0, 0, 0, 1, 0, 0,\n",
       "         0, 0, 1, 1, 1, 0, 1, 0, 0, 0, 1, 0, 1, 0, 0],\n",
       "        [0, 0, 0, 0, 0, 0, 0, 0, 0, 0, 1, 0, 0, 0, 0, 0, 0, 0, 0, 0, 0,\n",
       "         0, 0, 0, 0, 0, 0, 0, 1, 0, 1, 0, 0, 1, 0, 0],\n",
       "        [0, 0, 0, 0, 0, 0, 0, 0, 0, 0, 0, 0, 0, 0, 1, 1, 0, 1, 0, 0, 1,\n",
       "         1, 0, 0, 0, 0, 0, 0, 0, 0, 0, 0, 0, 0, 0, 0],\n",
       "        [1, 0, 1, 1, 0, 0, 1, 1, 1, 1, 0, 1, 0, 0, 0, 0, 0, 0, 0, 0, 0,\n",
       "         0, 1, 0, 0, 0, 1, 0, 0, 1, 0, 0, 1, 0, 1, 0]])"
      ]
     },
     "execution_count": 6,
     "metadata": {},
     "output_type": "execute_result"
    }
   ],
   "source": [
    "#5x36 sparse matrix was transformed above\n",
    "dtm.todense()"
   ]
  },
  {
   "cell_type": "markdown",
   "id": "22ad89ee",
   "metadata": {
    "papermill": {
     "duration": 0.007835,
     "end_time": "2022-06-14T21:43:42.812143",
     "exception": false,
     "start_time": "2022-06-14T21:43:42.804308",
     "status": "completed"
    },
    "tags": []
   },
   "source": [
    "*The above generated matrix **Term Frequency Matrix** is called **Bag of Words** as the positioning of the token/word is irrelevant*    \n",
    "*Position of word doesn't affect the meaning of the sentence*"
   ]
  },
  {
   "cell_type": "code",
   "execution_count": 7,
   "id": "b0098384",
   "metadata": {
    "execution": {
     "iopub.execute_input": "2022-06-14T21:43:42.830215Z",
     "iopub.status.busy": "2022-06-14T21:43:42.829534Z",
     "iopub.status.idle": "2022-06-14T21:43:42.835624Z",
     "shell.execute_reply": "2022-06-14T21:43:42.834992Z"
    },
    "papermill": {
     "duration": 0.017206,
     "end_time": "2022-06-14T21:43:42.837393",
     "exception": false,
     "start_time": "2022-06-14T21:43:42.820187",
     "status": "completed"
    },
    "tags": []
   },
   "outputs": [
    {
     "data": {
      "text/plain": [
       "{'look': 19,\n",
       " 'happened': 12,\n",
       " 'japanese': 16,\n",
       " 'citizens': 4,\n",
       " 'world': 35,\n",
       " 'war': 34,\n",
       " 'ii': 13,\n",
       " 'prepared': 24,\n",
       " 'say': 27,\n",
       " 'let': 18,\n",
       " 'round': 25,\n",
       " 'people': 23,\n",
       " 'stick': 31,\n",
       " 'concentration': 5,\n",
       " 'camp': 1,\n",
       " 'trial': 33,\n",
       " 'short': 28,\n",
       " 'step': 30,\n",
       " 'gassing': 10,\n",
       " 'nazis': 20,\n",
       " 'originally': 21,\n",
       " 'intended': 15,\n",
       " 'imprison': 14,\n",
       " 'jews': 17,\n",
       " 'final': 9,\n",
       " 'solution': 29,\n",
       " 'dreamt': 8,\n",
       " 'partly': 22,\n",
       " 'couldn': 6,\n",
       " 'afford': 0,\n",
       " 'run': 26,\n",
       " 'camps': 2,\n",
       " 'devastation': 7,\n",
       " 'caused': 3,\n",
       " 'goering': 11,\n",
       " 'total': 32}"
      ]
     },
     "execution_count": 7,
     "metadata": {},
     "output_type": "execute_result"
    }
   ],
   "source": [
    "count_vect.vocabulary_\n",
    "#Dictionary having word and the Index of the token"
   ]
  },
  {
   "cell_type": "code",
   "execution_count": 8,
   "id": "c53db04f",
   "metadata": {
    "execution": {
     "iopub.execute_input": "2022-06-14T21:43:42.856075Z",
     "iopub.status.busy": "2022-06-14T21:43:42.855420Z",
     "iopub.status.idle": "2022-06-14T21:43:42.860933Z",
     "shell.execute_reply": "2022-06-14T21:43:42.860250Z"
    },
    "papermill": {
     "duration": 0.017088,
     "end_time": "2022-06-14T21:43:42.862712",
     "exception": false,
     "start_time": "2022-06-14T21:43:42.845624",
     "status": "completed"
    },
    "tags": []
   },
   "outputs": [
    {
     "data": {
      "text/plain": [
       "['alt.atheism',\n",
       " 'comp.graphics',\n",
       " 'comp.os.ms-windows.misc',\n",
       " 'comp.sys.ibm.pc.hardware',\n",
       " 'comp.sys.mac.hardware',\n",
       " 'comp.windows.x',\n",
       " 'misc.forsale',\n",
       " 'rec.autos',\n",
       " 'rec.motorcycles',\n",
       " 'rec.sport.baseball',\n",
       " 'rec.sport.hockey',\n",
       " 'sci.crypt',\n",
       " 'sci.electronics',\n",
       " 'sci.med',\n",
       " 'sci.space',\n",
       " 'soc.religion.christian',\n",
       " 'talk.politics.guns',\n",
       " 'talk.politics.mideast',\n",
       " 'talk.politics.misc',\n",
       " 'talk.religion.misc']"
      ]
     },
     "execution_count": 8,
     "metadata": {},
     "output_type": "execute_result"
    }
   ],
   "source": [
    "ds_ng['target_names'] #News topics"
   ]
  },
  {
   "cell_type": "code",
   "execution_count": 9,
   "id": "b8747c19",
   "metadata": {
    "execution": {
     "iopub.execute_input": "2022-06-14T21:43:42.881500Z",
     "iopub.status.busy": "2022-06-14T21:43:42.880835Z",
     "iopub.status.idle": "2022-06-14T21:43:42.886090Z",
     "shell.execute_reply": "2022-06-14T21:43:42.885467Z"
    },
    "papermill": {
     "duration": 0.016498,
     "end_time": "2022-06-14T21:43:42.887809",
     "exception": false,
     "start_time": "2022-06-14T21:43:42.871311",
     "status": "completed"
    },
    "tags": []
   },
   "outputs": [
    {
     "data": {
      "text/plain": [
       "array([ 7,  4,  4,  1, 14, 16, 13,  3,  2,  4])"
      ]
     },
     "execution_count": 9,
     "metadata": {},
     "output_type": "execute_result"
    }
   ],
   "source": [
    "ds_ng.target[:10] #Numerical Labels of the Target"
   ]
  },
  {
   "cell_type": "markdown",
   "id": "35a75e30",
   "metadata": {
    "papermill": {
     "duration": 0.008473,
     "end_time": "2022-06-14T21:43:42.905071",
     "exception": false,
     "start_time": "2022-06-14T21:43:42.896598",
     "status": "completed"
    },
    "tags": []
   },
   "source": [
    "##### Considering the entire data from dataset"
   ]
  },
  {
   "cell_type": "markdown",
   "id": "b51218bf",
   "metadata": {
    "papermill": {
     "duration": 0.008553,
     "end_time": "2022-06-14T21:43:42.922285",
     "exception": false,
     "start_time": "2022-06-14T21:43:42.913732",
     "status": "completed"
    },
    "tags": []
   },
   "source": [
    "##### Convering to a Bag of Words \n",
    "* Assign a fixed integer *ID to each word* occurring in any document of the training set(building from dictioanry of words to integer indices)     \n",
    "* For each document *#i*, count the number of occurrences of each word *w* and store it in *X[i,j]* as the value of feature *#j* where *j* is the index of the word *w* in the dicitionary"
   ]
  },
  {
   "cell_type": "markdown",
   "id": "96a271e0",
   "metadata": {
    "papermill": {
     "duration": 0.008143,
     "end_time": "2022-06-14T21:43:42.939074",
     "exception": false,
     "start_time": "2022-06-14T21:43:42.930931",
     "status": "completed"
    },
    "tags": []
   },
   "source": [
    "##### Using **CountVectorizer**"
   ]
  },
  {
   "cell_type": "code",
   "execution_count": 10,
   "id": "09b30261",
   "metadata": {
    "execution": {
     "iopub.execute_input": "2022-06-14T21:43:42.957920Z",
     "iopub.status.busy": "2022-06-14T21:43:42.957322Z",
     "iopub.status.idle": "2022-06-14T21:43:46.956880Z",
     "shell.execute_reply": "2022-06-14T21:43:46.955855Z"
    },
    "papermill": {
     "duration": 4.0113,
     "end_time": "2022-06-14T21:43:46.958810",
     "exception": false,
     "start_time": "2022-06-14T21:43:42.947510",
     "status": "completed"
    },
    "tags": []
   },
   "outputs": [
    {
     "name": "stdout",
     "output_type": "stream",
     "text": [
      "(11314, 129796)\n"
     ]
    },
    {
     "data": {
      "text/plain": [
       "<11314x129796 sparse matrix of type '<class 'numpy.int64'>'\n",
       "\twith 1300729 stored elements in Compressed Sparse Row format>"
      ]
     },
     "execution_count": 10,
     "metadata": {},
     "output_type": "execute_result"
    }
   ],
   "source": [
    "count_vect = CountVectorizer(stop_words='english') #Initializing Vectorizer\n",
    "x_train_counts = count_vect.fit_transform(ds_ng.data) # fit and transforms corpus of raw text into tf matrix\n",
    "print(x_train_counts.shape)\n",
    "x_train_counts"
   ]
  },
  {
   "cell_type": "markdown",
   "id": "f089a416",
   "metadata": {
    "papermill": {
     "duration": 0.008577,
     "end_time": "2022-06-14T21:43:46.976138",
     "exception": false,
     "start_time": "2022-06-14T21:43:46.967561",
     "status": "completed"
    },
    "tags": []
   },
   "source": [
    "*11314 news documents have 129796 unique words*"
   ]
  },
  {
   "cell_type": "markdown",
   "id": "44265e7f",
   "metadata": {
    "papermill": {
     "duration": 0.00849,
     "end_time": "2022-06-14T21:43:46.993332",
     "exception": false,
     "start_time": "2022-06-14T21:43:46.984842",
     "status": "completed"
    },
    "tags": []
   },
   "source": [
    "##### Training the Classifier"
   ]
  },
  {
   "cell_type": "code",
   "execution_count": 11,
   "id": "81210a7d",
   "metadata": {
    "execution": {
     "iopub.execute_input": "2022-06-14T21:43:47.012403Z",
     "iopub.status.busy": "2022-06-14T21:43:47.011984Z",
     "iopub.status.idle": "2022-06-14T21:45:01.228891Z",
     "shell.execute_reply": "2022-06-14T21:45:01.227718Z"
    },
    "papermill": {
     "duration": 74.239937,
     "end_time": "2022-06-14T21:45:01.242018",
     "exception": false,
     "start_time": "2022-06-14T21:43:47.002081",
     "status": "completed"
    },
    "tags": []
   },
   "outputs": [
    {
     "name": "stderr",
     "output_type": "stream",
     "text": [
      "/opt/conda/lib/python3.7/site-packages/sklearn/linear_model/_logistic.py:818: ConvergenceWarning: lbfgs failed to converge (status=1):\n",
      "STOP: TOTAL NO. of ITERATIONS REACHED LIMIT.\n",
      "\n",
      "Increase the number of iterations (max_iter) or scale the data as shown in:\n",
      "    https://scikit-learn.org/stable/modules/preprocessing.html\n",
      "Please also refer to the documentation for alternative solver options:\n",
      "    https://scikit-learn.org/stable/modules/linear_model.html#logistic-regression\n",
      "  extra_warning_msg=_LOGISTIC_SOLVER_CONVERGENCE_MSG,\n"
     ]
    }
   ],
   "source": [
    "clf = LogisticRegression().fit(x_train_counts, ds_ng.target) #initializing the model and fitting it on input and target"
   ]
  },
  {
   "cell_type": "markdown",
   "id": "1fbf2def",
   "metadata": {
    "papermill": {
     "duration": 0.00871,
     "end_time": "2022-06-14T21:45:01.260555",
     "exception": false,
     "start_time": "2022-06-14T21:45:01.251845",
     "status": "completed"
    },
    "tags": []
   },
   "source": [
    "*Logistic Regression model is trained with input as TF matrix and output as label encoders or numerical labels for categories*"
   ]
  },
  {
   "cell_type": "markdown",
   "id": "ac7dda50",
   "metadata": {
    "papermill": {
     "duration": 0.008788,
     "end_time": "2022-06-14T21:45:01.278279",
     "exception": false,
     "start_time": "2022-06-14T21:45:01.269491",
     "status": "completed"
    },
    "tags": []
   },
   "source": [
    "##### Predicting the news article category, each of the specified news groups belongs to, from the given 20 articles/target_names"
   ]
  },
  {
   "cell_type": "code",
   "execution_count": 12,
   "id": "848c03ac",
   "metadata": {
    "execution": {
     "iopub.execute_input": "2022-06-14T21:45:01.298346Z",
     "iopub.status.busy": "2022-06-14T21:45:01.297520Z",
     "iopub.status.idle": "2022-06-14T21:45:01.302200Z",
     "shell.execute_reply": "2022-06-14T21:45:01.301246Z"
    },
    "papermill": {
     "duration": 0.016908,
     "end_time": "2022-06-14T21:45:01.304191",
     "exception": false,
     "start_time": "2022-06-14T21:45:01.287283",
     "status": "completed"
    },
    "tags": []
   },
   "outputs": [],
   "source": [
    "docs_new = ['I am very interested in your catalog, but E-mail to you bounces.',\n",
    "            'I was wondering if any of you out there want to play outdoor games',\n",
    "            'Too much\\nhypocricy exists behind the walls of \"God\\'s house\"',\n",
    "            'Everything seems to work fine except for the\\n> Windows Drivers']"
   ]
  },
  {
   "cell_type": "code",
   "execution_count": 13,
   "id": "826dea9c",
   "metadata": {
    "execution": {
     "iopub.execute_input": "2022-06-14T21:45:01.323510Z",
     "iopub.status.busy": "2022-06-14T21:45:01.322782Z",
     "iopub.status.idle": "2022-06-14T21:45:01.337354Z",
     "shell.execute_reply": "2022-06-14T21:45:01.336492Z"
    },
    "papermill": {
     "duration": 0.026545,
     "end_time": "2022-06-14T21:45:01.339572",
     "exception": false,
     "start_time": "2022-06-14T21:45:01.313027",
     "status": "completed"
    },
    "tags": []
   },
   "outputs": [
    {
     "name": "stdout",
     "output_type": "stream",
     "text": [
      "'I am very interested in your catalog, but E-mail to you bounces.' : misc.forsale\n",
      "'I was wondering if any of you out there want to play outdoor games' : rec.sport.baseball\n",
      "'Too much\\nhypocricy exists behind the walls of \"God\\'s house\"' : soc.religion.christian\n",
      "'Everything seems to work fine except for the\\n> Windows Drivers' : comp.os.ms-windows.misc\n"
     ]
    }
   ],
   "source": [
    "x_new_counts = count_vect.transform(docs_new)\n",
    "predicted = clf.predict(x_new_counts)\n",
    "for doc,category in zip(docs_new, predicted):\n",
    "    print('%r : %s' % (doc,ds_ng.target_names[category]))"
   ]
  },
  {
   "cell_type": "markdown",
   "id": "a8e89f43",
   "metadata": {
    "papermill": {
     "duration": 0.008737,
     "end_time": "2022-06-14T21:45:01.358186",
     "exception": false,
     "start_time": "2022-06-14T21:45:01.349449",
     "status": "completed"
    },
    "tags": []
   },
   "source": [
    "##### Using **TfidfVectorizer**"
   ]
  },
  {
   "cell_type": "code",
   "execution_count": 14,
   "id": "a0fa6df4",
   "metadata": {
    "execution": {
     "iopub.execute_input": "2022-06-14T21:45:01.378703Z",
     "iopub.status.busy": "2022-06-14T21:45:01.378063Z",
     "iopub.status.idle": "2022-06-14T21:45:05.541919Z",
     "shell.execute_reply": "2022-06-14T21:45:05.540502Z"
    },
    "papermill": {
     "duration": 4.176955,
     "end_time": "2022-06-14T21:45:05.544265",
     "exception": false,
     "start_time": "2022-06-14T21:45:01.367310",
     "status": "completed"
    },
    "tags": []
   },
   "outputs": [
    {
     "name": "stdout",
     "output_type": "stream",
     "text": [
      "(11314, 129796)\n"
     ]
    },
    {
     "data": {
      "text/plain": [
       "<11314x129796 sparse matrix of type '<class 'numpy.float64'>'\n",
       "\twith 1300729 stored elements in Compressed Sparse Row format>"
      ]
     },
     "execution_count": 14,
     "metadata": {},
     "output_type": "execute_result"
    }
   ],
   "source": [
    "count_vect_Tfidf = TfidfVectorizer(stop_words='english') #Initializing Vectorizer\n",
    "x_train_counts_Tfidf = count_vect_Tfidf.fit_transform(ds_ng.data) # fit and transforms corpus of raw text into tf matrix\n",
    "print(x_train_counts_Tfidf.shape)\n",
    "x_train_counts_Tfidf"
   ]
  },
  {
   "cell_type": "code",
   "execution_count": 15,
   "id": "73994aba",
   "metadata": {
    "execution": {
     "iopub.execute_input": "2022-06-14T21:45:05.564469Z",
     "iopub.status.busy": "2022-06-14T21:45:05.564066Z",
     "iopub.status.idle": "2022-06-14T21:46:07.988500Z",
     "shell.execute_reply": "2022-06-14T21:46:07.987511Z"
    },
    "papermill": {
     "duration": 62.438136,
     "end_time": "2022-06-14T21:46:07.991395",
     "exception": false,
     "start_time": "2022-06-14T21:45:05.553259",
     "status": "completed"
    },
    "tags": []
   },
   "outputs": [],
   "source": [
    "clf_Tfidf = LogisticRegression().fit(x_train_counts_Tfidf, ds_ng.target) #initializing the model and fitting it on input and target"
   ]
  },
  {
   "cell_type": "code",
   "execution_count": 16,
   "id": "8f7700ed",
   "metadata": {
    "execution": {
     "iopub.execute_input": "2022-06-14T21:46:08.012268Z",
     "iopub.status.busy": "2022-06-14T21:46:08.011869Z",
     "iopub.status.idle": "2022-06-14T21:46:08.016833Z",
     "shell.execute_reply": "2022-06-14T21:46:08.015796Z"
    },
    "papermill": {
     "duration": 0.017585,
     "end_time": "2022-06-14T21:46:08.018679",
     "exception": false,
     "start_time": "2022-06-14T21:46:08.001094",
     "status": "completed"
    },
    "tags": []
   },
   "outputs": [],
   "source": [
    "docs_news = ['I am very interested in your catalog, but E-mail to you bounces.',\n",
    "             'I was wondering if any of you out there want to play outdoor games',\n",
    "             'I was wondering if any of you out there want to sell or rent games',\n",
    "             'Too much\\nhypocricy exists behind the walls of \"God\\'s house\"',\n",
    "             'Everything seems to work fine except for the\\n> Windows Drivers']"
   ]
  },
  {
   "cell_type": "code",
   "execution_count": 17,
   "id": "8685226c",
   "metadata": {
    "execution": {
     "iopub.execute_input": "2022-06-14T21:46:08.038733Z",
     "iopub.status.busy": "2022-06-14T21:46:08.038354Z",
     "iopub.status.idle": "2022-06-14T21:46:08.051139Z",
     "shell.execute_reply": "2022-06-14T21:46:08.050225Z"
    },
    "papermill": {
     "duration": 0.025476,
     "end_time": "2022-06-14T21:46:08.053487",
     "exception": false,
     "start_time": "2022-06-14T21:46:08.028011",
     "status": "completed"
    },
    "tags": []
   },
   "outputs": [
    {
     "name": "stdout",
     "output_type": "stream",
     "text": [
      "'I am very interested in your catalog, but E-mail to you bounces.' : misc.forsale\n",
      "'I was wondering if any of you out there want to play outdoor games' : rec.sport.hockey\n",
      "'I was wondering if any of you out there want to sell or rent games' : misc.forsale\n",
      "'Too much\\nhypocricy exists behind the walls of \"God\\'s house\"' : soc.religion.christian\n",
      "'Everything seems to work fine except for the\\n> Windows Drivers' : comp.os.ms-windows.misc\n"
     ]
    }
   ],
   "source": [
    "x_new_counts_Tfidf = count_vect_Tfidf.transform(docs_news)\n",
    "predicted_Tfidf = clf_Tfidf.predict(x_new_counts_Tfidf)\n",
    "for doc,category in zip(docs_news, predicted_Tfidf):\n",
    "    print('%r : %s' % (doc,ds_ng.target_names[category]))"
   ]
  },
  {
   "cell_type": "markdown",
   "id": "48868d54",
   "metadata": {
    "papermill": {
     "duration": 0.009499,
     "end_time": "2022-06-14T21:46:08.073290",
     "exception": false,
     "start_time": "2022-06-14T21:46:08.063791",
     "status": "completed"
    },
    "tags": []
   },
   "source": [
    "*TfidfVectorizer provides more accurate/specific prediction of newsgroups to news articles*"
   ]
  }
 ],
 "metadata": {
  "kernelspec": {
   "display_name": "Python 3",
   "language": "python",
   "name": "python3"
  },
  "language_info": {
   "codemirror_mode": {
    "name": "ipython",
    "version": 3
   },
   "file_extension": ".py",
   "mimetype": "text/x-python",
   "name": "python",
   "nbconvert_exporter": "python",
   "pygments_lexer": "ipython3",
   "version": "3.7.12"
  },
  "papermill": {
   "default_parameters": {},
   "duration": 168.884495,
   "end_time": "2022-06-14T21:46:08.803971",
   "environment_variables": {},
   "exception": null,
   "input_path": "__notebook__.ipynb",
   "output_path": "__notebook__.ipynb",
   "parameters": {},
   "start_time": "2022-06-14T21:43:19.919476",
   "version": "2.3.4"
  }
 },
 "nbformat": 4,
 "nbformat_minor": 5
}
