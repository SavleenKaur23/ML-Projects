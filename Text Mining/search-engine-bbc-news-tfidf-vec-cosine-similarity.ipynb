{
 "cells": [
  {
   "cell_type": "markdown",
   "id": "fec5b65a",
   "metadata": {
    "papermill": {
     "duration": 0.014406,
     "end_time": "2022-06-15T22:03:38.235529",
     "exception": false,
     "start_time": "2022-06-15T22:03:38.221123",
     "status": "completed"
    },
    "tags": []
   },
   "source": [
    "*Searching BBC News Articles similar to our search article/query using* \n",
    "* Tfidf Vectorizer\n",
    "* Cosine Similarity"
   ]
  },
  {
   "cell_type": "code",
   "execution_count": 1,
   "id": "3b71c4df",
   "metadata": {
    "_cell_guid": "b1076dfc-b9ad-4769-8c92-a6c4dae69d19",
    "_uuid": "8f2839f25d086af736a60e9eeb907d3b93b6e0e5",
    "execution": {
     "iopub.execute_input": "2022-06-15T22:03:38.252269Z",
     "iopub.status.busy": "2022-06-15T22:03:38.251702Z",
     "iopub.status.idle": "2022-06-15T22:03:39.727040Z",
     "shell.execute_reply": "2022-06-15T22:03:39.725291Z"
    },
    "papermill": {
     "duration": 1.48756,
     "end_time": "2022-06-15T22:03:39.730631",
     "exception": false,
     "start_time": "2022-06-15T22:03:38.243071",
     "status": "completed"
    },
    "tags": []
   },
   "outputs": [],
   "source": [
    "import pandas as pd #Dataframe Manipulation library\n",
    "import numpy as np #Data Manipulation library\n",
    "from pathlib import Path\n",
    "\n",
    "#sklearn modules for Feature Extraction & Modelling\n",
    "from sklearn.feature_extraction.text import CountVectorizer, TfidfVectorizer, TfidfTransformer\n",
    "from sklearn.metrics.pairwise import cosine_similarity\n",
    "\n",
    "#Libraries for Plotting \n",
    "import matplotlib.pyplot as plt\n",
    "from matplotlib.ticker import FuncFormatter\n",
    "\n",
    "#Read files Iteratively\n",
    "import glob\n",
    "import os"
   ]
  },
  {
   "cell_type": "markdown",
   "id": "0814c008",
   "metadata": {
    "papermill": {
     "duration": 0.007061,
     "end_time": "2022-06-15T22:03:39.745619",
     "exception": false,
     "start_time": "2022-06-15T22:03:39.738558",
     "status": "completed"
    },
    "tags": []
   },
   "source": [
    "#### Loading the dataset\n",
    "*having news articles (as txt files) in different News Article Categories(business/politics/tech etc. folders) published by BBC*"
   ]
  },
  {
   "cell_type": "markdown",
   "id": "1f63f767",
   "metadata": {
    "papermill": {
     "duration": 0.007175,
     "end_time": "2022-06-15T22:03:39.760244",
     "exception": false,
     "start_time": "2022-06-15T22:03:39.753069",
     "status": "completed"
    },
    "tags": []
   },
   "source": [
    "##### Checking the working directories"
   ]
  },
  {
   "cell_type": "code",
   "execution_count": 2,
   "id": "b691d677",
   "metadata": {
    "execution": {
     "iopub.execute_input": "2022-06-15T22:03:39.778348Z",
     "iopub.status.busy": "2022-06-15T22:03:39.777581Z",
     "iopub.status.idle": "2022-06-15T22:03:39.784457Z",
     "shell.execute_reply": "2022-06-15T22:03:39.782863Z"
    },
    "papermill": {
     "duration": 0.019251,
     "end_time": "2022-06-15T22:03:39.787549",
     "exception": false,
     "start_time": "2022-06-15T22:03:39.768298",
     "status": "completed"
    },
    "tags": []
   },
   "outputs": [
    {
     "name": "stdout",
     "output_type": "stream",
     "text": [
      "Current working directory is: /kaggle/working\n",
      "Changing directory to /kaggle\n"
     ]
    }
   ],
   "source": [
    "print(f\"Current working directory is: {os.getcwd()}\")\n",
    "dir = os.chdir(\"/kaggle\")\n",
    "print(f'Changing directory to {os.getcwd()}')"
   ]
  },
  {
   "cell_type": "code",
   "execution_count": 3,
   "id": "3da5a2d2",
   "metadata": {
    "execution": {
     "iopub.execute_input": "2022-06-15T22:03:39.805091Z",
     "iopub.status.busy": "2022-06-15T22:03:39.804652Z",
     "iopub.status.idle": "2022-06-15T22:03:39.812465Z",
     "shell.execute_reply": "2022-06-15T22:03:39.811585Z"
    },
    "papermill": {
     "duration": 0.018587,
     "end_time": "2022-06-15T22:03:39.814066",
     "exception": false,
     "start_time": "2022-06-15T22:03:39.795479",
     "status": "completed"
    },
    "tags": []
   },
   "outputs": [],
   "source": [
    "#User defined function to read and store bbc Data from multiple folders\n",
    "def load_data(folder_names, root_path):\n",
    "    fileNames = [path + \"/input/bbc-news-summary/BBC News Summary/News Articles/\" + folder + '/' + \"*.txt\"\n",
    "        for path,folder in zip([root_path]*len(folder_names), folder_names)]\n",
    "    #print(fileNames)\n",
    "    #print(\"\\n\")\n",
    "    doc_list = []\n",
    "    tags = folder_names\n",
    "    for docs in fileNames:\n",
    "        #print(docs)\n",
    "        doc = glob.glob(docs)#glob method iterates through all files and reads the text in documents in the folders\n",
    "        for text in doc:\n",
    "            with open(text, encoding=\"latin-1\") as f:\n",
    "                topic = docs.split('/')[len(docs.split('/'))-2]\n",
    "                lines = f.readlines()\n",
    "                heading = lines[0].strip()#stripping the text by spaces and using first element into heading\n",
    "                body = ' '.join([l.strip() for l in lines[1:]])\n",
    "                doc_list.append([topic,heading,body])\n",
    "        print(f\"Loading data from \\033[1m{topic}\\033[0m directory\")\n",
    "    print(\"\\nEntire Data is loaded successfully\")\n",
    "    \n",
    "    return doc_list"
   ]
  },
  {
   "cell_type": "code",
   "execution_count": 4,
   "id": "be0813b7",
   "metadata": {
    "execution": {
     "iopub.execute_input": "2022-06-15T22:03:39.826173Z",
     "iopub.status.busy": "2022-06-15T22:03:39.825487Z",
     "iopub.status.idle": "2022-06-15T22:03:53.838848Z",
     "shell.execute_reply": "2022-06-15T22:03:53.837079Z"
    },
    "papermill": {
     "duration": 14.023085,
     "end_time": "2022-06-15T22:03:53.842190",
     "exception": false,
     "start_time": "2022-06-15T22:03:39.819105",
     "status": "completed"
    },
    "tags": []
   },
   "outputs": [
    {
     "name": "stdout",
     "output_type": "stream",
     "text": [
      "Loading data from \u001b[1mbusiness\u001b[0m directory\n",
      "Loading data from \u001b[1mentertainment\u001b[0m directory\n",
      "Loading data from \u001b[1mpolitics\u001b[0m directory\n",
      "Loading data from \u001b[1msport\u001b[0m directory\n",
      "Loading data from \u001b[1mtech\u001b[0m directory\n",
      "\n",
      "Entire Data is loaded successfully\n"
     ]
    }
   ],
   "source": [
    "folder_names = ['business','entertainment','politics','sport','tech']\n",
    "docs = load_data(folder_names=folder_names,root_path=os.getcwd())"
   ]
  },
  {
   "cell_type": "markdown",
   "id": "9262217d",
   "metadata": {
    "papermill": {
     "duration": 0.004915,
     "end_time": "2022-06-15T22:03:53.852697",
     "exception": false,
     "start_time": "2022-06-15T22:03:53.847782",
     "status": "completed"
    },
    "tags": []
   },
   "source": [
    "##### Converting the data from text files as DataFrame"
   ]
  },
  {
   "cell_type": "code",
   "execution_count": 5,
   "id": "f478c80e",
   "metadata": {
    "execution": {
     "iopub.execute_input": "2022-06-15T22:03:53.865725Z",
     "iopub.status.busy": "2022-06-15T22:03:53.864575Z",
     "iopub.status.idle": "2022-06-15T22:03:53.896427Z",
     "shell.execute_reply": "2022-06-15T22:03:53.895370Z"
    },
    "papermill": {
     "duration": 0.040481,
     "end_time": "2022-06-15T22:03:53.898393",
     "exception": false,
     "start_time": "2022-06-15T22:03:53.857912",
     "status": "completed"
    },
    "tags": []
   },
   "outputs": [
    {
     "data": {
      "text/html": [
       "<div>\n",
       "<style scoped>\n",
       "    .dataframe tbody tr th:only-of-type {\n",
       "        vertical-align: middle;\n",
       "    }\n",
       "\n",
       "    .dataframe tbody tr th {\n",
       "        vertical-align: top;\n",
       "    }\n",
       "\n",
       "    .dataframe thead th {\n",
       "        text-align: right;\n",
       "    }\n",
       "</style>\n",
       "<table border=\"1\" class=\"dataframe\">\n",
       "  <thead>\n",
       "    <tr style=\"text-align: right;\">\n",
       "      <th></th>\n",
       "      <th>Category</th>\n",
       "      <th>Heading</th>\n",
       "      <th>Article</th>\n",
       "    </tr>\n",
       "  </thead>\n",
       "  <tbody>\n",
       "    <tr>\n",
       "      <th>0</th>\n",
       "      <td>business</td>\n",
       "      <td>US consumer confidence up</td>\n",
       "      <td>Consumers' confidence in the state of the US ...</td>\n",
       "    </tr>\n",
       "    <tr>\n",
       "      <th>1</th>\n",
       "      <td>business</td>\n",
       "      <td>The 'ticking budget' facing the US</td>\n",
       "      <td>The budget proposals laid out by the administ...</td>\n",
       "    </tr>\n",
       "    <tr>\n",
       "      <th>2</th>\n",
       "      <td>business</td>\n",
       "      <td>Mitsubishi in Peugeot link talks</td>\n",
       "      <td>Trouble-hit Mitsubishi Motors is in talks wit...</td>\n",
       "    </tr>\n",
       "    <tr>\n",
       "      <th>3</th>\n",
       "      <td>business</td>\n",
       "      <td>BMW reveals new models pipeline</td>\n",
       "      <td>BMW is preparing to enter the market for car-...</td>\n",
       "    </tr>\n",
       "    <tr>\n",
       "      <th>4</th>\n",
       "      <td>business</td>\n",
       "      <td>World leaders gather to face uncertainty</td>\n",
       "      <td>More than 2,000 business and political leader...</td>\n",
       "    </tr>\n",
       "  </tbody>\n",
       "</table>\n",
       "</div>"
      ],
      "text/plain": [
       "   Category                                   Heading  \\\n",
       "0  business                 US consumer confidence up   \n",
       "1  business        The 'ticking budget' facing the US   \n",
       "2  business          Mitsubishi in Peugeot link talks   \n",
       "3  business           BMW reveals new models pipeline   \n",
       "4  business  World leaders gather to face uncertainty   \n",
       "\n",
       "                                             Article  \n",
       "0   Consumers' confidence in the state of the US ...  \n",
       "1   The budget proposals laid out by the administ...  \n",
       "2   Trouble-hit Mitsubishi Motors is in talks wit...  \n",
       "3   BMW is preparing to enter the market for car-...  \n",
       "4   More than 2,000 business and political leader...  "
      ]
     },
     "execution_count": 5,
     "metadata": {},
     "output_type": "execute_result"
    }
   ],
   "source": [
    "docs = pd.DataFrame(docs, columns = ['Category','Heading','Article'])\n",
    "docs.head()"
   ]
  },
  {
   "cell_type": "markdown",
   "id": "35cd0fed",
   "metadata": {
    "papermill": {
     "duration": 0.004674,
     "end_time": "2022-06-15T22:03:53.908346",
     "exception": false,
     "start_time": "2022-06-15T22:03:53.903672",
     "status": "completed"
    },
    "tags": []
   },
   "source": [
    "* Use the heading /article and create **TFIDF matrix** (Term Frequency Inverse Document Frequency)\n",
    "* Pass a query to it and the **query** gets **transformed** into tfidf matrix created based on raw text\n",
    "* Use **Cosine Similarity** to calculate cosine values b/w query and each news article\n",
    "* **Arrange** the documents based on cosine similarity value of that document and the query **in descending order**\n",
    "* **Top N** values can become **as Recommendations** based on Cosine Similarity"
   ]
  },
  {
   "cell_type": "code",
   "execution_count": 6,
   "id": "5a8028c2",
   "metadata": {
    "execution": {
     "iopub.execute_input": "2022-06-15T22:03:53.920528Z",
     "iopub.status.busy": "2022-06-15T22:03:53.919911Z",
     "iopub.status.idle": "2022-06-15T22:03:53.926246Z",
     "shell.execute_reply": "2022-06-15T22:03:53.925062Z"
    },
    "papermill": {
     "duration": 0.014849,
     "end_time": "2022-06-15T22:03:53.928110",
     "exception": false,
     "start_time": "2022-06-15T22:03:53.913261",
     "status": "completed"
    },
    "tags": []
   },
   "outputs": [],
   "source": [
    "vectorizer = TfidfVectorizer(stop_words = 'english')"
   ]
  },
  {
   "cell_type": "code",
   "execution_count": 7,
   "id": "7000513d",
   "metadata": {
    "execution": {
     "iopub.execute_input": "2022-06-15T22:03:53.940775Z",
     "iopub.status.busy": "2022-06-15T22:03:53.940278Z",
     "iopub.status.idle": "2022-06-15T22:03:54.002814Z",
     "shell.execute_reply": "2022-06-15T22:03:54.001861Z"
    },
    "papermill": {
     "duration": 0.072156,
     "end_time": "2022-06-15T22:03:54.005793",
     "exception": false,
     "start_time": "2022-06-15T22:03:53.933637",
     "status": "completed"
    },
    "tags": []
   },
   "outputs": [
    {
     "name": "stdout",
     "output_type": "stream",
     "text": [
      "The shape of the tfidf matrix : (2225, 3623)\n",
      "There are 2225 number of News Articles having 3623 unique words in tfidf vectors\n"
     ]
    }
   ],
   "source": [
    "vectors = vectorizer.fit_transform(docs[\"Heading\"].values) # .values: convert DataFrame columns into List.List of docs will be transformed into tfidf vector\n",
    "print(f\"The shape of the tfidf matrix : {vectors.shape}\")\n",
    "print(f\"There are {vectors.shape[0]} number of News Articles having {vectors.shape[1]} unique words in tfidf vectors\")"
   ]
  },
  {
   "cell_type": "code",
   "execution_count": 8,
   "id": "9c1ef2f5",
   "metadata": {
    "execution": {
     "iopub.execute_input": "2022-06-15T22:03:54.020059Z",
     "iopub.status.busy": "2022-06-15T22:03:54.018752Z",
     "iopub.status.idle": "2022-06-15T22:03:54.028705Z",
     "shell.execute_reply": "2022-06-15T22:03:54.027945Z"
    },
    "papermill": {
     "duration": 0.019034,
     "end_time": "2022-06-15T22:03:54.030763",
     "exception": false,
     "start_time": "2022-06-15T22:03:54.011729",
     "status": "completed"
    },
    "tags": []
   },
   "outputs": [
    {
     "data": {
      "text/plain": [
       "<1x3623 sparse matrix of type '<class 'numpy.float64'>'\n",
       "\twith 4 stored elements in Compressed Sparse Row format>"
      ]
     },
     "execution_count": 8,
     "metadata": {},
     "output_type": "execute_result"
    }
   ],
   "source": [
    "#new_query = [\"Get ready for Machine Learning Engineer Interviews\"]\n",
    "new_query = [\"Stock Market Rates are rising\"]\n",
    "new_query_vector = vectorizer.transform(new_query)\n",
    "new_query_vector"
   ]
  },
  {
   "cell_type": "markdown",
   "id": "b6c49faf",
   "metadata": {
    "papermill": {
     "duration": 0.008477,
     "end_time": "2022-06-15T22:03:54.048181",
     "exception": false,
     "start_time": "2022-06-15T22:03:54.039704",
     "status": "completed"
    },
    "tags": []
   },
   "source": [
    "While doing cosine similarity on new_query with historical data      \n",
    "Transform the new_query using the same vectors/tfidf model **vectorizer** we have created earlier for historical data\n",
    "* Converts new_query into the size of same matrix as that of historical data     \n",
    "\n",
    "If we convert it into new tfidf vector, this will not map into the one we have created on historical data and size of new_query will change resulting in errors"
   ]
  },
  {
   "cell_type": "code",
   "execution_count": 9,
   "id": "76cc0701",
   "metadata": {
    "execution": {
     "iopub.execute_input": "2022-06-15T22:03:54.068762Z",
     "iopub.status.busy": "2022-06-15T22:03:54.067324Z",
     "iopub.status.idle": "2022-06-15T22:03:54.075424Z",
     "shell.execute_reply": "2022-06-15T22:03:54.074444Z"
    },
    "papermill": {
     "duration": 0.020861,
     "end_time": "2022-06-15T22:03:54.077698",
     "exception": false,
     "start_time": "2022-06-15T22:03:54.056837",
     "status": "completed"
    },
    "tags": []
   },
   "outputs": [],
   "source": [
    "sim = cosine_similarity(X = vectors, Y = new_query_vector)"
   ]
  },
  {
   "cell_type": "code",
   "execution_count": 10,
   "id": "5473a57c",
   "metadata": {
    "execution": {
     "iopub.execute_input": "2022-06-15T22:03:54.098163Z",
     "iopub.status.busy": "2022-06-15T22:03:54.097602Z",
     "iopub.status.idle": "2022-06-15T22:03:54.105235Z",
     "shell.execute_reply": "2022-06-15T22:03:54.104177Z"
    },
    "papermill": {
     "duration": 0.020818,
     "end_time": "2022-06-15T22:03:54.107363",
     "exception": false,
     "start_time": "2022-06-15T22:03:54.086545",
     "status": "completed"
    },
    "tags": []
   },
   "outputs": [
    {
     "data": {
      "text/plain": [
       "array([[0.],\n",
       "       [0.],\n",
       "       [0.],\n",
       "       ...,\n",
       "       [0.],\n",
       "       [0.],\n",
       "       [0.]])"
      ]
     },
     "execution_count": 10,
     "metadata": {},
     "output_type": "execute_result"
    }
   ],
   "source": [
    "sim\n",
    "#individual cosine values computed for entire document against the new_query"
   ]
  },
  {
   "cell_type": "code",
   "execution_count": 11,
   "id": "21b2cf3d",
   "metadata": {
    "execution": {
     "iopub.execute_input": "2022-06-15T22:03:54.127482Z",
     "iopub.status.busy": "2022-06-15T22:03:54.126928Z",
     "iopub.status.idle": "2022-06-15T22:03:54.134012Z",
     "shell.execute_reply": "2022-06-15T22:03:54.133058Z"
    },
    "papermill": {
     "duration": 0.021879,
     "end_time": "2022-06-15T22:03:54.138122",
     "exception": false,
     "start_time": "2022-06-15T22:03:54.116243",
     "status": "completed"
    },
    "tags": []
   },
   "outputs": [
    {
     "name": "stdout",
     "output_type": "stream",
     "text": [
      "Index of the maximum valued similar document is : \u001b[1m504\u001b[0m\n",
      "Retrieved Document Header is : \u001b[1mStock market eyes Japan recovery\u001b[0m\n"
     ]
    }
   ],
   "source": [
    "#Extract Index of Maximum Valued similar document\n",
    "argmax = np.argmax(sim)\n",
    "print(f\"Index of the maximum valued similar document is : \\033[1m{argmax}\\033[0m\")\n",
    "print(f\"Retrieved Document Header is : \\033[1m{docs.Heading[argmax]}\\033[0m\")"
   ]
  },
  {
   "cell_type": "markdown",
   "id": "02a0a2b7",
   "metadata": {
    "papermill": {
     "duration": 0.008904,
     "end_time": "2022-06-15T22:03:54.157138",
     "exception": false,
     "start_time": "2022-06-15T22:03:54.148234",
     "status": "completed"
    },
    "tags": []
   },
   "source": [
    "##### Top 10 News Articles similar to new_query"
   ]
  },
  {
   "cell_type": "code",
   "execution_count": 12,
   "id": "b6fbcda8",
   "metadata": {
    "execution": {
     "iopub.execute_input": "2022-06-15T22:03:54.178566Z",
     "iopub.status.busy": "2022-06-15T22:03:54.177338Z",
     "iopub.status.idle": "2022-06-15T22:03:54.184849Z",
     "shell.execute_reply": "2022-06-15T22:03:54.183671Z"
    },
    "papermill": {
     "duration": 0.021287,
     "end_time": "2022-06-15T22:03:54.187838",
     "exception": false,
     "start_time": "2022-06-15T22:03:54.166551",
     "status": "completed"
    },
    "tags": []
   },
   "outputs": [
    {
     "name": "stdout",
     "output_type": "stream",
     "text": [
      "Top 10 News Articles similar to new_query are : \n",
      "\n",
      "['Stock market eyes Japan recovery']\n",
      "['US interest rates increased to 2%']\n",
      "['French consumer spending rising']\n",
      "[\"Labour's core support takes stock\"]\n",
      "['Home loan approvals rising again']\n",
      "[\"Small firms 'hit by rising costs'\"]\n",
      "['UK interest rates held at 4.75%']\n",
      "['Australia rates at four year high']\n",
      "['Bank set to leave rates on hold']\n",
      "['Bank opts to leave rates on hold']\n"
     ]
    }
   ],
   "source": [
    "ind = np.argsort(sim,axis = 0)[::-1][:10]\n",
    "print(\"Top 10 News Articles similar to new_query are : \\n\")\n",
    "for i in ind:\n",
    "    print(docs.Heading.values[i])"
   ]
  },
  {
   "cell_type": "markdown",
   "id": "b5fa31ff",
   "metadata": {
    "papermill": {
     "duration": 0.008837,
     "end_time": "2022-06-15T22:03:54.203064",
     "exception": false,
     "start_time": "2022-06-15T22:03:54.194227",
     "status": "completed"
    },
    "tags": []
   },
   "source": [
    "#### User Defined Method **retrieve_doc** \n",
    "##### for searching News Articles similar to our search article/query using **Tfidf Vectorizer** and **Cosine Similarity**"
   ]
  },
  {
   "cell_type": "code",
   "execution_count": 13,
   "id": "e5deda15",
   "metadata": {
    "execution": {
     "iopub.execute_input": "2022-06-15T22:03:54.222706Z",
     "iopub.status.busy": "2022-06-15T22:03:54.222201Z",
     "iopub.status.idle": "2022-06-15T22:03:54.234979Z",
     "shell.execute_reply": "2022-06-15T22:03:54.233440Z"
    },
    "papermill": {
     "duration": 0.026483,
     "end_time": "2022-06-15T22:03:54.238097",
     "exception": false,
     "start_time": "2022-06-15T22:03:54.211614",
     "status": "completed"
    },
    "tags": []
   },
   "outputs": [],
   "source": [
    "def retrieve_doc(new_query,raw_docs,colname = None): # inputs are new_query,corpus,colname from the dataframe to be used for raw document text\n",
    "    vectorizer = TfidfVectorizer(stop_words = 'english') #convert to Tfidf Vectorizer\n",
    "    vectors = vectorizer.fit_transform(raw_docs[colname]) #preprocess the document, fit the model of tfidf document, transform it\n",
    "    print(f\"The shape of the tfidf matrix : {vectors.shape}\")\n",
    "    print(f\"There are {vectors.shape[0]} number of News Articles having {vectors.shape[1]} unique words in tfidf vectors\")\n",
    "    new_query = [new_query] #tfidf vectorizer accepts on list or an array(doesn't work on raw text)\n",
    "    new_query_vector = vectorizer.transform(new_query) #just transforms/calculates the frequency(of new_query) against the tokens we already have in matrix \n",
    "    new_query_vector\n",
    "    sim = cosine_similarity(X = vectors, Y = new_query_vector)#pairwise cosine similarity\n",
    "    argmax = np.argmax(sim)\n",
    "    print(f\"\\nIndex of the maximum valued similar document is : \\033[1m{argmax}\\033[0m\")\n",
    "    print(f\"Retrieved Document Header is : \\033[1m{docs.Heading[argmax]}\\033[0m\")\n",
    "    ind = np.argsort(sim,axis = 0)[::-1][:10] #sorts similarity scores in [::-1] descending order ,[:10] top 10 most similar articles\n",
    "    print(\"\\nTop 10 News Articles similar to new_query are : \\n\")\n",
    "    for i in ind:\n",
    "        print(docs.Heading.values[i])#prints the Headings of the top 10 similar articles"
   ]
  },
  {
   "cell_type": "code",
   "execution_count": 14,
   "id": "0c6ca777",
   "metadata": {
    "execution": {
     "iopub.execute_input": "2022-06-15T22:03:54.251554Z",
     "iopub.status.busy": "2022-06-15T22:03:54.251119Z",
     "iopub.status.idle": "2022-06-15T22:03:54.845233Z",
     "shell.execute_reply": "2022-06-15T22:03:54.844043Z"
    },
    "papermill": {
     "duration": 0.604106,
     "end_time": "2022-06-15T22:03:54.848198",
     "exception": false,
     "start_time": "2022-06-15T22:03:54.244092",
     "status": "completed"
    },
    "tags": []
   },
   "outputs": [
    {
     "name": "stdout",
     "output_type": "stream",
     "text": [
      "The shape of the tfidf matrix : (2225, 28980)\n",
      "There are 2225 number of News Articles having 28980 unique words in tfidf vectors\n",
      "\n",
      "Index of the maximum valued similar document is : \u001b[1m35\u001b[0m\n",
      "Retrieved Document Header is : \u001b[1mJapan economy slides to recession\u001b[0m\n",
      "\n",
      "Top 10 News Articles similar to new_query are : \n",
      "\n",
      "['Japan economy slides to recession']\n",
      "['Band Aid retains number one spot']\n",
      "['Israeli economy picking up pace']\n",
      "['Singapore growth at 8.1% in 2004']\n",
      "['Singapore growth at 8.1% in 2004']\n",
      "['US box office set for record high']\n",
      "['Australia rates at four year high']\n",
      "[\"'Golden economic period' to end\"]\n",
      "['BBC poll indicates economic gloom']\n",
      "['Business confidence dips in Japan']\n"
     ]
    }
   ],
   "source": [
    "new_query = \"COVID19 hits global economy\"\n",
    "retrieve_doc(new_query,raw_docs=docs,colname =  \"Article\")"
   ]
  }
 ],
 "metadata": {
  "kernelspec": {
   "display_name": "Python 3",
   "language": "python",
   "name": "python3"
  },
  "language_info": {
   "codemirror_mode": {
    "name": "ipython",
    "version": 3
   },
   "file_extension": ".py",
   "mimetype": "text/x-python",
   "name": "python",
   "nbconvert_exporter": "python",
   "pygments_lexer": "ipython3",
   "version": "3.7.12"
  },
  "papermill": {
   "default_parameters": {},
   "duration": 30.732205,
   "end_time": "2022-06-15T22:03:56.383485",
   "environment_variables": {},
   "exception": null,
   "input_path": "__notebook__.ipynb",
   "output_path": "__notebook__.ipynb",
   "parameters": {},
   "start_time": "2022-06-15T22:03:25.651280",
   "version": "2.3.4"
  }
 },
 "nbformat": 4,
 "nbformat_minor": 5
}
