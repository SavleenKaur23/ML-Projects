{
 "cells": [
  {
   "cell_type": "markdown",
   "id": "80307f09",
   "metadata": {
    "papermill": {
     "duration": 0.032731,
     "end_time": "2022-05-23T12:05:42.613302",
     "exception": false,
     "start_time": "2022-05-23T12:05:42.580571",
     "status": "completed"
    },
    "tags": []
   },
   "source": [
    "#### *Predicting if the Airline Passenger is satisfied or dissatisfied based on several features related to onboarding or inflight services*"
   ]
  },
  {
   "cell_type": "markdown",
   "id": "24db8cd4",
   "metadata": {
    "papermill": {
     "duration": 0.031297,
     "end_time": "2022-05-23T12:05:42.675763",
     "exception": false,
     "start_time": "2022-05-23T12:05:42.644466",
     "status": "completed"
    },
    "tags": []
   },
   "source": [
    "#### Loading Libraries and Data"
   ]
  },
  {
   "cell_type": "code",
   "execution_count": 1,
   "id": "5e99e438",
   "metadata": {
    "_cell_guid": "b1076dfc-b9ad-4769-8c92-a6c4dae69d19",
    "_uuid": "8f2839f25d086af736a60e9eeb907d3b93b6e0e5",
    "execution": {
     "iopub.execute_input": "2022-05-23T12:05:42.744434Z",
     "iopub.status.busy": "2022-05-23T12:05:42.743631Z",
     "iopub.status.idle": "2022-05-23T12:05:44.321177Z",
     "shell.execute_reply": "2022-05-23T12:05:44.320412Z"
    },
    "papermill": {
     "duration": 1.615031,
     "end_time": "2022-05-23T12:05:44.323743",
     "exception": false,
     "start_time": "2022-05-23T12:05:42.708712",
     "status": "completed"
    },
    "tags": []
   },
   "outputs": [],
   "source": [
    "import pandas as pd #Dataframe Manipulation library\n",
    "import numpy as np #Data Manipulation library\n",
    "\n",
    "#sklearn modules for Decision Trees\n",
    "from sklearn.preprocessing import LabelEncoder, OneHotEncoder, StandardScaler, MinMaxScaler\n",
    "from sklearn.model_selection import train_test_split, GridSearchCV\n",
    "from sklearn.tree import DecisionTreeClassifier, export_graphviz\n",
    "from sklearn.ensemble import RandomForestClassifier\n",
    "from sklearn.metrics import confusion_matrix\n",
    "import itertools\n",
    "\n",
    "#Libraries for HyperParameter Tuning\n",
    "from sklearn.pipeline import Pipeline\n",
    "from sklearn.compose import ColumnTransformer\n",
    "from sklearn.impute import SimpleImputer\n",
    "\n",
    "#Libraries for Plotting \n",
    "import matplotlib.pyplot as plt\n",
    "%matplotlib inline\n",
    "import seaborn as sns\n",
    "sns.set(color_codes = True)\n",
    "\n",
    "import joblib  #python package to store entire logic of a variable in python"
   ]
  },
  {
   "cell_type": "code",
   "execution_count": 2,
   "id": "7278548a",
   "metadata": {
    "execution": {
     "iopub.execute_input": "2022-05-23T12:05:44.388619Z",
     "iopub.status.busy": "2022-05-23T12:05:44.388054Z",
     "iopub.status.idle": "2022-05-23T12:05:44.875491Z",
     "shell.execute_reply": "2022-05-23T12:05:44.874666Z"
    },
    "papermill": {
     "duration": 0.522575,
     "end_time": "2022-05-23T12:05:44.878040",
     "exception": false,
     "start_time": "2022-05-23T12:05:44.355465",
     "status": "completed"
    },
    "tags": []
   },
   "outputs": [
    {
     "data": {
      "text/html": [
       "<div>\n",
       "<style scoped>\n",
       "    .dataframe tbody tr th:only-of-type {\n",
       "        vertical-align: middle;\n",
       "    }\n",
       "\n",
       "    .dataframe tbody tr th {\n",
       "        vertical-align: top;\n",
       "    }\n",
       "\n",
       "    .dataframe thead th {\n",
       "        text-align: right;\n",
       "    }\n",
       "</style>\n",
       "<table border=\"1\" class=\"dataframe\">\n",
       "  <thead>\n",
       "    <tr style=\"text-align: right;\">\n",
       "      <th></th>\n",
       "      <th>Unnamed: 0</th>\n",
       "      <th>id</th>\n",
       "      <th>Gender</th>\n",
       "      <th>Customer Type</th>\n",
       "      <th>Age</th>\n",
       "      <th>Type of Travel</th>\n",
       "      <th>Class</th>\n",
       "      <th>Flight Distance</th>\n",
       "      <th>Inflight wifi service</th>\n",
       "      <th>Departure/Arrival time convenient</th>\n",
       "      <th>...</th>\n",
       "      <th>Inflight entertainment</th>\n",
       "      <th>On-board service</th>\n",
       "      <th>Leg room service</th>\n",
       "      <th>Baggage handling</th>\n",
       "      <th>Checkin service</th>\n",
       "      <th>Inflight service</th>\n",
       "      <th>Cleanliness</th>\n",
       "      <th>Departure Delay in Minutes</th>\n",
       "      <th>Arrival Delay in Minutes</th>\n",
       "      <th>satisfaction</th>\n",
       "    </tr>\n",
       "  </thead>\n",
       "  <tbody>\n",
       "    <tr>\n",
       "      <th>0</th>\n",
       "      <td>0</td>\n",
       "      <td>70172</td>\n",
       "      <td>Male</td>\n",
       "      <td>Loyal Customer</td>\n",
       "      <td>13</td>\n",
       "      <td>Personal Travel</td>\n",
       "      <td>Eco Plus</td>\n",
       "      <td>460</td>\n",
       "      <td>3</td>\n",
       "      <td>4</td>\n",
       "      <td>...</td>\n",
       "      <td>5</td>\n",
       "      <td>4</td>\n",
       "      <td>3</td>\n",
       "      <td>4</td>\n",
       "      <td>4</td>\n",
       "      <td>5</td>\n",
       "      <td>5</td>\n",
       "      <td>25</td>\n",
       "      <td>18.0</td>\n",
       "      <td>neutral or dissatisfied</td>\n",
       "    </tr>\n",
       "    <tr>\n",
       "      <th>1</th>\n",
       "      <td>1</td>\n",
       "      <td>5047</td>\n",
       "      <td>Male</td>\n",
       "      <td>disloyal Customer</td>\n",
       "      <td>25</td>\n",
       "      <td>Business travel</td>\n",
       "      <td>Business</td>\n",
       "      <td>235</td>\n",
       "      <td>3</td>\n",
       "      <td>2</td>\n",
       "      <td>...</td>\n",
       "      <td>1</td>\n",
       "      <td>1</td>\n",
       "      <td>5</td>\n",
       "      <td>3</td>\n",
       "      <td>1</td>\n",
       "      <td>4</td>\n",
       "      <td>1</td>\n",
       "      <td>1</td>\n",
       "      <td>6.0</td>\n",
       "      <td>neutral or dissatisfied</td>\n",
       "    </tr>\n",
       "    <tr>\n",
       "      <th>2</th>\n",
       "      <td>2</td>\n",
       "      <td>110028</td>\n",
       "      <td>Female</td>\n",
       "      <td>Loyal Customer</td>\n",
       "      <td>26</td>\n",
       "      <td>Business travel</td>\n",
       "      <td>Business</td>\n",
       "      <td>1142</td>\n",
       "      <td>2</td>\n",
       "      <td>2</td>\n",
       "      <td>...</td>\n",
       "      <td>5</td>\n",
       "      <td>4</td>\n",
       "      <td>3</td>\n",
       "      <td>4</td>\n",
       "      <td>4</td>\n",
       "      <td>4</td>\n",
       "      <td>5</td>\n",
       "      <td>0</td>\n",
       "      <td>0.0</td>\n",
       "      <td>satisfied</td>\n",
       "    </tr>\n",
       "    <tr>\n",
       "      <th>3</th>\n",
       "      <td>3</td>\n",
       "      <td>24026</td>\n",
       "      <td>Female</td>\n",
       "      <td>Loyal Customer</td>\n",
       "      <td>25</td>\n",
       "      <td>Business travel</td>\n",
       "      <td>Business</td>\n",
       "      <td>562</td>\n",
       "      <td>2</td>\n",
       "      <td>5</td>\n",
       "      <td>...</td>\n",
       "      <td>2</td>\n",
       "      <td>2</td>\n",
       "      <td>5</td>\n",
       "      <td>3</td>\n",
       "      <td>1</td>\n",
       "      <td>4</td>\n",
       "      <td>2</td>\n",
       "      <td>11</td>\n",
       "      <td>9.0</td>\n",
       "      <td>neutral or dissatisfied</td>\n",
       "    </tr>\n",
       "    <tr>\n",
       "      <th>4</th>\n",
       "      <td>4</td>\n",
       "      <td>119299</td>\n",
       "      <td>Male</td>\n",
       "      <td>Loyal Customer</td>\n",
       "      <td>61</td>\n",
       "      <td>Business travel</td>\n",
       "      <td>Business</td>\n",
       "      <td>214</td>\n",
       "      <td>3</td>\n",
       "      <td>3</td>\n",
       "      <td>...</td>\n",
       "      <td>3</td>\n",
       "      <td>3</td>\n",
       "      <td>4</td>\n",
       "      <td>4</td>\n",
       "      <td>3</td>\n",
       "      <td>3</td>\n",
       "      <td>3</td>\n",
       "      <td>0</td>\n",
       "      <td>0.0</td>\n",
       "      <td>satisfied</td>\n",
       "    </tr>\n",
       "  </tbody>\n",
       "</table>\n",
       "<p>5 rows × 25 columns</p>\n",
       "</div>"
      ],
      "text/plain": [
       "   Unnamed: 0      id  Gender      Customer Type  Age   Type of Travel  \\\n",
       "0           0   70172    Male     Loyal Customer   13  Personal Travel   \n",
       "1           1    5047    Male  disloyal Customer   25  Business travel   \n",
       "2           2  110028  Female     Loyal Customer   26  Business travel   \n",
       "3           3   24026  Female     Loyal Customer   25  Business travel   \n",
       "4           4  119299    Male     Loyal Customer   61  Business travel   \n",
       "\n",
       "      Class  Flight Distance  Inflight wifi service  \\\n",
       "0  Eco Plus              460                      3   \n",
       "1  Business              235                      3   \n",
       "2  Business             1142                      2   \n",
       "3  Business              562                      2   \n",
       "4  Business              214                      3   \n",
       "\n",
       "   Departure/Arrival time convenient  ...  Inflight entertainment  \\\n",
       "0                                  4  ...                       5   \n",
       "1                                  2  ...                       1   \n",
       "2                                  2  ...                       5   \n",
       "3                                  5  ...                       2   \n",
       "4                                  3  ...                       3   \n",
       "\n",
       "   On-board service  Leg room service  Baggage handling  Checkin service  \\\n",
       "0                 4                 3                 4                4   \n",
       "1                 1                 5                 3                1   \n",
       "2                 4                 3                 4                4   \n",
       "3                 2                 5                 3                1   \n",
       "4                 3                 4                 4                3   \n",
       "\n",
       "   Inflight service  Cleanliness  Departure Delay in Minutes  \\\n",
       "0                 5            5                          25   \n",
       "1                 4            1                           1   \n",
       "2                 4            5                           0   \n",
       "3                 4            2                          11   \n",
       "4                 3            3                           0   \n",
       "\n",
       "   Arrival Delay in Minutes             satisfaction  \n",
       "0                      18.0  neutral or dissatisfied  \n",
       "1                       6.0  neutral or dissatisfied  \n",
       "2                       0.0                satisfied  \n",
       "3                       9.0  neutral or dissatisfied  \n",
       "4                       0.0                satisfied  \n",
       "\n",
       "[5 rows x 25 columns]"
      ]
     },
     "execution_count": 2,
     "metadata": {},
     "output_type": "execute_result"
    }
   ],
   "source": [
    "df = pd.read_csv(\"../input/airline-passenger-satisfaction/train.csv\")\n",
    "df.head()"
   ]
  },
  {
   "cell_type": "code",
   "execution_count": 3,
   "id": "50f0b7ba",
   "metadata": {
    "execution": {
     "iopub.execute_input": "2022-05-23T12:05:44.945174Z",
     "iopub.status.busy": "2022-05-23T12:05:44.944790Z",
     "iopub.status.idle": "2022-05-23T12:05:45.236923Z",
     "shell.execute_reply": "2022-05-23T12:05:45.235993Z"
    },
    "papermill": {
     "duration": 0.327783,
     "end_time": "2022-05-23T12:05:45.239154",
     "exception": false,
     "start_time": "2022-05-23T12:05:44.911371",
     "status": "completed"
    },
    "tags": []
   },
   "outputs": [
    {
     "data": {
      "text/html": [
       "<div>\n",
       "<style scoped>\n",
       "    .dataframe tbody tr th:only-of-type {\n",
       "        vertical-align: middle;\n",
       "    }\n",
       "\n",
       "    .dataframe tbody tr th {\n",
       "        vertical-align: top;\n",
       "    }\n",
       "\n",
       "    .dataframe thead th {\n",
       "        text-align: right;\n",
       "    }\n",
       "</style>\n",
       "<table border=\"1\" class=\"dataframe\">\n",
       "  <thead>\n",
       "    <tr style=\"text-align: right;\">\n",
       "      <th></th>\n",
       "      <th>Unnamed: 0</th>\n",
       "      <th>id</th>\n",
       "      <th>Gender</th>\n",
       "      <th>Customer Type</th>\n",
       "      <th>Age</th>\n",
       "      <th>Type of Travel</th>\n",
       "      <th>Class</th>\n",
       "      <th>Flight Distance</th>\n",
       "      <th>Inflight wifi service</th>\n",
       "      <th>Departure/Arrival time convenient</th>\n",
       "      <th>...</th>\n",
       "      <th>Inflight entertainment</th>\n",
       "      <th>On-board service</th>\n",
       "      <th>Leg room service</th>\n",
       "      <th>Baggage handling</th>\n",
       "      <th>Checkin service</th>\n",
       "      <th>Inflight service</th>\n",
       "      <th>Cleanliness</th>\n",
       "      <th>Departure Delay in Minutes</th>\n",
       "      <th>Arrival Delay in Minutes</th>\n",
       "      <th>satisfaction</th>\n",
       "    </tr>\n",
       "  </thead>\n",
       "  <tbody>\n",
       "    <tr>\n",
       "      <th>count</th>\n",
       "      <td>103904.000000</td>\n",
       "      <td>103904.000000</td>\n",
       "      <td>103904</td>\n",
       "      <td>103904</td>\n",
       "      <td>103904.000000</td>\n",
       "      <td>103904</td>\n",
       "      <td>103904</td>\n",
       "      <td>103904.000000</td>\n",
       "      <td>103904.000000</td>\n",
       "      <td>103904.000000</td>\n",
       "      <td>...</td>\n",
       "      <td>103904.000000</td>\n",
       "      <td>103904.000000</td>\n",
       "      <td>103904.000000</td>\n",
       "      <td>103904.000000</td>\n",
       "      <td>103904.000000</td>\n",
       "      <td>103904.000000</td>\n",
       "      <td>103904.000000</td>\n",
       "      <td>103904.000000</td>\n",
       "      <td>103594.000000</td>\n",
       "      <td>103904</td>\n",
       "    </tr>\n",
       "    <tr>\n",
       "      <th>unique</th>\n",
       "      <td>NaN</td>\n",
       "      <td>NaN</td>\n",
       "      <td>2</td>\n",
       "      <td>2</td>\n",
       "      <td>NaN</td>\n",
       "      <td>2</td>\n",
       "      <td>3</td>\n",
       "      <td>NaN</td>\n",
       "      <td>NaN</td>\n",
       "      <td>NaN</td>\n",
       "      <td>...</td>\n",
       "      <td>NaN</td>\n",
       "      <td>NaN</td>\n",
       "      <td>NaN</td>\n",
       "      <td>NaN</td>\n",
       "      <td>NaN</td>\n",
       "      <td>NaN</td>\n",
       "      <td>NaN</td>\n",
       "      <td>NaN</td>\n",
       "      <td>NaN</td>\n",
       "      <td>2</td>\n",
       "    </tr>\n",
       "    <tr>\n",
       "      <th>top</th>\n",
       "      <td>NaN</td>\n",
       "      <td>NaN</td>\n",
       "      <td>Female</td>\n",
       "      <td>Loyal Customer</td>\n",
       "      <td>NaN</td>\n",
       "      <td>Business travel</td>\n",
       "      <td>Business</td>\n",
       "      <td>NaN</td>\n",
       "      <td>NaN</td>\n",
       "      <td>NaN</td>\n",
       "      <td>...</td>\n",
       "      <td>NaN</td>\n",
       "      <td>NaN</td>\n",
       "      <td>NaN</td>\n",
       "      <td>NaN</td>\n",
       "      <td>NaN</td>\n",
       "      <td>NaN</td>\n",
       "      <td>NaN</td>\n",
       "      <td>NaN</td>\n",
       "      <td>NaN</td>\n",
       "      <td>neutral or dissatisfied</td>\n",
       "    </tr>\n",
       "    <tr>\n",
       "      <th>freq</th>\n",
       "      <td>NaN</td>\n",
       "      <td>NaN</td>\n",
       "      <td>52727</td>\n",
       "      <td>84923</td>\n",
       "      <td>NaN</td>\n",
       "      <td>71655</td>\n",
       "      <td>49665</td>\n",
       "      <td>NaN</td>\n",
       "      <td>NaN</td>\n",
       "      <td>NaN</td>\n",
       "      <td>...</td>\n",
       "      <td>NaN</td>\n",
       "      <td>NaN</td>\n",
       "      <td>NaN</td>\n",
       "      <td>NaN</td>\n",
       "      <td>NaN</td>\n",
       "      <td>NaN</td>\n",
       "      <td>NaN</td>\n",
       "      <td>NaN</td>\n",
       "      <td>NaN</td>\n",
       "      <td>58879</td>\n",
       "    </tr>\n",
       "    <tr>\n",
       "      <th>mean</th>\n",
       "      <td>51951.500000</td>\n",
       "      <td>64924.210502</td>\n",
       "      <td>NaN</td>\n",
       "      <td>NaN</td>\n",
       "      <td>39.379706</td>\n",
       "      <td>NaN</td>\n",
       "      <td>NaN</td>\n",
       "      <td>1189.448375</td>\n",
       "      <td>2.729683</td>\n",
       "      <td>3.060296</td>\n",
       "      <td>...</td>\n",
       "      <td>3.358158</td>\n",
       "      <td>3.382363</td>\n",
       "      <td>3.351055</td>\n",
       "      <td>3.631833</td>\n",
       "      <td>3.304290</td>\n",
       "      <td>3.640428</td>\n",
       "      <td>3.286351</td>\n",
       "      <td>14.815618</td>\n",
       "      <td>15.178678</td>\n",
       "      <td>NaN</td>\n",
       "    </tr>\n",
       "    <tr>\n",
       "      <th>std</th>\n",
       "      <td>29994.645522</td>\n",
       "      <td>37463.812252</td>\n",
       "      <td>NaN</td>\n",
       "      <td>NaN</td>\n",
       "      <td>15.114964</td>\n",
       "      <td>NaN</td>\n",
       "      <td>NaN</td>\n",
       "      <td>997.147281</td>\n",
       "      <td>1.327829</td>\n",
       "      <td>1.525075</td>\n",
       "      <td>...</td>\n",
       "      <td>1.332991</td>\n",
       "      <td>1.288354</td>\n",
       "      <td>1.315605</td>\n",
       "      <td>1.180903</td>\n",
       "      <td>1.265396</td>\n",
       "      <td>1.175663</td>\n",
       "      <td>1.312273</td>\n",
       "      <td>38.230901</td>\n",
       "      <td>38.698682</td>\n",
       "      <td>NaN</td>\n",
       "    </tr>\n",
       "    <tr>\n",
       "      <th>min</th>\n",
       "      <td>0.000000</td>\n",
       "      <td>1.000000</td>\n",
       "      <td>NaN</td>\n",
       "      <td>NaN</td>\n",
       "      <td>7.000000</td>\n",
       "      <td>NaN</td>\n",
       "      <td>NaN</td>\n",
       "      <td>31.000000</td>\n",
       "      <td>0.000000</td>\n",
       "      <td>0.000000</td>\n",
       "      <td>...</td>\n",
       "      <td>0.000000</td>\n",
       "      <td>0.000000</td>\n",
       "      <td>0.000000</td>\n",
       "      <td>1.000000</td>\n",
       "      <td>0.000000</td>\n",
       "      <td>0.000000</td>\n",
       "      <td>0.000000</td>\n",
       "      <td>0.000000</td>\n",
       "      <td>0.000000</td>\n",
       "      <td>NaN</td>\n",
       "    </tr>\n",
       "    <tr>\n",
       "      <th>25%</th>\n",
       "      <td>25975.750000</td>\n",
       "      <td>32533.750000</td>\n",
       "      <td>NaN</td>\n",
       "      <td>NaN</td>\n",
       "      <td>27.000000</td>\n",
       "      <td>NaN</td>\n",
       "      <td>NaN</td>\n",
       "      <td>414.000000</td>\n",
       "      <td>2.000000</td>\n",
       "      <td>2.000000</td>\n",
       "      <td>...</td>\n",
       "      <td>2.000000</td>\n",
       "      <td>2.000000</td>\n",
       "      <td>2.000000</td>\n",
       "      <td>3.000000</td>\n",
       "      <td>3.000000</td>\n",
       "      <td>3.000000</td>\n",
       "      <td>2.000000</td>\n",
       "      <td>0.000000</td>\n",
       "      <td>0.000000</td>\n",
       "      <td>NaN</td>\n",
       "    </tr>\n",
       "    <tr>\n",
       "      <th>50%</th>\n",
       "      <td>51951.500000</td>\n",
       "      <td>64856.500000</td>\n",
       "      <td>NaN</td>\n",
       "      <td>NaN</td>\n",
       "      <td>40.000000</td>\n",
       "      <td>NaN</td>\n",
       "      <td>NaN</td>\n",
       "      <td>843.000000</td>\n",
       "      <td>3.000000</td>\n",
       "      <td>3.000000</td>\n",
       "      <td>...</td>\n",
       "      <td>4.000000</td>\n",
       "      <td>4.000000</td>\n",
       "      <td>4.000000</td>\n",
       "      <td>4.000000</td>\n",
       "      <td>3.000000</td>\n",
       "      <td>4.000000</td>\n",
       "      <td>3.000000</td>\n",
       "      <td>0.000000</td>\n",
       "      <td>0.000000</td>\n",
       "      <td>NaN</td>\n",
       "    </tr>\n",
       "    <tr>\n",
       "      <th>75%</th>\n",
       "      <td>77927.250000</td>\n",
       "      <td>97368.250000</td>\n",
       "      <td>NaN</td>\n",
       "      <td>NaN</td>\n",
       "      <td>51.000000</td>\n",
       "      <td>NaN</td>\n",
       "      <td>NaN</td>\n",
       "      <td>1743.000000</td>\n",
       "      <td>4.000000</td>\n",
       "      <td>4.000000</td>\n",
       "      <td>...</td>\n",
       "      <td>4.000000</td>\n",
       "      <td>4.000000</td>\n",
       "      <td>4.000000</td>\n",
       "      <td>5.000000</td>\n",
       "      <td>4.000000</td>\n",
       "      <td>5.000000</td>\n",
       "      <td>4.000000</td>\n",
       "      <td>12.000000</td>\n",
       "      <td>13.000000</td>\n",
       "      <td>NaN</td>\n",
       "    </tr>\n",
       "    <tr>\n",
       "      <th>max</th>\n",
       "      <td>103903.000000</td>\n",
       "      <td>129880.000000</td>\n",
       "      <td>NaN</td>\n",
       "      <td>NaN</td>\n",
       "      <td>85.000000</td>\n",
       "      <td>NaN</td>\n",
       "      <td>NaN</td>\n",
       "      <td>4983.000000</td>\n",
       "      <td>5.000000</td>\n",
       "      <td>5.000000</td>\n",
       "      <td>...</td>\n",
       "      <td>5.000000</td>\n",
       "      <td>5.000000</td>\n",
       "      <td>5.000000</td>\n",
       "      <td>5.000000</td>\n",
       "      <td>5.000000</td>\n",
       "      <td>5.000000</td>\n",
       "      <td>5.000000</td>\n",
       "      <td>1592.000000</td>\n",
       "      <td>1584.000000</td>\n",
       "      <td>NaN</td>\n",
       "    </tr>\n",
       "  </tbody>\n",
       "</table>\n",
       "<p>11 rows × 25 columns</p>\n",
       "</div>"
      ],
      "text/plain": [
       "           Unnamed: 0             id  Gender   Customer Type            Age  \\\n",
       "count   103904.000000  103904.000000  103904          103904  103904.000000   \n",
       "unique            NaN            NaN       2               2            NaN   \n",
       "top               NaN            NaN  Female  Loyal Customer            NaN   \n",
       "freq              NaN            NaN   52727           84923            NaN   \n",
       "mean     51951.500000   64924.210502     NaN             NaN      39.379706   \n",
       "std      29994.645522   37463.812252     NaN             NaN      15.114964   \n",
       "min          0.000000       1.000000     NaN             NaN       7.000000   \n",
       "25%      25975.750000   32533.750000     NaN             NaN      27.000000   \n",
       "50%      51951.500000   64856.500000     NaN             NaN      40.000000   \n",
       "75%      77927.250000   97368.250000     NaN             NaN      51.000000   \n",
       "max     103903.000000  129880.000000     NaN             NaN      85.000000   \n",
       "\n",
       "         Type of Travel     Class  Flight Distance  Inflight wifi service  \\\n",
       "count            103904    103904    103904.000000          103904.000000   \n",
       "unique                2         3              NaN                    NaN   \n",
       "top     Business travel  Business              NaN                    NaN   \n",
       "freq              71655     49665              NaN                    NaN   \n",
       "mean                NaN       NaN      1189.448375               2.729683   \n",
       "std                 NaN       NaN       997.147281               1.327829   \n",
       "min                 NaN       NaN        31.000000               0.000000   \n",
       "25%                 NaN       NaN       414.000000               2.000000   \n",
       "50%                 NaN       NaN       843.000000               3.000000   \n",
       "75%                 NaN       NaN      1743.000000               4.000000   \n",
       "max                 NaN       NaN      4983.000000               5.000000   \n",
       "\n",
       "        Departure/Arrival time convenient  ...  Inflight entertainment  \\\n",
       "count                       103904.000000  ...           103904.000000   \n",
       "unique                                NaN  ...                     NaN   \n",
       "top                                   NaN  ...                     NaN   \n",
       "freq                                  NaN  ...                     NaN   \n",
       "mean                             3.060296  ...                3.358158   \n",
       "std                              1.525075  ...                1.332991   \n",
       "min                              0.000000  ...                0.000000   \n",
       "25%                              2.000000  ...                2.000000   \n",
       "50%                              3.000000  ...                4.000000   \n",
       "75%                              4.000000  ...                4.000000   \n",
       "max                              5.000000  ...                5.000000   \n",
       "\n",
       "        On-board service  Leg room service  Baggage handling  Checkin service  \\\n",
       "count      103904.000000     103904.000000     103904.000000    103904.000000   \n",
       "unique               NaN               NaN               NaN              NaN   \n",
       "top                  NaN               NaN               NaN              NaN   \n",
       "freq                 NaN               NaN               NaN              NaN   \n",
       "mean            3.382363          3.351055          3.631833         3.304290   \n",
       "std             1.288354          1.315605          1.180903         1.265396   \n",
       "min             0.000000          0.000000          1.000000         0.000000   \n",
       "25%             2.000000          2.000000          3.000000         3.000000   \n",
       "50%             4.000000          4.000000          4.000000         3.000000   \n",
       "75%             4.000000          4.000000          5.000000         4.000000   \n",
       "max             5.000000          5.000000          5.000000         5.000000   \n",
       "\n",
       "        Inflight service    Cleanliness  Departure Delay in Minutes  \\\n",
       "count      103904.000000  103904.000000               103904.000000   \n",
       "unique               NaN            NaN                         NaN   \n",
       "top                  NaN            NaN                         NaN   \n",
       "freq                 NaN            NaN                         NaN   \n",
       "mean            3.640428       3.286351                   14.815618   \n",
       "std             1.175663       1.312273                   38.230901   \n",
       "min             0.000000       0.000000                    0.000000   \n",
       "25%             3.000000       2.000000                    0.000000   \n",
       "50%             4.000000       3.000000                    0.000000   \n",
       "75%             5.000000       4.000000                   12.000000   \n",
       "max             5.000000       5.000000                 1592.000000   \n",
       "\n",
       "        Arrival Delay in Minutes             satisfaction  \n",
       "count              103594.000000                   103904  \n",
       "unique                       NaN                        2  \n",
       "top                          NaN  neutral or dissatisfied  \n",
       "freq                         NaN                    58879  \n",
       "mean                   15.178678                      NaN  \n",
       "std                    38.698682                      NaN  \n",
       "min                     0.000000                      NaN  \n",
       "25%                     0.000000                      NaN  \n",
       "50%                     0.000000                      NaN  \n",
       "75%                    13.000000                      NaN  \n",
       "max                  1584.000000                      NaN  \n",
       "\n",
       "[11 rows x 25 columns]"
      ]
     },
     "execution_count": 3,
     "metadata": {},
     "output_type": "execute_result"
    }
   ],
   "source": [
    "df.describe(include = 'all')"
   ]
  },
  {
   "cell_type": "code",
   "execution_count": 4,
   "id": "0809a461",
   "metadata": {
    "execution": {
     "iopub.execute_input": "2022-05-23T12:05:45.309905Z",
     "iopub.status.busy": "2022-05-23T12:05:45.309610Z",
     "iopub.status.idle": "2022-05-23T12:05:45.316535Z",
     "shell.execute_reply": "2022-05-23T12:05:45.315889Z"
    },
    "papermill": {
     "duration": 0.044019,
     "end_time": "2022-05-23T12:05:45.319760",
     "exception": false,
     "start_time": "2022-05-23T12:05:45.275741",
     "status": "completed"
    },
    "tags": []
   },
   "outputs": [
    {
     "name": "stdout",
     "output_type": "stream",
     "text": [
      "The dataset columns are: \n",
      "Index(['Unnamed: 0', 'id', 'Gender', 'Customer Type', 'Age', 'Type of Travel',\n",
      "       'Class', 'Flight Distance', 'Inflight wifi service',\n",
      "       'Departure/Arrival time convenient', 'Ease of Online booking',\n",
      "       'Gate location', 'Food and drink', 'Online boarding', 'Seat comfort',\n",
      "       'Inflight entertainment', 'On-board service', 'Leg room service',\n",
      "       'Baggage handling', 'Checkin service', 'Inflight service',\n",
      "       'Cleanliness', 'Departure Delay in Minutes', 'Arrival Delay in Minutes',\n",
      "       'satisfaction'],\n",
      "      dtype='object')\n",
      "\n",
      "The datatypes are : Unnamed: 0                             int64\n",
      "id                                     int64\n",
      "Gender                                object\n",
      "Customer Type                         object\n",
      "Age                                    int64\n",
      "Type of Travel                        object\n",
      "Class                                 object\n",
      "Flight Distance                        int64\n",
      "Inflight wifi service                  int64\n",
      "Departure/Arrival time convenient      int64\n",
      "Ease of Online booking                 int64\n",
      "Gate location                          int64\n",
      "Food and drink                         int64\n",
      "Online boarding                        int64\n",
      "Seat comfort                           int64\n",
      "Inflight entertainment                 int64\n",
      "On-board service                       int64\n",
      "Leg room service                       int64\n",
      "Baggage handling                       int64\n",
      "Checkin service                        int64\n",
      "Inflight service                       int64\n",
      "Cleanliness                            int64\n",
      "Departure Delay in Minutes             int64\n",
      "Arrival Delay in Minutes             float64\n",
      "satisfaction                          object\n",
      "dtype: object\n",
      "\n",
      "The size of Training dataset is: (103904, 25)\n"
     ]
    }
   ],
   "source": [
    "print(\"The dataset columns are: \")\n",
    "print(df.columns)\n",
    "print(f\"\\nThe datatypes are : {df.dtypes}\")\n",
    "print(f\"\\nThe size of Training dataset is: {df.shape}\")"
   ]
  },
  {
   "cell_type": "markdown",
   "id": "33f14be6",
   "metadata": {
    "papermill": {
     "duration": 0.033408,
     "end_time": "2022-05-23T12:05:45.389128",
     "exception": false,
     "start_time": "2022-05-23T12:05:45.355720",
     "status": "completed"
    },
    "tags": []
   },
   "source": [
    "#### Preprocessing the data"
   ]
  },
  {
   "cell_type": "code",
   "execution_count": 5,
   "id": "95c0cc14",
   "metadata": {
    "execution": {
     "iopub.execute_input": "2022-05-23T12:05:45.459550Z",
     "iopub.status.busy": "2022-05-23T12:05:45.459114Z",
     "iopub.status.idle": "2022-05-23T12:05:45.481763Z",
     "shell.execute_reply": "2022-05-23T12:05:45.480874Z"
    },
    "papermill": {
     "duration": 0.060182,
     "end_time": "2022-05-23T12:05:45.484127",
     "exception": false,
     "start_time": "2022-05-23T12:05:45.423945",
     "status": "completed"
    },
    "tags": []
   },
   "outputs": [
    {
     "data": {
      "text/plain": [
       "neutral or dissatisfied    58879\n",
       "satisfied                  45025\n",
       "Name: satisfaction, dtype: int64"
      ]
     },
     "execution_count": 5,
     "metadata": {},
     "output_type": "execute_result"
    }
   ],
   "source": [
    "df[\"satisfaction\"].value_counts()"
   ]
  },
  {
   "cell_type": "code",
   "execution_count": 6,
   "id": "be886e8b",
   "metadata": {
    "execution": {
     "iopub.execute_input": "2022-05-23T12:05:45.554465Z",
     "iopub.status.busy": "2022-05-23T12:05:45.554165Z",
     "iopub.status.idle": "2022-05-23T12:05:45.594317Z",
     "shell.execute_reply": "2022-05-23T12:05:45.593315Z"
    },
    "papermill": {
     "duration": 0.078074,
     "end_time": "2022-05-23T12:05:45.596621",
     "exception": false,
     "start_time": "2022-05-23T12:05:45.518547",
     "status": "completed"
    },
    "tags": []
   },
   "outputs": [
    {
     "name": "stdout",
     "output_type": "stream",
     "text": [
      "['neutral or dissatisfied' 'satisfied']\n",
      "[0 0 1 ... 0 0 0]\n"
     ]
    }
   ],
   "source": [
    "##Encoding/Transforming class/categorical variables to integers which will be provided to the model\n",
    "le = LabelEncoder()\n",
    "le_encoded = le.fit_transform(df['satisfaction'])\n",
    "print(le.classes_)\n",
    "print(le_encoded)"
   ]
  },
  {
   "cell_type": "code",
   "execution_count": 7,
   "id": "f0d6d460",
   "metadata": {
    "execution": {
     "iopub.execute_input": "2022-05-23T12:05:45.669783Z",
     "iopub.status.busy": "2022-05-23T12:05:45.669203Z",
     "iopub.status.idle": "2022-05-23T12:05:45.681784Z",
     "shell.execute_reply": "2022-05-23T12:05:45.680651Z"
    },
    "papermill": {
     "duration": 0.052492,
     "end_time": "2022-05-23T12:05:45.684451",
     "exception": false,
     "start_time": "2022-05-23T12:05:45.631959",
     "status": "completed"
    },
    "tags": []
   },
   "outputs": [
    {
     "name": "stdout",
     "output_type": "stream",
     "text": [
      "Features for training data are: Index(['Gender', 'Customer Type', 'Age', 'Type of Travel', 'Class',\n",
      "       'Flight Distance', 'Inflight wifi service',\n",
      "       'Departure/Arrival time convenient', 'Ease of Online booking',\n",
      "       'Gate location', 'Food and drink', 'Online boarding', 'Seat comfort',\n",
      "       'Inflight entertainment', 'On-board service', 'Leg room service',\n",
      "       'Baggage handling', 'Checkin service', 'Inflight service',\n",
      "       'Cleanliness', 'Departure Delay in Minutes',\n",
      "       'Arrival Delay in Minutes'],\n",
      "      dtype='object')\n"
     ]
    }
   ],
   "source": [
    "#Keeping relevant features in the dataframe\n",
    "df_feat = df.iloc[0:, 2:df.shape[1]-1]  #dropping 'Unnamed: 0', 'id',satisfaction\n",
    "#df.shape[1] : number of columns in dataframe and 2: df.shape[1][-1] :: All columns from col with 2nd index upto last column\n",
    "print(f\"Features for training data are: {df_feat.columns}\")"
   ]
  },
  {
   "cell_type": "code",
   "execution_count": 8,
   "id": "a4208d97",
   "metadata": {
    "execution": {
     "iopub.execute_input": "2022-05-23T12:05:45.757561Z",
     "iopub.status.busy": "2022-05-23T12:05:45.757286Z",
     "iopub.status.idle": "2022-05-23T12:05:45.795162Z",
     "shell.execute_reply": "2022-05-23T12:05:45.793788Z"
    },
    "papermill": {
     "duration": 0.07615,
     "end_time": "2022-05-23T12:05:45.797756",
     "exception": false,
     "start_time": "2022-05-23T12:05:45.721606",
     "status": "completed"
    },
    "tags": []
   },
   "outputs": [
    {
     "name": "stdout",
     "output_type": "stream",
     "text": [
      "Shape of Input Training Dataset: (93513, 22)\n",
      "Shape of Input Test Dataset: (10391, 22)\n",
      "Shape of Target Training Dataset: (93513,)\n",
      "Shape of Target Test Dataset: (10391,)\n"
     ]
    }
   ],
   "source": [
    "#Splitting the dataset into training and test dataset\n",
    "x_train, x_test, y_train, y_test = train_test_split(df_feat,le_encoded,\n",
    "                                                   test_size= 0.1,\n",
    "                                                   random_state=41)\n",
    "#we can consider entire data as training data instead of splitting as we have seperate test data \n",
    "\n",
    "print(f\"Shape of Input Training Dataset: {x_train.shape}\")\n",
    "print(f\"Shape of Input Test Dataset: {x_test.shape}\")\n",
    "print(f\"Shape of Target Training Dataset: {y_train.shape}\")\n",
    "print(f\"Shape of Target Test Dataset: {y_test.shape}\")"
   ]
  },
  {
   "cell_type": "markdown",
   "id": "feb7bdd5",
   "metadata": {
    "papermill": {
     "duration": 0.034544,
     "end_time": "2022-05-23T12:05:45.867112",
     "exception": false,
     "start_time": "2022-05-23T12:05:45.832568",
     "status": "completed"
    },
    "tags": []
   },
   "source": [
    "* **List Comprehensions:** A pythonic way of writing **for** loops "
   ]
  },
  {
   "cell_type": "code",
   "execution_count": 9,
   "id": "aece3d35",
   "metadata": {
    "execution": {
     "iopub.execute_input": "2022-05-23T12:05:45.939099Z",
     "iopub.status.busy": "2022-05-23T12:05:45.938564Z",
     "iopub.status.idle": "2022-05-23T12:05:45.943978Z",
     "shell.execute_reply": "2022-05-23T12:05:45.943333Z"
    },
    "papermill": {
     "duration": 0.043686,
     "end_time": "2022-05-23T12:05:45.946016",
     "exception": false,
     "start_time": "2022-05-23T12:05:45.902330",
     "status": "completed"
    },
    "tags": []
   },
   "outputs": [],
   "source": [
    "#Seperating the categorical and numerical data\n",
    "features = ['Gender', 'Customer Type', 'Age', 'Type of Travel', 'Class',\n",
    "       'Flight Distance', 'Inflight wifi service',\n",
    "       'Departure/Arrival time convenient', 'Ease of Online booking',\n",
    "       'Gate location', 'Food and drink', 'Online boarding', 'Seat comfort',\n",
    "       'Inflight entertainment', 'On-board service', 'Leg room service',\n",
    "       'Baggage handling', 'Checkin service', 'Inflight service',\n",
    "       'Cleanliness', 'Departure Delay in Minutes',\n",
    "       'Arrival Delay in Minutes']\n",
    "\n",
    "categorical_features = ['Gender', 'Customer Type', 'Type of Travel', 'Class',]\n",
    "numerical_features = [feature for feature in features if feature not in categorical_features]"
   ]
  },
  {
   "cell_type": "markdown",
   "id": "ce9edfa1",
   "metadata": {
    "papermill": {
     "duration": 0.036407,
     "end_time": "2022-05-23T12:05:46.019834",
     "exception": false,
     "start_time": "2022-05-23T12:05:45.983427",
     "status": "completed"
    },
    "tags": []
   },
   "source": [
    "#### Preprocessing pipelines for Continuous and Categorical Features"
   ]
  },
  {
   "cell_type": "code",
   "execution_count": 10,
   "id": "ee8bf40b",
   "metadata": {
    "execution": {
     "iopub.execute_input": "2022-05-23T12:05:46.097177Z",
     "iopub.status.busy": "2022-05-23T12:05:46.096861Z",
     "iopub.status.idle": "2022-05-23T12:05:46.103967Z",
     "shell.execute_reply": "2022-05-23T12:05:46.103324Z"
    },
    "papermill": {
     "duration": 0.048217,
     "end_time": "2022-05-23T12:05:46.105913",
     "exception": false,
     "start_time": "2022-05-23T12:05:46.057696",
     "status": "completed"
    },
    "tags": []
   },
   "outputs": [],
   "source": [
    "# Preprocessing for numerical data\n",
    "numerical_transformer = Pipeline(steps=[\n",
    "    ('imputer',SimpleImputer(strategy='mean')),\n",
    "    ('scaler',StandardScaler())\n",
    "])\n",
    "\n",
    "# Preprocessing for categorical data\n",
    "categorical_transformer = Pipeline(steps=[\n",
    "    ('imputer',SimpleImputer(strategy='most_frequent', fill_value='missing')),\n",
    "    ('encoder',OneHotEncoder(handle_unknown='ignore'))\n",
    "])\n",
    "\n",
    "preprocessor = ColumnTransformer(\n",
    "    transformers=[\n",
    "        ('num',numerical_transformer,numerical_features),\n",
    "        ('cat',categorical_transformer,categorical_features)\n",
    "    ])\n",
    "\n",
    "# Bundle preprocessing and modeling code in a pipeline\n",
    "clf = Pipeline(steps=[\n",
    "    ('preprocessor',preprocessor),\n",
    "    ('classifier',DecisionTreeClassifier())  # Define model\n",
    "])"
   ]
  },
  {
   "cell_type": "code",
   "execution_count": 11,
   "id": "d1994fc1",
   "metadata": {
    "execution": {
     "iopub.execute_input": "2022-05-23T12:05:46.179264Z",
     "iopub.status.busy": "2022-05-23T12:05:46.178159Z",
     "iopub.status.idle": "2022-05-23T12:05:47.242014Z",
     "shell.execute_reply": "2022-05-23T12:05:47.240909Z"
    },
    "papermill": {
     "duration": 1.104221,
     "end_time": "2022-05-23T12:05:47.245021",
     "exception": false,
     "start_time": "2022-05-23T12:05:46.140800",
     "status": "completed"
    },
    "tags": []
   },
   "outputs": [
    {
     "name": "stdout",
     "output_type": "stream",
     "text": [
      "The score of the Decision Tree Classifier model is: 0.945\n"
     ]
    }
   ],
   "source": [
    "# Preprocessing of training data, fit model \n",
    "clf.fit(x_train, y_train)\n",
    "\n",
    "print(f\"The score of the Decision Tree Classifier model is: {clf.score(x_test,y_test):0.3f}\")\n",
    "# Preprocessing of validation data, get predictions\n",
    "y_preds = clf.predict(x_test)"
   ]
  },
  {
   "cell_type": "markdown",
   "id": "cbec66e3",
   "metadata": {
    "papermill": {
     "duration": 0.034447,
     "end_time": "2022-05-23T12:05:47.314327",
     "exception": false,
     "start_time": "2022-05-23T12:05:47.279880",
     "status": "completed"
    },
    "tags": []
   },
   "source": [
    "#### Hyperparameter grid Tuning"
   ]
  },
  {
   "cell_type": "code",
   "execution_count": 12,
   "id": "0d8649d1",
   "metadata": {
    "execution": {
     "iopub.execute_input": "2022-05-23T12:05:47.386718Z",
     "iopub.status.busy": "2022-05-23T12:05:47.386141Z",
     "iopub.status.idle": "2022-05-23T12:06:08.196911Z",
     "shell.execute_reply": "2022-05-23T12:06:08.195409Z"
    },
    "papermill": {
     "duration": 20.850037,
     "end_time": "2022-05-23T12:06:08.199727",
     "exception": false,
     "start_time": "2022-05-23T12:05:47.349690",
     "status": "completed"
    },
    "tags": []
   },
   "outputs": [
    {
     "name": "stdout",
     "output_type": "stream",
     "text": [
      "Fitting 4 folds for each of 16 candidates, totalling 64 fits\n",
      "The score of the DT After Hyperparameter tuning is: 0.952\n",
      "Best Parameters: {'classifier__criterion': 'entropy', 'classifier__max_depth': 12, 'preprocessor__num__imputer__strategy': 'median'}\n"
     ]
    }
   ],
   "source": [
    "param_grid = {\n",
    "    'preprocessor__num__imputer__strategy': ['mean','median'],\n",
    "    'classifier__criterion' : ['gini','entropy'],\n",
    "    'classifier__max_depth' : [2,4,8,12]    \n",
    "}\n",
    "\n",
    "grid_search = GridSearchCV(clf, param_grid, cv = 4, verbose = 2, n_jobs=-1)\n",
    "\n",
    "grid_search.fit(x_train, y_train)\n",
    "print(f\"The score of the DT After Hyperparameter tuning is: {grid_search.score(x_test,y_test):0.3f}\")\n",
    "#print(f\"Best Score: {grid_search.best_score_}\")\n",
    "print(f\"Best Parameters: {grid_search.best_params_}\")"
   ]
  },
  {
   "cell_type": "markdown",
   "id": "a1f100bd",
   "metadata": {
    "papermill": {
     "duration": 0.035316,
     "end_time": "2022-05-23T12:06:08.271863",
     "exception": false,
     "start_time": "2022-05-23T12:06:08.236547",
     "status": "completed"
    },
    "tags": []
   },
   "source": [
    "#### Plotting Confusion Matrix to evaluate the accuracy of a classification"
   ]
  },
  {
   "cell_type": "code",
   "execution_count": 13,
   "id": "11d3b16e",
   "metadata": {
    "execution": {
     "iopub.execute_input": "2022-05-23T12:06:08.346500Z",
     "iopub.status.busy": "2022-05-23T12:06:08.346208Z",
     "iopub.status.idle": "2022-05-23T12:06:08.356709Z",
     "shell.execute_reply": "2022-05-23T12:06:08.355743Z"
    },
    "papermill": {
     "duration": 0.050444,
     "end_time": "2022-05-23T12:06:08.359286",
     "exception": false,
     "start_time": "2022-05-23T12:06:08.308842",
     "status": "completed"
    },
    "tags": []
   },
   "outputs": [
    {
     "data": {
      "text/plain": [
       "array([[5649,  291],\n",
       "       [ 276, 4175]])"
      ]
     },
     "execution_count": 13,
     "metadata": {},
     "output_type": "execute_result"
    }
   ],
   "source": [
    "cnf_matrix = confusion_matrix(y_test,y_preds)\n",
    "np.set_printoptions(precision = 2)\n",
    "cnf_matrix"
   ]
  },
  {
   "cell_type": "code",
   "execution_count": 14,
   "id": "5e76a4cd",
   "metadata": {
    "execution": {
     "iopub.execute_input": "2022-05-23T12:06:08.434461Z",
     "iopub.status.busy": "2022-05-23T12:06:08.434179Z",
     "iopub.status.idle": "2022-05-23T12:06:08.445502Z",
     "shell.execute_reply": "2022-05-23T12:06:08.444527Z"
    },
    "papermill": {
     "duration": 0.052152,
     "end_time": "2022-05-23T12:06:08.447541",
     "exception": false,
     "start_time": "2022-05-23T12:06:08.395389",
     "status": "completed"
    },
    "tags": []
   },
   "outputs": [],
   "source": [
    "def plot_confusion_matrix(cm,classes, \n",
    "                          normalize = False,\n",
    "                          title = \"Confusion Matrix\",\n",
    "                          cmap = plt.cm.Blues):\n",
    "    \"\"\"\n",
    "    This function prints and plots the confusion matrix.\n",
    "    Normalization can be applied by setting `normalize=True`.\n",
    "    \"\"\"\n",
    "    if normalize:\n",
    "        cm = cm.astype('float') / cm.sum(axis=1)[:,np.newaxis]\n",
    "        print(\"Normalized Confusion Matrix\")\n",
    "    else:\n",
    "        print(\"Confusion Matrix, without Normalization\")  \n",
    "\n",
    "    print(cm)  \n",
    "#show data as image using plt.imshow\n",
    "    plt.imshow(cm,interpolation='nearest',cmap = cmap)\n",
    "    plt.title(title)\n",
    "    plt.colorbar()\n",
    "#ARANGE : returns evenly spaced values from the given interval \n",
    "# and the advantage of numpy.arange() over the normal in-built range() function is that it allows us to generate sequences of numbers that are not integers  \n",
    "    tick_marks = np.arange(len(classes))\n",
    "    plt.xticks(tick_marks,classes,rotation = 45)\n",
    "    plt.yticks(tick_marks,classes)\n",
    "\n",
    "    fmt = '.2f' if normalize else 'd'\n",
    "    thresh = cm.max()/2.\n",
    "    for i,j in itertools.product(range(cm.shape[0]),range(cm.shape[1])):\n",
    "        plt.text(j,i,format(cm[i,j],fmt),\n",
    "                 horizontalalignment = 'center',\n",
    "                 color = 'white' if cm[i,j] > thresh else 'black')\n",
    "    \n",
    "    plt.xlabel('True Heart Disease Class')\n",
    "    plt.ylabel('Predicted Heart Disease Class')\n",
    "    plt.tight_layout()"
   ]
  },
  {
   "cell_type": "code",
   "execution_count": 15,
   "id": "82ee4912",
   "metadata": {
    "execution": {
     "iopub.execute_input": "2022-05-23T12:06:08.523960Z",
     "iopub.status.busy": "2022-05-23T12:06:08.523674Z",
     "iopub.status.idle": "2022-05-23T12:06:09.083999Z",
     "shell.execute_reply": "2022-05-23T12:06:09.083199Z"
    },
    "papermill": {
     "duration": 0.601559,
     "end_time": "2022-05-23T12:06:09.086400",
     "exception": false,
     "start_time": "2022-05-23T12:06:08.484841",
     "status": "completed"
    },
    "tags": []
   },
   "outputs": [
    {
     "name": "stdout",
     "output_type": "stream",
     "text": [
      "Confusion Matrix, without Normalization\n",
      "[[5649  291]\n",
      " [ 276 4175]]\n",
      "Normalized Confusion Matrix\n",
      "[[0.95 0.05]\n",
      " [0.06 0.94]]\n"
     ]
    },
    {
     "data": {
      "image/png": "[encoded data removed]",
      "text/plain": [
       "<Figure size 432x288 with 2 Axes>"
      ]
     },
     "metadata": {},
     "output_type": "display_data"
    },
    {
     "data": {
      "image/png": "[encoded data removed]",
      "text/plain": [
       "<Figure size 432x288 with 2 Axes>"
      ]
     },
     "metadata": {},
     "output_type": "display_data"
    }
   ],
   "source": [
    "#Without Normalization\n",
    "plt.figure()\n",
    "plot_confusion_matrix(cnf_matrix, le.classes_,\n",
    "                      title='Confusion matrix, without normalization')\n",
    "# With normalization\n",
    "plt.figure()\n",
    "plot_confusion_matrix(cnf_matrix, le.classes_, normalize=True,\n",
    "                      title='Normalized confusion matrix')\n",
    "\n",
    "plt.show()"
   ]
  },
  {
   "cell_type": "markdown",
   "id": "52d3122c",
   "metadata": {
    "papermill": {
     "duration": 0.0405,
     "end_time": "2022-05-23T12:06:09.165758",
     "exception": false,
     "start_time": "2022-05-23T12:06:09.125258",
     "status": "completed"
    },
    "tags": []
   },
   "source": [
    "*For both the scenarios : neutral/dissatisfied and satisfied :The accuracy is 95% and 94% i.e the model has correctly done the prediction*"
   ]
  },
  {
   "cell_type": "markdown",
   "id": "560a926a",
   "metadata": {
    "papermill": {
     "duration": 0.038802,
     "end_time": "2022-05-23T12:06:09.245372",
     "exception": false,
     "start_time": "2022-05-23T12:06:09.206570",
     "status": "completed"
    },
    "tags": []
   },
   "source": [
    "#### Testing the performance of the model on the given test data"
   ]
  },
  {
   "cell_type": "code",
   "execution_count": 16,
   "id": "6eb5b5d6",
   "metadata": {
    "execution": {
     "iopub.execute_input": "2022-05-23T12:06:09.328264Z",
     "iopub.status.busy": "2022-05-23T12:06:09.327290Z",
     "iopub.status.idle": "2022-05-23T12:06:09.460349Z",
     "shell.execute_reply": "2022-05-23T12:06:09.459252Z"
    },
    "papermill": {
     "duration": 0.176092,
     "end_time": "2022-05-23T12:06:09.462620",
     "exception": false,
     "start_time": "2022-05-23T12:06:09.286528",
     "status": "completed"
    },
    "tags": []
   },
   "outputs": [
    {
     "data": {
      "text/html": [
       "<div>\n",
       "<style scoped>\n",
       "    .dataframe tbody tr th:only-of-type {\n",
       "        vertical-align: middle;\n",
       "    }\n",
       "\n",
       "    .dataframe tbody tr th {\n",
       "        vertical-align: top;\n",
       "    }\n",
       "\n",
       "    .dataframe thead th {\n",
       "        text-align: right;\n",
       "    }\n",
       "</style>\n",
       "<table border=\"1\" class=\"dataframe\">\n",
       "  <thead>\n",
       "    <tr style=\"text-align: right;\">\n",
       "      <th></th>\n",
       "      <th>Unnamed: 0</th>\n",
       "      <th>id</th>\n",
       "      <th>Gender</th>\n",
       "      <th>Customer Type</th>\n",
       "      <th>Age</th>\n",
       "      <th>Type of Travel</th>\n",
       "      <th>Class</th>\n",
       "      <th>Flight Distance</th>\n",
       "      <th>Inflight wifi service</th>\n",
       "      <th>Departure/Arrival time convenient</th>\n",
       "      <th>...</th>\n",
       "      <th>Inflight entertainment</th>\n",
       "      <th>On-board service</th>\n",
       "      <th>Leg room service</th>\n",
       "      <th>Baggage handling</th>\n",
       "      <th>Checkin service</th>\n",
       "      <th>Inflight service</th>\n",
       "      <th>Cleanliness</th>\n",
       "      <th>Departure Delay in Minutes</th>\n",
       "      <th>Arrival Delay in Minutes</th>\n",
       "      <th>satisfaction</th>\n",
       "    </tr>\n",
       "  </thead>\n",
       "  <tbody>\n",
       "    <tr>\n",
       "      <th>0</th>\n",
       "      <td>0</td>\n",
       "      <td>19556</td>\n",
       "      <td>Female</td>\n",
       "      <td>Loyal Customer</td>\n",
       "      <td>52</td>\n",
       "      <td>Business travel</td>\n",
       "      <td>Eco</td>\n",
       "      <td>160</td>\n",
       "      <td>5</td>\n",
       "      <td>4</td>\n",
       "      <td>...</td>\n",
       "      <td>5</td>\n",
       "      <td>5</td>\n",
       "      <td>5</td>\n",
       "      <td>5</td>\n",
       "      <td>2</td>\n",
       "      <td>5</td>\n",
       "      <td>5</td>\n",
       "      <td>50</td>\n",
       "      <td>44.0</td>\n",
       "      <td>satisfied</td>\n",
       "    </tr>\n",
       "    <tr>\n",
       "      <th>1</th>\n",
       "      <td>1</td>\n",
       "      <td>90035</td>\n",
       "      <td>Female</td>\n",
       "      <td>Loyal Customer</td>\n",
       "      <td>36</td>\n",
       "      <td>Business travel</td>\n",
       "      <td>Business</td>\n",
       "      <td>2863</td>\n",
       "      <td>1</td>\n",
       "      <td>1</td>\n",
       "      <td>...</td>\n",
       "      <td>4</td>\n",
       "      <td>4</td>\n",
       "      <td>4</td>\n",
       "      <td>4</td>\n",
       "      <td>3</td>\n",
       "      <td>4</td>\n",
       "      <td>5</td>\n",
       "      <td>0</td>\n",
       "      <td>0.0</td>\n",
       "      <td>satisfied</td>\n",
       "    </tr>\n",
       "    <tr>\n",
       "      <th>2</th>\n",
       "      <td>2</td>\n",
       "      <td>12360</td>\n",
       "      <td>Male</td>\n",
       "      <td>disloyal Customer</td>\n",
       "      <td>20</td>\n",
       "      <td>Business travel</td>\n",
       "      <td>Eco</td>\n",
       "      <td>192</td>\n",
       "      <td>2</td>\n",
       "      <td>0</td>\n",
       "      <td>...</td>\n",
       "      <td>2</td>\n",
       "      <td>4</td>\n",
       "      <td>1</td>\n",
       "      <td>3</td>\n",
       "      <td>2</td>\n",
       "      <td>2</td>\n",
       "      <td>2</td>\n",
       "      <td>0</td>\n",
       "      <td>0.0</td>\n",
       "      <td>neutral or dissatisfied</td>\n",
       "    </tr>\n",
       "    <tr>\n",
       "      <th>3</th>\n",
       "      <td>3</td>\n",
       "      <td>77959</td>\n",
       "      <td>Male</td>\n",
       "      <td>Loyal Customer</td>\n",
       "      <td>44</td>\n",
       "      <td>Business travel</td>\n",
       "      <td>Business</td>\n",
       "      <td>3377</td>\n",
       "      <td>0</td>\n",
       "      <td>0</td>\n",
       "      <td>...</td>\n",
       "      <td>1</td>\n",
       "      <td>1</td>\n",
       "      <td>1</td>\n",
       "      <td>1</td>\n",
       "      <td>3</td>\n",
       "      <td>1</td>\n",
       "      <td>4</td>\n",
       "      <td>0</td>\n",
       "      <td>6.0</td>\n",
       "      <td>satisfied</td>\n",
       "    </tr>\n",
       "    <tr>\n",
       "      <th>4</th>\n",
       "      <td>4</td>\n",
       "      <td>36875</td>\n",
       "      <td>Female</td>\n",
       "      <td>Loyal Customer</td>\n",
       "      <td>49</td>\n",
       "      <td>Business travel</td>\n",
       "      <td>Eco</td>\n",
       "      <td>1182</td>\n",
       "      <td>2</td>\n",
       "      <td>3</td>\n",
       "      <td>...</td>\n",
       "      <td>2</td>\n",
       "      <td>2</td>\n",
       "      <td>2</td>\n",
       "      <td>2</td>\n",
       "      <td>4</td>\n",
       "      <td>2</td>\n",
       "      <td>4</td>\n",
       "      <td>0</td>\n",
       "      <td>20.0</td>\n",
       "      <td>satisfied</td>\n",
       "    </tr>\n",
       "  </tbody>\n",
       "</table>\n",
       "<p>5 rows × 25 columns</p>\n",
       "</div>"
      ],
      "text/plain": [
       "   Unnamed: 0     id  Gender      Customer Type  Age   Type of Travel  \\\n",
       "0           0  19556  Female     Loyal Customer   52  Business travel   \n",
       "1           1  90035  Female     Loyal Customer   36  Business travel   \n",
       "2           2  12360    Male  disloyal Customer   20  Business travel   \n",
       "3           3  77959    Male     Loyal Customer   44  Business travel   \n",
       "4           4  36875  Female     Loyal Customer   49  Business travel   \n",
       "\n",
       "      Class  Flight Distance  Inflight wifi service  \\\n",
       "0       Eco              160                      5   \n",
       "1  Business             2863                      1   \n",
       "2       Eco              192                      2   \n",
       "3  Business             3377                      0   \n",
       "4       Eco             1182                      2   \n",
       "\n",
       "   Departure/Arrival time convenient  ...  Inflight entertainment  \\\n",
       "0                                  4  ...                       5   \n",
       "1                                  1  ...                       4   \n",
       "2                                  0  ...                       2   \n",
       "3                                  0  ...                       1   \n",
       "4                                  3  ...                       2   \n",
       "\n",
       "   On-board service  Leg room service  Baggage handling  Checkin service  \\\n",
       "0                 5                 5                 5                2   \n",
       "1                 4                 4                 4                3   \n",
       "2                 4                 1                 3                2   \n",
       "3                 1                 1                 1                3   \n",
       "4                 2                 2                 2                4   \n",
       "\n",
       "   Inflight service  Cleanliness  Departure Delay in Minutes  \\\n",
       "0                 5            5                          50   \n",
       "1                 4            5                           0   \n",
       "2                 2            2                           0   \n",
       "3                 1            4                           0   \n",
       "4                 2            4                           0   \n",
       "\n",
       "   Arrival Delay in Minutes             satisfaction  \n",
       "0                      44.0                satisfied  \n",
       "1                       0.0                satisfied  \n",
       "2                       0.0  neutral or dissatisfied  \n",
       "3                       6.0                satisfied  \n",
       "4                      20.0                satisfied  \n",
       "\n",
       "[5 rows x 25 columns]"
      ]
     },
     "execution_count": 16,
     "metadata": {},
     "output_type": "execute_result"
    }
   ],
   "source": [
    "df_test = pd.read_csv(\"../input/airline-passenger-satisfaction/test.csv\")\n",
    "df_test.head()"
   ]
  },
  {
   "cell_type": "markdown",
   "id": "ddc2fa4b",
   "metadata": {
    "papermill": {
     "duration": 0.040713,
     "end_time": "2022-05-23T12:06:09.544492",
     "exception": false,
     "start_time": "2022-05-23T12:06:09.503779",
     "status": "completed"
    },
    "tags": []
   },
   "source": [
    "*The transformation performed on training data needs to be done on test data as well, otherwise the output maybe inconclusive*"
   ]
  },
  {
   "cell_type": "code",
   "execution_count": 17,
   "id": "a46cca2b",
   "metadata": {
    "execution": {
     "iopub.execute_input": "2022-05-23T12:06:09.625611Z",
     "iopub.status.busy": "2022-05-23T12:06:09.625340Z",
     "iopub.status.idle": "2022-05-23T12:06:09.639906Z",
     "shell.execute_reply": "2022-05-23T12:06:09.638839Z"
    },
    "papermill": {
     "duration": 0.057816,
     "end_time": "2022-05-23T12:06:09.642141",
     "exception": false,
     "start_time": "2022-05-23T12:06:09.584325",
     "status": "completed"
    },
    "tags": []
   },
   "outputs": [
    {
     "data": {
      "text/plain": [
       "array([1, 1, 0, 1, 1, 1, 1, 1, 1, 1])"
      ]
     },
     "execution_count": 17,
     "metadata": {},
     "output_type": "execute_result"
    }
   ],
   "source": [
    "#test grid_search.score(df_test,df_test['satisfaction']) passing satisfaction column directly will throw an error\n",
    "#satisfaction for test data must also be label encoded\n",
    "y_test_transform = le.transform(df_test[\"satisfaction\"])\n",
    "y_test_transform[0:10]"
   ]
  },
  {
   "cell_type": "code",
   "execution_count": 18,
   "id": "6011222e",
   "metadata": {
    "execution": {
     "iopub.execute_input": "2022-05-23T12:06:09.727319Z",
     "iopub.status.busy": "2022-05-23T12:06:09.727001Z",
     "iopub.status.idle": "2022-05-23T12:06:09.799370Z",
     "shell.execute_reply": "2022-05-23T12:06:09.798109Z"
    },
    "papermill": {
     "duration": 0.118108,
     "end_time": "2022-05-23T12:06:09.801826",
     "exception": false,
     "start_time": "2022-05-23T12:06:09.683718",
     "status": "completed"
    },
    "tags": []
   },
   "outputs": [
    {
     "name": "stdout",
     "output_type": "stream",
     "text": [
      "Accuracy of the Test data is 0.952\n"
     ]
    }
   ],
   "source": [
    "test_sc = grid_search.score(df_test,y_test_transform)\n",
    "print(f\"Accuracy of the Test data is {test_sc:0.3f}\")"
   ]
  },
  {
   "cell_type": "markdown",
   "id": "02552898",
   "metadata": {
    "papermill": {
     "duration": 0.041845,
     "end_time": "2022-05-23T12:06:09.886275",
     "exception": false,
     "start_time": "2022-05-23T12:06:09.844430",
     "status": "completed"
    },
    "tags": []
   },
   "source": [
    "*Plotting the confusion matrix for Test Data*"
   ]
  },
  {
   "cell_type": "code",
   "execution_count": 19,
   "id": "7d27e049",
   "metadata": {
    "execution": {
     "iopub.execute_input": "2022-05-23T12:06:09.970933Z",
     "iopub.status.busy": "2022-05-23T12:06:09.970007Z",
     "iopub.status.idle": "2022-05-23T12:06:10.042576Z",
     "shell.execute_reply": "2022-05-23T12:06:10.041510Z"
    },
    "papermill": {
     "duration": 0.117245,
     "end_time": "2022-05-23T12:06:10.044791",
     "exception": false,
     "start_time": "2022-05-23T12:06:09.927546",
     "status": "completed"
    },
    "tags": []
   },
   "outputs": [
    {
     "data": {
      "text/plain": [
       "array([[14159,   414],\n",
       "       [  824, 10579]])"
      ]
     },
     "execution_count": 19,
     "metadata": {},
     "output_type": "execute_result"
    }
   ],
   "source": [
    "y_test_pred = grid_search.predict(df_test)\n",
    "#Confusion Matrix to evaluate the accuracy of a classification\n",
    "cnf_matrix = confusion_matrix(y_test_transform,y_test_pred)\n",
    "np.set_printoptions(precision = 2)\n",
    "cnf_matrix"
   ]
  },
  {
   "cell_type": "code",
   "execution_count": 20,
   "id": "3328e4ae",
   "metadata": {
    "execution": {
     "iopub.execute_input": "2022-05-23T12:06:10.130044Z",
     "iopub.status.busy": "2022-05-23T12:06:10.129737Z",
     "iopub.status.idle": "2022-05-23T12:06:10.654579Z",
     "shell.execute_reply": "2022-05-23T12:06:10.653726Z"
    },
    "papermill": {
     "duration": 0.569339,
     "end_time": "2022-05-23T12:06:10.656645",
     "exception": false,
     "start_time": "2022-05-23T12:06:10.087306",
     "status": "completed"
    },
    "tags": []
   },
   "outputs": [
    {
     "name": "stdout",
     "output_type": "stream",
     "text": [
      "Confusion Matrix, without Normalization\n",
      "[[14159   414]\n",
      " [  824 10579]]\n",
      "Normalized Confusion Matrix\n",
      "[[0.97 0.03]\n",
      " [0.07 0.93]]\n"
     ]
    },
    {
     "data": {
      "image/png": "[encoded data removed]",
      "text/plain": [
       "<Figure size 432x288 with 2 Axes>"
      ]
     },
     "metadata": {},
     "output_type": "display_data"
    },
    {
     "data": {
      "image/png": "[encoded data removed]",
      "text/plain": [
       "<Figure size 432x288 with 2 Axes>"
      ]
     },
     "metadata": {},
     "output_type": "display_data"
    }
   ],
   "source": [
    "#Without Normalization\n",
    "plt.figure()\n",
    "plot_confusion_matrix(cnf_matrix, le.classes_,\n",
    "                      title='Confusion matrix, without normalization')\n",
    "# With normalization\n",
    "plt.figure()\n",
    "plot_confusion_matrix(cnf_matrix, le.classes_, normalize=True,\n",
    "                      title='Normalized confusion matrix')\n",
    "\n",
    "plt.show()"
   ]
  },
  {
   "cell_type": "markdown",
   "id": "b724ca7a",
   "metadata": {
    "papermill": {
     "duration": 0.046091,
     "end_time": "2022-05-23T12:06:10.747083",
     "exception": false,
     "start_time": "2022-05-23T12:06:10.700992",
     "status": "completed"
    },
    "tags": []
   },
   "source": [
    "#### Storing Label Transformer and Grid Search logic/model file"
   ]
  },
  {
   "cell_type": "markdown",
   "id": "adb29975",
   "metadata": {
    "papermill": {
     "duration": 0.04811,
     "end_time": "2022-05-23T12:06:10.842842",
     "exception": false,
     "start_time": "2022-05-23T12:06:10.794732",
     "status": "completed"
    },
    "tags": []
   },
   "source": [
    "Considering there is new test.csv with new test data\n",
    "* le : transformation performed on output y variable/satisfaction in this case\n",
    "\n",
    "    le.fit_transform : if it's neutral or dissatisfied give it value 0 and if its satisfied , give it a value 1\n",
    "                       \n",
    "  The above logic gets established in 'le' variable\n",
    "  \n",
    "  With new set of data, we need to perform same transformation hence 'le' needs to be stored locally\n",
    "* grid_search : has best parameters, model and pipeline defined\n",
    "\n",
    "  Similarly, we need to store grid_search locally"
   ]
  },
  {
   "cell_type": "code",
   "execution_count": 21,
   "id": "725fb497",
   "metadata": {
    "execution": {
     "iopub.execute_input": "2022-05-23T12:06:10.936681Z",
     "iopub.status.busy": "2022-05-23T12:06:10.936190Z",
     "iopub.status.idle": "2022-05-23T12:06:10.957825Z",
     "shell.execute_reply": "2022-05-23T12:06:10.956891Z"
    },
    "papermill": {
     "duration": 0.072216,
     "end_time": "2022-05-23T12:06:10.960052",
     "exception": false,
     "start_time": "2022-05-23T12:06:10.887836",
     "status": "completed"
    },
    "tags": []
   },
   "outputs": [
    {
     "data": {
      "text/plain": [
       "['gridsearch_model_pipeline.joblib']"
      ]
     },
     "execution_count": 21,
     "metadata": {},
     "output_type": "execute_result"
    }
   ],
   "source": [
    "joblib.dump(le,\"class_label_encoder.joblib\")\n",
    "joblib.dump(grid_search,\"gridsearch_model_pipeline.joblib\")"
   ]
  },
  {
   "cell_type": "code",
   "execution_count": 22,
   "id": "acfc5b0c",
   "metadata": {
    "execution": {
     "iopub.execute_input": "2022-05-23T12:06:11.056377Z",
     "iopub.status.busy": "2022-05-23T12:06:11.056094Z",
     "iopub.status.idle": "2022-05-23T12:06:11.061185Z",
     "shell.execute_reply": "2022-05-23T12:06:11.060178Z"
    },
    "papermill": {
     "duration": 0.054492,
     "end_time": "2022-05-23T12:06:11.063393",
     "exception": false,
     "start_time": "2022-05-23T12:06:11.008901",
     "status": "completed"
    },
    "tags": []
   },
   "outputs": [],
   "source": [
    "#Loading files to new environment\n",
    "label_encode = joblib.load(\"class_label_encoder.joblib\")"
   ]
  },
  {
   "cell_type": "markdown",
   "id": "012424c8",
   "metadata": {
    "papermill": {
     "duration": 0.046279,
     "end_time": "2022-05-23T12:06:11.155745",
     "exception": false,
     "start_time": "2022-05-23T12:06:11.109466",
     "status": "completed"
    },
    "tags": []
   },
   "source": [
    "*Now label_encode can load all methods like label_encode.get_params*"
   ]
  }
 ],
 "metadata": {
  "kernelspec": {
   "display_name": "Python 3",
   "language": "python",
   "name": "python3"
  },
  "language_info": {
   "codemirror_mode": {
    "name": "ipython",
    "version": 3
   },
   "file_extension": ".py",
   "mimetype": "text/x-python",
   "name": "python",
   "nbconvert_exporter": "python",
   "pygments_lexer": "ipython3",
   "version": "3.7.12"
  },
  "papermill": {
   "default_parameters": {},
   "duration": 41.472771,
   "end_time": "2022-05-23T12:06:13.826364",
   "environment_variables": {},
   "exception": null,
   "input_path": "__notebook__.ipynb",
   "output_path": "__notebook__.ipynb",
   "parameters": {},
   "start_time": "2022-05-23T12:05:32.353593",
   "version": "2.3.4"
  }
 },
 "nbformat": 4,
 "nbformat_minor": 5
}
