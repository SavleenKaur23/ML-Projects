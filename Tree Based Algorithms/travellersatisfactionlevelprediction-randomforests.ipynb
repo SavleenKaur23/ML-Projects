{
 "cells": [
  {
   "cell_type": "markdown",
   "id": "2354d39a",
   "metadata": {
    "_cell_guid": "b1076dfc-b9ad-4769-8c92-a6c4dae69d19",
    "_uuid": "8f2839f25d086af736a60e9eeb907d3b93b6e0e5",
    "execution": {
     "iopub.execute_input": "2022-05-23T12:12:19.244318Z",
     "iopub.status.busy": "2022-05-23T12:12:19.243752Z",
     "iopub.status.idle": "2022-05-23T12:12:19.261724Z",
     "shell.execute_reply": "2022-05-23T12:12:19.260978Z",
     "shell.execute_reply.started": "2022-05-23T12:12:19.244218Z"
    },
    "papermill": {
     "duration": 0.029388,
     "end_time": "2022-05-25T11:51:08.109650",
     "exception": false,
     "start_time": "2022-05-25T11:51:08.080262",
     "status": "completed"
    },
    "tags": []
   },
   "source": [
    "#### *Predicting if the Airline Passenger is satisfied or dissatisfied based on several features related to onboarding or inflight services*"
   ]
  },
  {
   "cell_type": "markdown",
   "id": "2daa309a",
   "metadata": {
    "papermill": {
     "duration": 0.027535,
     "end_time": "2022-05-25T11:51:08.166488",
     "exception": false,
     "start_time": "2022-05-25T11:51:08.138953",
     "status": "completed"
    },
    "tags": []
   },
   "source": [
    "#### Loading Libraries and Data"
   ]
  },
  {
   "cell_type": "code",
   "execution_count": 1,
   "id": "11f480bf",
   "metadata": {
    "execution": {
     "iopub.execute_input": "2022-05-25T11:51:08.224857Z",
     "iopub.status.busy": "2022-05-25T11:51:08.224372Z",
     "iopub.status.idle": "2022-05-25T11:51:09.847043Z",
     "shell.execute_reply": "2022-05-25T11:51:09.846361Z"
    },
    "papermill": {
     "duration": 1.654654,
     "end_time": "2022-05-25T11:51:09.849540",
     "exception": false,
     "start_time": "2022-05-25T11:51:08.194886",
     "status": "completed"
    },
    "tags": []
   },
   "outputs": [],
   "source": [
    "import pandas as pd #Dataframe Manipulation library\n",
    "import numpy as np #Data Manipulation library\n",
    "\n",
    "#sklearn modules for Decision Trees\n",
    "from sklearn.preprocessing import LabelEncoder, OneHotEncoder, StandardScaler, MinMaxScaler\n",
    "from sklearn.model_selection import train_test_split, GridSearchCV\n",
    "from sklearn.ensemble import RandomForestClassifier\n",
    "from sklearn.metrics import confusion_matrix\n",
    "import itertools\n",
    "\n",
    "#Libraries for HyperParameter Tuning\n",
    "from sklearn.pipeline import Pipeline\n",
    "from sklearn.compose import ColumnTransformer\n",
    "from sklearn.impute import SimpleImputer\n",
    "\n",
    "#Libraries for Plotting \n",
    "import matplotlib.pyplot as plt\n",
    "%matplotlib inline\n",
    "import seaborn as sns\n",
    "sns.set(color_codes = True)\n",
    "import plotly.graph_objects as go\n",
    "\n",
    "import joblib  #python package to store entire logic of a variable in python"
   ]
  },
  {
   "cell_type": "code",
   "execution_count": 2,
   "id": "00e14139",
   "metadata": {
    "execution": {
     "iopub.execute_input": "2022-05-25T11:51:09.907784Z",
     "iopub.status.busy": "2022-05-25T11:51:09.907327Z",
     "iopub.status.idle": "2022-05-25T11:51:10.400659Z",
     "shell.execute_reply": "2022-05-25T11:51:10.399578Z"
    },
    "papermill": {
     "duration": 0.525478,
     "end_time": "2022-05-25T11:51:10.403202",
     "exception": false,
     "start_time": "2022-05-25T11:51:09.877724",
     "status": "completed"
    },
    "tags": []
   },
   "outputs": [
    {
     "data": {
      "text/html": [
       "<div>\n",
       "<style scoped>\n",
       "    .dataframe tbody tr th:only-of-type {\n",
       "        vertical-align: middle;\n",
       "    }\n",
       "\n",
       "    .dataframe tbody tr th {\n",
       "        vertical-align: top;\n",
       "    }\n",
       "\n",
       "    .dataframe thead th {\n",
       "        text-align: right;\n",
       "    }\n",
       "</style>\n",
       "<table border=\"1\" class=\"dataframe\">\n",
       "  <thead>\n",
       "    <tr style=\"text-align: right;\">\n",
       "      <th></th>\n",
       "      <th>Unnamed: 0</th>\n",
       "      <th>id</th>\n",
       "      <th>Gender</th>\n",
       "      <th>Customer Type</th>\n",
       "      <th>Age</th>\n",
       "      <th>Type of Travel</th>\n",
       "      <th>Class</th>\n",
       "      <th>Flight Distance</th>\n",
       "      <th>Inflight wifi service</th>\n",
       "      <th>Departure/Arrival time convenient</th>\n",
       "      <th>...</th>\n",
       "      <th>Inflight entertainment</th>\n",
       "      <th>On-board service</th>\n",
       "      <th>Leg room service</th>\n",
       "      <th>Baggage handling</th>\n",
       "      <th>Checkin service</th>\n",
       "      <th>Inflight service</th>\n",
       "      <th>Cleanliness</th>\n",
       "      <th>Departure Delay in Minutes</th>\n",
       "      <th>Arrival Delay in Minutes</th>\n",
       "      <th>satisfaction</th>\n",
       "    </tr>\n",
       "  </thead>\n",
       "  <tbody>\n",
       "    <tr>\n",
       "      <th>0</th>\n",
       "      <td>0</td>\n",
       "      <td>70172</td>\n",
       "      <td>Male</td>\n",
       "      <td>Loyal Customer</td>\n",
       "      <td>13</td>\n",
       "      <td>Personal Travel</td>\n",
       "      <td>Eco Plus</td>\n",
       "      <td>460</td>\n",
       "      <td>3</td>\n",
       "      <td>4</td>\n",
       "      <td>...</td>\n",
       "      <td>5</td>\n",
       "      <td>4</td>\n",
       "      <td>3</td>\n",
       "      <td>4</td>\n",
       "      <td>4</td>\n",
       "      <td>5</td>\n",
       "      <td>5</td>\n",
       "      <td>25</td>\n",
       "      <td>18.0</td>\n",
       "      <td>neutral or dissatisfied</td>\n",
       "    </tr>\n",
       "    <tr>\n",
       "      <th>1</th>\n",
       "      <td>1</td>\n",
       "      <td>5047</td>\n",
       "      <td>Male</td>\n",
       "      <td>disloyal Customer</td>\n",
       "      <td>25</td>\n",
       "      <td>Business travel</td>\n",
       "      <td>Business</td>\n",
       "      <td>235</td>\n",
       "      <td>3</td>\n",
       "      <td>2</td>\n",
       "      <td>...</td>\n",
       "      <td>1</td>\n",
       "      <td>1</td>\n",
       "      <td>5</td>\n",
       "      <td>3</td>\n",
       "      <td>1</td>\n",
       "      <td>4</td>\n",
       "      <td>1</td>\n",
       "      <td>1</td>\n",
       "      <td>6.0</td>\n",
       "      <td>neutral or dissatisfied</td>\n",
       "    </tr>\n",
       "    <tr>\n",
       "      <th>2</th>\n",
       "      <td>2</td>\n",
       "      <td>110028</td>\n",
       "      <td>Female</td>\n",
       "      <td>Loyal Customer</td>\n",
       "      <td>26</td>\n",
       "      <td>Business travel</td>\n",
       "      <td>Business</td>\n",
       "      <td>1142</td>\n",
       "      <td>2</td>\n",
       "      <td>2</td>\n",
       "      <td>...</td>\n",
       "      <td>5</td>\n",
       "      <td>4</td>\n",
       "      <td>3</td>\n",
       "      <td>4</td>\n",
       "      <td>4</td>\n",
       "      <td>4</td>\n",
       "      <td>5</td>\n",
       "      <td>0</td>\n",
       "      <td>0.0</td>\n",
       "      <td>satisfied</td>\n",
       "    </tr>\n",
       "    <tr>\n",
       "      <th>3</th>\n",
       "      <td>3</td>\n",
       "      <td>24026</td>\n",
       "      <td>Female</td>\n",
       "      <td>Loyal Customer</td>\n",
       "      <td>25</td>\n",
       "      <td>Business travel</td>\n",
       "      <td>Business</td>\n",
       "      <td>562</td>\n",
       "      <td>2</td>\n",
       "      <td>5</td>\n",
       "      <td>...</td>\n",
       "      <td>2</td>\n",
       "      <td>2</td>\n",
       "      <td>5</td>\n",
       "      <td>3</td>\n",
       "      <td>1</td>\n",
       "      <td>4</td>\n",
       "      <td>2</td>\n",
       "      <td>11</td>\n",
       "      <td>9.0</td>\n",
       "      <td>neutral or dissatisfied</td>\n",
       "    </tr>\n",
       "    <tr>\n",
       "      <th>4</th>\n",
       "      <td>4</td>\n",
       "      <td>119299</td>\n",
       "      <td>Male</td>\n",
       "      <td>Loyal Customer</td>\n",
       "      <td>61</td>\n",
       "      <td>Business travel</td>\n",
       "      <td>Business</td>\n",
       "      <td>214</td>\n",
       "      <td>3</td>\n",
       "      <td>3</td>\n",
       "      <td>...</td>\n",
       "      <td>3</td>\n",
       "      <td>3</td>\n",
       "      <td>4</td>\n",
       "      <td>4</td>\n",
       "      <td>3</td>\n",
       "      <td>3</td>\n",
       "      <td>3</td>\n",
       "      <td>0</td>\n",
       "      <td>0.0</td>\n",
       "      <td>satisfied</td>\n",
       "    </tr>\n",
       "  </tbody>\n",
       "</table>\n",
       "<p>5 rows × 25 columns</p>\n",
       "</div>"
      ],
      "text/plain": [
       "   Unnamed: 0      id  Gender      Customer Type  Age   Type of Travel  \\\n",
       "0           0   70172    Male     Loyal Customer   13  Personal Travel   \n",
       "1           1    5047    Male  disloyal Customer   25  Business travel   \n",
       "2           2  110028  Female     Loyal Customer   26  Business travel   \n",
       "3           3   24026  Female     Loyal Customer   25  Business travel   \n",
       "4           4  119299    Male     Loyal Customer   61  Business travel   \n",
       "\n",
       "      Class  Flight Distance  Inflight wifi service  \\\n",
       "0  Eco Plus              460                      3   \n",
       "1  Business              235                      3   \n",
       "2  Business             1142                      2   \n",
       "3  Business              562                      2   \n",
       "4  Business              214                      3   \n",
       "\n",
       "   Departure/Arrival time convenient  ...  Inflight entertainment  \\\n",
       "0                                  4  ...                       5   \n",
       "1                                  2  ...                       1   \n",
       "2                                  2  ...                       5   \n",
       "3                                  5  ...                       2   \n",
       "4                                  3  ...                       3   \n",
       "\n",
       "   On-board service  Leg room service  Baggage handling  Checkin service  \\\n",
       "0                 4                 3                 4                4   \n",
       "1                 1                 5                 3                1   \n",
       "2                 4                 3                 4                4   \n",
       "3                 2                 5                 3                1   \n",
       "4                 3                 4                 4                3   \n",
       "\n",
       "   Inflight service  Cleanliness  Departure Delay in Minutes  \\\n",
       "0                 5            5                          25   \n",
       "1                 4            1                           1   \n",
       "2                 4            5                           0   \n",
       "3                 4            2                          11   \n",
       "4                 3            3                           0   \n",
       "\n",
       "   Arrival Delay in Minutes             satisfaction  \n",
       "0                      18.0  neutral or dissatisfied  \n",
       "1                       6.0  neutral or dissatisfied  \n",
       "2                       0.0                satisfied  \n",
       "3                       9.0  neutral or dissatisfied  \n",
       "4                       0.0                satisfied  \n",
       "\n",
       "[5 rows x 25 columns]"
      ]
     },
     "execution_count": 2,
     "metadata": {},
     "output_type": "execute_result"
    }
   ],
   "source": [
    "df = pd.read_csv(\"../input/airline-passenger-satisfaction/train.csv\")\n",
    "df.head()"
   ]
  },
  {
   "cell_type": "code",
   "execution_count": 3,
   "id": "e5c1013b",
   "metadata": {
    "execution": {
     "iopub.execute_input": "2022-05-25T11:51:10.463985Z",
     "iopub.status.busy": "2022-05-25T11:51:10.463682Z",
     "iopub.status.idle": "2022-05-25T11:51:10.745123Z",
     "shell.execute_reply": "2022-05-25T11:51:10.744306Z"
    },
    "papermill": {
     "duration": 0.31448,
     "end_time": "2022-05-25T11:51:10.747265",
     "exception": false,
     "start_time": "2022-05-25T11:51:10.432785",
     "status": "completed"
    },
    "tags": []
   },
   "outputs": [
    {
     "data": {
      "text/html": [
       "<div>\n",
       "<style scoped>\n",
       "    .dataframe tbody tr th:only-of-type {\n",
       "        vertical-align: middle;\n",
       "    }\n",
       "\n",
       "    .dataframe tbody tr th {\n",
       "        vertical-align: top;\n",
       "    }\n",
       "\n",
       "    .dataframe thead th {\n",
       "        text-align: right;\n",
       "    }\n",
       "</style>\n",
       "<table border=\"1\" class=\"dataframe\">\n",
       "  <thead>\n",
       "    <tr style=\"text-align: right;\">\n",
       "      <th></th>\n",
       "      <th>Unnamed: 0</th>\n",
       "      <th>id</th>\n",
       "      <th>Gender</th>\n",
       "      <th>Customer Type</th>\n",
       "      <th>Age</th>\n",
       "      <th>Type of Travel</th>\n",
       "      <th>Class</th>\n",
       "      <th>Flight Distance</th>\n",
       "      <th>Inflight wifi service</th>\n",
       "      <th>Departure/Arrival time convenient</th>\n",
       "      <th>...</th>\n",
       "      <th>Inflight entertainment</th>\n",
       "      <th>On-board service</th>\n",
       "      <th>Leg room service</th>\n",
       "      <th>Baggage handling</th>\n",
       "      <th>Checkin service</th>\n",
       "      <th>Inflight service</th>\n",
       "      <th>Cleanliness</th>\n",
       "      <th>Departure Delay in Minutes</th>\n",
       "      <th>Arrival Delay in Minutes</th>\n",
       "      <th>satisfaction</th>\n",
       "    </tr>\n",
       "  </thead>\n",
       "  <tbody>\n",
       "    <tr>\n",
       "      <th>count</th>\n",
       "      <td>103904.000000</td>\n",
       "      <td>103904.000000</td>\n",
       "      <td>103904</td>\n",
       "      <td>103904</td>\n",
       "      <td>103904.000000</td>\n",
       "      <td>103904</td>\n",
       "      <td>103904</td>\n",
       "      <td>103904.000000</td>\n",
       "      <td>103904.000000</td>\n",
       "      <td>103904.000000</td>\n",
       "      <td>...</td>\n",
       "      <td>103904.000000</td>\n",
       "      <td>103904.000000</td>\n",
       "      <td>103904.000000</td>\n",
       "      <td>103904.000000</td>\n",
       "      <td>103904.000000</td>\n",
       "      <td>103904.000000</td>\n",
       "      <td>103904.000000</td>\n",
       "      <td>103904.000000</td>\n",
       "      <td>103594.000000</td>\n",
       "      <td>103904</td>\n",
       "    </tr>\n",
       "    <tr>\n",
       "      <th>unique</th>\n",
       "      <td>NaN</td>\n",
       "      <td>NaN</td>\n",
       "      <td>2</td>\n",
       "      <td>2</td>\n",
       "      <td>NaN</td>\n",
       "      <td>2</td>\n",
       "      <td>3</td>\n",
       "      <td>NaN</td>\n",
       "      <td>NaN</td>\n",
       "      <td>NaN</td>\n",
       "      <td>...</td>\n",
       "      <td>NaN</td>\n",
       "      <td>NaN</td>\n",
       "      <td>NaN</td>\n",
       "      <td>NaN</td>\n",
       "      <td>NaN</td>\n",
       "      <td>NaN</td>\n",
       "      <td>NaN</td>\n",
       "      <td>NaN</td>\n",
       "      <td>NaN</td>\n",
       "      <td>2</td>\n",
       "    </tr>\n",
       "    <tr>\n",
       "      <th>top</th>\n",
       "      <td>NaN</td>\n",
       "      <td>NaN</td>\n",
       "      <td>Female</td>\n",
       "      <td>Loyal Customer</td>\n",
       "      <td>NaN</td>\n",
       "      <td>Business travel</td>\n",
       "      <td>Business</td>\n",
       "      <td>NaN</td>\n",
       "      <td>NaN</td>\n",
       "      <td>NaN</td>\n",
       "      <td>...</td>\n",
       "      <td>NaN</td>\n",
       "      <td>NaN</td>\n",
       "      <td>NaN</td>\n",
       "      <td>NaN</td>\n",
       "      <td>NaN</td>\n",
       "      <td>NaN</td>\n",
       "      <td>NaN</td>\n",
       "      <td>NaN</td>\n",
       "      <td>NaN</td>\n",
       "      <td>neutral or dissatisfied</td>\n",
       "    </tr>\n",
       "    <tr>\n",
       "      <th>freq</th>\n",
       "      <td>NaN</td>\n",
       "      <td>NaN</td>\n",
       "      <td>52727</td>\n",
       "      <td>84923</td>\n",
       "      <td>NaN</td>\n",
       "      <td>71655</td>\n",
       "      <td>49665</td>\n",
       "      <td>NaN</td>\n",
       "      <td>NaN</td>\n",
       "      <td>NaN</td>\n",
       "      <td>...</td>\n",
       "      <td>NaN</td>\n",
       "      <td>NaN</td>\n",
       "      <td>NaN</td>\n",
       "      <td>NaN</td>\n",
       "      <td>NaN</td>\n",
       "      <td>NaN</td>\n",
       "      <td>NaN</td>\n",
       "      <td>NaN</td>\n",
       "      <td>NaN</td>\n",
       "      <td>58879</td>\n",
       "    </tr>\n",
       "    <tr>\n",
       "      <th>mean</th>\n",
       "      <td>51951.500000</td>\n",
       "      <td>64924.210502</td>\n",
       "      <td>NaN</td>\n",
       "      <td>NaN</td>\n",
       "      <td>39.379706</td>\n",
       "      <td>NaN</td>\n",
       "      <td>NaN</td>\n",
       "      <td>1189.448375</td>\n",
       "      <td>2.729683</td>\n",
       "      <td>3.060296</td>\n",
       "      <td>...</td>\n",
       "      <td>3.358158</td>\n",
       "      <td>3.382363</td>\n",
       "      <td>3.351055</td>\n",
       "      <td>3.631833</td>\n",
       "      <td>3.304290</td>\n",
       "      <td>3.640428</td>\n",
       "      <td>3.286351</td>\n",
       "      <td>14.815618</td>\n",
       "      <td>15.178678</td>\n",
       "      <td>NaN</td>\n",
       "    </tr>\n",
       "    <tr>\n",
       "      <th>std</th>\n",
       "      <td>29994.645522</td>\n",
       "      <td>37463.812252</td>\n",
       "      <td>NaN</td>\n",
       "      <td>NaN</td>\n",
       "      <td>15.114964</td>\n",
       "      <td>NaN</td>\n",
       "      <td>NaN</td>\n",
       "      <td>997.147281</td>\n",
       "      <td>1.327829</td>\n",
       "      <td>1.525075</td>\n",
       "      <td>...</td>\n",
       "      <td>1.332991</td>\n",
       "      <td>1.288354</td>\n",
       "      <td>1.315605</td>\n",
       "      <td>1.180903</td>\n",
       "      <td>1.265396</td>\n",
       "      <td>1.175663</td>\n",
       "      <td>1.312273</td>\n",
       "      <td>38.230901</td>\n",
       "      <td>38.698682</td>\n",
       "      <td>NaN</td>\n",
       "    </tr>\n",
       "    <tr>\n",
       "      <th>min</th>\n",
       "      <td>0.000000</td>\n",
       "      <td>1.000000</td>\n",
       "      <td>NaN</td>\n",
       "      <td>NaN</td>\n",
       "      <td>7.000000</td>\n",
       "      <td>NaN</td>\n",
       "      <td>NaN</td>\n",
       "      <td>31.000000</td>\n",
       "      <td>0.000000</td>\n",
       "      <td>0.000000</td>\n",
       "      <td>...</td>\n",
       "      <td>0.000000</td>\n",
       "      <td>0.000000</td>\n",
       "      <td>0.000000</td>\n",
       "      <td>1.000000</td>\n",
       "      <td>0.000000</td>\n",
       "      <td>0.000000</td>\n",
       "      <td>0.000000</td>\n",
       "      <td>0.000000</td>\n",
       "      <td>0.000000</td>\n",
       "      <td>NaN</td>\n",
       "    </tr>\n",
       "    <tr>\n",
       "      <th>25%</th>\n",
       "      <td>25975.750000</td>\n",
       "      <td>32533.750000</td>\n",
       "      <td>NaN</td>\n",
       "      <td>NaN</td>\n",
       "      <td>27.000000</td>\n",
       "      <td>NaN</td>\n",
       "      <td>NaN</td>\n",
       "      <td>414.000000</td>\n",
       "      <td>2.000000</td>\n",
       "      <td>2.000000</td>\n",
       "      <td>...</td>\n",
       "      <td>2.000000</td>\n",
       "      <td>2.000000</td>\n",
       "      <td>2.000000</td>\n",
       "      <td>3.000000</td>\n",
       "      <td>3.000000</td>\n",
       "      <td>3.000000</td>\n",
       "      <td>2.000000</td>\n",
       "      <td>0.000000</td>\n",
       "      <td>0.000000</td>\n",
       "      <td>NaN</td>\n",
       "    </tr>\n",
       "    <tr>\n",
       "      <th>50%</th>\n",
       "      <td>51951.500000</td>\n",
       "      <td>64856.500000</td>\n",
       "      <td>NaN</td>\n",
       "      <td>NaN</td>\n",
       "      <td>40.000000</td>\n",
       "      <td>NaN</td>\n",
       "      <td>NaN</td>\n",
       "      <td>843.000000</td>\n",
       "      <td>3.000000</td>\n",
       "      <td>3.000000</td>\n",
       "      <td>...</td>\n",
       "      <td>4.000000</td>\n",
       "      <td>4.000000</td>\n",
       "      <td>4.000000</td>\n",
       "      <td>4.000000</td>\n",
       "      <td>3.000000</td>\n",
       "      <td>4.000000</td>\n",
       "      <td>3.000000</td>\n",
       "      <td>0.000000</td>\n",
       "      <td>0.000000</td>\n",
       "      <td>NaN</td>\n",
       "    </tr>\n",
       "    <tr>\n",
       "      <th>75%</th>\n",
       "      <td>77927.250000</td>\n",
       "      <td>97368.250000</td>\n",
       "      <td>NaN</td>\n",
       "      <td>NaN</td>\n",
       "      <td>51.000000</td>\n",
       "      <td>NaN</td>\n",
       "      <td>NaN</td>\n",
       "      <td>1743.000000</td>\n",
       "      <td>4.000000</td>\n",
       "      <td>4.000000</td>\n",
       "      <td>...</td>\n",
       "      <td>4.000000</td>\n",
       "      <td>4.000000</td>\n",
       "      <td>4.000000</td>\n",
       "      <td>5.000000</td>\n",
       "      <td>4.000000</td>\n",
       "      <td>5.000000</td>\n",
       "      <td>4.000000</td>\n",
       "      <td>12.000000</td>\n",
       "      <td>13.000000</td>\n",
       "      <td>NaN</td>\n",
       "    </tr>\n",
       "    <tr>\n",
       "      <th>max</th>\n",
       "      <td>103903.000000</td>\n",
       "      <td>129880.000000</td>\n",
       "      <td>NaN</td>\n",
       "      <td>NaN</td>\n",
       "      <td>85.000000</td>\n",
       "      <td>NaN</td>\n",
       "      <td>NaN</td>\n",
       "      <td>4983.000000</td>\n",
       "      <td>5.000000</td>\n",
       "      <td>5.000000</td>\n",
       "      <td>...</td>\n",
       "      <td>5.000000</td>\n",
       "      <td>5.000000</td>\n",
       "      <td>5.000000</td>\n",
       "      <td>5.000000</td>\n",
       "      <td>5.000000</td>\n",
       "      <td>5.000000</td>\n",
       "      <td>5.000000</td>\n",
       "      <td>1592.000000</td>\n",
       "      <td>1584.000000</td>\n",
       "      <td>NaN</td>\n",
       "    </tr>\n",
       "  </tbody>\n",
       "</table>\n",
       "<p>11 rows × 25 columns</p>\n",
       "</div>"
      ],
      "text/plain": [
       "           Unnamed: 0             id  Gender   Customer Type            Age  \\\n",
       "count   103904.000000  103904.000000  103904          103904  103904.000000   \n",
       "unique            NaN            NaN       2               2            NaN   \n",
       "top               NaN            NaN  Female  Loyal Customer            NaN   \n",
       "freq              NaN            NaN   52727           84923            NaN   \n",
       "mean     51951.500000   64924.210502     NaN             NaN      39.379706   \n",
       "std      29994.645522   37463.812252     NaN             NaN      15.114964   \n",
       "min          0.000000       1.000000     NaN             NaN       7.000000   \n",
       "25%      25975.750000   32533.750000     NaN             NaN      27.000000   \n",
       "50%      51951.500000   64856.500000     NaN             NaN      40.000000   \n",
       "75%      77927.250000   97368.250000     NaN             NaN      51.000000   \n",
       "max     103903.000000  129880.000000     NaN             NaN      85.000000   \n",
       "\n",
       "         Type of Travel     Class  Flight Distance  Inflight wifi service  \\\n",
       "count            103904    103904    103904.000000          103904.000000   \n",
       "unique                2         3              NaN                    NaN   \n",
       "top     Business travel  Business              NaN                    NaN   \n",
       "freq              71655     49665              NaN                    NaN   \n",
       "mean                NaN       NaN      1189.448375               2.729683   \n",
       "std                 NaN       NaN       997.147281               1.327829   \n",
       "min                 NaN       NaN        31.000000               0.000000   \n",
       "25%                 NaN       NaN       414.000000               2.000000   \n",
       "50%                 NaN       NaN       843.000000               3.000000   \n",
       "75%                 NaN       NaN      1743.000000               4.000000   \n",
       "max                 NaN       NaN      4983.000000               5.000000   \n",
       "\n",
       "        Departure/Arrival time convenient  ...  Inflight entertainment  \\\n",
       "count                       103904.000000  ...           103904.000000   \n",
       "unique                                NaN  ...                     NaN   \n",
       "top                                   NaN  ...                     NaN   \n",
       "freq                                  NaN  ...                     NaN   \n",
       "mean                             3.060296  ...                3.358158   \n",
       "std                              1.525075  ...                1.332991   \n",
       "min                              0.000000  ...                0.000000   \n",
       "25%                              2.000000  ...                2.000000   \n",
       "50%                              3.000000  ...                4.000000   \n",
       "75%                              4.000000  ...                4.000000   \n",
       "max                              5.000000  ...                5.000000   \n",
       "\n",
       "        On-board service  Leg room service  Baggage handling  Checkin service  \\\n",
       "count      103904.000000     103904.000000     103904.000000    103904.000000   \n",
       "unique               NaN               NaN               NaN              NaN   \n",
       "top                  NaN               NaN               NaN              NaN   \n",
       "freq                 NaN               NaN               NaN              NaN   \n",
       "mean            3.382363          3.351055          3.631833         3.304290   \n",
       "std             1.288354          1.315605          1.180903         1.265396   \n",
       "min             0.000000          0.000000          1.000000         0.000000   \n",
       "25%             2.000000          2.000000          3.000000         3.000000   \n",
       "50%             4.000000          4.000000          4.000000         3.000000   \n",
       "75%             4.000000          4.000000          5.000000         4.000000   \n",
       "max             5.000000          5.000000          5.000000         5.000000   \n",
       "\n",
       "        Inflight service    Cleanliness  Departure Delay in Minutes  \\\n",
       "count      103904.000000  103904.000000               103904.000000   \n",
       "unique               NaN            NaN                         NaN   \n",
       "top                  NaN            NaN                         NaN   \n",
       "freq                 NaN            NaN                         NaN   \n",
       "mean            3.640428       3.286351                   14.815618   \n",
       "std             1.175663       1.312273                   38.230901   \n",
       "min             0.000000       0.000000                    0.000000   \n",
       "25%             3.000000       2.000000                    0.000000   \n",
       "50%             4.000000       3.000000                    0.000000   \n",
       "75%             5.000000       4.000000                   12.000000   \n",
       "max             5.000000       5.000000                 1592.000000   \n",
       "\n",
       "        Arrival Delay in Minutes             satisfaction  \n",
       "count              103594.000000                   103904  \n",
       "unique                       NaN                        2  \n",
       "top                          NaN  neutral or dissatisfied  \n",
       "freq                         NaN                    58879  \n",
       "mean                   15.178678                      NaN  \n",
       "std                    38.698682                      NaN  \n",
       "min                     0.000000                      NaN  \n",
       "25%                     0.000000                      NaN  \n",
       "50%                     0.000000                      NaN  \n",
       "75%                    13.000000                      NaN  \n",
       "max                  1584.000000                      NaN  \n",
       "\n",
       "[11 rows x 25 columns]"
      ]
     },
     "execution_count": 3,
     "metadata": {},
     "output_type": "execute_result"
    }
   ],
   "source": [
    "df.describe(include = 'all')"
   ]
  },
  {
   "cell_type": "code",
   "execution_count": 4,
   "id": "a7e902e9",
   "metadata": {
    "execution": {
     "iopub.execute_input": "2022-05-25T11:51:10.808741Z",
     "iopub.status.busy": "2022-05-25T11:51:10.808208Z",
     "iopub.status.idle": "2022-05-25T11:51:10.816406Z",
     "shell.execute_reply": "2022-05-25T11:51:10.815253Z"
    },
    "papermill": {
     "duration": 0.041437,
     "end_time": "2022-05-25T11:51:10.818477",
     "exception": false,
     "start_time": "2022-05-25T11:51:10.777040",
     "status": "completed"
    },
    "tags": []
   },
   "outputs": [
    {
     "name": "stdout",
     "output_type": "stream",
     "text": [
      "The dataset columns are: \n",
      "Index(['Unnamed: 0', 'id', 'Gender', 'Customer Type', 'Age', 'Type of Travel',\n",
      "       'Class', 'Flight Distance', 'Inflight wifi service',\n",
      "       'Departure/Arrival time convenient', 'Ease of Online booking',\n",
      "       'Gate location', 'Food and drink', 'Online boarding', 'Seat comfort',\n",
      "       'Inflight entertainment', 'On-board service', 'Leg room service',\n",
      "       'Baggage handling', 'Checkin service', 'Inflight service',\n",
      "       'Cleanliness', 'Departure Delay in Minutes', 'Arrival Delay in Minutes',\n",
      "       'satisfaction'],\n",
      "      dtype='object')\n",
      "\n",
      "The datatypes are : Unnamed: 0                             int64\n",
      "id                                     int64\n",
      "Gender                                object\n",
      "Customer Type                         object\n",
      "Age                                    int64\n",
      "Type of Travel                        object\n",
      "Class                                 object\n",
      "Flight Distance                        int64\n",
      "Inflight wifi service                  int64\n",
      "Departure/Arrival time convenient      int64\n",
      "Ease of Online booking                 int64\n",
      "Gate location                          int64\n",
      "Food and drink                         int64\n",
      "Online boarding                        int64\n",
      "Seat comfort                           int64\n",
      "Inflight entertainment                 int64\n",
      "On-board service                       int64\n",
      "Leg room service                       int64\n",
      "Baggage handling                       int64\n",
      "Checkin service                        int64\n",
      "Inflight service                       int64\n",
      "Cleanliness                            int64\n",
      "Departure Delay in Minutes             int64\n",
      "Arrival Delay in Minutes             float64\n",
      "satisfaction                          object\n",
      "dtype: object\n",
      "\n",
      "The size of Training dataset is: (103904, 25)\n"
     ]
    }
   ],
   "source": [
    "print(\"The dataset columns are: \")\n",
    "print(df.columns)\n",
    "print(f\"\\nThe datatypes are : {df.dtypes}\")\n",
    "print(f\"\\nThe size of Training dataset is: {df.shape}\")"
   ]
  },
  {
   "cell_type": "markdown",
   "id": "cff6e68e",
   "metadata": {
    "papermill": {
     "duration": 0.031719,
     "end_time": "2022-05-25T11:51:10.880468",
     "exception": false,
     "start_time": "2022-05-25T11:51:10.848749",
     "status": "completed"
    },
    "tags": []
   },
   "source": [
    "#### Preprocessing the data"
   ]
  },
  {
   "cell_type": "code",
   "execution_count": 5,
   "id": "92590dd2",
   "metadata": {
    "execution": {
     "iopub.execute_input": "2022-05-25T11:51:10.943610Z",
     "iopub.status.busy": "2022-05-25T11:51:10.943316Z",
     "iopub.status.idle": "2022-05-25T11:51:10.966898Z",
     "shell.execute_reply": "2022-05-25T11:51:10.966094Z"
    },
    "papermill": {
     "duration": 0.057322,
     "end_time": "2022-05-25T11:51:10.968762",
     "exception": false,
     "start_time": "2022-05-25T11:51:10.911440",
     "status": "completed"
    },
    "tags": []
   },
   "outputs": [
    {
     "data": {
      "text/plain": [
       "neutral or dissatisfied    58879\n",
       "satisfied                  45025\n",
       "Name: satisfaction, dtype: int64"
      ]
     },
     "execution_count": 5,
     "metadata": {},
     "output_type": "execute_result"
    }
   ],
   "source": [
    "df[\"satisfaction\"].value_counts()"
   ]
  },
  {
   "cell_type": "code",
   "execution_count": 6,
   "id": "9b374848",
   "metadata": {
    "execution": {
     "iopub.execute_input": "2022-05-25T11:51:11.032065Z",
     "iopub.status.busy": "2022-05-25T11:51:11.031403Z",
     "iopub.status.idle": "2022-05-25T11:51:11.034855Z",
     "shell.execute_reply": "2022-05-25T11:51:11.034263Z"
    },
    "papermill": {
     "duration": 0.037024,
     "end_time": "2022-05-25T11:51:11.036626",
     "exception": false,
     "start_time": "2022-05-25T11:51:10.999602",
     "status": "completed"
    },
    "tags": []
   },
   "outputs": [],
   "source": [
    "#Loading files to new environment\n",
    "#le_encode = joblib.load(\"../input/airline-passenger-satisfaction-level-decisiontrees/class_label_encoder.joblib\")\n",
    "#le_encode"
   ]
  },
  {
   "cell_type": "code",
   "execution_count": 7,
   "id": "c8bffef3",
   "metadata": {
    "execution": {
     "iopub.execute_input": "2022-05-25T11:51:11.099490Z",
     "iopub.status.busy": "2022-05-25T11:51:11.098955Z",
     "iopub.status.idle": "2022-05-25T11:51:11.101993Z",
     "shell.execute_reply": "2022-05-25T11:51:11.101408Z"
    },
    "papermill": {
     "duration": 0.036567,
     "end_time": "2022-05-25T11:51:11.103767",
     "exception": false,
     "start_time": "2022-05-25T11:51:11.067200",
     "status": "completed"
    },
    "tags": []
   },
   "outputs": [],
   "source": [
    "#df.satisfaction[:5]"
   ]
  },
  {
   "cell_type": "code",
   "execution_count": 8,
   "id": "ad4890ca",
   "metadata": {
    "execution": {
     "iopub.execute_input": "2022-05-25T11:51:11.167038Z",
     "iopub.status.busy": "2022-05-25T11:51:11.166508Z",
     "iopub.status.idle": "2022-05-25T11:51:11.204217Z",
     "shell.execute_reply": "2022-05-25T11:51:11.203617Z"
    },
    "papermill": {
     "duration": 0.072542,
     "end_time": "2022-05-25T11:51:11.206990",
     "exception": false,
     "start_time": "2022-05-25T11:51:11.134448",
     "status": "completed"
    },
    "tags": []
   },
   "outputs": [
    {
     "name": "stdout",
     "output_type": "stream",
     "text": [
      "['neutral or dissatisfied' 'satisfied']\n",
      "[0 0 1 ... 0 0 0]\n"
     ]
    }
   ],
   "source": [
    "##Encoding/Transforming class/categorical variables to integers which will be provided to the model\n",
    "le = LabelEncoder()\n",
    "le_encoded = le.fit_transform(df['satisfaction'])\n",
    "print(le.classes_)\n",
    "print(le_encoded)"
   ]
  },
  {
   "cell_type": "code",
   "execution_count": 9,
   "id": "ac857ae0",
   "metadata": {
    "execution": {
     "iopub.execute_input": "2022-05-25T11:51:11.271260Z",
     "iopub.status.busy": "2022-05-25T11:51:11.270959Z",
     "iopub.status.idle": "2022-05-25T11:51:11.283036Z",
     "shell.execute_reply": "2022-05-25T11:51:11.282147Z"
    },
    "papermill": {
     "duration": 0.046908,
     "end_time": "2022-05-25T11:51:11.285800",
     "exception": false,
     "start_time": "2022-05-25T11:51:11.238892",
     "status": "completed"
    },
    "tags": []
   },
   "outputs": [
    {
     "name": "stdout",
     "output_type": "stream",
     "text": [
      "Features for training data are: Index(['Gender', 'Customer Type', 'Age', 'Type of Travel', 'Class',\n",
      "       'Flight Distance', 'Inflight wifi service',\n",
      "       'Departure/Arrival time convenient', 'Ease of Online booking',\n",
      "       'Gate location', 'Food and drink', 'Online boarding', 'Seat comfort',\n",
      "       'Inflight entertainment', 'On-board service', 'Leg room service',\n",
      "       'Baggage handling', 'Checkin service', 'Inflight service',\n",
      "       'Cleanliness', 'Departure Delay in Minutes',\n",
      "       'Arrival Delay in Minutes'],\n",
      "      dtype='object')\n"
     ]
    }
   ],
   "source": [
    "#Keeping relevant features in the dataframe\n",
    "df_feat = df.iloc[0:, 2:df.shape[1]-1]  #dropping 'Unnamed: 0', 'id',satisfaction\n",
    "#df.shape[1] : number of columns in dataframe and 2: df.shape[1][-1] :: All columns from col with 2nd index upto last column\n",
    "print(f\"Features for training data are: {df_feat.columns}\")"
   ]
  },
  {
   "cell_type": "code",
   "execution_count": 10,
   "id": "dbdb3c77",
   "metadata": {
    "execution": {
     "iopub.execute_input": "2022-05-25T11:51:11.351137Z",
     "iopub.status.busy": "2022-05-25T11:51:11.350832Z",
     "iopub.status.idle": "2022-05-25T11:51:11.388262Z",
     "shell.execute_reply": "2022-05-25T11:51:11.387068Z"
    },
    "papermill": {
     "duration": 0.072577,
     "end_time": "2022-05-25T11:51:11.390504",
     "exception": false,
     "start_time": "2022-05-25T11:51:11.317927",
     "status": "completed"
    },
    "tags": []
   },
   "outputs": [
    {
     "name": "stdout",
     "output_type": "stream",
     "text": [
      "Shape of Input Training Dataset: (93513, 22)\n",
      "Shape of Input Test Dataset: (10391, 22)\n",
      "Shape of Target Training Dataset: (93513,)\n",
      "Shape of Target Test Dataset: (10391,)\n"
     ]
    }
   ],
   "source": [
    "#Splitting the dataset into training and test dataset\n",
    "x_train, x_test, y_train, y_test = train_test_split(df_feat,le_encoded,\n",
    "                                                   test_size = 0.1,\n",
    "                                                   random_state = 41)\n",
    "#we can consider entire data as training data instead of splitting as we have seperate test data \n",
    "\n",
    "print(f\"Shape of Input Training Dataset: {x_train.shape}\")\n",
    "print(f\"Shape of Input Test Dataset: {x_test.shape}\")\n",
    "print(f\"Shape of Target Training Dataset: {y_train.shape}\")\n",
    "print(f\"Shape of Target Test Dataset: {y_test.shape}\")"
   ]
  },
  {
   "cell_type": "markdown",
   "id": "e54c711c",
   "metadata": {
    "papermill": {
     "duration": 0.031491,
     "end_time": "2022-05-25T11:51:11.454133",
     "exception": false,
     "start_time": "2022-05-25T11:51:11.422642",
     "status": "completed"
    },
    "tags": []
   },
   "source": [
    "#### Preprocessing pipelines for Continuous and Categorical Features"
   ]
  },
  {
   "cell_type": "markdown",
   "id": "ded8fae9",
   "metadata": {
    "papermill": {
     "duration": 0.03135,
     "end_time": "2022-05-25T11:51:11.517631",
     "exception": false,
     "start_time": "2022-05-25T11:51:11.486281",
     "status": "completed"
    },
    "tags": []
   },
   "source": [
    "* **List Comprehensions:** A pythonic way of writing **for** loops "
   ]
  },
  {
   "cell_type": "code",
   "execution_count": 11,
   "id": "e847dea4",
   "metadata": {
    "execution": {
     "iopub.execute_input": "2022-05-25T11:51:11.582761Z",
     "iopub.status.busy": "2022-05-25T11:51:11.582264Z",
     "iopub.status.idle": "2022-05-25T11:51:11.587562Z",
     "shell.execute_reply": "2022-05-25T11:51:11.587004Z"
    },
    "papermill": {
     "duration": 0.040154,
     "end_time": "2022-05-25T11:51:11.589453",
     "exception": false,
     "start_time": "2022-05-25T11:51:11.549299",
     "status": "completed"
    },
    "tags": []
   },
   "outputs": [],
   "source": [
    "#Seperating the categorical and numerical data\n",
    "features = ['Gender', 'Customer Type', 'Age', 'Type of Travel', 'Class',\n",
    "       'Flight Distance', 'Inflight wifi service',\n",
    "       'Departure/Arrival time convenient', 'Ease of Online booking',\n",
    "       'Gate location', 'Food and drink', 'Online boarding', 'Seat comfort',\n",
    "       'Inflight entertainment', 'On-board service', 'Leg room service',\n",
    "       'Baggage handling', 'Checkin service', 'Inflight service',\n",
    "       'Cleanliness', 'Departure Delay in Minutes',\n",
    "       'Arrival Delay in Minutes']\n",
    "\n",
    "categorical_features = ['Gender', 'Customer Type', 'Type of Travel', 'Class',]\n",
    "numerical_features = [feature for feature in features if feature not in categorical_features]"
   ]
  },
  {
   "cell_type": "code",
   "execution_count": 12,
   "id": "feb521c7",
   "metadata": {
    "execution": {
     "iopub.execute_input": "2022-05-25T11:51:11.654960Z",
     "iopub.status.busy": "2022-05-25T11:51:11.654467Z",
     "iopub.status.idle": "2022-05-25T11:51:11.660978Z",
     "shell.execute_reply": "2022-05-25T11:51:11.660383Z"
    },
    "papermill": {
     "duration": 0.041909,
     "end_time": "2022-05-25T11:51:11.663178",
     "exception": false,
     "start_time": "2022-05-25T11:51:11.621269",
     "status": "completed"
    },
    "tags": []
   },
   "outputs": [],
   "source": [
    "# Preprocessing for numerical data\n",
    "numerical_transformer = Pipeline(steps=[\n",
    "    ('imputer',SimpleImputer(strategy='median')),\n",
    "    ('scaler',StandardScaler())\n",
    "])\n",
    "\n",
    "# Preprocessing for categorical data\n",
    "categorical_transformer = Pipeline(steps=[\n",
    "    ('imputer',SimpleImputer(strategy='most_frequent', fill_value='missing')),\n",
    "    ('encoder',OneHotEncoder(handle_unknown='ignore'))\n",
    "])\n",
    "\n",
    "preprocessor = ColumnTransformer(\n",
    "    transformers=[\n",
    "        ('num',numerical_transformer,numerical_features),\n",
    "        ('cat',categorical_transformer,categorical_features)\n",
    "    ])\n",
    "\n",
    "# Bundle preprocessing and modeling code in a pipeline\n",
    "clf_rf = Pipeline(steps=[\n",
    "    ('preprocessor',preprocessor),\n",
    "    ('classifier',RandomForestClassifier())  # Define model\n",
    "])"
   ]
  },
  {
   "cell_type": "code",
   "execution_count": 13,
   "id": "5d6d4caa",
   "metadata": {
    "execution": {
     "iopub.execute_input": "2022-05-25T11:51:11.730072Z",
     "iopub.status.busy": "2022-05-25T11:51:11.729574Z",
     "iopub.status.idle": "2022-05-25T11:51:23.499088Z",
     "shell.execute_reply": "2022-05-25T11:51:23.498283Z"
    },
    "papermill": {
     "duration": 11.80559,
     "end_time": "2022-05-25T11:51:23.501414",
     "exception": false,
     "start_time": "2022-05-25T11:51:11.695824",
     "status": "completed"
    },
    "tags": []
   },
   "outputs": [
    {
     "name": "stdout",
     "output_type": "stream",
     "text": [
      "The score of the Random Forest Classifier model is: 0.964\n"
     ]
    }
   ],
   "source": [
    "# Preprocessing of training data, fit model \n",
    "clf_rf.fit(x_train, y_train)\n",
    "\n",
    "print(f\"The score of the Random Forest Classifier model is: {clf_rf.score(x_test,y_test):0.3f}\")\n",
    "# Preprocessing of validation data, get predictions\n",
    "y_preds = clf_rf.predict(x_test)"
   ]
  },
  {
   "cell_type": "markdown",
   "id": "19c2df6e",
   "metadata": {
    "papermill": {
     "duration": 0.032075,
     "end_time": "2022-05-25T11:51:23.566280",
     "exception": false,
     "start_time": "2022-05-25T11:51:23.534205",
     "status": "completed"
    },
    "tags": []
   },
   "source": [
    "#### Hyperparameter grid Tuning"
   ]
  },
  {
   "cell_type": "code",
   "execution_count": 14,
   "id": "c8ea2412",
   "metadata": {
    "execution": {
     "iopub.execute_input": "2022-05-25T11:51:23.632348Z",
     "iopub.status.busy": "2022-05-25T11:51:23.632079Z",
     "iopub.status.idle": "2022-05-25T12:40:31.898777Z",
     "shell.execute_reply": "2022-05-25T12:40:31.897704Z"
    },
    "papermill": {
     "duration": 2948.337939,
     "end_time": "2022-05-25T12:40:31.936502",
     "exception": false,
     "start_time": "2022-05-25T11:51:23.598563",
     "status": "completed"
    },
    "tags": []
   },
   "outputs": [
    {
     "name": "stdout",
     "output_type": "stream",
     "text": [
      "Fitting 5 folds for each of 64 candidates, totalling 320 fits\n",
      "[CV] END classifier__criterion=gini, classifier__max_depth=6, classifier__n_estimators=200, preprocessor__num__imputer__strategy=mean; total time=  16.4s\n",
      "[CV] END classifier__criterion=gini, classifier__max_depth=6, classifier__n_estimators=200, preprocessor__num__imputer__strategy=mean; total time=  16.7s\n",
      "[CV] END classifier__criterion=gini, classifier__max_depth=6, classifier__n_estimators=200, preprocessor__num__imputer__strategy=median; total time=  17.0s\n",
      "[CV] END classifier__criterion=gini, classifier__max_depth=6, classifier__n_estimators=300, preprocessor__num__imputer__strategy=mean; total time=  24.4s\n",
      "[CV] END classifier__criterion=gini, classifier__max_depth=6, classifier__n_estimators=300, preprocessor__num__imputer__strategy=median; total time=  25.9s\n",
      "[CV] END classifier__criterion=gini, classifier__max_depth=6, classifier__n_estimators=400, preprocessor__num__imputer__strategy=mean; total time=  33.6s\n",
      "[CV] END classifier__criterion=gini, classifier__max_depth=6, classifier__n_estimators=400, preprocessor__num__imputer__strategy=median; total time=  34.3s\n",
      "[CV] END classifier__criterion=gini, classifier__max_depth=6, classifier__n_estimators=400, preprocessor__num__imputer__strategy=median; total time=  33.1s\n",
      "[CV] END classifier__criterion=gini, classifier__max_depth=6, classifier__n_estimators=500, preprocessor__num__imputer__strategy=mean; total time=  40.4s\n",
      "[CV] END classifier__criterion=gini, classifier__max_depth=6, classifier__n_estimators=500, preprocessor__num__imputer__strategy=median; total time=  41.1s\n",
      "[CV] END classifier__criterion=gini, classifier__max_depth=8, classifier__n_estimators=200, preprocessor__num__imputer__strategy=mean; total time=  20.9s\n",
      "[CV] END classifier__criterion=gini, classifier__max_depth=8, classifier__n_estimators=200, preprocessor__num__imputer__strategy=mean; total time=  20.0s\n",
      "[CV] END classifier__criterion=gini, classifier__max_depth=8, classifier__n_estimators=200, preprocessor__num__imputer__strategy=median; total time=  21.3s\n",
      "[CV] END classifier__criterion=gini, classifier__max_depth=8, classifier__n_estimators=300, preprocessor__num__imputer__strategy=mean; total time=  30.2s\n",
      "[CV] END classifier__criterion=gini, classifier__max_depth=8, classifier__n_estimators=300, preprocessor__num__imputer__strategy=median; total time=  30.0s\n",
      "[CV] END classifier__criterion=gini, classifier__max_depth=8, classifier__n_estimators=300, preprocessor__num__imputer__strategy=median; total time=  28.5s\n",
      "[CV] END classifier__criterion=gini, classifier__max_depth=8, classifier__n_estimators=400, preprocessor__num__imputer__strategy=mean; total time=  38.2s\n",
      "[CV] END classifier__criterion=gini, classifier__max_depth=8, classifier__n_estimators=400, preprocessor__num__imputer__strategy=median; total time=  38.5s\n",
      "[CV] END classifier__criterion=gini, classifier__max_depth=8, classifier__n_estimators=500, preprocessor__num__imputer__strategy=mean; total time=  47.4s\n",
      "[CV] END classifier__criterion=gini, classifier__max_depth=8, classifier__n_estimators=500, preprocessor__num__imputer__strategy=mean; total time=  48.9s\n",
      "[CV] END classifier__criterion=gini, classifier__max_depth=8, classifier__n_estimators=500, preprocessor__num__imputer__strategy=median; total time=  47.1s\n",
      "[CV] END classifier__criterion=gini, classifier__max_depth=10, classifier__n_estimators=200, preprocessor__num__imputer__strategy=mean; total time=  22.0s\n",
      "[CV] END classifier__criterion=gini, classifier__max_depth=10, classifier__n_estimators=200, preprocessor__num__imputer__strategy=median; total time=  22.5s\n",
      "[CV] END classifier__criterion=gini, classifier__max_depth=10, classifier__n_estimators=300, preprocessor__num__imputer__strategy=mean; total time=  32.9s\n",
      "[CV] END classifier__criterion=gini, classifier__max_depth=10, classifier__n_estimators=300, preprocessor__num__imputer__strategy=median; total time=  33.4s\n",
      "[CV] END classifier__criterion=gini, classifier__max_depth=10, classifier__n_estimators=400, preprocessor__num__imputer__strategy=mean; total time=  42.8s\n",
      "[CV] END classifier__criterion=gini, classifier__max_depth=10, classifier__n_estimators=400, preprocessor__num__imputer__strategy=mean; total time=  44.3s\n",
      "[CV] END classifier__criterion=gini, classifier__max_depth=10, classifier__n_estimators=400, preprocessor__num__imputer__strategy=median; total time=  43.9s\n",
      "[CV] END classifier__criterion=gini, classifier__max_depth=10, classifier__n_estimators=500, preprocessor__num__imputer__strategy=mean; total time=  55.9s\n",
      "[CV] END classifier__criterion=gini, classifier__max_depth=10, classifier__n_estimators=500, preprocessor__num__imputer__strategy=median; total time=  56.4s\n",
      "[CV] END classifier__criterion=gini, classifier__max_depth=12, classifier__n_estimators=200, preprocessor__num__imputer__strategy=mean; total time=  24.5s\n",
      "[CV] END classifier__criterion=gini, classifier__max_depth=12, classifier__n_estimators=200, preprocessor__num__imputer__strategy=mean; total time=  24.9s\n",
      "[CV] END classifier__criterion=gini, classifier__max_depth=12, classifier__n_estimators=200, preprocessor__num__imputer__strategy=median; total time=  24.8s\n",
      "[CV] END classifier__criterion=gini, classifier__max_depth=12, classifier__n_estimators=300, preprocessor__num__imputer__strategy=mean; total time=  36.1s\n",
      "[CV] END classifier__criterion=gini, classifier__max_depth=12, classifier__n_estimators=300, preprocessor__num__imputer__strategy=mean; total time=  36.2s\n",
      "[CV] END classifier__criterion=gini, classifier__max_depth=12, classifier__n_estimators=300, preprocessor__num__imputer__strategy=median; total time=  37.2s\n",
      "[CV] END classifier__criterion=gini, classifier__max_depth=12, classifier__n_estimators=400, preprocessor__num__imputer__strategy=mean; total time=  47.7s\n",
      "[CV] END classifier__criterion=gini, classifier__max_depth=12, classifier__n_estimators=400, preprocessor__num__imputer__strategy=median; total time=  47.9s\n",
      "[CV] END classifier__criterion=gini, classifier__max_depth=12, classifier__n_estimators=500, preprocessor__num__imputer__strategy=mean; total time= 1.0min\n",
      "[CV] END classifier__criterion=gini, classifier__max_depth=12, classifier__n_estimators=500, preprocessor__num__imputer__strategy=mean; total time=  59.7s\n",
      "[CV] END classifier__criterion=gini, classifier__max_depth=12, classifier__n_estimators=500, preprocessor__num__imputer__strategy=median; total time=  60.0s\n",
      "[CV] END classifier__criterion=entropy, classifier__max_depth=6, classifier__n_estimators=200, preprocessor__num__imputer__strategy=mean; total time=  17.1s\n",
      "[CV] END classifier__criterion=entropy, classifier__max_depth=6, classifier__n_estimators=200, preprocessor__num__imputer__strategy=median; total time=  17.2s\n",
      "[CV] END classifier__criterion=entropy, classifier__max_depth=6, classifier__n_estimators=300, preprocessor__num__imputer__strategy=mean; total time=  26.0s\n",
      "[CV] END classifier__criterion=entropy, classifier__max_depth=6, classifier__n_estimators=300, preprocessor__num__imputer__strategy=median; total time=  25.9s\n",
      "[CV] END classifier__criterion=entropy, classifier__max_depth=6, classifier__n_estimators=400, preprocessor__num__imputer__strategy=mean; total time=  34.4s\n",
      "[CV] END classifier__criterion=entropy, classifier__max_depth=6, classifier__n_estimators=400, preprocessor__num__imputer__strategy=median; total time=  33.8s\n",
      "[CV] END classifier__criterion=entropy, classifier__max_depth=6, classifier__n_estimators=400, preprocessor__num__imputer__strategy=median; total time=  33.8s\n",
      "[CV] END classifier__criterion=entropy, classifier__max_depth=6, classifier__n_estimators=500, preprocessor__num__imputer__strategy=mean; total time=  41.4s\n",
      "[CV] END classifier__criterion=entropy, classifier__max_depth=6, classifier__n_estimators=500, preprocessor__num__imputer__strategy=median; total time=  42.2s\n",
      "[CV] END classifier__criterion=entropy, classifier__max_depth=8, classifier__n_estimators=200, preprocessor__num__imputer__strategy=mean; total time=  19.6s\n",
      "[CV] END classifier__criterion=entropy, classifier__max_depth=8, classifier__n_estimators=200, preprocessor__num__imputer__strategy=mean; total time=  19.9s\n",
      "[CV] END classifier__criterion=entropy, classifier__max_depth=8, classifier__n_estimators=200, preprocessor__num__imputer__strategy=median; total time=  19.8s[CV] END classifier__criterion=gini, classifier__max_depth=6, classifier__n_estimators=200, preprocessor__num__imputer__strategy=mean; total time=  16.5s\n",
      "[CV] END classifier__criterion=gini, classifier__max_depth=6, classifier__n_estimators=200, preprocessor__num__imputer__strategy=median; total time=  16.9s\n",
      "[CV] END classifier__criterion=gini, classifier__max_depth=6, classifier__n_estimators=200, preprocessor__num__imputer__strategy=median; total time=  16.9s\n",
      "[CV] END classifier__criterion=gini, classifier__max_depth=6, classifier__n_estimators=300, preprocessor__num__imputer__strategy=mean; total time=  24.8s\n",
      "[CV] END classifier__criterion=gini, classifier__max_depth=6, classifier__n_estimators=300, preprocessor__num__imputer__strategy=median; total time=  24.8s\n",
      "[CV] END classifier__criterion=gini, classifier__max_depth=6, classifier__n_estimators=400, preprocessor__num__imputer__strategy=mean; total time=  33.8s\n",
      "[CV] END classifier__criterion=gini, classifier__max_depth=6, classifier__n_estimators=400, preprocessor__num__imputer__strategy=mean; total time=  34.9s\n",
      "[CV] END classifier__criterion=gini, classifier__max_depth=6, classifier__n_estimators=400, preprocessor__num__imputer__strategy=median; total time=  33.8s\n",
      "[CV] END classifier__criterion=gini, classifier__max_depth=6, classifier__n_estimators=500, preprocessor__num__imputer__strategy=mean; total time=  43.0s\n",
      "[CV] END classifier__criterion=gini, classifier__max_depth=6, classifier__n_estimators=500, preprocessor__num__imputer__strategy=median; total time=  41.2s\n",
      "[CV] END classifier__criterion=gini, classifier__max_depth=8, classifier__n_estimators=200, preprocessor__num__imputer__strategy=mean; total time=  20.9s\n",
      "[CV] END classifier__criterion=gini, classifier__max_depth=8, classifier__n_estimators=200, preprocessor__num__imputer__strategy=median; total time=  20.6s\n",
      "[CV] END classifier__criterion=gini, classifier__max_depth=8, classifier__n_estimators=200, preprocessor__num__imputer__strategy=median; total time=  21.0s\n",
      "[CV] END classifier__criterion=gini, classifier__max_depth=8, classifier__n_estimators=300, preprocessor__num__imputer__strategy=mean; total time=  29.8s\n",
      "[CV] END classifier__criterion=gini, classifier__max_depth=8, classifier__n_estimators=300, preprocessor__num__imputer__strategy=median; total time=  30.2s\n",
      "[CV] END classifier__criterion=gini, classifier__max_depth=8, classifier__n_estimators=400, preprocessor__num__imputer__strategy=mean; total time=  38.0s\n",
      "[CV] END classifier__criterion=gini, classifier__max_depth=8, classifier__n_estimators=400, preprocessor__num__imputer__strategy=median; total time=  38.2s\n",
      "[CV] END classifier__criterion=gini, classifier__max_depth=8, classifier__n_estimators=400, preprocessor__num__imputer__strategy=median; total time=  40.1s\n",
      "[CV] END classifier__criterion=gini, classifier__max_depth=8, classifier__n_estimators=500, preprocessor__num__imputer__strategy=mean; total time=  49.8s\n",
      "[CV] END classifier__criterion=gini, classifier__max_depth=8, classifier__n_estimators=500, preprocessor__num__imputer__strategy=median; total time=  49.9s\n",
      "[CV] END classifier__criterion=gini, classifier__max_depth=10, classifier__n_estimators=200, preprocessor__num__imputer__strategy=mean; total time=  22.1s\n",
      "[CV] END classifier__criterion=gini, classifier__max_depth=10, classifier__n_estimators=200, preprocessor__num__imputer__strategy=mean; total time=  23.1s\n",
      "[CV] END classifier__criterion=gini, classifier__max_depth=10, classifier__n_estimators=200, preprocessor__num__imputer__strategy=median; total time=  23.4s\n",
      "[CV] END classifier__criterion=gini, classifier__max_depth=10, classifier__n_estimators=300, preprocessor__num__imputer__strategy=mean; total time=  33.4s\n",
      "[CV] END classifier__criterion=gini, classifier__max_depth=10, classifier__n_estimators=300, preprocessor__num__imputer__strategy=median; total time=  33.5s\n",
      "[CV] END classifier__criterion=gini, classifier__max_depth=10, classifier__n_estimators=300, preprocessor__num__imputer__strategy=median; total time=  33.0s\n",
      "[CV] END classifier__criterion=gini, classifier__max_depth=10, classifier__n_estimators=400, preprocessor__num__imputer__strategy=mean; total time=  43.1s\n",
      "[CV] END classifier__criterion=gini, classifier__max_depth=10, classifier__n_estimators=400, preprocessor__num__imputer__strategy=median; total time=  44.8s\n",
      "[CV] END classifier__criterion=gini, classifier__max_depth=10, classifier__n_estimators=500, preprocessor__num__imputer__strategy=mean; total time=  55.3s\n",
      "[CV] END classifier__criterion=gini, classifier__max_depth=10, classifier__n_estimators=500, preprocessor__num__imputer__strategy=median; total time=  57.3s\n",
      "[CV] END classifier__criterion=gini, classifier__max_depth=10, classifier__n_estimators=500, preprocessor__num__imputer__strategy=median; total time=  56.1s\n",
      "[CV] END classifier__criterion=gini, classifier__max_depth=12, classifier__n_estimators=200, preprocessor__num__imputer__strategy=median; total time=  24.5s\n",
      "[CV] END classifier__criterion=gini, classifier__max_depth=12, classifier__n_estimators=200, preprocessor__num__imputer__strategy=median; total time=  25.0s\n",
      "[CV] END classifier__criterion=gini, classifier__max_depth=12, classifier__n_estimators=300, preprocessor__num__imputer__strategy=mean; total time=  37.4s\n",
      "[CV] END classifier__criterion=gini, classifier__max_depth=12, classifier__n_estimators=300, preprocessor__num__imputer__strategy=median; total time=  36.3s\n",
      "[CV] END classifier__criterion=gini, classifier__max_depth=12, classifier__n_estimators=400, preprocessor__num__imputer__strategy=mean; total time=  47.5s\n",
      "[CV] END classifier__criterion=gini, classifier__max_depth=12, classifier__n_estimators=400, preprocessor__num__imputer__strategy=median; total time=  48.2s\n",
      "[CV] END classifier__criterion=gini, classifier__max_depth=12, classifier__n_estimators=400, preprocessor__num__imputer__strategy=median; total time=  48.7s\n",
      "[CV] END classifier__criterion=gini, classifier__max_depth=12, classifier__n_estimators=500, preprocessor__num__imputer__strategy=mean; total time= 1.0min\n",
      "[CV] END classifier__criterion=gini, classifier__max_depth=12, classifier__n_estimators=500, preprocessor__num__imputer__strategy=median; total time=  59.5s\n",
      "[CV] END classifier__criterion=entropy, classifier__max_depth=6, classifier__n_estimators=200, preprocessor__num__imputer__strategy=mean; total time=  16.8s\n",
      "[CV] END classifier__criterion=entropy, classifier__max_depth=6, classifier__n_estimators=200, preprocessor__num__imputer__strategy=mean; total time=  17.0s\n",
      "[CV] END classifier__criterion=entropy, classifier__max_depth=6, classifier__n_estimators=200, preprocessor__num__imputer__strategy=median; total time=  17.7s\n",
      "[CV] END classifier__criterion=entropy, classifier__max_depth=6, classifier__n_estimators=300, preprocessor__num__imputer__strategy=mean; total time=  26.6s\n",
      "[CV] END classifier__criterion=entropy, classifier__max_depth=6, classifier__n_estimators=300, preprocessor__num__imputer__strategy=median; total time=  25.6s\n",
      "[CV] END classifier__criterion=entropy, classifier__max_depth=6, classifier__n_estimators=300, preprocessor__num__imputer__strategy=median; total time=  26.4s\n",
      "[CV] END classifier__criterion=entropy, classifier__max_depth=6, classifier__n_estimators=400, preprocessor__num__imputer__strategy=mean; total time=  33.4s\n",
      "[CV] END classifier__criterion=entropy, classifier__max_depth=6, classifier__n_estimators=400, preprocessor__num__imputer__strategy=median; total time=  33.6s\n",
      "[CV] END classifier__criterion=entropy, classifier__max_depth=6, classifier__n_estimators=500, preprocessor__num__imputer__strategy=mean; total time=  42.5s\n",
      "[CV] END classifier__criterion=entropy, classifier__max_depth=6, classifier__n_estimators=500, preprocessor__num__imputer__strategy=median; total time=  41.9s\n",
      "[CV] END classifier__criterion=entropy, classifier__max_depth=6, classifier__n_estimators=500, preprocessor__num__imputer__strategy=median; total time=  42.5s\n",
      "[CV] END classifier__criterion=entropy, classifier__max_depth=8, classifier__n_estimators=200, preprocessor__num__imputer__strategy=median; total time=  20.1s\n",
      "[CV] END classifier__criterion=entropy, classifier__max_depth=8, classifier__n_estimators=200, preprocessor__num__imputer__strategy=median; total time=  20.3s[CV] END classifier__criterion=gini, classifier__max_depth=6, classifier__n_estimators=200, preprocessor__num__imputer__strategy=mean; total time=  16.7s\n",
      "[CV] END classifier__criterion=gini, classifier__max_depth=6, classifier__n_estimators=200, preprocessor__num__imputer__strategy=median; total time=  16.8s\n",
      "[CV] END classifier__criterion=gini, classifier__max_depth=6, classifier__n_estimators=300, preprocessor__num__imputer__strategy=mean; total time=  24.3s\n",
      "[CV] END classifier__criterion=gini, classifier__max_depth=6, classifier__n_estimators=300, preprocessor__num__imputer__strategy=mean; total time=  25.2s\n",
      "[CV] END classifier__criterion=gini, classifier__max_depth=6, classifier__n_estimators=300, preprocessor__num__imputer__strategy=median; total time=  25.7s\n",
      "[CV] END classifier__criterion=gini, classifier__max_depth=6, classifier__n_estimators=400, preprocessor__num__imputer__strategy=mean; total time=  33.3s\n",
      "[CV] END classifier__criterion=gini, classifier__max_depth=6, classifier__n_estimators=400, preprocessor__num__imputer__strategy=median; total time=  33.6s\n",
      "[CV] END classifier__criterion=gini, classifier__max_depth=6, classifier__n_estimators=500, preprocessor__num__imputer__strategy=mean; total time=  41.7s\n",
      "[CV] END classifier__criterion=gini, classifier__max_depth=6, classifier__n_estimators=500, preprocessor__num__imputer__strategy=mean; total time=  42.7s\n",
      "[CV] END classifier__criterion=gini, classifier__max_depth=6, classifier__n_estimators=500, preprocessor__num__imputer__strategy=median; total time=  42.4s\n",
      "[CV] END classifier__criterion=gini, classifier__max_depth=8, classifier__n_estimators=200, preprocessor__num__imputer__strategy=mean; total time=  19.6s\n",
      "[CV] END classifier__criterion=gini, classifier__max_depth=8, classifier__n_estimators=200, preprocessor__num__imputer__strategy=median; total time=  20.9s\n",
      "[CV] END classifier__criterion=gini, classifier__max_depth=8, classifier__n_estimators=300, preprocessor__num__imputer__strategy=mean; total time=  30.7s\n",
      "[CV] END classifier__criterion=gini, classifier__max_depth=8, classifier__n_estimators=300, preprocessor__num__imputer__strategy=mean; total time=  29.5s\n",
      "[CV] END classifier__criterion=gini, classifier__max_depth=8, classifier__n_estimators=300, preprocessor__num__imputer__strategy=median; total time=  30.2s\n",
      "[CV] END classifier__criterion=gini, classifier__max_depth=8, classifier__n_estimators=400, preprocessor__num__imputer__strategy=mean; total time=  38.3s\n",
      "[CV] END classifier__criterion=gini, classifier__max_depth=8, classifier__n_estimators=400, preprocessor__num__imputer__strategy=median; total time=  39.1s\n",
      "[CV] END classifier__criterion=gini, classifier__max_depth=8, classifier__n_estimators=500, preprocessor__num__imputer__strategy=mean; total time=  48.0s\n",
      "[CV] END classifier__criterion=gini, classifier__max_depth=8, classifier__n_estimators=500, preprocessor__num__imputer__strategy=median; total time=  48.5s\n",
      "[CV] END classifier__criterion=gini, classifier__max_depth=8, classifier__n_estimators=500, preprocessor__num__imputer__strategy=median; total time=  47.8s\n",
      "[CV] END classifier__criterion=gini, classifier__max_depth=10, classifier__n_estimators=200, preprocessor__num__imputer__strategy=median; total time=  22.5s\n",
      "[CV] END classifier__criterion=gini, classifier__max_depth=10, classifier__n_estimators=200, preprocessor__num__imputer__strategy=median; total time=  22.2s\n",
      "[CV] END classifier__criterion=gini, classifier__max_depth=10, classifier__n_estimators=300, preprocessor__num__imputer__strategy=mean; total time=  33.5s\n",
      "[CV] END classifier__criterion=gini, classifier__max_depth=10, classifier__n_estimators=300, preprocessor__num__imputer__strategy=median; total time=  33.3s\n",
      "[CV] END classifier__criterion=gini, classifier__max_depth=10, classifier__n_estimators=400, preprocessor__num__imputer__strategy=mean; total time=  43.5s\n",
      "[CV] END classifier__criterion=gini, classifier__max_depth=10, classifier__n_estimators=400, preprocessor__num__imputer__strategy=median; total time=  43.6s\n",
      "[CV] END classifier__criterion=gini, classifier__max_depth=10, classifier__n_estimators=400, preprocessor__num__imputer__strategy=median; total time=  43.9s\n",
      "[CV] END classifier__criterion=gini, classifier__max_depth=10, classifier__n_estimators=500, preprocessor__num__imputer__strategy=mean; total time=  55.6s\n",
      "[CV] END classifier__criterion=gini, classifier__max_depth=10, classifier__n_estimators=500, preprocessor__num__imputer__strategy=median; total time=  56.5s\n",
      "[CV] END classifier__criterion=gini, classifier__max_depth=12, classifier__n_estimators=200, preprocessor__num__imputer__strategy=mean; total time=  24.3s\n",
      "[CV] END classifier__criterion=gini, classifier__max_depth=12, classifier__n_estimators=200, preprocessor__num__imputer__strategy=mean; total time=  24.7s\n",
      "[CV] END classifier__criterion=gini, classifier__max_depth=12, classifier__n_estimators=200, preprocessor__num__imputer__strategy=median; total time=  25.2s\n",
      "[CV] END classifier__criterion=gini, classifier__max_depth=12, classifier__n_estimators=300, preprocessor__num__imputer__strategy=mean; total time=  36.4s\n",
      "[CV] END classifier__criterion=gini, classifier__max_depth=12, classifier__n_estimators=300, preprocessor__num__imputer__strategy=median; total time=  37.5s\n",
      "[CV] END classifier__criterion=gini, classifier__max_depth=12, classifier__n_estimators=300, preprocessor__num__imputer__strategy=median; total time=  36.8s\n",
      "[CV] END classifier__criterion=gini, classifier__max_depth=12, classifier__n_estimators=400, preprocessor__num__imputer__strategy=mean; total time=  47.8s\n",
      "[CV] END classifier__criterion=gini, classifier__max_depth=12, classifier__n_estimators=400, preprocessor__num__imputer__strategy=median; total time=  47.6s\n",
      "[CV] END classifier__criterion=gini, classifier__max_depth=12, classifier__n_estimators=500, preprocessor__num__imputer__strategy=mean; total time=  59.1s\n",
      "[CV] END classifier__criterion=gini, classifier__max_depth=12, classifier__n_estimators=500, preprocessor__num__imputer__strategy=median; total time=  59.4s\n",
      "[CV] END classifier__criterion=gini, classifier__max_depth=12, classifier__n_estimators=500, preprocessor__num__imputer__strategy=median; total time=  59.8s\n",
      "[CV] END classifier__criterion=entropy, classifier__max_depth=6, classifier__n_estimators=200, preprocessor__num__imputer__strategy=median; total time=  17.0s\n",
      "[CV] END classifier__criterion=entropy, classifier__max_depth=6, classifier__n_estimators=200, preprocessor__num__imputer__strategy=median; total time=  17.4s\n",
      "[CV] END classifier__criterion=entropy, classifier__max_depth=6, classifier__n_estimators=300, preprocessor__num__imputer__strategy=mean; total time=  25.1s\n",
      "[CV] END classifier__criterion=entropy, classifier__max_depth=6, classifier__n_estimators=300, preprocessor__num__imputer__strategy=median; total time=  25.2s\n",
      "[CV] END classifier__criterion=entropy, classifier__max_depth=6, classifier__n_estimators=400, preprocessor__num__imputer__strategy=mean; total time=  34.1s\n",
      "[CV] END classifier__criterion=entropy, classifier__max_depth=6, classifier__n_estimators=400, preprocessor__num__imputer__strategy=mean; total time=  33.2s\n",
      "[CV] END classifier__criterion=entropy, classifier__max_depth=6, classifier__n_estimators=400, preprocessor__num__imputer__strategy=median; total time=  33.4s\n",
      "[CV] END classifier__criterion=entropy, classifier__max_depth=6, classifier__n_estimators=500, preprocessor__num__imputer__strategy=mean; total time=  40.9s\n",
      "[CV] END classifier__criterion=entropy, classifier__max_depth=6, classifier__n_estimators=500, preprocessor__num__imputer__strategy=median; total time=  41.3s\n",
      "[CV] END classifier__criterion=entropy, classifier__max_depth=8, classifier__n_estimators=200, preprocessor__num__imputer__strategy=mean; total time=  20.4s\n",
      "[CV] END classifier__criterion=entropy, classifier__max_depth=8, classifier__n_estimators=200, preprocessor__num__imputer__strategy=mean; total time=  20.1s\n",
      "[CV] END classifier__criterion=entropy, classifier__max_depth=8, classifier__n_estimators=200, preprocessor__num__imputer__strategy=median; total time=  19.9s\n",
      "[CV] END classifier__criterion=entropy, classifier__max_depth=8, classifier__n_estimators=300, preprocessor__num__imputer__strategy=mean; total time=  29.4s[CV] END classifier__criterion=gini, classifier__max_depth=6, classifier__n_estimators=200, preprocessor__num__imputer__strategy=mean; total time=  16.5s\n",
      "[CV] END classifier__criterion=gini, classifier__max_depth=6, classifier__n_estimators=200, preprocessor__num__imputer__strategy=median; total time=  17.0s\n",
      "[CV] END classifier__criterion=gini, classifier__max_depth=6, classifier__n_estimators=300, preprocessor__num__imputer__strategy=mean; total time=  24.5s\n",
      "[CV] END classifier__criterion=gini, classifier__max_depth=6, classifier__n_estimators=300, preprocessor__num__imputer__strategy=median; total time=  25.3s\n",
      "[CV] END classifier__criterion=gini, classifier__max_depth=6, classifier__n_estimators=300, preprocessor__num__imputer__strategy=median; total time=  25.2s\n",
      "[CV] END classifier__criterion=gini, classifier__max_depth=6, classifier__n_estimators=400, preprocessor__num__imputer__strategy=mean; total time=  33.9s\n",
      "[CV] END classifier__criterion=gini, classifier__max_depth=6, classifier__n_estimators=400, preprocessor__num__imputer__strategy=median; total time=  33.7s\n",
      "[CV] END classifier__criterion=gini, classifier__max_depth=6, classifier__n_estimators=500, preprocessor__num__imputer__strategy=mean; total time=  42.2s\n",
      "[CV] END classifier__criterion=gini, classifier__max_depth=6, classifier__n_estimators=500, preprocessor__num__imputer__strategy=median; total time=  42.3s\n",
      "[CV] END classifier__criterion=gini, classifier__max_depth=6, classifier__n_estimators=500, preprocessor__num__imputer__strategy=median; total time=  42.9s\n",
      "[CV] END classifier__criterion=gini, classifier__max_depth=8, classifier__n_estimators=200, preprocessor__num__imputer__strategy=mean; total time=  19.7s\n",
      "[CV] END classifier__criterion=gini, classifier__max_depth=8, classifier__n_estimators=200, preprocessor__num__imputer__strategy=median; total time=  20.7s\n",
      "[CV] END classifier__criterion=gini, classifier__max_depth=8, classifier__n_estimators=300, preprocessor__num__imputer__strategy=mean; total time=  30.7s\n",
      "[CV] END classifier__criterion=gini, classifier__max_depth=8, classifier__n_estimators=300, preprocessor__num__imputer__strategy=median; total time=  31.2s\n",
      "[CV] END classifier__criterion=gini, classifier__max_depth=8, classifier__n_estimators=400, preprocessor__num__imputer__strategy=mean; total time=  40.6s\n",
      "[CV] END classifier__criterion=gini, classifier__max_depth=8, classifier__n_estimators=400, preprocessor__num__imputer__strategy=mean; total time=  39.7s\n",
      "[CV] END classifier__criterion=gini, classifier__max_depth=8, classifier__n_estimators=400, preprocessor__num__imputer__strategy=median; total time=  40.0s\n",
      "[CV] END classifier__criterion=gini, classifier__max_depth=8, classifier__n_estimators=500, preprocessor__num__imputer__strategy=mean; total time=  49.1s\n",
      "[CV] END classifier__criterion=gini, classifier__max_depth=8, classifier__n_estimators=500, preprocessor__num__imputer__strategy=median; total time=  48.4s\n",
      "[CV] END classifier__criterion=gini, classifier__max_depth=10, classifier__n_estimators=200, preprocessor__num__imputer__strategy=mean; total time=  22.3s\n",
      "[CV] END classifier__criterion=gini, classifier__max_depth=10, classifier__n_estimators=200, preprocessor__num__imputer__strategy=mean; total time=  21.3s\n",
      "[CV] END classifier__criterion=gini, classifier__max_depth=10, classifier__n_estimators=200, preprocessor__num__imputer__strategy=median; total time=  22.5s\n",
      "[CV] END classifier__criterion=gini, classifier__max_depth=10, classifier__n_estimators=300, preprocessor__num__imputer__strategy=mean; total time=  33.1s\n",
      "[CV] END classifier__criterion=gini, classifier__max_depth=10, classifier__n_estimators=300, preprocessor__num__imputer__strategy=mean; total time=  32.9s\n",
      "[CV] END classifier__criterion=gini, classifier__max_depth=10, classifier__n_estimators=300, preprocessor__num__imputer__strategy=median; total time=  32.8s\n",
      "[CV] END classifier__criterion=gini, classifier__max_depth=10, classifier__n_estimators=400, preprocessor__num__imputer__strategy=mean; total time=  43.4s\n",
      "[CV] END classifier__criterion=gini, classifier__max_depth=10, classifier__n_estimators=400, preprocessor__num__imputer__strategy=median; total time=  43.6s\n",
      "[CV] END classifier__criterion=gini, classifier__max_depth=10, classifier__n_estimators=500, preprocessor__num__imputer__strategy=mean; total time=  55.5s\n",
      "[CV] END classifier__criterion=gini, classifier__max_depth=10, classifier__n_estimators=500, preprocessor__num__imputer__strategy=mean; total time=  57.9s\n",
      "[CV] END classifier__criterion=gini, classifier__max_depth=10, classifier__n_estimators=500, preprocessor__num__imputer__strategy=median; total time=  55.2s\n",
      "[CV] END classifier__criterion=gini, classifier__max_depth=12, classifier__n_estimators=200, preprocessor__num__imputer__strategy=mean; total time=  25.0s\n",
      "[CV] END classifier__criterion=gini, classifier__max_depth=12, classifier__n_estimators=200, preprocessor__num__imputer__strategy=median; total time=  25.0s\n",
      "[CV] END classifier__criterion=gini, classifier__max_depth=12, classifier__n_estimators=300, preprocessor__num__imputer__strategy=mean; total time=  37.3s\n",
      "[CV] END classifier__criterion=gini, classifier__max_depth=12, classifier__n_estimators=300, preprocessor__num__imputer__strategy=median; total time=  37.1s\n",
      "[CV] END classifier__criterion=gini, classifier__max_depth=12, classifier__n_estimators=400, preprocessor__num__imputer__strategy=mean; total time=  48.5s\n",
      "[CV] END classifier__criterion=gini, classifier__max_depth=12, classifier__n_estimators=400, preprocessor__num__imputer__strategy=mean; total time=  48.4s\n",
      "[CV] END classifier__criterion=gini, classifier__max_depth=12, classifier__n_estimators=400, preprocessor__num__imputer__strategy=median; total time=  48.5s\n",
      "[CV] END classifier__criterion=gini, classifier__max_depth=12, classifier__n_estimators=500, preprocessor__num__imputer__strategy=mean; total time=  59.2s\n",
      "[CV] END classifier__criterion=gini, classifier__max_depth=12, classifier__n_estimators=500, preprocessor__num__imputer__strategy=median; total time= 1.0min\n",
      "[CV] END classifier__criterion=entropy, classifier__max_depth=6, classifier__n_estimators=200, preprocessor__num__imputer__strategy=mean; total time=  17.0s\n",
      "[CV] END classifier__criterion=entropy, classifier__max_depth=6, classifier__n_estimators=200, preprocessor__num__imputer__strategy=mean; total time=  16.8s\n",
      "[CV] END classifier__criterion=entropy, classifier__max_depth=6, classifier__n_estimators=200, preprocessor__num__imputer__strategy=median; total time=  17.3s\n",
      "[CV] END classifier__criterion=entropy, classifier__max_depth=6, classifier__n_estimators=300, preprocessor__num__imputer__strategy=mean; total time=  26.8s\n",
      "[CV] END classifier__criterion=entropy, classifier__max_depth=6, classifier__n_estimators=300, preprocessor__num__imputer__strategy=mean; total time=  25.3s\n",
      "[CV] END classifier__criterion=entropy, classifier__max_depth=6, classifier__n_estimators=300, preprocessor__num__imputer__strategy=median; total time=  26.3s\n",
      "[CV] END classifier__criterion=entropy, classifier__max_depth=6, classifier__n_estimators=400, preprocessor__num__imputer__strategy=mean; total time=  34.2s\n",
      "[CV] END classifier__criterion=entropy, classifier__max_depth=6, classifier__n_estimators=400, preprocessor__num__imputer__strategy=median; total time=  33.9s\n",
      "[CV] END classifier__criterion=entropy, classifier__max_depth=6, classifier__n_estimators=500, preprocessor__num__imputer__strategy=mean; total time=  42.2s\n",
      "[CV] END classifier__criterion=entropy, classifier__max_depth=6, classifier__n_estimators=500, preprocessor__num__imputer__strategy=mean; total time=  41.7s\n",
      "[CV] END classifier__criterion=entropy, classifier__max_depth=6, classifier__n_estimators=500, preprocessor__num__imputer__strategy=median; total time=  42.3s\n",
      "[CV] END classifier__criterion=entropy, classifier__max_depth=8, classifier__n_estimators=200, preprocessor__num__imputer__strategy=mean; total time=  19.9s\n",
      "[CV] END classifier__criterion=entropy, classifier__max_depth=8, classifier__n_estimators=200, preprocessor__num__imputer__strategy=median; total time=  20.0s\n",
      "[CV] END classifier__criterion=entropy, classifier__max_depth=8, classifier__n_estimators=300, preprocessor__num__imputer__strategy=mean; total time=  30.1sThe score of the RF After Hyperparameter tuning is: 0.956\n",
      "Best Parameters: {'classifier__criterion': 'gini', 'classifier__max_depth': 12, 'classifier__n_estimators': 300, 'preprocessor__num__imputer__strategy': 'mean'}\n"
     ]
    }
   ],
   "source": [
    "param_grid = {\n",
    "    'preprocessor__num__imputer__strategy': ['mean','median'],\n",
    "    'classifier__n_estimators' : [200,300,400,500],  #number of decision trees in rnadome forest\n",
    "    'classifier__criterion' : ['gini','entropy'],\n",
    "    'classifier__max_depth' : [6,8,10,12]    \n",
    "}\n",
    "\n",
    "grid_search_rf = GridSearchCV(clf_rf, param_grid, cv = 5, verbose = 2, n_jobs=-1)\n",
    "\n",
    "grid_search_rf.fit(x_train, y_train)\n",
    "print(f\"The score of the RF After Hyperparameter tuning is: {grid_search_rf.score(x_test,y_test):0.3f}\")\n",
    "#print(f\"Best Score: {grid_search.best_score_}\")\n",
    "print(f\"Best Parameters: {grid_search_rf.best_params_}\")"
   ]
  },
  {
   "cell_type": "markdown",
   "id": "01ad9e93",
   "metadata": {
    "papermill": {
     "duration": 0.035443,
     "end_time": "2022-05-25T12:40:32.007162",
     "exception": false,
     "start_time": "2022-05-25T12:40:31.971719",
     "status": "completed"
    },
    "tags": []
   },
   "source": [
    "#### Plotting Confusion Matrix to evaluate the accuracy of a classification"
   ]
  },
  {
   "cell_type": "code",
   "execution_count": 15,
   "id": "d9e3a9bb",
   "metadata": {
    "execution": {
     "iopub.execute_input": "2022-05-25T12:40:32.080569Z",
     "iopub.status.busy": "2022-05-25T12:40:32.080024Z",
     "iopub.status.idle": "2022-05-25T12:40:32.091150Z",
     "shell.execute_reply": "2022-05-25T12:40:32.090245Z"
    },
    "papermill": {
     "duration": 0.050044,
     "end_time": "2022-05-25T12:40:32.093156",
     "exception": false,
     "start_time": "2022-05-25T12:40:32.043112",
     "status": "completed"
    },
    "tags": []
   },
   "outputs": [
    {
     "data": {
      "text/plain": [
       "array([[5844,   96],\n",
       "       [ 277, 4174]])"
      ]
     },
     "execution_count": 15,
     "metadata": {},
     "output_type": "execute_result"
    }
   ],
   "source": [
    "cnf_matrix = confusion_matrix(y_test,y_preds)\n",
    "np.set_printoptions(precision = 2)\n",
    "cnf_matrix"
   ]
  },
  {
   "cell_type": "code",
   "execution_count": 16,
   "id": "872fdcab",
   "metadata": {
    "execution": {
     "iopub.execute_input": "2022-05-25T12:40:32.170377Z",
     "iopub.status.busy": "2022-05-25T12:40:32.169939Z",
     "iopub.status.idle": "2022-05-25T12:40:32.181391Z",
     "shell.execute_reply": "2022-05-25T12:40:32.180720Z"
    },
    "papermill": {
     "duration": 0.052225,
     "end_time": "2022-05-25T12:40:32.183521",
     "exception": false,
     "start_time": "2022-05-25T12:40:32.131296",
     "status": "completed"
    },
    "tags": []
   },
   "outputs": [],
   "source": [
    "def plot_confusion_matrix(cm,classes, \n",
    "                          normalize = False,\n",
    "                          title = \"Confusion Matrix\",\n",
    "                          cmap = plt.cm.Blues):\n",
    "    \"\"\"\n",
    "    This function prints and plots the confusion matrix.\n",
    "    Normalization can be applied by setting `normalize=True`.\n",
    "    \"\"\"\n",
    "    if normalize:\n",
    "        cm = cm.astype('float') / cm.sum(axis=1)[:,np.newaxis]\n",
    "        print(\"Normalized Confusion Matrix\")\n",
    "    else:\n",
    "        print(\"Confusion Matrix, without Normalization\")  \n",
    "\n",
    "    print(cm)  \n",
    "#show data as image using plt.imshow\n",
    "    plt.imshow(cm,interpolation='nearest',cmap = cmap)\n",
    "    plt.title(title)\n",
    "    plt.colorbar()\n",
    "#ARANGE : returns evenly spaced values from the given interval \n",
    "# and the advantage of numpy.arange() over the normal in-built range() function is that it allows us to generate sequences of numbers that are not integers  \n",
    "    tick_marks = np.arange(len(classes))\n",
    "    plt.xticks(tick_marks,classes,rotation = 45)\n",
    "    plt.yticks(tick_marks,classes)\n",
    "\n",
    "    fmt = '.2f' if normalize else 'd'\n",
    "    thresh = cm.max()/2.\n",
    "    for i,j in itertools.product(range(cm.shape[0]),range(cm.shape[1])):\n",
    "        plt.text(j,i,format(cm[i,j],fmt),\n",
    "                 horizontalalignment = 'center',\n",
    "                 color = 'white' if cm[i,j] > thresh else 'black')\n",
    "    \n",
    "    plt.xlabel('True Heart Disease Class')\n",
    "    plt.ylabel('Predicted Heart Disease Class')\n",
    "    plt.tight_layout()"
   ]
  },
  {
   "cell_type": "code",
   "execution_count": 17,
   "id": "4d70dd93",
   "metadata": {
    "execution": {
     "iopub.execute_input": "2022-05-25T12:40:32.256860Z",
     "iopub.status.busy": "2022-05-25T12:40:32.256446Z",
     "iopub.status.idle": "2022-05-25T12:40:32.785205Z",
     "shell.execute_reply": "2022-05-25T12:40:32.784495Z"
    },
    "papermill": {
     "duration": 0.568084,
     "end_time": "2022-05-25T12:40:32.787335",
     "exception": false,
     "start_time": "2022-05-25T12:40:32.219251",
     "status": "completed"
    },
    "tags": []
   },
   "outputs": [
    {
     "name": "stdout",
     "output_type": "stream",
     "text": [
      "Confusion Matrix, without Normalization\n",
      "[[5844   96]\n",
      " [ 277 4174]]\n",
      "Normalized Confusion Matrix\n",
      "[[0.98 0.02]\n",
      " [0.06 0.94]]\n"
     ]
    },
    {
     "data": {
      "image/png": "[encoded data removed]",
      "text/plain": [
       "<Figure size 432x288 with 2 Axes>"
      ]
     },
     "metadata": {},
     "output_type": "display_data"
    },
    {
     "data": {
      "image/png": "[encoded data removed]",
      "text/plain": [
       "<Figure size 432x288 with 2 Axes>"
      ]
     },
     "metadata": {},
     "output_type": "display_data"
    }
   ],
   "source": [
    "#Without Normalization\n",
    "plt.figure()\n",
    "plot_confusion_matrix(cnf_matrix, le.classes_,\n",
    "                      title='Confusion matrix, without normalization')\n",
    "# With normalization\n",
    "plt.figure()\n",
    "plot_confusion_matrix(cnf_matrix, le.classes_, normalize=True,\n",
    "                      title='Normalized confusion matrix')\n",
    "\n",
    "plt.show()"
   ]
  },
  {
   "cell_type": "markdown",
   "id": "db2b826f",
   "metadata": {
    "papermill": {
     "duration": 0.038767,
     "end_time": "2022-05-25T12:40:32.865217",
     "exception": false,
     "start_time": "2022-05-25T12:40:32.826450",
     "status": "completed"
    },
    "tags": []
   },
   "source": [
    "#### Testing the performance of the model on the given test data"
   ]
  },
  {
   "cell_type": "code",
   "execution_count": 18,
   "id": "c5414f26",
   "metadata": {
    "execution": {
     "iopub.execute_input": "2022-05-25T12:40:32.944455Z",
     "iopub.status.busy": "2022-05-25T12:40:32.943621Z",
     "iopub.status.idle": "2022-05-25T12:40:33.124798Z",
     "shell.execute_reply": "2022-05-25T12:40:33.123919Z"
    },
    "papermill": {
     "duration": 0.223061,
     "end_time": "2022-05-25T12:40:33.126988",
     "exception": false,
     "start_time": "2022-05-25T12:40:32.903927",
     "status": "completed"
    },
    "tags": []
   },
   "outputs": [
    {
     "data": {
      "text/html": [
       "<div>\n",
       "<style scoped>\n",
       "    .dataframe tbody tr th:only-of-type {\n",
       "        vertical-align: middle;\n",
       "    }\n",
       "\n",
       "    .dataframe tbody tr th {\n",
       "        vertical-align: top;\n",
       "    }\n",
       "\n",
       "    .dataframe thead th {\n",
       "        text-align: right;\n",
       "    }\n",
       "</style>\n",
       "<table border=\"1\" class=\"dataframe\">\n",
       "  <thead>\n",
       "    <tr style=\"text-align: right;\">\n",
       "      <th></th>\n",
       "      <th>Unnamed: 0</th>\n",
       "      <th>id</th>\n",
       "      <th>Gender</th>\n",
       "      <th>Customer Type</th>\n",
       "      <th>Age</th>\n",
       "      <th>Type of Travel</th>\n",
       "      <th>Class</th>\n",
       "      <th>Flight Distance</th>\n",
       "      <th>Inflight wifi service</th>\n",
       "      <th>Departure/Arrival time convenient</th>\n",
       "      <th>...</th>\n",
       "      <th>Inflight entertainment</th>\n",
       "      <th>On-board service</th>\n",
       "      <th>Leg room service</th>\n",
       "      <th>Baggage handling</th>\n",
       "      <th>Checkin service</th>\n",
       "      <th>Inflight service</th>\n",
       "      <th>Cleanliness</th>\n",
       "      <th>Departure Delay in Minutes</th>\n",
       "      <th>Arrival Delay in Minutes</th>\n",
       "      <th>satisfaction</th>\n",
       "    </tr>\n",
       "  </thead>\n",
       "  <tbody>\n",
       "    <tr>\n",
       "      <th>0</th>\n",
       "      <td>0</td>\n",
       "      <td>19556</td>\n",
       "      <td>Female</td>\n",
       "      <td>Loyal Customer</td>\n",
       "      <td>52</td>\n",
       "      <td>Business travel</td>\n",
       "      <td>Eco</td>\n",
       "      <td>160</td>\n",
       "      <td>5</td>\n",
       "      <td>4</td>\n",
       "      <td>...</td>\n",
       "      <td>5</td>\n",
       "      <td>5</td>\n",
       "      <td>5</td>\n",
       "      <td>5</td>\n",
       "      <td>2</td>\n",
       "      <td>5</td>\n",
       "      <td>5</td>\n",
       "      <td>50</td>\n",
       "      <td>44.0</td>\n",
       "      <td>satisfied</td>\n",
       "    </tr>\n",
       "    <tr>\n",
       "      <th>1</th>\n",
       "      <td>1</td>\n",
       "      <td>90035</td>\n",
       "      <td>Female</td>\n",
       "      <td>Loyal Customer</td>\n",
       "      <td>36</td>\n",
       "      <td>Business travel</td>\n",
       "      <td>Business</td>\n",
       "      <td>2863</td>\n",
       "      <td>1</td>\n",
       "      <td>1</td>\n",
       "      <td>...</td>\n",
       "      <td>4</td>\n",
       "      <td>4</td>\n",
       "      <td>4</td>\n",
       "      <td>4</td>\n",
       "      <td>3</td>\n",
       "      <td>4</td>\n",
       "      <td>5</td>\n",
       "      <td>0</td>\n",
       "      <td>0.0</td>\n",
       "      <td>satisfied</td>\n",
       "    </tr>\n",
       "    <tr>\n",
       "      <th>2</th>\n",
       "      <td>2</td>\n",
       "      <td>12360</td>\n",
       "      <td>Male</td>\n",
       "      <td>disloyal Customer</td>\n",
       "      <td>20</td>\n",
       "      <td>Business travel</td>\n",
       "      <td>Eco</td>\n",
       "      <td>192</td>\n",
       "      <td>2</td>\n",
       "      <td>0</td>\n",
       "      <td>...</td>\n",
       "      <td>2</td>\n",
       "      <td>4</td>\n",
       "      <td>1</td>\n",
       "      <td>3</td>\n",
       "      <td>2</td>\n",
       "      <td>2</td>\n",
       "      <td>2</td>\n",
       "      <td>0</td>\n",
       "      <td>0.0</td>\n",
       "      <td>neutral or dissatisfied</td>\n",
       "    </tr>\n",
       "  </tbody>\n",
       "</table>\n",
       "<p>3 rows × 25 columns</p>\n",
       "</div>"
      ],
      "text/plain": [
       "   Unnamed: 0     id  Gender      Customer Type  Age   Type of Travel  \\\n",
       "0           0  19556  Female     Loyal Customer   52  Business travel   \n",
       "1           1  90035  Female     Loyal Customer   36  Business travel   \n",
       "2           2  12360    Male  disloyal Customer   20  Business travel   \n",
       "\n",
       "      Class  Flight Distance  Inflight wifi service  \\\n",
       "0       Eco              160                      5   \n",
       "1  Business             2863                      1   \n",
       "2       Eco              192                      2   \n",
       "\n",
       "   Departure/Arrival time convenient  ...  Inflight entertainment  \\\n",
       "0                                  4  ...                       5   \n",
       "1                                  1  ...                       4   \n",
       "2                                  0  ...                       2   \n",
       "\n",
       "   On-board service  Leg room service  Baggage handling  Checkin service  \\\n",
       "0                 5                 5                 5                2   \n",
       "1                 4                 4                 4                3   \n",
       "2                 4                 1                 3                2   \n",
       "\n",
       "   Inflight service  Cleanliness  Departure Delay in Minutes  \\\n",
       "0                 5            5                          50   \n",
       "1                 4            5                           0   \n",
       "2                 2            2                           0   \n",
       "\n",
       "   Arrival Delay in Minutes             satisfaction  \n",
       "0                      44.0                satisfied  \n",
       "1                       0.0                satisfied  \n",
       "2                       0.0  neutral or dissatisfied  \n",
       "\n",
       "[3 rows x 25 columns]"
      ]
     },
     "execution_count": 18,
     "metadata": {},
     "output_type": "execute_result"
    }
   ],
   "source": [
    "df_test = pd.read_csv(\"../input/airline-passenger-satisfaction/test.csv\")\n",
    "df_test.head(3)"
   ]
  },
  {
   "cell_type": "markdown",
   "id": "70eaf8c9",
   "metadata": {
    "papermill": {
     "duration": 0.038717,
     "end_time": "2022-05-25T12:40:33.205466",
     "exception": false,
     "start_time": "2022-05-25T12:40:33.166749",
     "status": "completed"
    },
    "tags": []
   },
   "source": [
    "*The transformation performed on training data needs to be done on test data as well, otherwise the output maybe inconclusive*"
   ]
  },
  {
   "cell_type": "code",
   "execution_count": 19,
   "id": "48c46808",
   "metadata": {
    "execution": {
     "iopub.execute_input": "2022-05-25T12:40:33.285291Z",
     "iopub.status.busy": "2022-05-25T12:40:33.284492Z",
     "iopub.status.idle": "2022-05-25T12:40:33.299279Z",
     "shell.execute_reply": "2022-05-25T12:40:33.298387Z"
    },
    "papermill": {
     "duration": 0.057117,
     "end_time": "2022-05-25T12:40:33.301239",
     "exception": false,
     "start_time": "2022-05-25T12:40:33.244122",
     "status": "completed"
    },
    "tags": []
   },
   "outputs": [
    {
     "data": {
      "text/plain": [
       "array([1, 1, 0, 1, 1, 1, 1, 1, 1, 1])"
      ]
     },
     "execution_count": 19,
     "metadata": {},
     "output_type": "execute_result"
    }
   ],
   "source": [
    "#test grid_search.score(df_test,df_test['satisfaction']) passing satisfaction column directly will throw an error\n",
    "#satisfaction for test data must also be label encoded\n",
    "y_test_transform = le.transform(df_test[\"satisfaction\"])\n",
    "y_test_transform[0:10]"
   ]
  },
  {
   "cell_type": "code",
   "execution_count": 20,
   "id": "289de0f0",
   "metadata": {
    "execution": {
     "iopub.execute_input": "2022-05-25T12:40:33.381646Z",
     "iopub.status.busy": "2022-05-25T12:40:33.381044Z",
     "iopub.status.idle": "2022-05-25T12:40:34.545080Z",
     "shell.execute_reply": "2022-05-25T12:40:34.544184Z"
    },
    "papermill": {
     "duration": 1.206841,
     "end_time": "2022-05-25T12:40:34.547332",
     "exception": false,
     "start_time": "2022-05-25T12:40:33.340491",
     "status": "completed"
    },
    "tags": []
   },
   "outputs": [
    {
     "name": "stdout",
     "output_type": "stream",
     "text": [
      "Accuracy of the Test data is 0.955\n"
     ]
    }
   ],
   "source": [
    "test_sc = grid_search_rf.score(df_test,y_test_transform)\n",
    "print(f\"Accuracy of the Test data is {test_sc:0.3f}\")"
   ]
  },
  {
   "cell_type": "markdown",
   "id": "16aba87f",
   "metadata": {
    "papermill": {
     "duration": 0.040329,
     "end_time": "2022-05-25T12:40:34.627560",
     "exception": false,
     "start_time": "2022-05-25T12:40:34.587231",
     "status": "completed"
    },
    "tags": []
   },
   "source": [
    "#### Comparing Random Forest Model and Hyperparameter Tuned Random Forest Model"
   ]
  },
  {
   "cell_type": "code",
   "execution_count": 21,
   "id": "f7c2d2d8",
   "metadata": {
    "execution": {
     "iopub.execute_input": "2022-05-25T12:40:34.709533Z",
     "iopub.status.busy": "2022-05-25T12:40:34.708656Z",
     "iopub.status.idle": "2022-05-25T12:40:35.118389Z",
     "shell.execute_reply": "2022-05-25T12:40:35.117561Z"
    },
    "papermill": {
     "duration": 0.452695,
     "end_time": "2022-05-25T12:40:35.120477",
     "exception": false,
     "start_time": "2022-05-25T12:40:34.667782",
     "status": "completed"
    },
    "tags": []
   },
   "outputs": [
    {
     "data": {
      "text/html": [
       "        <script type=\"text/javascript\">\n",
       "        window.PlotlyConfig = {MathJaxConfig: 'local'};\n",
       "        if (window.MathJax && window.MathJax.Hub && window.MathJax.Hub.Config) {window.MathJax.Hub.Config({SVG: {font: \"STIX-Web\"}});}\n",
       "        if (typeof require !== 'undefined') {\n",
       "        require.undef(\"plotly\");\n",
       "        requirejs.config({\n",
       "            paths: {\n",
       "                'plotly': ['https://cdn.plot.ly/plotly-2.12.1.min']\n",
       "            }\n",
       "        });\n",
       "        require(['plotly'], function(Plotly) {\n",
       "            window._Plotly = Plotly;\n",
       "        });\n",
       "        }\n",
       "        </script>\n",
       "        "
      ]
     },
     "metadata": {},
     "output_type": "display_data"
    },
    {
     "data": {
      "text/html": [
       "<div>                            <div id=\"81d55b8d-a2db-4d93-9da6-3fb94d209dc4\" class=\"plotly-graph-div\" style=\"height:525px; width:100%;\"></div>            <script type=\"text/javascript\">                require([\"plotly\"], function(Plotly) {                    window.PLOTLYENV=window.PLOTLYENV || {};                                    if (document.getElementById(\"81d55b8d-a2db-4d93-9da6-3fb94d209dc4\")) {                    Plotly.newPlot(                        \"81d55b8d-a2db-4d93-9da6-3fb94d209dc4\",                        [{\"x\":[\"rf_default\",\"rf_tuned\"],\"y\":[96.41035511500337,95.50354173082846],\"type\":\"bar\"}],                        {\"template\":{\"data\":{\"histogram2dcontour\":[{\"type\":\"histogram2dcontour\",\"colorbar\":{\"outlinewidth\":0,\"ticks\":\"\"},\"colorscale\":[[0.0,\"#0d0887\"],[0.1111111111111111,\"#46039f\"],[0.2222222222222222,\"#7201a8\"],[0.3333333333333333,\"#9c179e\"],[0.4444444444444444,\"#bd3786\"],[0.5555555555555556,\"#d8576b\"],[0.6666666666666666,\"#ed7953\"],[0.7777777777777778,\"#fb9f3a\"],[0.8888888888888888,\"#fdca26\"],[1.0,\"#f0f921\"]]}],\"choropleth\":[{\"type\":\"choropleth\",\"colorbar\":{\"outlinewidth\":0,\"ticks\":\"\"}}],\"histogram2d\":[{\"type\":\"histogram2d\",\"colorbar\":{\"outlinewidth\":0,\"ticks\":\"\"},\"colorscale\":[[0.0,\"#0d0887\"],[0.1111111111111111,\"#46039f\"],[0.2222222222222222,\"#7201a8\"],[0.3333333333333333,\"#9c179e\"],[0.4444444444444444,\"#bd3786\"],[0.5555555555555556,\"#d8576b\"],[0.6666666666666666,\"#ed7953\"],[0.7777777777777778,\"#fb9f3a\"],[0.8888888888888888,\"#fdca26\"],[1.0,\"#f0f921\"]]}],\"heatmap\":[{\"type\":\"heatmap\",\"colorbar\":{\"outlinewidth\":0,\"ticks\":\"\"},\"colorscale\":[[0.0,\"#0d0887\"],[0.1111111111111111,\"#46039f\"],[0.2222222222222222,\"#7201a8\"],[0.3333333333333333,\"#9c179e\"],[0.4444444444444444,\"#bd3786\"],[0.5555555555555556,\"#d8576b\"],[0.6666666666666666,\"#ed7953\"],[0.7777777777777778,\"#fb9f3a\"],[0.8888888888888888,\"#fdca26\"],[1.0,\"#f0f921\"]]}],\"heatmapgl\":[{\"type\":\"heatmapgl\",\"colorbar\":{\"outlinewidth\":0,\"ticks\":\"\"},\"colorscale\":[[0.0,\"#0d0887\"],[0.1111111111111111,\"#46039f\"],[0.2222222222222222,\"#7201a8\"],[0.3333333333333333,\"#9c179e\"],[0.4444444444444444,\"#bd3786\"],[0.5555555555555556,\"#d8576b\"],[0.6666666666666666,\"#ed7953\"],[0.7777777777777778,\"#fb9f3a\"],[0.8888888888888888,\"#fdca26\"],[1.0,\"#f0f921\"]]}],\"contourcarpet\":[{\"type\":\"contourcarpet\",\"colorbar\":{\"outlinewidth\":0,\"ticks\":\"\"}}],\"contour\":[{\"type\":\"contour\",\"colorbar\":{\"outlinewidth\":0,\"ticks\":\"\"},\"colorscale\":[[0.0,\"#0d0887\"],[0.1111111111111111,\"#46039f\"],[0.2222222222222222,\"#7201a8\"],[0.3333333333333333,\"#9c179e\"],[0.4444444444444444,\"#bd3786\"],[0.5555555555555556,\"#d8576b\"],[0.6666666666666666,\"#ed7953\"],[0.7777777777777778,\"#fb9f3a\"],[0.8888888888888888,\"#fdca26\"],[1.0,\"#f0f921\"]]}],\"surface\":[{\"type\":\"surface\",\"colorbar\":{\"outlinewidth\":0,\"ticks\":\"\"},\"colorscale\":[[0.0,\"#0d0887\"],[0.1111111111111111,\"#46039f\"],[0.2222222222222222,\"#7201a8\"],[0.3333333333333333,\"#9c179e\"],[0.4444444444444444,\"#bd3786\"],[0.5555555555555556,\"#d8576b\"],[0.6666666666666666,\"#ed7953\"],[0.7777777777777778,\"#fb9f3a\"],[0.8888888888888888,\"#fdca26\"],[1.0,\"#f0f921\"]]}],\"mesh3d\":[{\"type\":\"mesh3d\",\"colorbar\":{\"outlinewidth\":0,\"ticks\":\"\"}}],\"scatter\":[{\"fillpattern\":{\"fillmode\":\"overlay\",\"size\":10,\"solidity\":0.2},\"type\":\"scatter\"}],\"parcoords\":[{\"type\":\"parcoords\",\"line\":{\"colorbar\":{\"outlinewidth\":0,\"ticks\":\"\"}}}],\"scatterpolargl\":[{\"type\":\"scatterpolargl\",\"marker\":{\"colorbar\":{\"outlinewidth\":0,\"ticks\":\"\"}}}],\"bar\":[{\"error_x\":{\"color\":\"#2a3f5f\"},\"error_y\":{\"color\":\"#2a3f5f\"},\"marker\":{\"line\":{\"color\":\"#E5ECF6\",\"width\":0.5},\"pattern\":{\"fillmode\":\"overlay\",\"size\":10,\"solidity\":0.2}},\"type\":\"bar\"}],\"scattergeo\":[{\"type\":\"scattergeo\",\"marker\":{\"colorbar\":{\"outlinewidth\":0,\"ticks\":\"\"}}}],\"scatterpolar\":[{\"type\":\"scatterpolar\",\"marker\":{\"colorbar\":{\"outlinewidth\":0,\"ticks\":\"\"}}}],\"histogram\":[{\"marker\":{\"pattern\":{\"fillmode\":\"overlay\",\"size\":10,\"solidity\":0.2}},\"type\":\"histogram\"}],\"scattergl\":[{\"type\":\"scattergl\",\"marker\":{\"colorbar\":{\"outlinewidth\":0,\"ticks\":\"\"}}}],\"scatter3d\":[{\"type\":\"scatter3d\",\"line\":{\"colorbar\":{\"outlinewidth\":0,\"ticks\":\"\"}},\"marker\":{\"colorbar\":{\"outlinewidth\":0,\"ticks\":\"\"}}}],\"scattermapbox\":[{\"type\":\"scattermapbox\",\"marker\":{\"colorbar\":{\"outlinewidth\":0,\"ticks\":\"\"}}}],\"scatterternary\":[{\"type\":\"scatterternary\",\"marker\":{\"colorbar\":{\"outlinewidth\":0,\"ticks\":\"\"}}}],\"scattercarpet\":[{\"type\":\"scattercarpet\",\"marker\":{\"colorbar\":{\"outlinewidth\":0,\"ticks\":\"\"}}}],\"carpet\":[{\"aaxis\":{\"endlinecolor\":\"#2a3f5f\",\"gridcolor\":\"white\",\"linecolor\":\"white\",\"minorgridcolor\":\"white\",\"startlinecolor\":\"#2a3f5f\"},\"baxis\":{\"endlinecolor\":\"#2a3f5f\",\"gridcolor\":\"white\",\"linecolor\":\"white\",\"minorgridcolor\":\"white\",\"startlinecolor\":\"#2a3f5f\"},\"type\":\"carpet\"}],\"table\":[{\"cells\":{\"fill\":{\"color\":\"#EBF0F8\"},\"line\":{\"color\":\"white\"}},\"header\":{\"fill\":{\"color\":\"#C8D4E3\"},\"line\":{\"color\":\"white\"}},\"type\":\"table\"}],\"barpolar\":[{\"marker\":{\"line\":{\"color\":\"#E5ECF6\",\"width\":0.5},\"pattern\":{\"fillmode\":\"overlay\",\"size\":10,\"solidity\":0.2}},\"type\":\"barpolar\"}],\"pie\":[{\"automargin\":true,\"type\":\"pie\"}]},\"layout\":{\"autotypenumbers\":\"strict\",\"colorway\":[\"#636efa\",\"#EF553B\",\"#00cc96\",\"#ab63fa\",\"#FFA15A\",\"#19d3f3\",\"#FF6692\",\"#B6E880\",\"#FF97FF\",\"#FECB52\"],\"font\":{\"color\":\"#2a3f5f\"},\"hovermode\":\"closest\",\"hoverlabel\":{\"align\":\"left\"},\"paper_bgcolor\":\"white\",\"plot_bgcolor\":\"#E5ECF6\",\"polar\":{\"bgcolor\":\"#E5ECF6\",\"angularaxis\":{\"gridcolor\":\"white\",\"linecolor\":\"white\",\"ticks\":\"\"},\"radialaxis\":{\"gridcolor\":\"white\",\"linecolor\":\"white\",\"ticks\":\"\"}},\"ternary\":{\"bgcolor\":\"#E5ECF6\",\"aaxis\":{\"gridcolor\":\"white\",\"linecolor\":\"white\",\"ticks\":\"\"},\"baxis\":{\"gridcolor\":\"white\",\"linecolor\":\"white\",\"ticks\":\"\"},\"caxis\":{\"gridcolor\":\"white\",\"linecolor\":\"white\",\"ticks\":\"\"}},\"coloraxis\":{\"colorbar\":{\"outlinewidth\":0,\"ticks\":\"\"}},\"colorscale\":{\"sequential\":[[0.0,\"#0d0887\"],[0.1111111111111111,\"#46039f\"],[0.2222222222222222,\"#7201a8\"],[0.3333333333333333,\"#9c179e\"],[0.4444444444444444,\"#bd3786\"],[0.5555555555555556,\"#d8576b\"],[0.6666666666666666,\"#ed7953\"],[0.7777777777777778,\"#fb9f3a\"],[0.8888888888888888,\"#fdca26\"],[1.0,\"#f0f921\"]],\"sequentialminus\":[[0.0,\"#0d0887\"],[0.1111111111111111,\"#46039f\"],[0.2222222222222222,\"#7201a8\"],[0.3333333333333333,\"#9c179e\"],[0.4444444444444444,\"#bd3786\"],[0.5555555555555556,\"#d8576b\"],[0.6666666666666666,\"#ed7953\"],[0.7777777777777778,\"#fb9f3a\"],[0.8888888888888888,\"#fdca26\"],[1.0,\"#f0f921\"]],\"diverging\":[[0,\"#8e0152\"],[0.1,\"#c51b7d\"],[0.2,\"#de77ae\"],[0.3,\"#f1b6da\"],[0.4,\"#fde0ef\"],[0.5,\"#f7f7f7\"],[0.6,\"#e6f5d0\"],[0.7,\"#b8e186\"],[0.8,\"#7fbc41\"],[0.9,\"#4d9221\"],[1,\"#276419\"]]},\"xaxis\":{\"gridcolor\":\"white\",\"linecolor\":\"white\",\"ticks\":\"\",\"title\":{\"standoff\":15},\"zerolinecolor\":\"white\",\"automargin\":true,\"zerolinewidth\":2},\"yaxis\":{\"gridcolor\":\"white\",\"linecolor\":\"white\",\"ticks\":\"\",\"title\":{\"standoff\":15},\"zerolinecolor\":\"white\",\"automargin\":true,\"zerolinewidth\":2},\"scene\":{\"xaxis\":{\"backgroundcolor\":\"#E5ECF6\",\"gridcolor\":\"white\",\"linecolor\":\"white\",\"showbackground\":true,\"ticks\":\"\",\"zerolinecolor\":\"white\",\"gridwidth\":2},\"yaxis\":{\"backgroundcolor\":\"#E5ECF6\",\"gridcolor\":\"white\",\"linecolor\":\"white\",\"showbackground\":true,\"ticks\":\"\",\"zerolinecolor\":\"white\",\"gridwidth\":2},\"zaxis\":{\"backgroundcolor\":\"#E5ECF6\",\"gridcolor\":\"white\",\"linecolor\":\"white\",\"showbackground\":true,\"ticks\":\"\",\"zerolinecolor\":\"white\",\"gridwidth\":2}},\"shapedefaults\":{\"line\":{\"color\":\"#2a3f5f\"}},\"annotationdefaults\":{\"arrowcolor\":\"#2a3f5f\",\"arrowhead\":0,\"arrowwidth\":1},\"geo\":{\"bgcolor\":\"white\",\"landcolor\":\"#E5ECF6\",\"subunitcolor\":\"white\",\"showland\":true,\"showlakes\":true,\"lakecolor\":\"white\"},\"title\":{\"x\":0.05},\"mapbox\":{\"style\":\"light\"}}},\"xaxis\":{\"showgrid\":false,\"title\":{\"text\":\"Random Forest Classifier Models\"}},\"yaxis\":{\"showgrid\":false,\"title\":{\"text\":\"Accuracy\"}},\"title\":{\"text\":\"Airline Passenger Satisfaction Level\"},\"plot_bgcolor\":\"grey\"},                        {\"responsive\": true}                    ).then(function(){\n",
       "                            \n",
       "var gd = document.getElementById('81d55b8d-a2db-4d93-9da6-3fb94d209dc4');\n",
       "var x = new MutationObserver(function (mutations, observer) {{\n",
       "        var display = window.getComputedStyle(gd).display;\n",
       "        if (!display || display === 'none') {{\n",
       "            console.log([gd, 'removed!']);\n",
       "            Plotly.purge(gd);\n",
       "            observer.disconnect();\n",
       "        }}\n",
       "}});\n",
       "\n",
       "// Listen for the removal of the full notebook cells\n",
       "var notebookContainer = gd.closest('#notebook-container');\n",
       "if (notebookContainer) {{\n",
       "    x.observe(notebookContainer, {childList: true});\n",
       "}}\n",
       "\n",
       "// Listen for the clearing of the current output cell\n",
       "var outputEl = gd.closest('.output');\n",
       "if (outputEl) {{\n",
       "    x.observe(outputEl, {childList: true});\n",
       "}}\n",
       "\n",
       "                        })                };                });            </script>        </div>"
      ]
     },
     "metadata": {},
     "output_type": "display_data"
    }
   ],
   "source": [
    "class_models = [\"rf_default\",\"rf_tuned\"]\n",
    "fig = go.Figure([go.Bar(x=class_models,y=[clf_rf.score(x_test,y_test)*100,test_sc*100])])\n",
    "\n",
    "fig.update_layout(title = 'Airline Passenger Satisfaction Level',\n",
    "                 plot_bgcolor = 'grey',\n",
    "                 xaxis = dict(showgrid = False), yaxis = dict(showgrid = False),\n",
    "                 xaxis_title = \"Random Forest Classifier Models\",\n",
    "                 yaxis_title = \"Accuracy\")\n",
    "fig.show()"
   ]
  },
  {
   "cell_type": "markdown",
   "id": "1da169f7",
   "metadata": {
    "_kg_hide-input": true,
    "papermill": {
     "duration": 0.041596,
     "end_time": "2022-05-25T12:40:35.203319",
     "exception": false,
     "start_time": "2022-05-25T12:40:35.161723",
     "status": "completed"
    },
    "tags": []
   },
   "source": [
    "*Hypertuned Random Forests perform better than Random Forest with Default parameters*"
   ]
  }
 ],
 "metadata": {
  "kernelspec": {
   "display_name": "Python 3",
   "language": "python",
   "name": "python3"
  },
  "language_info": {
   "codemirror_mode": {
    "name": "ipython",
    "version": 3
   },
   "file_extension": ".py",
   "mimetype": "text/x-python",
   "name": "python",
   "nbconvert_exporter": "python",
   "pygments_lexer": "ipython3",
   "version": "3.7.12"
  },
  "papermill": {
   "default_parameters": {},
   "duration": 2979.790898,
   "end_time": "2022-05-25T12:40:37.871766",
   "environment_variables": {},
   "exception": null,
   "input_path": "__notebook__.ipynb",
   "output_path": "__notebook__.ipynb",
   "parameters": {},
   "start_time": "2022-05-25T11:50:58.080868",
   "version": "2.3.4"
  }
 },
 "nbformat": 4,
 "nbformat_minor": 5
}
