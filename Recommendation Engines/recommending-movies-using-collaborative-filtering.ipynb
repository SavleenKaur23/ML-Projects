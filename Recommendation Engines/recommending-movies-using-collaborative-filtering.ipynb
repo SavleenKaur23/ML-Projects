{
 "cells": [
  {
   "cell_type": "markdown",
   "id": "b0449eef",
   "metadata": {
    "papermill": {
     "duration": 0.010359,
     "end_time": "2022-06-18T18:55:07.316837",
     "exception": false,
     "start_time": "2022-06-18T18:55:07.306478",
     "status": "completed"
    },
    "tags": []
   },
   "source": [
    "Recommending movies to user where the other users possess similarity based on ratings of the movies using Recommendation Engine Algorithm"
   ]
  },
  {
   "cell_type": "markdown",
   "id": "43d0fe69",
   "metadata": {
    "papermill": {
     "duration": 0.008645,
     "end_time": "2022-06-18T18:55:07.334603",
     "exception": false,
     "start_time": "2022-06-18T18:55:07.325958",
     "status": "completed"
    },
    "tags": []
   },
   "source": [
    "* Recommendation Engine\n",
    "* Collaborative Filtering\n",
    "* Cosine Similarity"
   ]
  },
  {
   "cell_type": "code",
   "execution_count": 1,
   "id": "fd4131e1",
   "metadata": {
    "execution": {
     "iopub.execute_input": "2022-06-18T18:55:07.354742Z",
     "iopub.status.busy": "2022-06-18T18:55:07.353929Z",
     "iopub.status.idle": "2022-06-18T18:55:08.407502Z",
     "shell.execute_reply": "2022-06-18T18:55:08.406699Z"
    },
    "papermill": {
     "duration": 1.06635,
     "end_time": "2022-06-18T18:55:08.409970",
     "exception": false,
     "start_time": "2022-06-18T18:55:07.343620",
     "status": "completed"
    },
    "tags": []
   },
   "outputs": [],
   "source": [
    "import pandas as pd #Dataframe Manipulation library\n",
    "import numpy as np #Data Manipulation library\n",
    "\n",
    "#sklearn modules Collaborative Filtering\n",
    "\n",
    "#Libraries for Plotting \n",
    "import matplotlib.pyplot as plt\n",
    "%matplotlib inline\n",
    "import seaborn as sns\n",
    "sns.set(color_codes=True)\n",
    "sns.set_style('white')"
   ]
  },
  {
   "cell_type": "markdown",
   "id": "5f4580b0",
   "metadata": {
    "papermill": {
     "duration": 0.008522,
     "end_time": "2022-06-18T18:55:08.427563",
     "exception": false,
     "start_time": "2022-06-18T18:55:08.419041",
     "status": "completed"
    },
    "tags": []
   },
   "source": [
    "#### Loading the dataset \n",
    "##### *having details of movie ratings from MovieLens datasets*"
   ]
  },
  {
   "cell_type": "code",
   "execution_count": 2,
   "id": "e8d104d2",
   "metadata": {
    "_cell_guid": "b1076dfc-b9ad-4769-8c92-a6c4dae69d19",
    "_uuid": "8f2839f25d086af736a60e9eeb907d3b93b6e0e5",
    "execution": {
     "iopub.execute_input": "2022-06-18T18:55:08.446901Z",
     "iopub.status.busy": "2022-06-18T18:55:08.446523Z",
     "iopub.status.idle": "2022-06-18T18:55:08.538770Z",
     "shell.execute_reply": "2022-06-18T18:55:08.537879Z"
    },
    "papermill": {
     "duration": 0.104625,
     "end_time": "2022-06-18T18:55:08.541093",
     "exception": false,
     "start_time": "2022-06-18T18:55:08.436468",
     "status": "completed"
    },
    "tags": []
   },
   "outputs": [],
   "source": [
    "column_names = ['User_ID','Movie_ID','Rating','Timestamp']\n",
    "info_df = pd.read_csv('../input/movie-recommendation-dataset/u.data', sep = '\\t', names = column_names)"
   ]
  },
  {
   "cell_type": "code",
   "execution_count": 3,
   "id": "d3ce7057",
   "metadata": {
    "execution": {
     "iopub.execute_input": "2022-06-18T18:55:08.560577Z",
     "iopub.status.busy": "2022-06-18T18:55:08.560205Z",
     "iopub.status.idle": "2022-06-18T18:55:08.577721Z",
     "shell.execute_reply": "2022-06-18T18:55:08.576760Z"
    },
    "papermill": {
     "duration": 0.030293,
     "end_time": "2022-06-18T18:55:08.580277",
     "exception": false,
     "start_time": "2022-06-18T18:55:08.549984",
     "status": "completed"
    },
    "tags": []
   },
   "outputs": [
    {
     "data": {
      "text/html": [
       "<div>\n",
       "<style scoped>\n",
       "    .dataframe tbody tr th:only-of-type {\n",
       "        vertical-align: middle;\n",
       "    }\n",
       "\n",
       "    .dataframe tbody tr th {\n",
       "        vertical-align: top;\n",
       "    }\n",
       "\n",
       "    .dataframe thead th {\n",
       "        text-align: right;\n",
       "    }\n",
       "</style>\n",
       "<table border=\"1\" class=\"dataframe\">\n",
       "  <thead>\n",
       "    <tr style=\"text-align: right;\">\n",
       "      <th></th>\n",
       "      <th>User_ID</th>\n",
       "      <th>Movie_ID</th>\n",
       "      <th>Rating</th>\n",
       "      <th>Timestamp</th>\n",
       "    </tr>\n",
       "  </thead>\n",
       "  <tbody>\n",
       "    <tr>\n",
       "      <th>0</th>\n",
       "      <td>0</td>\n",
       "      <td>50</td>\n",
       "      <td>5</td>\n",
       "      <td>881250949</td>\n",
       "    </tr>\n",
       "    <tr>\n",
       "      <th>1</th>\n",
       "      <td>0</td>\n",
       "      <td>172</td>\n",
       "      <td>5</td>\n",
       "      <td>881250949</td>\n",
       "    </tr>\n",
       "    <tr>\n",
       "      <th>2</th>\n",
       "      <td>0</td>\n",
       "      <td>133</td>\n",
       "      <td>1</td>\n",
       "      <td>881250949</td>\n",
       "    </tr>\n",
       "    <tr>\n",
       "      <th>3</th>\n",
       "      <td>196</td>\n",
       "      <td>242</td>\n",
       "      <td>3</td>\n",
       "      <td>881250949</td>\n",
       "    </tr>\n",
       "    <tr>\n",
       "      <th>4</th>\n",
       "      <td>186</td>\n",
       "      <td>302</td>\n",
       "      <td>3</td>\n",
       "      <td>891717742</td>\n",
       "    </tr>\n",
       "  </tbody>\n",
       "</table>\n",
       "</div>"
      ],
      "text/plain": [
       "   User_ID  Movie_ID  Rating  Timestamp\n",
       "0        0        50       5  881250949\n",
       "1        0       172       5  881250949\n",
       "2        0       133       1  881250949\n",
       "3      196       242       3  881250949\n",
       "4      186       302       3  891717742"
      ]
     },
     "execution_count": 3,
     "metadata": {},
     "output_type": "execute_result"
    }
   ],
   "source": [
    "info_df.head()"
   ]
  },
  {
   "cell_type": "code",
   "execution_count": 4,
   "id": "b56020d5",
   "metadata": {
    "execution": {
     "iopub.execute_input": "2022-06-18T18:55:08.600563Z",
     "iopub.status.busy": "2022-06-18T18:55:08.600178Z",
     "iopub.status.idle": "2022-06-18T18:55:08.648995Z",
     "shell.execute_reply": "2022-06-18T18:55:08.647892Z"
    },
    "papermill": {
     "duration": 0.061882,
     "end_time": "2022-06-18T18:55:08.651264",
     "exception": false,
     "start_time": "2022-06-18T18:55:08.589382",
     "status": "completed"
    },
    "tags": []
   },
   "outputs": [
    {
     "data": {
      "text/html": [
       "<div>\n",
       "<style scoped>\n",
       "    .dataframe tbody tr th:only-of-type {\n",
       "        vertical-align: middle;\n",
       "    }\n",
       "\n",
       "    .dataframe tbody tr th {\n",
       "        vertical-align: top;\n",
       "    }\n",
       "\n",
       "    .dataframe thead th {\n",
       "        text-align: right;\n",
       "    }\n",
       "</style>\n",
       "<table border=\"1\" class=\"dataframe\">\n",
       "  <thead>\n",
       "    <tr style=\"text-align: right;\">\n",
       "      <th></th>\n",
       "      <th>User_ID</th>\n",
       "      <th>Movie_ID</th>\n",
       "      <th>Rating</th>\n",
       "      <th>Timestamp</th>\n",
       "    </tr>\n",
       "  </thead>\n",
       "  <tbody>\n",
       "    <tr>\n",
       "      <th>count</th>\n",
       "      <td>100003.000000</td>\n",
       "      <td>100003.000000</td>\n",
       "      <td>100003.000000</td>\n",
       "      <td>1.000030e+05</td>\n",
       "    </tr>\n",
       "    <tr>\n",
       "      <th>mean</th>\n",
       "      <td>462.470876</td>\n",
       "      <td>425.520914</td>\n",
       "      <td>3.529864</td>\n",
       "      <td>8.835288e+08</td>\n",
       "    </tr>\n",
       "    <tr>\n",
       "      <th>std</th>\n",
       "      <td>266.622454</td>\n",
       "      <td>330.797791</td>\n",
       "      <td>1.125704</td>\n",
       "      <td>5.343791e+06</td>\n",
       "    </tr>\n",
       "    <tr>\n",
       "      <th>min</th>\n",
       "      <td>0.000000</td>\n",
       "      <td>1.000000</td>\n",
       "      <td>1.000000</td>\n",
       "      <td>8.747247e+08</td>\n",
       "    </tr>\n",
       "    <tr>\n",
       "      <th>25%</th>\n",
       "      <td>254.000000</td>\n",
       "      <td>175.000000</td>\n",
       "      <td>3.000000</td>\n",
       "      <td>8.794487e+08</td>\n",
       "    </tr>\n",
       "    <tr>\n",
       "      <th>50%</th>\n",
       "      <td>447.000000</td>\n",
       "      <td>322.000000</td>\n",
       "      <td>4.000000</td>\n",
       "      <td>8.828269e+08</td>\n",
       "    </tr>\n",
       "    <tr>\n",
       "      <th>75%</th>\n",
       "      <td>682.000000</td>\n",
       "      <td>631.000000</td>\n",
       "      <td>4.000000</td>\n",
       "      <td>8.882600e+08</td>\n",
       "    </tr>\n",
       "    <tr>\n",
       "      <th>max</th>\n",
       "      <td>943.000000</td>\n",
       "      <td>1682.000000</td>\n",
       "      <td>5.000000</td>\n",
       "      <td>8.932866e+08</td>\n",
       "    </tr>\n",
       "  </tbody>\n",
       "</table>\n",
       "</div>"
      ],
      "text/plain": [
       "             User_ID       Movie_ID         Rating     Timestamp\n",
       "count  100003.000000  100003.000000  100003.000000  1.000030e+05\n",
       "mean      462.470876     425.520914       3.529864  8.835288e+08\n",
       "std       266.622454     330.797791       1.125704  5.343791e+06\n",
       "min         0.000000       1.000000       1.000000  8.747247e+08\n",
       "25%       254.000000     175.000000       3.000000  8.794487e+08\n",
       "50%       447.000000     322.000000       4.000000  8.828269e+08\n",
       "75%       682.000000     631.000000       4.000000  8.882600e+08\n",
       "max       943.000000    1682.000000       5.000000  8.932866e+08"
      ]
     },
     "execution_count": 4,
     "metadata": {},
     "output_type": "execute_result"
    }
   ],
   "source": [
    "#Descriptive statistics of the dataset\n",
    "info_df.describe()"
   ]
  },
  {
   "cell_type": "markdown",
   "id": "8faee816",
   "metadata": {
    "papermill": {
     "duration": 0.009324,
     "end_time": "2022-06-18T18:55:08.670267",
     "exception": false,
     "start_time": "2022-06-18T18:55:08.660943",
     "status": "completed"
    },
    "tags": []
   },
   "source": [
    "*The dataset has 1,00,000 ratings given by 943 users for 1682 movies on a scale of 1 to 5*"
   ]
  },
  {
   "cell_type": "markdown",
   "id": "fda5838b",
   "metadata": {
    "papermill": {
     "duration": 0.00913,
     "end_time": "2022-06-18T18:55:08.689073",
     "exception": false,
     "start_time": "2022-06-18T18:55:08.679943",
     "status": "completed"
    },
    "tags": []
   },
   "source": [
    "#### Loading the dataset \n",
    "##### *having movie titles from MovieLens datasets*"
   ]
  },
  {
   "cell_type": "code",
   "execution_count": 5,
   "id": "14cf61b3",
   "metadata": {
    "execution": {
     "iopub.execute_input": "2022-06-18T18:55:08.709508Z",
     "iopub.status.busy": "2022-06-18T18:55:08.708968Z",
     "iopub.status.idle": "2022-06-18T18:55:08.728185Z",
     "shell.execute_reply": "2022-06-18T18:55:08.727555Z"
    },
    "papermill": {
     "duration": 0.031502,
     "end_time": "2022-06-18T18:55:08.729958",
     "exception": false,
     "start_time": "2022-06-18T18:55:08.698456",
     "status": "completed"
    },
    "tags": []
   },
   "outputs": [
    {
     "data": {
      "text/html": [
       "<div>\n",
       "<style scoped>\n",
       "    .dataframe tbody tr th:only-of-type {\n",
       "        vertical-align: middle;\n",
       "    }\n",
       "\n",
       "    .dataframe tbody tr th {\n",
       "        vertical-align: top;\n",
       "    }\n",
       "\n",
       "    .dataframe thead th {\n",
       "        text-align: right;\n",
       "    }\n",
       "</style>\n",
       "<table border=\"1\" class=\"dataframe\">\n",
       "  <thead>\n",
       "    <tr style=\"text-align: right;\">\n",
       "      <th></th>\n",
       "      <th>Movie_ID</th>\n",
       "      <th>Movie_Title</th>\n",
       "    </tr>\n",
       "  </thead>\n",
       "  <tbody>\n",
       "    <tr>\n",
       "      <th>0</th>\n",
       "      <td>1</td>\n",
       "      <td>Toy Story (1995)</td>\n",
       "    </tr>\n",
       "    <tr>\n",
       "      <th>1</th>\n",
       "      <td>2</td>\n",
       "      <td>GoldenEye (1995)</td>\n",
       "    </tr>\n",
       "    <tr>\n",
       "      <th>2</th>\n",
       "      <td>3</td>\n",
       "      <td>Four Rooms (1995)</td>\n",
       "    </tr>\n",
       "    <tr>\n",
       "      <th>3</th>\n",
       "      <td>4</td>\n",
       "      <td>Get Shorty (1995)</td>\n",
       "    </tr>\n",
       "    <tr>\n",
       "      <th>4</th>\n",
       "      <td>5</td>\n",
       "      <td>Copycat (1995)</td>\n",
       "    </tr>\n",
       "  </tbody>\n",
       "</table>\n",
       "</div>"
      ],
      "text/plain": [
       "   Movie_ID        Movie_Title\n",
       "0         1   Toy Story (1995)\n",
       "1         2   GoldenEye (1995)\n",
       "2         3  Four Rooms (1995)\n",
       "3         4  Get Shorty (1995)\n",
       "4         5     Copycat (1995)"
      ]
     },
     "execution_count": 5,
     "metadata": {},
     "output_type": "execute_result"
    }
   ],
   "source": [
    "movie_title_df = pd.read_csv(\"../input/movie-recommendation-dataset/Movie_Id_Titles\")\n",
    "movie_title_df.rename(columns = {'item_id':'Movie_ID', 'title':'Movie_Title'}, inplace = True)\n",
    "movie_title_df.head()"
   ]
  },
  {
   "cell_type": "markdown",
   "id": "43130acf",
   "metadata": {
    "papermill": {
     "duration": 0.009745,
     "end_time": "2022-06-18T18:55:08.749201",
     "exception": false,
     "start_time": "2022-06-18T18:55:08.739456",
     "status": "completed"
    },
    "tags": []
   },
   "source": [
    "*Merging the datasets*"
   ]
  },
  {
   "cell_type": "code",
   "execution_count": 6,
   "id": "1814f751",
   "metadata": {
    "execution": {
     "iopub.execute_input": "2022-06-18T18:55:08.770344Z",
     "iopub.status.busy": "2022-06-18T18:55:08.769710Z",
     "iopub.status.idle": "2022-06-18T18:55:08.793955Z",
     "shell.execute_reply": "2022-06-18T18:55:08.792845Z"
    },
    "papermill": {
     "duration": 0.037246,
     "end_time": "2022-06-18T18:55:08.796094",
     "exception": false,
     "start_time": "2022-06-18T18:55:08.758848",
     "status": "completed"
    },
    "tags": []
   },
   "outputs": [],
   "source": [
    "info_df = pd.merge(info_df,movie_title_df, on='Movie_ID')"
   ]
  },
  {
   "cell_type": "code",
   "execution_count": 7,
   "id": "6d580095",
   "metadata": {
    "execution": {
     "iopub.execute_input": "2022-06-18T18:55:08.816931Z",
     "iopub.status.busy": "2022-06-18T18:55:08.816329Z",
     "iopub.status.idle": "2022-06-18T18:55:08.823286Z",
     "shell.execute_reply": "2022-06-18T18:55:08.822581Z"
    },
    "papermill": {
     "duration": 0.020722,
     "end_time": "2022-06-18T18:55:08.826221",
     "exception": false,
     "start_time": "2022-06-18T18:55:08.805499",
     "status": "completed"
    },
    "tags": []
   },
   "outputs": [
    {
     "name": "stdout",
     "output_type": "stream",
     "text": [
      "   User_ID  Movie_ID  Rating  Timestamp       Movie_Title\n",
      "0        0        50       5  881250949  Star Wars (1977)\n",
      "1      290        50       5  880473582  Star Wars (1977)\n",
      "2       79        50       4  891271545  Star Wars (1977)\n",
      "3        2        50       5  888552084  Star Wars (1977)\n",
      "4        8        50       5  879362124  Star Wars (1977)\n",
      "\n",
      " Size of the rating_df dataset is (100003, 5)\n"
     ]
    }
   ],
   "source": [
    "print(info_df.head())\n",
    "print(f\"\\n Size of the rating_df dataset is {info_df.shape}\")"
   ]
  },
  {
   "cell_type": "markdown",
   "id": "1b490497",
   "metadata": {
    "papermill": {
     "duration": 0.009247,
     "end_time": "2022-06-18T18:55:08.846147",
     "exception": false,
     "start_time": "2022-06-18T18:55:08.836900",
     "status": "completed"
    },
    "tags": []
   },
   "source": [
    "##### Exploring the data"
   ]
  },
  {
   "cell_type": "code",
   "execution_count": 8,
   "id": "306a9618",
   "metadata": {
    "execution": {
     "iopub.execute_input": "2022-06-18T18:55:08.867136Z",
     "iopub.status.busy": "2022-06-18T18:55:08.866529Z",
     "iopub.status.idle": "2022-06-18T18:55:08.891881Z",
     "shell.execute_reply": "2022-06-18T18:55:08.891063Z"
    },
    "papermill": {
     "duration": 0.038237,
     "end_time": "2022-06-18T18:55:08.893848",
     "exception": false,
     "start_time": "2022-06-18T18:55:08.855611",
     "status": "completed"
    },
    "tags": []
   },
   "outputs": [
    {
     "data": {
      "text/plain": [
       "Movie_Title\n",
       "They Made Me a Criminal (1939)                5.0\n",
       "Marlene Dietrich: Shadow and Light (1996)     5.0\n",
       "Saint of Fort Washington, The (1993)          5.0\n",
       "Someone Else's America (1995)                 5.0\n",
       "Star Kid (1997)                               5.0\n",
       "Name: Rating, dtype: float64"
      ]
     },
     "execution_count": 8,
     "metadata": {},
     "output_type": "execute_result"
    }
   ],
   "source": [
    "info_df.groupby('Movie_Title')['Rating'].mean().sort_values(ascending = False).head()\n",
    "#Group By combines similar values in a given column, col1, \n",
    "#col2 to aggregate the values of col1 to the level of now the unique values of dataframe\n",
    "#and using mean to perform aggregation and sort them in descending order"
   ]
  },
  {
   "cell_type": "markdown",
   "id": "8655c9d0",
   "metadata": {
    "papermill": {
     "duration": 0.009324,
     "end_time": "2022-06-18T18:55:08.912873",
     "exception": false,
     "start_time": "2022-06-18T18:55:08.903549",
     "status": "completed"
    },
    "tags": []
   },
   "source": [
    "*Top 5 **Highly rated** movies     \n",
    "The movies are grouped based on the average ratings for given a movie by multiple users*"
   ]
  },
  {
   "cell_type": "code",
   "execution_count": 9,
   "id": "48705d52",
   "metadata": {
    "execution": {
     "iopub.execute_input": "2022-06-18T18:55:08.934047Z",
     "iopub.status.busy": "2022-06-18T18:55:08.933170Z",
     "iopub.status.idle": "2022-06-18T18:55:08.956081Z",
     "shell.execute_reply": "2022-06-18T18:55:08.955065Z"
    },
    "papermill": {
     "duration": 0.035785,
     "end_time": "2022-06-18T18:55:08.958314",
     "exception": false,
     "start_time": "2022-06-18T18:55:08.922529",
     "status": "completed"
    },
    "tags": []
   },
   "outputs": [
    {
     "data": {
      "text/plain": [
       "Movie_Title\n",
       "Star Wars (1977)             584\n",
       "Contact (1997)               509\n",
       "Fargo (1996)                 508\n",
       "Return of the Jedi (1983)    507\n",
       "Liar Liar (1997)             485\n",
       "Name: Rating, dtype: int64"
      ]
     },
     "execution_count": 9,
     "metadata": {},
     "output_type": "execute_result"
    }
   ],
   "source": [
    "info_df.groupby('Movie_Title')['Rating'].count().sort_values(ascending = False).head()"
   ]
  },
  {
   "cell_type": "markdown",
   "id": "b632602f",
   "metadata": {
    "papermill": {
     "duration": 0.009561,
     "end_time": "2022-06-18T18:55:08.977643",
     "exception": false,
     "start_time": "2022-06-18T18:55:08.968082",
     "status": "completed"
    },
    "tags": []
   },
   "source": [
    "*Top 5 **most frequently rated** movies     \n",
    "The movies are grouped based on the number of times a rating is given to a movie by users*"
   ]
  },
  {
   "cell_type": "markdown",
   "id": "3d805468",
   "metadata": {
    "papermill": {
     "duration": 0.009906,
     "end_time": "2022-06-18T18:55:08.997175",
     "exception": false,
     "start_time": "2022-06-18T18:55:08.987269",
     "status": "completed"
    },
    "tags": []
   },
   "source": [
    "##### Creating a new DataFrame *Rating*"
   ]
  },
  {
   "cell_type": "code",
   "execution_count": 10,
   "id": "5741fd42",
   "metadata": {
    "execution": {
     "iopub.execute_input": "2022-06-18T18:55:09.019221Z",
     "iopub.status.busy": "2022-06-18T18:55:09.018615Z",
     "iopub.status.idle": "2022-06-18T18:55:09.037249Z",
     "shell.execute_reply": "2022-06-18T18:55:09.036474Z"
    },
    "papermill": {
     "duration": 0.032459,
     "end_time": "2022-06-18T18:55:09.039496",
     "exception": false,
     "start_time": "2022-06-18T18:55:09.007037",
     "status": "completed"
    },
    "tags": []
   },
   "outputs": [],
   "source": [
    "#Dataframe with Average Ratings and Number of Ratings\n",
    "rating_df = pd.DataFrame(info_df.groupby('Movie_Title')['Rating'].mean())"
   ]
  },
  {
   "cell_type": "code",
   "execution_count": 11,
   "id": "5a3476d1",
   "metadata": {
    "execution": {
     "iopub.execute_input": "2022-06-18T18:55:09.060472Z",
     "iopub.status.busy": "2022-06-18T18:55:09.060123Z",
     "iopub.status.idle": "2022-06-18T18:55:09.078804Z",
     "shell.execute_reply": "2022-06-18T18:55:09.077970Z"
    },
    "papermill": {
     "duration": 0.031659,
     "end_time": "2022-06-18T18:55:09.081021",
     "exception": false,
     "start_time": "2022-06-18T18:55:09.049362",
     "status": "completed"
    },
    "tags": []
   },
   "outputs": [],
   "source": [
    "#Rating_Count: Number a times a rating was given to a movie\n",
    "rating_df['Rating_Count'] = pd.DataFrame(info_df.groupby('Movie_Title')['Rating'].count())"
   ]
  },
  {
   "cell_type": "code",
   "execution_count": 12,
   "id": "632f2c05",
   "metadata": {
    "execution": {
     "iopub.execute_input": "2022-06-18T18:55:09.102672Z",
     "iopub.status.busy": "2022-06-18T18:55:09.102292Z",
     "iopub.status.idle": "2022-06-18T18:55:09.118903Z",
     "shell.execute_reply": "2022-06-18T18:55:09.117961Z"
    },
    "papermill": {
     "duration": 0.030395,
     "end_time": "2022-06-18T18:55:09.121319",
     "exception": false,
     "start_time": "2022-06-18T18:55:09.090924",
     "status": "completed"
    },
    "tags": []
   },
   "outputs": [
    {
     "data": {
      "text/html": [
       "<div>\n",
       "<style scoped>\n",
       "    .dataframe tbody tr th:only-of-type {\n",
       "        vertical-align: middle;\n",
       "    }\n",
       "\n",
       "    .dataframe tbody tr th {\n",
       "        vertical-align: top;\n",
       "    }\n",
       "\n",
       "    .dataframe thead th {\n",
       "        text-align: right;\n",
       "    }\n",
       "</style>\n",
       "<table border=\"1\" class=\"dataframe\">\n",
       "  <thead>\n",
       "    <tr style=\"text-align: right;\">\n",
       "      <th></th>\n",
       "      <th>Rating</th>\n",
       "      <th>Rating_Count</th>\n",
       "    </tr>\n",
       "  </thead>\n",
       "  <tbody>\n",
       "    <tr>\n",
       "      <th>count</th>\n",
       "      <td>1664.000000</td>\n",
       "      <td>1664.000000</td>\n",
       "    </tr>\n",
       "    <tr>\n",
       "      <th>mean</th>\n",
       "      <td>3.077010</td>\n",
       "      <td>60.097957</td>\n",
       "    </tr>\n",
       "    <tr>\n",
       "      <th>std</th>\n",
       "      <td>0.780411</td>\n",
       "      <td>80.963482</td>\n",
       "    </tr>\n",
       "    <tr>\n",
       "      <th>min</th>\n",
       "      <td>1.000000</td>\n",
       "      <td>1.000000</td>\n",
       "    </tr>\n",
       "    <tr>\n",
       "      <th>25%</th>\n",
       "      <td>2.665094</td>\n",
       "      <td>7.000000</td>\n",
       "    </tr>\n",
       "    <tr>\n",
       "      <th>50%</th>\n",
       "      <td>3.162132</td>\n",
       "      <td>27.000000</td>\n",
       "    </tr>\n",
       "    <tr>\n",
       "      <th>75%</th>\n",
       "      <td>3.651808</td>\n",
       "      <td>80.250000</td>\n",
       "    </tr>\n",
       "    <tr>\n",
       "      <th>max</th>\n",
       "      <td>5.000000</td>\n",
       "      <td>584.000000</td>\n",
       "    </tr>\n",
       "  </tbody>\n",
       "</table>\n",
       "</div>"
      ],
      "text/plain": [
       "            Rating  Rating_Count\n",
       "count  1664.000000   1664.000000\n",
       "mean      3.077010     60.097957\n",
       "std       0.780411     80.963482\n",
       "min       1.000000      1.000000\n",
       "25%       2.665094      7.000000\n",
       "50%       3.162132     27.000000\n",
       "75%       3.651808     80.250000\n",
       "max       5.000000    584.000000"
      ]
     },
     "execution_count": 12,
     "metadata": {},
     "output_type": "execute_result"
    }
   ],
   "source": [
    "rating_df.describe()"
   ]
  },
  {
   "cell_type": "markdown",
   "id": "882f641c",
   "metadata": {
    "papermill": {
     "duration": 0.009987,
     "end_time": "2022-06-18T18:55:09.141507",
     "exception": false,
     "start_time": "2022-06-18T18:55:09.131520",
     "status": "completed"
    },
    "tags": []
   },
   "source": [
    "##### Visualizing the data\n",
    "##### **Histogram**    \n",
    "to plot the frequencies at an aggregate level of a given category"
   ]
  },
  {
   "cell_type": "code",
   "execution_count": 13,
   "id": "bc5ca167",
   "metadata": {
    "execution": {
     "iopub.execute_input": "2022-06-18T18:55:09.163642Z",
     "iopub.status.busy": "2022-06-18T18:55:09.162892Z",
     "iopub.status.idle": "2022-06-18T18:55:09.410384Z",
     "shell.execute_reply": "2022-06-18T18:55:09.409363Z"
    },
    "papermill": {
     "duration": 0.260817,
     "end_time": "2022-06-18T18:55:09.412537",
     "exception": false,
     "start_time": "2022-06-18T18:55:09.151720",
     "status": "completed"
    },
    "tags": []
   },
   "outputs": [
    {
     "data": {
      "text/plain": [
       "<AxesSubplot:>"
      ]
     },
     "execution_count": 13,
     "metadata": {},
     "output_type": "execute_result"
    },
    {
     "data": {
      "image/png": "[encoded data removed]",
      "text/plain": [
       "<Figure size 432x288 with 1 Axes>"
      ]
     },
     "metadata": {},
     "output_type": "display_data"
    }
   ],
   "source": [
    "rating_df['Rating_Count'].hist(bins = 20)"
   ]
  },
  {
   "cell_type": "code",
   "execution_count": 14,
   "id": "33100f50",
   "metadata": {
    "execution": {
     "iopub.execute_input": "2022-06-18T18:55:09.435430Z",
     "iopub.status.busy": "2022-06-18T18:55:09.435013Z",
     "iopub.status.idle": "2022-06-18T18:55:09.707505Z",
     "shell.execute_reply": "2022-06-18T18:55:09.706611Z"
    },
    "papermill": {
     "duration": 0.286864,
     "end_time": "2022-06-18T18:55:09.709907",
     "exception": false,
     "start_time": "2022-06-18T18:55:09.423043",
     "status": "completed"
    },
    "tags": []
   },
   "outputs": [
    {
     "data": {
      "text/plain": [
       "<AxesSubplot:>"
      ]
     },
     "execution_count": 14,
     "metadata": {},
     "output_type": "execute_result"
    },
    {
     "data": {
      "image/png": "[encoded data removed]",
      "text/plain": [
       "<Figure size 432x288 with 1 Axes>"
      ]
     },
     "metadata": {},
     "output_type": "display_data"
    }
   ],
   "source": [
    "rating_df['Rating'].hist(bins = 20)"
   ]
  },
  {
   "cell_type": "markdown",
   "id": "2b24ac7d",
   "metadata": {
    "papermill": {
     "duration": 0.010765,
     "end_time": "2022-06-18T18:55:09.731463",
     "exception": false,
     "start_time": "2022-06-18T18:55:09.720698",
     "status": "completed"
    },
    "tags": []
   },
   "source": [
    "*Most of the movies are given an average rating of 3.0*"
   ]
  },
  {
   "cell_type": "code",
   "execution_count": 15,
   "id": "e097176b",
   "metadata": {
    "execution": {
     "iopub.execute_input": "2022-06-18T18:55:09.755588Z",
     "iopub.status.busy": "2022-06-18T18:55:09.754643Z",
     "iopub.status.idle": "2022-06-18T18:55:10.456001Z",
     "shell.execute_reply": "2022-06-18T18:55:10.455344Z"
    },
    "papermill": {
     "duration": 0.715388,
     "end_time": "2022-06-18T18:55:10.457988",
     "exception": false,
     "start_time": "2022-06-18T18:55:09.742600",
     "status": "completed"
    },
    "tags": []
   },
   "outputs": [
    {
     "data": {
      "text/plain": [
       "<seaborn.axisgrid.JointGrid at 0x7f4a051033d0>"
      ]
     },
     "execution_count": 15,
     "metadata": {},
     "output_type": "execute_result"
    },
    {
     "data": {
      "image/png": "[encoded data removed]",
      "text/plain": [
       "<Figure size 432x432 with 3 Axes>"
      ]
     },
     "metadata": {},
     "output_type": "display_data"
    }
   ],
   "source": [
    "sns.jointplot(x = 'Rating',y = 'Rating_Count', data = rating_df , alpha = 0.5)"
   ]
  },
  {
   "cell_type": "markdown",
   "id": "a0aff624",
   "metadata": {
    "papermill": {
     "duration": 0.011574,
     "end_time": "2022-06-18T18:55:10.482309",
     "exception": false,
     "start_time": "2022-06-18T18:55:10.470735",
     "status": "completed"
    },
    "tags": []
   },
   "source": [
    "*The movies that are most watched also have high rating*"
   ]
  },
  {
   "cell_type": "markdown",
   "id": "cf6cf8be",
   "metadata": {
    "papermill": {
     "duration": 0.011634,
     "end_time": "2022-06-18T18:55:10.505617",
     "exception": false,
     "start_time": "2022-06-18T18:55:10.493983",
     "status": "completed"
    },
    "tags": []
   },
   "source": [
    "**Collaborative Filtering Recommendation Engines**    \n",
    "Focusing on the ratings given by the similar users     \n",
    "Identifing the similar users    \n",
    "Taking the weighted average of the movies watched by other users      \n",
    "Most similar movies or movies predicted to be given the most ratings can be filtered and provided as recommended movies"
   ]
  },
  {
   "cell_type": "markdown",
   "id": "2da3c166",
   "metadata": {
    "papermill": {
     "duration": 0.011513,
     "end_time": "2022-06-18T18:55:10.529037",
     "exception": false,
     "start_time": "2022-06-18T18:55:10.517524",
     "status": "completed"
    },
    "tags": []
   },
   "source": [
    "##### Recommending Similar Movies using ***Collaborative Filtering***"
   ]
  },
  {
   "cell_type": "markdown",
   "id": "0cc24d43",
   "metadata": {
    "papermill": {
     "duration": 0.011361,
     "end_time": "2022-06-18T18:55:10.552034",
     "exception": false,
     "start_time": "2022-06-18T18:55:10.540673",
     "status": "completed"
    },
    "tags": []
   },
   "source": [
    "Create a matrix that has User_IDs on one axis and the Movie_Title on another axis.    \n",
    "Each cell will then consist of the rating the user has given to a movie.       \n",
    "NaN values are because most people have not seen most of the movies."
   ]
  },
  {
   "cell_type": "code",
   "execution_count": 16,
   "id": "84d1340b",
   "metadata": {
    "execution": {
     "iopub.execute_input": "2022-06-18T18:55:10.577857Z",
     "iopub.status.busy": "2022-06-18T18:55:10.577241Z",
     "iopub.status.idle": "2022-06-18T18:55:10.582700Z",
     "shell.execute_reply": "2022-06-18T18:55:10.582125Z"
    },
    "papermill": {
     "duration": 0.020746,
     "end_time": "2022-06-18T18:55:10.584478",
     "exception": false,
     "start_time": "2022-06-18T18:55:10.563732",
     "status": "completed"
    },
    "tags": []
   },
   "outputs": [
    {
     "data": {
      "text/plain": [
       "Index(['User_ID', 'Movie_ID', 'Rating', 'Timestamp', 'Movie_Title'], dtype='object')"
      ]
     },
     "execution_count": 16,
     "metadata": {},
     "output_type": "execute_result"
    }
   ],
   "source": [
    "info_df.columns"
   ]
  },
  {
   "cell_type": "code",
   "execution_count": 17,
   "id": "20fb829f",
   "metadata": {
    "execution": {
     "iopub.execute_input": "2022-06-18T18:55:10.610528Z",
     "iopub.status.busy": "2022-06-18T18:55:10.609894Z",
     "iopub.status.idle": "2022-06-18T18:55:10.770622Z",
     "shell.execute_reply": "2022-06-18T18:55:10.769977Z"
    },
    "papermill": {
     "duration": 0.1758,
     "end_time": "2022-06-18T18:55:10.772436",
     "exception": false,
     "start_time": "2022-06-18T18:55:10.596636",
     "status": "completed"
    },
    "tags": []
   },
   "outputs": [
    {
     "data": {
      "text/html": [
       "<div>\n",
       "<style scoped>\n",
       "    .dataframe tbody tr th:only-of-type {\n",
       "        vertical-align: middle;\n",
       "    }\n",
       "\n",
       "    .dataframe tbody tr th {\n",
       "        vertical-align: top;\n",
       "    }\n",
       "\n",
       "    .dataframe thead th {\n",
       "        text-align: right;\n",
       "    }\n",
       "</style>\n",
       "<table border=\"1\" class=\"dataframe\">\n",
       "  <thead>\n",
       "    <tr style=\"text-align: right;\">\n",
       "      <th>Movie_Title</th>\n",
       "      <th>'Til There Was You (1997)</th>\n",
       "      <th>1-900 (1994)</th>\n",
       "      <th>101 Dalmatians (1996)</th>\n",
       "      <th>12 Angry Men (1957)</th>\n",
       "      <th>187 (1997)</th>\n",
       "      <th>2 Days in the Valley (1996)</th>\n",
       "      <th>20,000 Leagues Under the Sea (1954)</th>\n",
       "      <th>2001: A Space Odyssey (1968)</th>\n",
       "      <th>3 Ninjas: High Noon At Mega Mountain (1998)</th>\n",
       "      <th>39 Steps, The (1935)</th>\n",
       "      <th>...</th>\n",
       "      <th>Yankee Zulu (1994)</th>\n",
       "      <th>Year of the Horse (1997)</th>\n",
       "      <th>You So Crazy (1994)</th>\n",
       "      <th>Young Frankenstein (1974)</th>\n",
       "      <th>Young Guns (1988)</th>\n",
       "      <th>Young Guns II (1990)</th>\n",
       "      <th>Young Poisoner's Handbook, The (1995)</th>\n",
       "      <th>Zeus and Roxanne (1997)</th>\n",
       "      <th>unknown</th>\n",
       "      <th>Á köldum klaka (Cold Fever) (1994)</th>\n",
       "    </tr>\n",
       "    <tr>\n",
       "      <th>User_ID</th>\n",
       "      <th></th>\n",
       "      <th></th>\n",
       "      <th></th>\n",
       "      <th></th>\n",
       "      <th></th>\n",
       "      <th></th>\n",
       "      <th></th>\n",
       "      <th></th>\n",
       "      <th></th>\n",
       "      <th></th>\n",
       "      <th></th>\n",
       "      <th></th>\n",
       "      <th></th>\n",
       "      <th></th>\n",
       "      <th></th>\n",
       "      <th></th>\n",
       "      <th></th>\n",
       "      <th></th>\n",
       "      <th></th>\n",
       "      <th></th>\n",
       "      <th></th>\n",
       "    </tr>\n",
       "  </thead>\n",
       "  <tbody>\n",
       "    <tr>\n",
       "      <th>0</th>\n",
       "      <td>NaN</td>\n",
       "      <td>NaN</td>\n",
       "      <td>NaN</td>\n",
       "      <td>NaN</td>\n",
       "      <td>NaN</td>\n",
       "      <td>NaN</td>\n",
       "      <td>NaN</td>\n",
       "      <td>NaN</td>\n",
       "      <td>NaN</td>\n",
       "      <td>NaN</td>\n",
       "      <td>...</td>\n",
       "      <td>NaN</td>\n",
       "      <td>NaN</td>\n",
       "      <td>NaN</td>\n",
       "      <td>NaN</td>\n",
       "      <td>NaN</td>\n",
       "      <td>NaN</td>\n",
       "      <td>NaN</td>\n",
       "      <td>NaN</td>\n",
       "      <td>NaN</td>\n",
       "      <td>NaN</td>\n",
       "    </tr>\n",
       "    <tr>\n",
       "      <th>1</th>\n",
       "      <td>NaN</td>\n",
       "      <td>NaN</td>\n",
       "      <td>2.0</td>\n",
       "      <td>5.0</td>\n",
       "      <td>NaN</td>\n",
       "      <td>NaN</td>\n",
       "      <td>3.0</td>\n",
       "      <td>4.0</td>\n",
       "      <td>NaN</td>\n",
       "      <td>NaN</td>\n",
       "      <td>...</td>\n",
       "      <td>NaN</td>\n",
       "      <td>NaN</td>\n",
       "      <td>NaN</td>\n",
       "      <td>5.0</td>\n",
       "      <td>3.0</td>\n",
       "      <td>NaN</td>\n",
       "      <td>NaN</td>\n",
       "      <td>NaN</td>\n",
       "      <td>4.0</td>\n",
       "      <td>NaN</td>\n",
       "    </tr>\n",
       "    <tr>\n",
       "      <th>2</th>\n",
       "      <td>NaN</td>\n",
       "      <td>NaN</td>\n",
       "      <td>NaN</td>\n",
       "      <td>NaN</td>\n",
       "      <td>NaN</td>\n",
       "      <td>NaN</td>\n",
       "      <td>NaN</td>\n",
       "      <td>NaN</td>\n",
       "      <td>1.0</td>\n",
       "      <td>NaN</td>\n",
       "      <td>...</td>\n",
       "      <td>NaN</td>\n",
       "      <td>NaN</td>\n",
       "      <td>NaN</td>\n",
       "      <td>NaN</td>\n",
       "      <td>NaN</td>\n",
       "      <td>NaN</td>\n",
       "      <td>NaN</td>\n",
       "      <td>NaN</td>\n",
       "      <td>NaN</td>\n",
       "      <td>NaN</td>\n",
       "    </tr>\n",
       "    <tr>\n",
       "      <th>3</th>\n",
       "      <td>NaN</td>\n",
       "      <td>NaN</td>\n",
       "      <td>NaN</td>\n",
       "      <td>NaN</td>\n",
       "      <td>2.0</td>\n",
       "      <td>NaN</td>\n",
       "      <td>NaN</td>\n",
       "      <td>NaN</td>\n",
       "      <td>NaN</td>\n",
       "      <td>NaN</td>\n",
       "      <td>...</td>\n",
       "      <td>NaN</td>\n",
       "      <td>NaN</td>\n",
       "      <td>NaN</td>\n",
       "      <td>NaN</td>\n",
       "      <td>NaN</td>\n",
       "      <td>NaN</td>\n",
       "      <td>NaN</td>\n",
       "      <td>NaN</td>\n",
       "      <td>NaN</td>\n",
       "      <td>NaN</td>\n",
       "    </tr>\n",
       "    <tr>\n",
       "      <th>4</th>\n",
       "      <td>NaN</td>\n",
       "      <td>NaN</td>\n",
       "      <td>NaN</td>\n",
       "      <td>NaN</td>\n",
       "      <td>NaN</td>\n",
       "      <td>NaN</td>\n",
       "      <td>NaN</td>\n",
       "      <td>NaN</td>\n",
       "      <td>NaN</td>\n",
       "      <td>NaN</td>\n",
       "      <td>...</td>\n",
       "      <td>NaN</td>\n",
       "      <td>NaN</td>\n",
       "      <td>NaN</td>\n",
       "      <td>NaN</td>\n",
       "      <td>NaN</td>\n",
       "      <td>NaN</td>\n",
       "      <td>NaN</td>\n",
       "      <td>NaN</td>\n",
       "      <td>NaN</td>\n",
       "      <td>NaN</td>\n",
       "    </tr>\n",
       "  </tbody>\n",
       "</table>\n",
       "<p>5 rows × 1664 columns</p>\n",
       "</div>"
      ],
      "text/plain": [
       "Movie_Title  'Til There Was You (1997)  1-900 (1994)  101 Dalmatians (1996)  \\\n",
       "User_ID                                                                       \n",
       "0                                  NaN           NaN                    NaN   \n",
       "1                                  NaN           NaN                    2.0   \n",
       "2                                  NaN           NaN                    NaN   \n",
       "3                                  NaN           NaN                    NaN   \n",
       "4                                  NaN           NaN                    NaN   \n",
       "\n",
       "Movie_Title  12 Angry Men (1957)  187 (1997)  2 Days in the Valley (1996)  \\\n",
       "User_ID                                                                     \n",
       "0                            NaN         NaN                          NaN   \n",
       "1                            5.0         NaN                          NaN   \n",
       "2                            NaN         NaN                          NaN   \n",
       "3                            NaN         2.0                          NaN   \n",
       "4                            NaN         NaN                          NaN   \n",
       "\n",
       "Movie_Title  20,000 Leagues Under the Sea (1954)  \\\n",
       "User_ID                                            \n",
       "0                                            NaN   \n",
       "1                                            3.0   \n",
       "2                                            NaN   \n",
       "3                                            NaN   \n",
       "4                                            NaN   \n",
       "\n",
       "Movie_Title  2001: A Space Odyssey (1968)  \\\n",
       "User_ID                                     \n",
       "0                                     NaN   \n",
       "1                                     4.0   \n",
       "2                                     NaN   \n",
       "3                                     NaN   \n",
       "4                                     NaN   \n",
       "\n",
       "Movie_Title  3 Ninjas: High Noon At Mega Mountain (1998)  \\\n",
       "User_ID                                                    \n",
       "0                                                    NaN   \n",
       "1                                                    NaN   \n",
       "2                                                    1.0   \n",
       "3                                                    NaN   \n",
       "4                                                    NaN   \n",
       "\n",
       "Movie_Title  39 Steps, The (1935)  ...  Yankee Zulu (1994)  \\\n",
       "User_ID                            ...                       \n",
       "0                             NaN  ...                 NaN   \n",
       "1                             NaN  ...                 NaN   \n",
       "2                             NaN  ...                 NaN   \n",
       "3                             NaN  ...                 NaN   \n",
       "4                             NaN  ...                 NaN   \n",
       "\n",
       "Movie_Title  Year of the Horse (1997)  You So Crazy (1994)  \\\n",
       "User_ID                                                      \n",
       "0                                 NaN                  NaN   \n",
       "1                                 NaN                  NaN   \n",
       "2                                 NaN                  NaN   \n",
       "3                                 NaN                  NaN   \n",
       "4                                 NaN                  NaN   \n",
       "\n",
       "Movie_Title  Young Frankenstein (1974)  Young Guns (1988)  \\\n",
       "User_ID                                                     \n",
       "0                                  NaN                NaN   \n",
       "1                                  5.0                3.0   \n",
       "2                                  NaN                NaN   \n",
       "3                                  NaN                NaN   \n",
       "4                                  NaN                NaN   \n",
       "\n",
       "Movie_Title  Young Guns II (1990)  Young Poisoner's Handbook, The (1995)  \\\n",
       "User_ID                                                                    \n",
       "0                             NaN                                    NaN   \n",
       "1                             NaN                                    NaN   \n",
       "2                             NaN                                    NaN   \n",
       "3                             NaN                                    NaN   \n",
       "4                             NaN                                    NaN   \n",
       "\n",
       "Movie_Title  Zeus and Roxanne (1997)  unknown  \\\n",
       "User_ID                                         \n",
       "0                                NaN      NaN   \n",
       "1                                NaN      4.0   \n",
       "2                                NaN      NaN   \n",
       "3                                NaN      NaN   \n",
       "4                                NaN      NaN   \n",
       "\n",
       "Movie_Title  Á köldum klaka (Cold Fever) (1994)  \n",
       "User_ID                                          \n",
       "0                                           NaN  \n",
       "1                                           NaN  \n",
       "2                                           NaN  \n",
       "3                                           NaN  \n",
       "4                                           NaN  \n",
       "\n",
       "[5 rows x 1664 columns]"
      ]
     },
     "execution_count": 17,
     "metadata": {},
     "output_type": "execute_result"
    }
   ],
   "source": [
    "movie_matrix = info_df.pivot_table(index = 'User_ID', columns = 'Movie_Title', values = 'Rating')\n",
    "movie_matrix.head()"
   ]
  },
  {
   "cell_type": "code",
   "execution_count": 18,
   "id": "eda53607",
   "metadata": {
    "execution": {
     "iopub.execute_input": "2022-06-18T18:55:10.799825Z",
     "iopub.status.busy": "2022-06-18T18:55:10.799214Z",
     "iopub.status.idle": "2022-06-18T18:55:10.808524Z",
     "shell.execute_reply": "2022-06-18T18:55:10.807902Z"
    },
    "papermill": {
     "duration": 0.025052,
     "end_time": "2022-06-18T18:55:10.810314",
     "exception": false,
     "start_time": "2022-06-18T18:55:10.785262",
     "status": "completed"
    },
    "tags": []
   },
   "outputs": [
    {
     "data": {
      "text/html": [
       "<div>\n",
       "<style scoped>\n",
       "    .dataframe tbody tr th:only-of-type {\n",
       "        vertical-align: middle;\n",
       "    }\n",
       "\n",
       "    .dataframe tbody tr th {\n",
       "        vertical-align: top;\n",
       "    }\n",
       "\n",
       "    .dataframe thead th {\n",
       "        text-align: right;\n",
       "    }\n",
       "</style>\n",
       "<table border=\"1\" class=\"dataframe\">\n",
       "  <thead>\n",
       "    <tr style=\"text-align: right;\">\n",
       "      <th></th>\n",
       "      <th>Rating</th>\n",
       "      <th>Rating_Count</th>\n",
       "    </tr>\n",
       "    <tr>\n",
       "      <th>Movie_Title</th>\n",
       "      <th></th>\n",
       "      <th></th>\n",
       "    </tr>\n",
       "  </thead>\n",
       "  <tbody>\n",
       "    <tr>\n",
       "      <th>Star Wars (1977)</th>\n",
       "      <td>4.359589</td>\n",
       "      <td>584</td>\n",
       "    </tr>\n",
       "    <tr>\n",
       "      <th>Contact (1997)</th>\n",
       "      <td>3.803536</td>\n",
       "      <td>509</td>\n",
       "    </tr>\n",
       "    <tr>\n",
       "      <th>Fargo (1996)</th>\n",
       "      <td>4.155512</td>\n",
       "      <td>508</td>\n",
       "    </tr>\n",
       "    <tr>\n",
       "      <th>Return of the Jedi (1983)</th>\n",
       "      <td>4.007890</td>\n",
       "      <td>507</td>\n",
       "    </tr>\n",
       "    <tr>\n",
       "      <th>Liar Liar (1997)</th>\n",
       "      <td>3.156701</td>\n",
       "      <td>485</td>\n",
       "    </tr>\n",
       "  </tbody>\n",
       "</table>\n",
       "</div>"
      ],
      "text/plain": [
       "                             Rating  Rating_Count\n",
       "Movie_Title                                      \n",
       "Star Wars (1977)           4.359589           584\n",
       "Contact (1997)             3.803536           509\n",
       "Fargo (1996)               4.155512           508\n",
       "Return of the Jedi (1983)  4.007890           507\n",
       "Liar Liar (1997)           3.156701           485"
      ]
     },
     "execution_count": 18,
     "metadata": {},
     "output_type": "execute_result"
    }
   ],
   "source": [
    "#Top 5 most frequently rated movies  \n",
    "rating_df.sort_values('Rating_Count', ascending = False).head()"
   ]
  },
  {
   "cell_type": "markdown",
   "id": "76b026db",
   "metadata": {
    "papermill": {
     "duration": 0.012628,
     "end_time": "2022-06-18T18:55:10.835707",
     "exception": false,
     "start_time": "2022-06-18T18:55:10.823079",
     "status": "completed"
    },
    "tags": []
   },
   "source": [
    "Selecting 2 Movies for our system    \n",
    "Star Wars : A Sci-fi Movie   \n",
    "Liar Liar : A Comedy"
   ]
  },
  {
   "cell_type": "markdown",
   "id": "e370ebe7",
   "metadata": {
    "papermill": {
     "duration": 0.012343,
     "end_time": "2022-06-18T18:55:10.860724",
     "exception": false,
     "start_time": "2022-06-18T18:55:10.848381",
     "status": "completed"
    },
    "tags": []
   },
   "source": [
    "*What are the user ratings for the 2 movies*"
   ]
  },
  {
   "cell_type": "code",
   "execution_count": 19,
   "id": "e28425b8",
   "metadata": {
    "execution": {
     "iopub.execute_input": "2022-06-18T18:55:10.888201Z",
     "iopub.status.busy": "2022-06-18T18:55:10.887603Z",
     "iopub.status.idle": "2022-06-18T18:55:10.894168Z",
     "shell.execute_reply": "2022-06-18T18:55:10.893283Z"
    },
    "papermill": {
     "duration": 0.02284,
     "end_time": "2022-06-18T18:55:10.896229",
     "exception": false,
     "start_time": "2022-06-18T18:55:10.873389",
     "status": "completed"
    },
    "tags": []
   },
   "outputs": [],
   "source": [
    "def recommendMovies(name, min_rating_count = 50):#selecting only those movies which have been rated atleast 50 times\n",
    "    user_rating = movie_matrix[name]\n",
    "    similar_movies = movie_matrix.corrwith(user_rating)\n",
    "    corr_movies = pd.DataFrame(similar_movies, columns = ['Correlation'])\n",
    "    corr_movies.dropna(inplace=True)\n",
    "    #Joining the Rating_Count list to filter based on minimum count of ratings to be considered for recommending a movie\n",
    "    corr_movies = corr_movies.join(rating_df['Rating_Count'], how = 'left', lsuffix='_left', rsuffix = '_right')\n",
    "    \n",
    "    final = corr_movies[corr_movies['Rating_Count']>min_rating_count].sort_values('Correlation', ascending=False)\n",
    "    return final"
   ]
  },
  {
   "cell_type": "code",
   "execution_count": 20,
   "id": "6240c31d",
   "metadata": {
    "execution": {
     "iopub.execute_input": "2022-06-18T18:55:10.923308Z",
     "iopub.status.busy": "2022-06-18T18:55:10.922885Z",
     "iopub.status.idle": "2022-06-18T18:55:11.417165Z",
     "shell.execute_reply": "2022-06-18T18:55:11.416461Z"
    },
    "papermill": {
     "duration": 0.510682,
     "end_time": "2022-06-18T18:55:11.419485",
     "exception": false,
     "start_time": "2022-06-18T18:55:10.908803",
     "status": "completed"
    },
    "tags": []
   },
   "outputs": [
    {
     "name": "stderr",
     "output_type": "stream",
     "text": [
      "/opt/conda/lib/python3.7/site-packages/numpy/lib/function_base.py:2683: RuntimeWarning: Degrees of freedom <= 0 for slice\n",
      "  c = cov(x, y, rowvar, dtype=dtype)\n",
      "/opt/conda/lib/python3.7/site-packages/numpy/lib/function_base.py:2542: RuntimeWarning: divide by zero encountered in true_divide\n",
      "  c *= np.true_divide(1, fact)\n"
     ]
    },
    {
     "name": "stdout",
     "output_type": "stream",
     "text": [
      "\n",
      " The recommended movies based on similar ratings given by users are \n"
     ]
    },
    {
     "data": {
      "text/html": [
       "<div>\n",
       "<style scoped>\n",
       "    .dataframe tbody tr th:only-of-type {\n",
       "        vertical-align: middle;\n",
       "    }\n",
       "\n",
       "    .dataframe tbody tr th {\n",
       "        vertical-align: top;\n",
       "    }\n",
       "\n",
       "    .dataframe thead th {\n",
       "        text-align: right;\n",
       "    }\n",
       "</style>\n",
       "<table border=\"1\" class=\"dataframe\">\n",
       "  <thead>\n",
       "    <tr style=\"text-align: right;\">\n",
       "      <th></th>\n",
       "      <th>Correlation</th>\n",
       "      <th>Rating_Count</th>\n",
       "    </tr>\n",
       "    <tr>\n",
       "      <th>Movie_Title</th>\n",
       "      <th></th>\n",
       "      <th></th>\n",
       "    </tr>\n",
       "  </thead>\n",
       "  <tbody>\n",
       "    <tr>\n",
       "      <th>Contact (1997)</th>\n",
       "      <td>1.000000</td>\n",
       "      <td>509</td>\n",
       "    </tr>\n",
       "    <tr>\n",
       "      <th>Tin Men (1987)</th>\n",
       "      <td>0.689929</td>\n",
       "      <td>51</td>\n",
       "    </tr>\n",
       "    <tr>\n",
       "      <th>Nell (1994)</th>\n",
       "      <td>0.549230</td>\n",
       "      <td>81</td>\n",
       "    </tr>\n",
       "    <tr>\n",
       "      <th>Tales from the Crypt Presents: Bordello of Blood (1996)</th>\n",
       "      <td>0.540568</td>\n",
       "      <td>55</td>\n",
       "    </tr>\n",
       "    <tr>\n",
       "      <th>Spitfire Grill, The (1996)</th>\n",
       "      <td>0.528615</td>\n",
       "      <td>97</td>\n",
       "    </tr>\n",
       "  </tbody>\n",
       "</table>\n",
       "</div>"
      ],
      "text/plain": [
       "                                                    Correlation  Rating_Count\n",
       "Movie_Title                                                                  \n",
       "Contact (1997)                                         1.000000           509\n",
       "Tin Men (1987)                                         0.689929            51\n",
       "Nell (1994)                                            0.549230            81\n",
       "Tales from the Crypt Presents: Bordello of Bloo...     0.540568            55\n",
       "Spitfire Grill, The (1996)                             0.528615            97"
      ]
     },
     "execution_count": 20,
     "metadata": {},
     "output_type": "execute_result"
    }
   ],
   "source": [
    "recommendations = recommendMovies('Contact (1997)')\n",
    "print(\"\\n The recommended movies based on similar ratings given by users are \")\n",
    "recommendations.head()"
   ]
  }
 ],
 "metadata": {
  "kernelspec": {
   "display_name": "Python 3",
   "language": "python",
   "name": "python3"
  },
  "language_info": {
   "codemirror_mode": {
    "name": "ipython",
    "version": 3
   },
   "file_extension": ".py",
   "mimetype": "text/x-python",
   "name": "python",
   "nbconvert_exporter": "python",
   "pygments_lexer": "ipython3",
   "version": "3.7.12"
  },
  "papermill": {
   "default_parameters": {},
   "duration": 14.468511,
   "end_time": "2022-06-18T18:55:12.154287",
   "environment_variables": {},
   "exception": null,
   "input_path": "__notebook__.ipynb",
   "output_path": "__notebook__.ipynb",
   "parameters": {},
   "start_time": "2022-06-18T18:54:57.685776",
   "version": "2.3.4"
  }
 },
 "nbformat": 4,
 "nbformat_minor": 5
}
