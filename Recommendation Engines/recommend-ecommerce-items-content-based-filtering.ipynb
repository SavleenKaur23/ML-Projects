{
 "cells": [
  {
   "cell_type": "markdown",
   "id": "d4990104",
   "metadata": {
    "papermill": {
     "duration": 0.008898,
     "end_time": "2022-06-13T20:09:02.447408",
     "exception": false,
     "start_time": "2022-06-13T20:09:02.438510",
     "status": "completed"
    },
    "tags": []
   },
   "source": [
    "*Recommending **apparels** to user based on **Contained Description** where the users possess similarity based on content of the products using **Recommendation Engine** Algorithm*"
   ]
  },
  {
   "cell_type": "markdown",
   "id": "658fc301",
   "metadata": {
    "papermill": {
     "duration": 0.005109,
     "end_time": "2022-06-13T20:09:02.458047",
     "exception": false,
     "start_time": "2022-06-13T20:09:02.452938",
     "status": "completed"
    },
    "tags": []
   },
   "source": [
    "* Recommendation Engine\n",
    "* Content Based Filtering\n",
    "* Cosine Similarity"
   ]
  },
  {
   "cell_type": "code",
   "execution_count": 1,
   "id": "83b08cdc",
   "metadata": {
    "_cell_guid": "b1076dfc-b9ad-4769-8c92-a6c4dae69d19",
    "_uuid": "8f2839f25d086af736a60e9eeb907d3b93b6e0e5",
    "execution": {
     "iopub.execute_input": "2022-06-13T20:09:02.471007Z",
     "iopub.status.busy": "2022-06-13T20:09:02.470324Z",
     "iopub.status.idle": "2022-06-13T20:09:03.793842Z",
     "shell.execute_reply": "2022-06-13T20:09:03.792209Z"
    },
    "papermill": {
     "duration": 1.333953,
     "end_time": "2022-06-13T20:09:03.797520",
     "exception": false,
     "start_time": "2022-06-13T20:09:02.463567",
     "status": "completed"
    },
    "tags": []
   },
   "outputs": [],
   "source": [
    "import pandas as pd # Dataframe Manipulation library\n",
    "\n",
    "# sklearn modules for Content Based Filtering(to handle text)\n",
    "from sklearn.feature_extraction.text import TfidfVectorizer\n",
    "# sklearn.feature_extraction.text: submodule gathers utilities to build feature vectors from text documents\n",
    "# TfidfVectorizer: Convert a collection of raw documents to a matrix of TF-IDF features i.e.\n",
    "# textual content of data gets rotated in space as vector \n",
    "# Words in the text are broken into unique words and the fraction (frequency of these words divided by specific value) is used as weightage\n",
    "# of that particular word in the given context and the words become as features\n",
    "\n",
    "from sklearn.metrics.pairwise import linear_kernel\n",
    "# sklearn.metrics.pairwise: submodule implements utilities to evaluate pairwise distances of sets of samples\n",
    "# linear_kernel: represents the similarity between two vectors with degree=1 and coef0=0\n",
    "# Using Cosine Similarity to identify the similarity between the text content of the given user with other users using TfidfVectorizer."
   ]
  },
  {
   "cell_type": "markdown",
   "id": "4d37e2c4",
   "metadata": {
    "papermill": {
     "duration": 0.005685,
     "end_time": "2022-06-13T20:09:03.809600",
     "exception": false,
     "start_time": "2022-06-13T20:09:03.803915",
     "status": "completed"
    },
    "tags": []
   },
   "source": [
    "#### Loading the dataset \n",
    "##### *having details of SKUs(Stock Keeping Units) from the outdoor apparels brand*"
   ]
  },
  {
   "cell_type": "code",
   "execution_count": 2,
   "id": "1e29efb4",
   "metadata": {
    "execution": {
     "iopub.execute_input": "2022-06-13T20:09:03.823423Z",
     "iopub.status.busy": "2022-06-13T20:09:03.822874Z",
     "iopub.status.idle": "2022-06-13T20:09:03.873549Z",
     "shell.execute_reply": "2022-06-13T20:09:03.872126Z"
    },
    "papermill": {
     "duration": 0.06106,
     "end_time": "2022-06-13T20:09:03.876590",
     "exception": false,
     "start_time": "2022-06-13T20:09:03.815530",
     "status": "completed"
    },
    "tags": []
   },
   "outputs": [
    {
     "data": {
      "text/html": [
       "<div>\n",
       "<style scoped>\n",
       "    .dataframe tbody tr th:only-of-type {\n",
       "        vertical-align: middle;\n",
       "    }\n",
       "\n",
       "    .dataframe tbody tr th {\n",
       "        vertical-align: top;\n",
       "    }\n",
       "\n",
       "    .dataframe thead th {\n",
       "        text-align: right;\n",
       "    }\n",
       "</style>\n",
       "<table border=\"1\" class=\"dataframe\">\n",
       "  <thead>\n",
       "    <tr style=\"text-align: right;\">\n",
       "      <th></th>\n",
       "      <th>id</th>\n",
       "      <th>description</th>\n",
       "    </tr>\n",
       "  </thead>\n",
       "  <tbody>\n",
       "    <tr>\n",
       "      <th>0</th>\n",
       "      <td>1</td>\n",
       "      <td>Active classic boxers - There's a reason why o...</td>\n",
       "    </tr>\n",
       "    <tr>\n",
       "      <th>1</th>\n",
       "      <td>2</td>\n",
       "      <td>Active sport boxer briefs - Skinning up Glory ...</td>\n",
       "    </tr>\n",
       "    <tr>\n",
       "      <th>2</th>\n",
       "      <td>3</td>\n",
       "      <td>Active sport briefs - These superbreathable no...</td>\n",
       "    </tr>\n",
       "    <tr>\n",
       "      <th>3</th>\n",
       "      <td>4</td>\n",
       "      <td>Alpine guide pants - Skin in, climb ice, switc...</td>\n",
       "    </tr>\n",
       "    <tr>\n",
       "      <th>4</th>\n",
       "      <td>5</td>\n",
       "      <td>Alpine wind jkt - On high ridges, steep ice an...</td>\n",
       "    </tr>\n",
       "  </tbody>\n",
       "</table>\n",
       "</div>"
      ],
      "text/plain": [
       "   id                                        description\n",
       "0   1  Active classic boxers - There's a reason why o...\n",
       "1   2  Active sport boxer briefs - Skinning up Glory ...\n",
       "2   3  Active sport briefs - These superbreathable no...\n",
       "3   4  Alpine guide pants - Skin in, climb ice, switc...\n",
       "4   5  Alpine wind jkt - On high ridges, steep ice an..."
      ]
     },
     "execution_count": 2,
     "metadata": {},
     "output_type": "execute_result"
    }
   ],
   "source": [
    "df = pd.read_csv(\"../input/product-item-data/sample-data.csv\")\n",
    "df.head()"
   ]
  },
  {
   "cell_type": "code",
   "execution_count": 3,
   "id": "7f5a93fa",
   "metadata": {
    "execution": {
     "iopub.execute_input": "2022-06-13T20:09:03.891546Z",
     "iopub.status.busy": "2022-06-13T20:09:03.891054Z",
     "iopub.status.idle": "2022-06-13T20:09:03.896963Z",
     "shell.execute_reply": "2022-06-13T20:09:03.896077Z"
    },
    "papermill": {
     "duration": 0.016739,
     "end_time": "2022-06-13T20:09:03.900154",
     "exception": false,
     "start_time": "2022-06-13T20:09:03.883415",
     "status": "completed"
    },
    "tags": []
   },
   "outputs": [
    {
     "name": "stdout",
     "output_type": "stream",
     "text": [
      "The Dataframe has 500 products with their description\n"
     ]
    }
   ],
   "source": [
    "print(f\"The Dataframe has {df.shape[0]} products with their description\")"
   ]
  },
  {
   "cell_type": "markdown",
   "id": "b94a3180",
   "metadata": {
    "papermill": {
     "duration": 0.0056,
     "end_time": "2022-06-13T20:09:03.911851",
     "exception": false,
     "start_time": "2022-06-13T20:09:03.906251",
     "status": "completed"
    },
    "tags": []
   },
   "source": [
    "#### TfidfVectorizer\n",
    "##### *Converting Text description to vector form*"
   ]
  },
  {
   "cell_type": "code",
   "execution_count": 4,
   "id": "04cfcdbc",
   "metadata": {
    "execution": {
     "iopub.execute_input": "2022-06-13T20:09:03.926570Z",
     "iopub.status.busy": "2022-06-13T20:09:03.925469Z",
     "iopub.status.idle": "2022-06-13T20:09:04.412437Z",
     "shell.execute_reply": "2022-06-13T20:09:04.411268Z"
    },
    "papermill": {
     "duration": 0.496942,
     "end_time": "2022-06-13T20:09:04.414993",
     "exception": false,
     "start_time": "2022-06-13T20:09:03.918051",
     "status": "completed"
    },
    "tags": []
   },
   "outputs": [],
   "source": [
    "tf = TfidfVectorizer(analyzer='word', ngram_range=(1,3), min_df=0, stop_words='english')\n",
    "tfidf_matrix = tf.fit_transform(df.description)\n"
   ]
  },
  {
   "cell_type": "code",
   "execution_count": 5,
   "id": "9d8843ea",
   "metadata": {
    "execution": {
     "iopub.execute_input": "2022-06-13T20:09:04.432024Z",
     "iopub.status.busy": "2022-06-13T20:09:04.431598Z",
     "iopub.status.idle": "2022-06-13T20:09:04.437531Z",
     "shell.execute_reply": "2022-06-13T20:09:04.436836Z"
    },
    "papermill": {
     "duration": 0.016025,
     "end_time": "2022-06-13T20:09:04.439458",
     "exception": false,
     "start_time": "2022-06-13T20:09:04.423433",
     "status": "completed"
    },
    "tags": []
   },
   "outputs": [
    {
     "data": {
      "text/plain": [
       "<500x52262 sparse matrix of type '<class 'numpy.float64'>'\n",
       "\twith 148989 stored elements in Compressed Sparse Row format>"
      ]
     },
     "execution_count": 5,
     "metadata": {},
     "output_type": "execute_result"
    }
   ],
   "source": [
    "tfidf_matrix\n",
    "#500 products are converted to 52262 vectors/unique words/features in our dataset"
   ]
  },
  {
   "cell_type": "markdown",
   "id": "6f014a84",
   "metadata": {
    "papermill": {
     "duration": 0.005767,
     "end_time": "2022-06-13T20:09:04.451313",
     "exception": false,
     "start_time": "2022-06-13T20:09:04.445546",
     "status": "completed"
    },
    "tags": []
   },
   "source": [
    "##### Creating Cosine Similarity Matrix using linear_kernel"
   ]
  },
  {
   "cell_type": "code",
   "execution_count": 6,
   "id": "0f923758",
   "metadata": {
    "execution": {
     "iopub.execute_input": "2022-06-13T20:09:04.465298Z",
     "iopub.status.busy": "2022-06-13T20:09:04.464555Z",
     "iopub.status.idle": "2022-06-13T20:09:04.521682Z",
     "shell.execute_reply": "2022-06-13T20:09:04.520509Z"
    },
    "papermill": {
     "duration": 0.067223,
     "end_time": "2022-06-13T20:09:04.524367",
     "exception": false,
     "start_time": "2022-06-13T20:09:04.457144",
     "status": "completed"
    },
    "tags": []
   },
   "outputs": [],
   "source": [
    "cosine_similarities = linear_kernel(tfidf_matrix,tfidf_matrix) #calculating similarity with one record with another record"
   ]
  },
  {
   "cell_type": "code",
   "execution_count": 7,
   "id": "cbb0df15",
   "metadata": {
    "execution": {
     "iopub.execute_input": "2022-06-13T20:09:04.539803Z",
     "iopub.status.busy": "2022-06-13T20:09:04.538942Z",
     "iopub.status.idle": "2022-06-13T20:09:04.642625Z",
     "shell.execute_reply": "2022-06-13T20:09:04.641689Z"
    },
    "papermill": {
     "duration": 0.114394,
     "end_time": "2022-06-13T20:09:04.645118",
     "exception": false,
     "start_time": "2022-06-13T20:09:04.530724",
     "status": "completed"
    },
    "tags": []
   },
   "outputs": [],
   "source": [
    "results = {}\n",
    "for idx, row in df.iterrows():\n",
    "    similar_indices = cosine_similarities[idx].argsort()[:-12:-1] #sorted top 10 products similar to, say, product 1 \n",
    "    similar_items = [(cosine_similarities[idx][i], df['id'][i]) for i in similar_indices]\n",
    "    \n",
    "    results[row['id']] = similar_items[1:]"
   ]
  },
  {
   "cell_type": "code",
   "execution_count": 8,
   "id": "efa87f8c",
   "metadata": {
    "execution": {
     "iopub.execute_input": "2022-06-13T20:09:04.660082Z",
     "iopub.status.busy": "2022-06-13T20:09:04.659142Z",
     "iopub.status.idle": "2022-06-13T20:09:04.666911Z",
     "shell.execute_reply": "2022-06-13T20:09:04.666278Z"
    },
    "papermill": {
     "duration": 0.017634,
     "end_time": "2022-06-13T20:09:04.669045",
     "exception": false,
     "start_time": "2022-06-13T20:09:04.651411",
     "status": "completed"
    },
    "tags": []
   },
   "outputs": [
    {
     "data": {
      "text/plain": [
       "[(1,\n",
       "  [(0.22037921472617467, 19),\n",
       "   (0.16938950913002365, 494),\n",
       "   (0.16769458065321555, 18),\n",
       "   (0.1648552774562297, 172),\n",
       "   (0.1481261546058637, 442),\n",
       "   (0.14577863284367548, 171),\n",
       "   (0.14137642365361247, 21),\n",
       "   (0.13884463426216961, 495),\n",
       "   (0.1387953333136303, 25),\n",
       "   (0.13813550299091382, 496)]),\n",
       " (2,\n",
       "  [(0.41816639921615745, 3),\n",
       "   (0.11546382098627585, 19),\n",
       "   (0.11303392245400211, 494),\n",
       "   (0.11247854521091623, 300),\n",
       "   (0.11147017924424411, 299),\n",
       "   (0.10110641701157388, 1),\n",
       "   (0.09912196647155447, 318),\n",
       "   (0.0882901384989091, 155),\n",
       "   (0.08822174844892261, 214),\n",
       "   (0.08731039686442463, 301)])]"
      ]
     },
     "execution_count": 8,
     "metadata": {},
     "output_type": "execute_result"
    }
   ],
   "source": [
    "list(results.items())[:2]"
   ]
  },
  {
   "cell_type": "markdown",
   "id": "5c8df83d",
   "metadata": {
    "papermill": {
     "duration": 0.006338,
     "end_time": "2022-06-13T20:09:04.681932",
     "exception": false,
     "start_time": "2022-06-13T20:09:04.675594",
     "status": "completed"
    },
    "tags": []
   },
   "source": [
    "*For product 1 and 2, above are the lists of top 10 products similar to respective products,      \n",
    "wherein the first element of the tuples is **cosine similarity** value and     \n",
    "second element of the tuple is the **ID/index of the product** in the database*\n"
   ]
  },
  {
   "cell_type": "code",
   "execution_count": 9,
   "id": "e84d780a",
   "metadata": {
    "execution": {
     "iopub.execute_input": "2022-06-13T20:09:04.696974Z",
     "iopub.status.busy": "2022-06-13T20:09:04.696046Z",
     "iopub.status.idle": "2022-06-13T20:09:04.700859Z",
     "shell.execute_reply": "2022-06-13T20:09:04.700232Z"
    },
    "papermill": {
     "duration": 0.014453,
     "end_time": "2022-06-13T20:09:04.702825",
     "exception": false,
     "start_time": "2022-06-13T20:09:04.688372",
     "status": "completed"
    },
    "tags": []
   },
   "outputs": [],
   "source": [
    "def item(id):\n",
    "    return df.loc[df['id'] == id]['description'].tolist()[0].split('-')[0]"
   ]
  },
  {
   "cell_type": "markdown",
   "id": "13131006",
   "metadata": {
    "papermill": {
     "duration": 0.006068,
     "end_time": "2022-06-13T20:09:04.715313",
     "exception": false,
     "start_time": "2022-06-13T20:09:04.709245",
     "status": "completed"
    },
    "tags": []
   },
   "source": [
    "* *Based on product ID we have, the method **item** will try to identify top 10 most similar products   filters the data to the specified ID*\n",
    "* *Based on ID we extract the description from subsequent column*  \n",
    "* *Convert it to list and split the list using hyphen. As the text has hyphens, so we split list into segments and the second segment after split has description of product which is required*"
   ]
  },
  {
   "cell_type": "code",
   "execution_count": 10,
   "id": "4cedda96",
   "metadata": {
    "execution": {
     "iopub.execute_input": "2022-06-13T20:09:04.730306Z",
     "iopub.status.busy": "2022-06-13T20:09:04.729649Z",
     "iopub.status.idle": "2022-06-13T20:09:04.735237Z",
     "shell.execute_reply": "2022-06-13T20:09:04.734558Z"
    },
    "papermill": {
     "duration": 0.015566,
     "end_time": "2022-06-13T20:09:04.737266",
     "exception": false,
     "start_time": "2022-06-13T20:09:04.721700",
     "status": "completed"
    },
    "tags": []
   },
   "outputs": [],
   "source": [
    "def recommend(item_id, num):\n",
    "    print(\"Recommending \" + str(num) + \" products similar to \" + item(item_id) + '...')\n",
    "    print(\"\\nRecommended products are: \")\n",
    "    recs  = results[item_id][:num]\n",
    "    for rec in recs:\n",
    "        print(item(rec[1]) + \" (score: \" + str(rec[0]) + \")\")      "
   ]
  },
  {
   "cell_type": "markdown",
   "id": "7509f21f",
   "metadata": {
    "papermill": {
     "duration": 0.005912,
     "end_time": "2022-06-13T20:09:04.749384",
     "exception": false,
     "start_time": "2022-06-13T20:09:04.743472",
     "status": "completed"
    },
    "tags": []
   },
   "source": [
    "*The for loop provides the **score** of the most similar records with the given product*    \n",
    "*recs is the **total number of records** we require for similarity for given item id(from results)*"
   ]
  },
  {
   "cell_type": "code",
   "execution_count": 11,
   "id": "de5eb6cf",
   "metadata": {
    "execution": {
     "iopub.execute_input": "2022-06-13T20:09:04.763682Z",
     "iopub.status.busy": "2022-06-13T20:09:04.763033Z",
     "iopub.status.idle": "2022-06-13T20:09:04.778177Z",
     "shell.execute_reply": "2022-06-13T20:09:04.777167Z"
    },
    "papermill": {
     "duration": 0.025914,
     "end_time": "2022-06-13T20:09:04.781373",
     "exception": false,
     "start_time": "2022-06-13T20:09:04.755459",
     "status": "completed"
    },
    "tags": []
   },
   "outputs": [
    {
     "name": "stdout",
     "output_type": "stream",
     "text": [
      "Recommending 10 products similar to Simply organic tee ...\n",
      "\n",
      "Recommended products are: \n",
      "Simply organic top  (score: 0.44072300310060447)\n",
      "Simply organic tank  (score: 0.2169017842835122)\n",
      "Simply organic polo  (score: 0.19120465271886505)\n",
      "S/s squeaky clean polo shirt  (score: 0.17320243767409224)\n",
      "Reversible phone home  (score: 0.15500114752753574)\n",
      "Girl's cotton tank dress  (score: 0.13539951140855766)\n",
      "Island hemp dress  (score: 0.1154825799858559)\n",
      "Astrid tank  (score: 0.10849430382894588)\n",
      "Organic cotton under tee  (score: 0.10570552176235502)\n",
      "L/s gravi (score: 0.10263228049277556)\n"
     ]
    }
   ],
   "source": [
    "recommend(item_id = 250, num = 10)"
   ]
  },
  {
   "cell_type": "markdown",
   "id": "a4a78209",
   "metadata": {
    "papermill": {
     "duration": 0.006127,
     "end_time": "2022-06-13T20:09:04.794411",
     "exception": false,
     "start_time": "2022-06-13T20:09:04.788284",
     "status": "completed"
    },
    "tags": []
   },
   "source": [
    "##### *The products are recommended based on the content of a particular product*"
   ]
  }
 ],
 "metadata": {
  "kernelspec": {
   "display_name": "Python 3",
   "language": "python",
   "name": "python3"
  },
  "language_info": {
   "codemirror_mode": {
    "name": "ipython",
    "version": 3
   },
   "file_extension": ".py",
   "mimetype": "text/x-python",
   "name": "python",
   "nbconvert_exporter": "python",
   "pygments_lexer": "ipython3",
   "version": "3.7.12"
  },
  "papermill": {
   "default_parameters": {},
   "duration": 14.079266,
   "end_time": "2022-06-13T20:09:05.825169",
   "environment_variables": {},
   "exception": null,
   "input_path": "__notebook__.ipynb",
   "output_path": "__notebook__.ipynb",
   "parameters": {},
   "start_time": "2022-06-13T20:08:51.745903",
   "version": "2.3.4"
  }
 },
 "nbformat": 4,
 "nbformat_minor": 5
}
