{
 "cells": [
  {
   "cell_type": "markdown",
   "id": "ac7b7237",
   "metadata": {
    "papermill": {
     "duration": 0.007914,
     "end_time": "2022-06-03T04:06:35.819723",
     "exception": false,
     "start_time": "2022-06-03T04:06:35.811809",
     "status": "completed"
    },
    "tags": []
   },
   "source": [
    "***Recognising similar images using K Means Clustering***\n",
    "\n",
    "*Optical Recognition of Handwritten Digits*"
   ]
  },
  {
   "cell_type": "code",
   "execution_count": 1,
   "id": "5b52ab24",
   "metadata": {
    "_cell_guid": "b1076dfc-b9ad-4769-8c92-a6c4dae69d19",
    "_uuid": "8f2839f25d086af736a60e9eeb907d3b93b6e0e5",
    "execution": {
     "iopub.execute_input": "2022-06-03T04:06:35.830828Z",
     "iopub.status.busy": "2022-06-03T04:06:35.829799Z",
     "iopub.status.idle": "2022-06-03T04:06:37.395542Z",
     "shell.execute_reply": "2022-06-03T04:06:37.394559Z"
    },
    "papermill": {
     "duration": 1.573798,
     "end_time": "2022-06-03T04:06:37.397986",
     "exception": false,
     "start_time": "2022-06-03T04:06:35.824188",
     "status": "completed"
    },
    "tags": []
   },
   "outputs": [],
   "source": [
    "import numpy as np # linear algebra\n",
    "import pandas as pd # data processing, CSV file I/O (e.g. pd.read_csv)\n",
    "\n",
    "from sklearn.preprocessing import StandardScaler\n",
    "from sklearn.cluster import KMeans\n",
    "from sklearn.datasets import load_digits \n",
    "#digits dataset from scikit learn consists of 8x8 pixel images of digits\n",
    "\n",
    "#Data plotting and visualization libraries\n",
    "import matplotlib.pyplot as plt\n",
    "import seaborn as sns\n",
    "%matplotlib inline\n",
    "\n",
    "from scipy.stats import mode\n",
    "from sklearn.metrics import accuracy_score, confusion_matrix"
   ]
  },
  {
   "cell_type": "markdown",
   "id": "e6527612",
   "metadata": {
    "papermill": {
     "duration": 0.003882,
     "end_time": "2022-06-03T04:06:37.406216",
     "exception": false,
     "start_time": "2022-06-03T04:06:37.402334",
     "status": "completed"
    },
    "tags": []
   },
   "source": [
    "##### Load the digits dataset (classification) from sklearn Image Dataset"
   ]
  },
  {
   "cell_type": "code",
   "execution_count": 2,
   "id": "e643e445",
   "metadata": {
    "execution": {
     "iopub.execute_input": "2022-06-03T04:06:37.416417Z",
     "iopub.status.busy": "2022-06-03T04:06:37.415667Z",
     "iopub.status.idle": "2022-06-03T04:06:37.498734Z",
     "shell.execute_reply": "2022-06-03T04:06:37.497787Z"
    },
    "papermill": {
     "duration": 0.091364,
     "end_time": "2022-06-03T04:06:37.501685",
     "exception": false,
     "start_time": "2022-06-03T04:06:37.410321",
     "status": "completed"
    },
    "tags": []
   },
   "outputs": [
    {
     "data": {
      "text/plain": [
       "(1797, 64)"
      ]
     },
     "execution_count": 2,
     "metadata": {},
     "output_type": "execute_result"
    }
   ],
   "source": [
    "digits = load_digits() #load the dataset in digits\n",
    "digits.data.shape"
   ]
  },
  {
   "cell_type": "code",
   "execution_count": 3,
   "id": "a867ae5f",
   "metadata": {
    "execution": {
     "iopub.execute_input": "2022-06-03T04:06:37.513046Z",
     "iopub.status.busy": "2022-06-03T04:06:37.512357Z",
     "iopub.status.idle": "2022-06-03T04:06:37.517153Z",
     "shell.execute_reply": "2022-06-03T04:06:37.516543Z"
    },
    "papermill": {
     "duration": 0.01258,
     "end_time": "2022-06-03T04:06:37.519371",
     "exception": false,
     "start_time": "2022-06-03T04:06:37.506791",
     "status": "completed"
    },
    "tags": []
   },
   "outputs": [
    {
     "data": {
      "text/plain": [
       "dict_keys(['data', 'target', 'frame', 'feature_names', 'target_names', 'images', 'DESCR'])"
      ]
     },
     "execution_count": 3,
     "metadata": {},
     "output_type": "execute_result"
    }
   ],
   "source": [
    "digits.keys() #Dataset loaded is a dictionary \n",
    "# data : flattened arrays/tensors used for clustering\n",
    "# target : label associated with flattened array\n",
    "#print(digits.target)"
   ]
  },
  {
   "cell_type": "markdown",
   "id": "b50fc38e",
   "metadata": {
    "papermill": {
     "duration": 0.004257,
     "end_time": "2022-06-03T04:06:37.528222",
     "exception": false,
     "start_time": "2022-06-03T04:06:37.523965",
     "status": "completed"
    },
    "tags": []
   },
   "source": [
    "* Every greyscale image is matrix of size (x,y) \n",
    "* Flattening : Flatten the matrix to 1D vector \n",
    "    * Matrix of size 8 * 8 , flattened matrix will be single vector of size 64 (2nd row will be appended to 1st row i.e every consective row of 8 * 8 matrix will be appended to previous row forming a 1D vector of length 64)"
   ]
  },
  {
   "cell_type": "code",
   "execution_count": 4,
   "id": "e4b990ed",
   "metadata": {
    "execution": {
     "iopub.execute_input": "2022-06-03T04:06:37.539132Z",
     "iopub.status.busy": "2022-06-03T04:06:37.538430Z",
     "iopub.status.idle": "2022-06-03T04:06:37.548059Z",
     "shell.execute_reply": "2022-06-03T04:06:37.547183Z"
    },
    "papermill": {
     "duration": 0.016965,
     "end_time": "2022-06-03T04:06:37.549853",
     "exception": false,
     "start_time": "2022-06-03T04:06:37.532888",
     "status": "completed"
    },
    "tags": []
   },
   "outputs": [
    {
     "data": {
      "text/plain": [
       "array([[ 0.,  0.,  5., 13.,  9.,  1.,  0.,  0.,  0.,  0., 13., 15., 10.,\n",
       "        15.,  5.,  0.,  0.,  3., 15.,  2.,  0., 11.,  8.,  0.,  0.,  4.,\n",
       "        12.,  0.,  0.,  8.,  8.,  0.,  0.,  5.,  8.,  0.,  0.,  9.,  8.,\n",
       "         0.,  0.,  4., 11.,  0.,  1., 12.,  7.,  0.,  0.,  2., 14.,  5.,\n",
       "        10., 12.,  0.,  0.,  0.,  0.,  6., 13., 10.,  0.,  0.,  0.],\n",
       "       [ 0.,  0.,  0., 12., 13.,  5.,  0.,  0.,  0.,  0.,  0., 11., 16.,\n",
       "         9.,  0.,  0.,  0.,  0.,  3., 15., 16.,  6.,  0.,  0.,  0.,  7.,\n",
       "        15., 16., 16.,  2.,  0.,  0.,  0.,  0.,  1., 16., 16.,  3.,  0.,\n",
       "         0.,  0.,  0.,  1., 16., 16.,  6.,  0.,  0.,  0.,  0.,  1., 16.,\n",
       "        16.,  6.,  0.,  0.,  0.,  0.,  0., 11., 16., 10.,  0.,  0.],\n",
       "       [ 0.,  0.,  0.,  4., 15., 12.,  0.,  0.,  0.,  0.,  3., 16., 15.,\n",
       "        14.,  0.,  0.,  0.,  0.,  8., 13.,  8., 16.,  0.,  0.,  0.,  0.,\n",
       "         1.,  6., 15., 11.,  0.,  0.,  0.,  1.,  8., 13., 15.,  1.,  0.,\n",
       "         0.,  0.,  9., 16., 16.,  5.,  0.,  0.,  0.,  0.,  3., 13., 16.,\n",
       "        16., 11.,  5.,  0.,  0.,  0.,  0.,  3., 11., 16.,  9.,  0.]])"
      ]
     },
     "execution_count": 4,
     "metadata": {},
     "output_type": "execute_result"
    }
   ],
   "source": [
    "digits.data[0:3]  #flattened data for 3 images of the dataset"
   ]
  },
  {
   "cell_type": "markdown",
   "id": "6bd77e42",
   "metadata": {
    "papermill": {
     "duration": 0.005305,
     "end_time": "2022-06-03T04:06:37.559897",
     "exception": false,
     "start_time": "2022-06-03T04:06:37.554592",
     "status": "completed"
    },
    "tags": []
   },
   "source": [
    "##### Initialize K-Means for 10 clusters"
   ]
  },
  {
   "cell_type": "code",
   "execution_count": 5,
   "id": "ce78cd5a",
   "metadata": {
    "execution": {
     "iopub.execute_input": "2022-06-03T04:06:37.572469Z",
     "iopub.status.busy": "2022-06-03T04:06:37.572035Z",
     "iopub.status.idle": "2022-06-03T04:06:39.060998Z",
     "shell.execute_reply": "2022-06-03T04:06:39.060042Z"
    },
    "papermill": {
     "duration": 1.497571,
     "end_time": "2022-06-03T04:06:39.063242",
     "exception": false,
     "start_time": "2022-06-03T04:06:37.565671",
     "status": "completed"
    },
    "tags": []
   },
   "outputs": [
    {
     "data": {
      "text/plain": [
       "(10, 64)"
      ]
     },
     "execution_count": 5,
     "metadata": {},
     "output_type": "execute_result"
    }
   ],
   "source": [
    "k_means = KMeans(n_clusters=10,random_state=0)\n",
    "clusters = k_means.fit_predict(digits.data) #run KMeans clustering on digits.data for 1797 records and 64 features\n",
    "k_means.cluster_centers_.shape"
   ]
  },
  {
   "cell_type": "markdown",
   "id": "6ded7e21",
   "metadata": {
    "papermill": {
     "duration": 0.004501,
     "end_time": "2022-06-03T04:06:39.072941",
     "exception": false,
     "start_time": "2022-06-03T04:06:39.068440",
     "status": "completed"
    },
    "tags": []
   },
   "source": [
    "*Presetting Random State*\n",
    "\n",
    "K Means clustering starts with randomly selected k records = no. of predefined clusters to maintain the reproducibility of the experiment, we fix the random state.\n",
    "No. of datapoints chosen as centroids of the clusters remain same for each iteration\n",
    "\n",
    "If Random State is not defined, No. of instances chosen as centroids of clusters may change and there could be slight change in clustering of data"
   ]
  },
  {
   "cell_type": "code",
   "execution_count": 6,
   "id": "9e3be879",
   "metadata": {
    "execution": {
     "iopub.execute_input": "2022-06-03T04:06:39.084223Z",
     "iopub.status.busy": "2022-06-03T04:06:39.083862Z",
     "iopub.status.idle": "2022-06-03T04:06:39.087522Z",
     "shell.execute_reply": "2022-06-03T04:06:39.086555Z"
    },
    "papermill": {
     "duration": 0.011691,
     "end_time": "2022-06-03T04:06:39.089417",
     "exception": false,
     "start_time": "2022-06-03T04:06:39.077726",
     "status": "completed"
    },
    "tags": []
   },
   "outputs": [],
   "source": [
    "# Centroids of 10 clusters (average of co-ordinates/datapoints(64 features) in a cluster)\n",
    "# k_means.cluster_centers_"
   ]
  },
  {
   "cell_type": "markdown",
   "id": "c83b2d8f",
   "metadata": {
    "papermill": {
     "duration": 0.004604,
     "end_time": "2022-06-03T04:06:39.099186",
     "exception": false,
     "start_time": "2022-06-03T04:06:39.094582",
     "status": "completed"
    },
    "tags": []
   },
   "source": [
    "##### Plotting digit Images"
   ]
  },
  {
   "cell_type": "code",
   "execution_count": 7,
   "id": "5d7096a4",
   "metadata": {
    "execution": {
     "iopub.execute_input": "2022-06-03T04:06:39.109843Z",
     "iopub.status.busy": "2022-06-03T04:06:39.109458Z",
     "iopub.status.idle": "2022-06-03T04:06:39.430508Z",
     "shell.execute_reply": "2022-06-03T04:06:39.429331Z"
    },
    "papermill": {
     "duration": 0.328923,
     "end_time": "2022-06-03T04:06:39.432678",
     "exception": false,
     "start_time": "2022-06-03T04:06:39.103755",
     "status": "completed"
    },
    "tags": []
   },
   "outputs": [
    {
     "data": {
      "image/png": "[encoded data removed]",
      "text/plain": [
       "<Figure size 576x216 with 10 Axes>"
      ]
     },
     "metadata": {},
     "output_type": "display_data"
    }
   ],
   "source": [
    "fig, ax = plt.subplots(2, 5, figsize = (8,3)) #Create a figure and a set of subplots( 2 rows and 5 columns)\n",
    "centers = k_means.cluster_centers_.reshape(10,8,8) \n",
    "#flattened image can't be viewed, re-transform/reshape/inverse transform it to original form to view matrix shaped image\n",
    "#reshape 10 rows of clusters (k_means.cluster_centers_ = 10,64) and 64 to 8 * 8 matrix\n",
    "for axi, center in zip(ax.flat, centers): #ax.flat:flattening the image & plotting relevant centers\n",
    "    axi.set(xticks = [], yticks = [])\n",
    "    axi.imshow(center, interpolation='nearest',cmap = plt.cm.binary) #imshow(matplotlib method) to render the image in notebook"
   ]
  },
  {
   "cell_type": "markdown",
   "id": "66aa4309",
   "metadata": {
    "papermill": {
     "duration": 0.004647,
     "end_time": "2022-06-03T04:06:39.442304",
     "exception": false,
     "start_time": "2022-06-03T04:06:39.437657",
     "status": "completed"
    },
    "tags": []
   },
   "source": [
    "*There are 10 clusters*\n",
    "*     Cluster 1 is a cluster of datapoints that look like digit 4\n",
    "*     Cluster 4 is a cluster of datapoints that look like digit 9\n",
    "*     Cluster 10 is a cluster of datapoints that look like digit 6\n",
    "*     Cluster 8 looks little distorted and seems like Digit 8 like datapoints may have been misclustered"
   ]
  },
  {
   "cell_type": "code",
   "execution_count": 8,
   "id": "d9f7b350",
   "metadata": {
    "execution": {
     "iopub.execute_input": "2022-06-03T04:06:39.454191Z",
     "iopub.status.busy": "2022-06-03T04:06:39.453537Z",
     "iopub.status.idle": "2022-06-03T04:06:39.463773Z",
     "shell.execute_reply": "2022-06-03T04:06:39.462622Z"
    },
    "papermill": {
     "duration": 0.019004,
     "end_time": "2022-06-03T04:06:39.466309",
     "exception": false,
     "start_time": "2022-06-03T04:06:39.447305",
     "status": "completed"
    },
    "tags": []
   },
   "outputs": [
    {
     "name": "stdout",
     "output_type": "stream",
     "text": [
      "The labels are : [0 0 0 ... 0 0 0]\n",
      "\n",
      "The size of labels is : (1797,)\n",
      "The mask values are : \n",
      "[False False False ... False False False]\n",
      "[False False False ... False False False]\n",
      "[False False False ... False False False]\n",
      "[False False False ... False  True  True]\n",
      "[False False False ... False False False]\n",
      "[ True False False ... False False False]\n",
      "[False False False ... False False False]\n",
      "[False  True  True ...  True False False]\n",
      "[False False False ... False False False]\n",
      "[False False False ... False False False]\n"
     ]
    }
   ],
   "source": [
    "labels = np.zeros_like(clusters) # blank labels \n",
    "print(f\"The labels are : {labels}\")\n",
    "print(f\"\\nThe size of labels is : {labels.shape}\")\n",
    "print(\"The mask values are : \")\n",
    "for i in range(10): \n",
    "    mask = (clusters == i) \n",
    "    #if a specific digit belongs to/equivalent a specific cluster then its True else False\n",
    "    print(mask)\n",
    "    labels[mask] = mode(digits.target[mask])[0]"
   ]
  },
  {
   "cell_type": "markdown",
   "id": "10539b76",
   "metadata": {
    "papermill": {
     "duration": 0.004582,
     "end_time": "2022-06-03T04:06:39.476599",
     "exception": false,
     "start_time": "2022-06-03T04:06:39.472017",
     "status": "completed"
    },
    "tags": []
   },
   "source": [
    "##### Accuracy of Predicted Digit : Unsupervised Learning Method"
   ]
  },
  {
   "cell_type": "code",
   "execution_count": 9,
   "id": "32ed356a",
   "metadata": {
    "execution": {
     "iopub.execute_input": "2022-06-03T04:06:39.488000Z",
     "iopub.status.busy": "2022-06-03T04:06:39.487569Z",
     "iopub.status.idle": "2022-06-03T04:06:39.494595Z",
     "shell.execute_reply": "2022-06-03T04:06:39.493950Z"
    },
    "papermill": {
     "duration": 0.016266,
     "end_time": "2022-06-03T04:06:39.497558",
     "exception": false,
     "start_time": "2022-06-03T04:06:39.481292",
     "status": "completed"
    },
    "tags": []
   },
   "outputs": [
    {
     "data": {
      "text/plain": [
       "0.7935447968836951"
      ]
     },
     "execution_count": 9,
     "metadata": {},
     "output_type": "execute_result"
    }
   ],
   "source": [
    "#if a specific digit belongs to/equivalent a specific cluster then acuracy is 1 else 0\n",
    "accuracy_score(digits.target, labels)"
   ]
  },
  {
   "cell_type": "markdown",
   "id": "6be3f2c9",
   "metadata": {
    "papermill": {
     "duration": 0.004381,
     "end_time": "2022-06-03T04:06:39.506876",
     "exception": false,
     "start_time": "2022-06-03T04:06:39.502495",
     "status": "completed"
    },
    "tags": []
   },
   "source": [
    "*79.35% of images were clustered in the same group that represents a given specific number*\n",
    "\n",
    "*21% were incorrectly clustered*"
   ]
  },
  {
   "cell_type": "markdown",
   "id": "92617548",
   "metadata": {
    "papermill": {
     "duration": 0.004517,
     "end_time": "2022-06-03T04:06:39.516380",
     "exception": false,
     "start_time": "2022-06-03T04:06:39.511863",
     "status": "completed"
    },
    "tags": []
   },
   "source": [
    "#### Confusion Matrix\n",
    "To plot how many digits were correctly or incorrectly classified"
   ]
  },
  {
   "cell_type": "code",
   "execution_count": 10,
   "id": "74fa93e8",
   "metadata": {
    "execution": {
     "iopub.execute_input": "2022-06-03T04:06:39.528739Z",
     "iopub.status.busy": "2022-06-03T04:06:39.527213Z",
     "iopub.status.idle": "2022-06-03T04:06:39.991516Z",
     "shell.execute_reply": "2022-06-03T04:06:39.990251Z"
    },
    "papermill": {
     "duration": 0.472569,
     "end_time": "2022-06-03T04:06:39.993812",
     "exception": false,
     "start_time": "2022-06-03T04:06:39.521243",
     "status": "completed"
    },
    "tags": []
   },
   "outputs": [
    {
     "data": {
      "text/plain": [
       "Text(91.68, 0.5, 'Predicted Label')"
      ]
     },
     "execution_count": 10,
     "metadata": {},
     "output_type": "execute_result"
    },
    {
     "data": {
      "image/png": "[encoded data removed]",
      "text/plain": [
       "<Figure size 432x288 with 1 Axes>"
      ]
     },
     "metadata": {
      "needs_background": "light"
     },
     "output_type": "display_data"
    }
   ],
   "source": [
    "matrix = confusion_matrix(digits.target, labels)\n",
    "sns.heatmap(matrix.T, square = True, annot = True,\n",
    "           fmt = 'd', cbar=False,\n",
    "           xticklabels=digits.target_names,\n",
    "           yticklabels=digits.target_names)\n",
    "plt.xlabel('True Label')\n",
    "plt.ylabel(\"Predicted Label\")"
   ]
  },
  {
   "cell_type": "markdown",
   "id": "3ca4085f",
   "metadata": {
    "papermill": {
     "duration": 0.004979,
     "end_time": "2022-06-03T04:06:40.004082",
     "exception": false,
     "start_time": "2022-06-03T04:06:39.999103",
     "status": "completed"
    },
    "tags": []
   },
   "source": [
    "*Digit 7, Digit 9 were predicted in the correct clusters*\n",
    "\n",
    "*99 instances of digit 8 were classified or predicted as 1*\n",
    "\n"
   ]
  }
 ],
 "metadata": {
  "kernelspec": {
   "display_name": "Python 3",
   "language": "python",
   "name": "python3"
  },
  "language_info": {
   "codemirror_mode": {
    "name": "ipython",
    "version": 3
   },
   "file_extension": ".py",
   "mimetype": "text/x-python",
   "name": "python",
   "nbconvert_exporter": "python",
   "pygments_lexer": "ipython3",
   "version": "3.7.12"
  },
  "papermill": {
   "default_parameters": {},
   "duration": 13.6251,
   "end_time": "2022-06-03T04:06:40.731267",
   "environment_variables": {},
   "exception": null,
   "input_path": "__notebook__.ipynb",
   "output_path": "__notebook__.ipynb",
   "parameters": {},
   "start_time": "2022-06-03T04:06:27.106167",
   "version": "2.3.4"
  }
 },
 "nbformat": 4,
 "nbformat_minor": 5
}
