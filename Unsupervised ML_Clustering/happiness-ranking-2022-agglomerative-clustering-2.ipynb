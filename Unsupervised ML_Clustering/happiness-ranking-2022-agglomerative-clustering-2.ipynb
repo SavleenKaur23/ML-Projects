{
 "cells": [
  {
   "cell_type": "markdown",
   "id": "9255be2d",
   "metadata": {
    "papermill": {
     "duration": 0.010525,
     "end_time": "2022-06-06T20:02:42.895211",
     "exception": false,
     "start_time": "2022-06-06T20:02:42.884686",
     "status": "completed"
    },
    "tags": []
   },
   "source": [
    "*Ranking the countries based on happiness of its citizens which is dependent on several social and financial metrics*"
   ]
  },
  {
   "cell_type": "markdown",
   "id": "8b68d537",
   "metadata": {
    "papermill": {
     "duration": 0.009386,
     "end_time": "2022-06-06T20:02:42.914200",
     "exception": false,
     "start_time": "2022-06-06T20:02:42.904814",
     "status": "completed"
    },
    "tags": []
   },
   "source": [
    "*The Happiness Score is a national average of the responses to the main life evaluation question asked based on GDP per capita, Healthy Life Expectancy, Social support, Freedom to make life choices, Generosity, Corruption Perception and other such features*"
   ]
  },
  {
   "cell_type": "markdown",
   "id": "0a171aaf",
   "metadata": {
    "papermill": {
     "duration": 0.009643,
     "end_time": "2022-06-06T20:02:42.933242",
     "exception": false,
     "start_time": "2022-06-06T20:02:42.923599",
     "status": "completed"
    },
    "tags": []
   },
   "source": [
    "##### Loading Relevant Libraries"
   ]
  },
  {
   "cell_type": "code",
   "execution_count": 1,
   "id": "42d8e3e6",
   "metadata": {
    "_cell_guid": "b1076dfc-b9ad-4769-8c92-a6c4dae69d19",
    "_uuid": "8f2839f25d086af736a60e9eeb907d3b93b6e0e5",
    "execution": {
     "iopub.execute_input": "2022-06-06T20:02:42.955330Z",
     "iopub.status.busy": "2022-06-06T20:02:42.954677Z",
     "iopub.status.idle": "2022-06-06T20:02:44.703674Z",
     "shell.execute_reply": "2022-06-06T20:02:44.702474Z"
    },
    "papermill": {
     "duration": 1.763404,
     "end_time": "2022-06-06T20:02:44.706528",
     "exception": false,
     "start_time": "2022-06-06T20:02:42.943124",
     "status": "completed"
    },
    "tags": []
   },
   "outputs": [],
   "source": [
    "import pandas as pd #Dataframe Manipulation library\n",
    "import numpy as np #Data Manipulation library\n",
    "\n",
    "#Modules for Hierarchical Clustering\n",
    "from sklearn.cluster import AgglomerativeClustering\n",
    "from sklearn.preprocessing import StandardScaler\n",
    "from scipy.cluster import hierarchy\n",
    "from scipy.cluster.hierarchy import dendrogram,linkage\n",
    "\n",
    "#Libraries for Plotting \n",
    "import matplotlib.pyplot as plt\n",
    "%matplotlib inline\n",
    "import seaborn as sns"
   ]
  },
  {
   "cell_type": "markdown",
   "id": "8a613afc",
   "metadata": {
    "papermill": {
     "duration": 0.009268,
     "end_time": "2022-06-06T20:02:44.725351",
     "exception": false,
     "start_time": "2022-06-06T20:02:44.716083",
     "status": "completed"
    },
    "tags": []
   },
   "source": [
    "##### Loading the World Happiness Report dataset"
   ]
  },
  {
   "cell_type": "code",
   "execution_count": 2,
   "id": "dbd45e51",
   "metadata": {
    "execution": {
     "iopub.execute_input": "2022-06-06T20:02:44.746005Z",
     "iopub.status.busy": "2022-06-06T20:02:44.745568Z",
     "iopub.status.idle": "2022-06-06T20:02:44.767233Z",
     "shell.execute_reply": "2022-06-06T20:02:44.766232Z"
    },
    "papermill": {
     "duration": 0.036269,
     "end_time": "2022-06-06T20:02:44.771173",
     "exception": false,
     "start_time": "2022-06-06T20:02:44.734904",
     "status": "completed"
    },
    "tags": []
   },
   "outputs": [
    {
     "data": {
      "text/plain": [
       "Index(['RANK', 'Country', 'Happiness score', 'Whisker-high', 'Whisker-low',\n",
       "       'Dystopia (1.83) + residual', 'Explained by: GDP per capita',\n",
       "       'Explained by: Social support', 'Explained by: Healthy life expectancy',\n",
       "       'Explained by: Freedom to make life choices',\n",
       "       'Explained by: Generosity', 'Explained by: Perceptions of corruption'],\n",
       "      dtype='object')"
      ]
     },
     "execution_count": 2,
     "metadata": {},
     "output_type": "execute_result"
    }
   ],
   "source": [
    "df = pd.read_csv(\"../input/world-happiness-report-2022/World Happiness Report 2022.csv\")\n",
    "df.columns"
   ]
  },
  {
   "cell_type": "code",
   "execution_count": 3,
   "id": "768e9ffd",
   "metadata": {
    "execution": {
     "iopub.execute_input": "2022-06-06T20:02:44.794072Z",
     "iopub.status.busy": "2022-06-06T20:02:44.793443Z",
     "iopub.status.idle": "2022-06-06T20:02:44.806047Z",
     "shell.execute_reply": "2022-06-06T20:02:44.805021Z"
    },
    "papermill": {
     "duration": 0.026892,
     "end_time": "2022-06-06T20:02:44.808764",
     "exception": false,
     "start_time": "2022-06-06T20:02:44.781872",
     "status": "completed"
    },
    "tags": []
   },
   "outputs": [],
   "source": [
    "# Renaming the columns\n",
    "df.rename(columns = {'RANK':'Happiness Rank',\n",
    "                     'Happiness score':'Happiness Score',\n",
    "                     'Dystopia (1.83) + residual':'Dystopia Residual',\n",
    "                     'Explained by: GDP per capita':'Economy(GDP per capita)',\n",
    "                     'Explained by: Social support':'Social Support',\n",
    "                     'Whisker-high':'Whisker_high', \n",
    "                     'Whisker-low':'Whisker_low',\n",
    "                     'Explained by: Healthy life expectancy':'Healthy Life Expectancy',\n",
    "                     'Explained by: Freedom to make life choices':'Freedom(Life Choices)',\n",
    "                     'Explained by: Generosity':'Generosity', \n",
    "                     'Explained by: Perceptions of corruption':'Perceptions of Corruption'},\n",
    "          inplace = True)"
   ]
  },
  {
   "cell_type": "markdown",
   "id": "9e9da00b",
   "metadata": {
    "papermill": {
     "duration": 0.009416,
     "end_time": "2022-06-06T20:02:44.828411",
     "exception": false,
     "start_time": "2022-06-06T20:02:44.818995",
     "status": "completed"
    },
    "tags": []
   },
   "source": [
    "##### Exploring the Data "
   ]
  },
  {
   "cell_type": "code",
   "execution_count": 4,
   "id": "e512c3b2",
   "metadata": {
    "execution": {
     "iopub.execute_input": "2022-06-06T20:02:44.850238Z",
     "iopub.status.busy": "2022-06-06T20:02:44.849576Z",
     "iopub.status.idle": "2022-06-06T20:02:44.855382Z",
     "shell.execute_reply": "2022-06-06T20:02:44.854682Z"
    },
    "papermill": {
     "duration": 0.019174,
     "end_time": "2022-06-06T20:02:44.857365",
     "exception": false,
     "start_time": "2022-06-06T20:02:44.838191",
     "status": "completed"
    },
    "tags": []
   },
   "outputs": [
    {
     "data": {
      "text/plain": [
       "Index(['Happiness Rank', 'Country', 'Happiness Score', 'Whisker_high',\n",
       "       'Whisker_low', 'Dystopia Residual', 'Economy(GDP per capita)',\n",
       "       'Social Support', 'Healthy Life Expectancy', 'Freedom(Life Choices)',\n",
       "       'Generosity', 'Perceptions of Corruption'],\n",
       "      dtype='object')"
      ]
     },
     "execution_count": 4,
     "metadata": {},
     "output_type": "execute_result"
    }
   ],
   "source": [
    "df.columns"
   ]
  },
  {
   "cell_type": "code",
   "execution_count": 5,
   "id": "c05483c3",
   "metadata": {
    "execution": {
     "iopub.execute_input": "2022-06-06T20:02:44.879365Z",
     "iopub.status.busy": "2022-06-06T20:02:44.878724Z",
     "iopub.status.idle": "2022-06-06T20:02:44.908153Z",
     "shell.execute_reply": "2022-06-06T20:02:44.907110Z"
    },
    "papermill": {
     "duration": 0.042719,
     "end_time": "2022-06-06T20:02:44.910146",
     "exception": false,
     "start_time": "2022-06-06T20:02:44.867427",
     "status": "completed"
    },
    "tags": []
   },
   "outputs": [
    {
     "data": {
      "text/html": [
       "<div>\n",
       "<style scoped>\n",
       "    .dataframe tbody tr th:only-of-type {\n",
       "        vertical-align: middle;\n",
       "    }\n",
       "\n",
       "    .dataframe tbody tr th {\n",
       "        vertical-align: top;\n",
       "    }\n",
       "\n",
       "    .dataframe thead th {\n",
       "        text-align: right;\n",
       "    }\n",
       "</style>\n",
       "<table border=\"1\" class=\"dataframe\">\n",
       "  <thead>\n",
       "    <tr style=\"text-align: right;\">\n",
       "      <th></th>\n",
       "      <th>Country</th>\n",
       "      <th>Happiness Rank</th>\n",
       "      <th>Happiness Score</th>\n",
       "      <th>Whisker_high</th>\n",
       "      <th>Whisker_low</th>\n",
       "      <th>Economy(GDP per capita)</th>\n",
       "      <th>Social Support</th>\n",
       "      <th>Healthy Life Expectancy</th>\n",
       "      <th>Freedom(Life Choices)</th>\n",
       "      <th>Generosity</th>\n",
       "      <th>Perceptions of Corruption</th>\n",
       "      <th>Dystopia Residual</th>\n",
       "    </tr>\n",
       "  </thead>\n",
       "  <tbody>\n",
       "    <tr>\n",
       "      <th>0</th>\n",
       "      <td>Finland</td>\n",
       "      <td>1</td>\n",
       "      <td>7.821</td>\n",
       "      <td>7.886</td>\n",
       "      <td>7.756</td>\n",
       "      <td>1.892</td>\n",
       "      <td>1.258</td>\n",
       "      <td>0.775</td>\n",
       "      <td>0.736</td>\n",
       "      <td>0.109</td>\n",
       "      <td>0.534</td>\n",
       "      <td>2.518</td>\n",
       "    </tr>\n",
       "    <tr>\n",
       "      <th>1</th>\n",
       "      <td>Denmark</td>\n",
       "      <td>2</td>\n",
       "      <td>7.636</td>\n",
       "      <td>7.710</td>\n",
       "      <td>7.563</td>\n",
       "      <td>1.953</td>\n",
       "      <td>1.243</td>\n",
       "      <td>0.777</td>\n",
       "      <td>0.719</td>\n",
       "      <td>0.188</td>\n",
       "      <td>0.532</td>\n",
       "      <td>2.226</td>\n",
       "    </tr>\n",
       "    <tr>\n",
       "      <th>2</th>\n",
       "      <td>Iceland</td>\n",
       "      <td>3</td>\n",
       "      <td>7.557</td>\n",
       "      <td>7.651</td>\n",
       "      <td>7.464</td>\n",
       "      <td>1.936</td>\n",
       "      <td>1.320</td>\n",
       "      <td>0.803</td>\n",
       "      <td>0.718</td>\n",
       "      <td>0.270</td>\n",
       "      <td>0.191</td>\n",
       "      <td>2.320</td>\n",
       "    </tr>\n",
       "    <tr>\n",
       "      <th>3</th>\n",
       "      <td>Switzerland</td>\n",
       "      <td>4</td>\n",
       "      <td>7.512</td>\n",
       "      <td>7.586</td>\n",
       "      <td>7.437</td>\n",
       "      <td>2.026</td>\n",
       "      <td>1.226</td>\n",
       "      <td>0.822</td>\n",
       "      <td>0.677</td>\n",
       "      <td>0.147</td>\n",
       "      <td>0.461</td>\n",
       "      <td>2.153</td>\n",
       "    </tr>\n",
       "    <tr>\n",
       "      <th>4</th>\n",
       "      <td>Netherlands</td>\n",
       "      <td>5</td>\n",
       "      <td>7.415</td>\n",
       "      <td>7.471</td>\n",
       "      <td>7.359</td>\n",
       "      <td>1.945</td>\n",
       "      <td>1.206</td>\n",
       "      <td>0.787</td>\n",
       "      <td>0.651</td>\n",
       "      <td>0.271</td>\n",
       "      <td>0.419</td>\n",
       "      <td>2.137</td>\n",
       "    </tr>\n",
       "  </tbody>\n",
       "</table>\n",
       "</div>"
      ],
      "text/plain": [
       "       Country  Happiness Rank  Happiness Score  Whisker_high  Whisker_low  \\\n",
       "0      Finland               1            7.821         7.886        7.756   \n",
       "1      Denmark               2            7.636         7.710        7.563   \n",
       "2      Iceland               3            7.557         7.651        7.464   \n",
       "3  Switzerland               4            7.512         7.586        7.437   \n",
       "4  Netherlands               5            7.415         7.471        7.359   \n",
       "\n",
       "   Economy(GDP per capita)  Social Support  Healthy Life Expectancy  \\\n",
       "0                    1.892           1.258                    0.775   \n",
       "1                    1.953           1.243                    0.777   \n",
       "2                    1.936           1.320                    0.803   \n",
       "3                    2.026           1.226                    0.822   \n",
       "4                    1.945           1.206                    0.787   \n",
       "\n",
       "   Freedom(Life Choices)  Generosity  Perceptions of Corruption  \\\n",
       "0                  0.736       0.109                      0.534   \n",
       "1                  0.719       0.188                      0.532   \n",
       "2                  0.718       0.270                      0.191   \n",
       "3                  0.677       0.147                      0.461   \n",
       "4                  0.651       0.271                      0.419   \n",
       "\n",
       "   Dystopia Residual  \n",
       "0              2.518  \n",
       "1              2.226  \n",
       "2              2.320  \n",
       "3              2.153  \n",
       "4              2.137  "
      ]
     },
     "execution_count": 5,
     "metadata": {},
     "output_type": "execute_result"
    }
   ],
   "source": [
    "# Re-ordering the columns\n",
    "df = df.iloc[:, [1,0,2,3,4,6,7,8,9,10,11,5]]\n",
    "df.head()"
   ]
  },
  {
   "cell_type": "code",
   "execution_count": 6,
   "id": "16f51632",
   "metadata": {
    "execution": {
     "iopub.execute_input": "2022-06-06T20:02:44.934162Z",
     "iopub.status.busy": "2022-06-06T20:02:44.933527Z",
     "iopub.status.idle": "2022-06-06T20:02:44.951488Z",
     "shell.execute_reply": "2022-06-06T20:02:44.950723Z"
    },
    "papermill": {
     "duration": 0.03207,
     "end_time": "2022-06-06T20:02:44.953659",
     "exception": false,
     "start_time": "2022-06-06T20:02:44.921589",
     "status": "completed"
    },
    "tags": []
   },
   "outputs": [
    {
     "data": {
      "text/html": [
       "<div>\n",
       "<style scoped>\n",
       "    .dataframe tbody tr th:only-of-type {\n",
       "        vertical-align: middle;\n",
       "    }\n",
       "\n",
       "    .dataframe tbody tr th {\n",
       "        vertical-align: top;\n",
       "    }\n",
       "\n",
       "    .dataframe thead th {\n",
       "        text-align: right;\n",
       "    }\n",
       "</style>\n",
       "<table border=\"1\" class=\"dataframe\">\n",
       "  <thead>\n",
       "    <tr style=\"text-align: right;\">\n",
       "      <th></th>\n",
       "      <th>Country</th>\n",
       "      <th>Happiness Rank</th>\n",
       "      <th>Happiness Score</th>\n",
       "      <th>Whisker_high</th>\n",
       "      <th>Whisker_low</th>\n",
       "      <th>Economy(GDP per capita)</th>\n",
       "      <th>Social Support</th>\n",
       "      <th>Healthy Life Expectancy</th>\n",
       "      <th>Freedom(Life Choices)</th>\n",
       "      <th>Generosity</th>\n",
       "      <th>Perceptions of Corruption</th>\n",
       "      <th>Dystopia Residual</th>\n",
       "    </tr>\n",
       "  </thead>\n",
       "  <tbody>\n",
       "    <tr>\n",
       "      <th>135</th>\n",
       "      <td>India</td>\n",
       "      <td>136</td>\n",
       "      <td>3.777</td>\n",
       "      <td>3.828</td>\n",
       "      <td>3.726</td>\n",
       "      <td>1.167</td>\n",
       "      <td>0.376</td>\n",
       "      <td>0.471</td>\n",
       "      <td>0.647</td>\n",
       "      <td>0.198</td>\n",
       "      <td>0.123</td>\n",
       "      <td>0.795</td>\n",
       "    </tr>\n",
       "  </tbody>\n",
       "</table>\n",
       "</div>"
      ],
      "text/plain": [
       "    Country  Happiness Rank  Happiness Score  Whisker_high  Whisker_low  \\\n",
       "135   India             136            3.777         3.828        3.726   \n",
       "\n",
       "     Economy(GDP per capita)  Social Support  Healthy Life Expectancy  \\\n",
       "135                    1.167           0.376                    0.471   \n",
       "\n",
       "     Freedom(Life Choices)  Generosity  Perceptions of Corruption  \\\n",
       "135                  0.647       0.198                      0.123   \n",
       "\n",
       "     Dystopia Residual  \n",
       "135              0.795  "
      ]
     },
     "execution_count": 6,
     "metadata": {},
     "output_type": "execute_result"
    }
   ],
   "source": [
    "df.loc[df[\"Country\"] == 'India']"
   ]
  },
  {
   "cell_type": "code",
   "execution_count": 7,
   "id": "cb0c9265",
   "metadata": {
    "execution": {
     "iopub.execute_input": "2022-06-06T20:02:44.977916Z",
     "iopub.status.busy": "2022-06-06T20:02:44.977286Z",
     "iopub.status.idle": "2022-06-06T20:02:45.032557Z",
     "shell.execute_reply": "2022-06-06T20:02:45.031597Z"
    },
    "papermill": {
     "duration": 0.070223,
     "end_time": "2022-06-06T20:02:45.035049",
     "exception": false,
     "start_time": "2022-06-06T20:02:44.964826",
     "status": "completed"
    },
    "tags": []
   },
   "outputs": [
    {
     "data": {
      "text/html": [
       "<div>\n",
       "<style scoped>\n",
       "    .dataframe tbody tr th:only-of-type {\n",
       "        vertical-align: middle;\n",
       "    }\n",
       "\n",
       "    .dataframe tbody tr th {\n",
       "        vertical-align: top;\n",
       "    }\n",
       "\n",
       "    .dataframe thead th {\n",
       "        text-align: right;\n",
       "    }\n",
       "</style>\n",
       "<table border=\"1\" class=\"dataframe\">\n",
       "  <thead>\n",
       "    <tr style=\"text-align: right;\">\n",
       "      <th></th>\n",
       "      <th>Country</th>\n",
       "      <th>Happiness Rank</th>\n",
       "      <th>Happiness Score</th>\n",
       "      <th>Whisker_high</th>\n",
       "      <th>Whisker_low</th>\n",
       "      <th>Economy(GDP per capita)</th>\n",
       "      <th>Social Support</th>\n",
       "      <th>Healthy Life Expectancy</th>\n",
       "      <th>Freedom(Life Choices)</th>\n",
       "      <th>Generosity</th>\n",
       "      <th>Perceptions of Corruption</th>\n",
       "      <th>Dystopia Residual</th>\n",
       "    </tr>\n",
       "  </thead>\n",
       "  <tbody>\n",
       "    <tr>\n",
       "      <th>count</th>\n",
       "      <td>146</td>\n",
       "      <td>146.000000</td>\n",
       "      <td>146.000000</td>\n",
       "      <td>146.000000</td>\n",
       "      <td>146.000000</td>\n",
       "      <td>146.000000</td>\n",
       "      <td>146.000000</td>\n",
       "      <td>146.000000</td>\n",
       "      <td>146.000000</td>\n",
       "      <td>146.000000</td>\n",
       "      <td>146.000000</td>\n",
       "      <td>146.000000</td>\n",
       "    </tr>\n",
       "    <tr>\n",
       "      <th>unique</th>\n",
       "      <td>146</td>\n",
       "      <td>NaN</td>\n",
       "      <td>NaN</td>\n",
       "      <td>NaN</td>\n",
       "      <td>NaN</td>\n",
       "      <td>NaN</td>\n",
       "      <td>NaN</td>\n",
       "      <td>NaN</td>\n",
       "      <td>NaN</td>\n",
       "      <td>NaN</td>\n",
       "      <td>NaN</td>\n",
       "      <td>NaN</td>\n",
       "    </tr>\n",
       "    <tr>\n",
       "      <th>top</th>\n",
       "      <td>Finland</td>\n",
       "      <td>NaN</td>\n",
       "      <td>NaN</td>\n",
       "      <td>NaN</td>\n",
       "      <td>NaN</td>\n",
       "      <td>NaN</td>\n",
       "      <td>NaN</td>\n",
       "      <td>NaN</td>\n",
       "      <td>NaN</td>\n",
       "      <td>NaN</td>\n",
       "      <td>NaN</td>\n",
       "      <td>NaN</td>\n",
       "    </tr>\n",
       "    <tr>\n",
       "      <th>freq</th>\n",
       "      <td>1</td>\n",
       "      <td>NaN</td>\n",
       "      <td>NaN</td>\n",
       "      <td>NaN</td>\n",
       "      <td>NaN</td>\n",
       "      <td>NaN</td>\n",
       "      <td>NaN</td>\n",
       "      <td>NaN</td>\n",
       "      <td>NaN</td>\n",
       "      <td>NaN</td>\n",
       "      <td>NaN</td>\n",
       "      <td>NaN</td>\n",
       "    </tr>\n",
       "    <tr>\n",
       "      <th>mean</th>\n",
       "      <td>NaN</td>\n",
       "      <td>73.500000</td>\n",
       "      <td>5.553575</td>\n",
       "      <td>5.673589</td>\n",
       "      <td>5.433568</td>\n",
       "      <td>1.410445</td>\n",
       "      <td>0.905863</td>\n",
       "      <td>0.586171</td>\n",
       "      <td>0.517226</td>\n",
       "      <td>0.147377</td>\n",
       "      <td>0.154781</td>\n",
       "      <td>1.831808</td>\n",
       "    </tr>\n",
       "    <tr>\n",
       "      <th>std</th>\n",
       "      <td>NaN</td>\n",
       "      <td>42.290661</td>\n",
       "      <td>1.086843</td>\n",
       "      <td>1.065621</td>\n",
       "      <td>1.109380</td>\n",
       "      <td>0.421663</td>\n",
       "      <td>0.280122</td>\n",
       "      <td>0.176336</td>\n",
       "      <td>0.145859</td>\n",
       "      <td>0.082799</td>\n",
       "      <td>0.127514</td>\n",
       "      <td>0.534994</td>\n",
       "    </tr>\n",
       "    <tr>\n",
       "      <th>min</th>\n",
       "      <td>NaN</td>\n",
       "      <td>1.000000</td>\n",
       "      <td>2.404000</td>\n",
       "      <td>2.469000</td>\n",
       "      <td>2.339000</td>\n",
       "      <td>0.000000</td>\n",
       "      <td>0.000000</td>\n",
       "      <td>0.000000</td>\n",
       "      <td>0.000000</td>\n",
       "      <td>0.000000</td>\n",
       "      <td>0.000000</td>\n",
       "      <td>0.187000</td>\n",
       "    </tr>\n",
       "    <tr>\n",
       "      <th>25%</th>\n",
       "      <td>NaN</td>\n",
       "      <td>37.250000</td>\n",
       "      <td>4.888750</td>\n",
       "      <td>5.006250</td>\n",
       "      <td>4.754750</td>\n",
       "      <td>1.095500</td>\n",
       "      <td>0.732000</td>\n",
       "      <td>0.463250</td>\n",
       "      <td>0.440500</td>\n",
       "      <td>0.089000</td>\n",
       "      <td>0.068250</td>\n",
       "      <td>1.555250</td>\n",
       "    </tr>\n",
       "    <tr>\n",
       "      <th>50%</th>\n",
       "      <td>NaN</td>\n",
       "      <td>73.500000</td>\n",
       "      <td>5.568500</td>\n",
       "      <td>5.680000</td>\n",
       "      <td>5.453000</td>\n",
       "      <td>1.445500</td>\n",
       "      <td>0.957500</td>\n",
       "      <td>0.621500</td>\n",
       "      <td>0.543500</td>\n",
       "      <td>0.132500</td>\n",
       "      <td>0.119500</td>\n",
       "      <td>1.894500</td>\n",
       "    </tr>\n",
       "    <tr>\n",
       "      <th>75%</th>\n",
       "      <td>NaN</td>\n",
       "      <td>109.750000</td>\n",
       "      <td>6.305000</td>\n",
       "      <td>6.448750</td>\n",
       "      <td>6.190000</td>\n",
       "      <td>1.784750</td>\n",
       "      <td>1.114250</td>\n",
       "      <td>0.719750</td>\n",
       "      <td>0.626000</td>\n",
       "      <td>0.197750</td>\n",
       "      <td>0.198500</td>\n",
       "      <td>2.153000</td>\n",
       "    </tr>\n",
       "    <tr>\n",
       "      <th>max</th>\n",
       "      <td>NaN</td>\n",
       "      <td>146.000000</td>\n",
       "      <td>7.821000</td>\n",
       "      <td>7.886000</td>\n",
       "      <td>7.756000</td>\n",
       "      <td>2.209000</td>\n",
       "      <td>1.320000</td>\n",
       "      <td>0.942000</td>\n",
       "      <td>0.740000</td>\n",
       "      <td>0.468000</td>\n",
       "      <td>0.587000</td>\n",
       "      <td>2.844000</td>\n",
       "    </tr>\n",
       "  </tbody>\n",
       "</table>\n",
       "</div>"
      ],
      "text/plain": [
       "        Country  Happiness Rank  Happiness Score  Whisker_high  Whisker_low  \\\n",
       "count       146      146.000000       146.000000    146.000000   146.000000   \n",
       "unique      146             NaN              NaN           NaN          NaN   \n",
       "top     Finland             NaN              NaN           NaN          NaN   \n",
       "freq          1             NaN              NaN           NaN          NaN   \n",
       "mean        NaN       73.500000         5.553575      5.673589     5.433568   \n",
       "std         NaN       42.290661         1.086843      1.065621     1.109380   \n",
       "min         NaN        1.000000         2.404000      2.469000     2.339000   \n",
       "25%         NaN       37.250000         4.888750      5.006250     4.754750   \n",
       "50%         NaN       73.500000         5.568500      5.680000     5.453000   \n",
       "75%         NaN      109.750000         6.305000      6.448750     6.190000   \n",
       "max         NaN      146.000000         7.821000      7.886000     7.756000   \n",
       "\n",
       "        Economy(GDP per capita)  Social Support  Healthy Life Expectancy  \\\n",
       "count                146.000000      146.000000               146.000000   \n",
       "unique                      NaN             NaN                      NaN   \n",
       "top                         NaN             NaN                      NaN   \n",
       "freq                        NaN             NaN                      NaN   \n",
       "mean                   1.410445        0.905863                 0.586171   \n",
       "std                    0.421663        0.280122                 0.176336   \n",
       "min                    0.000000        0.000000                 0.000000   \n",
       "25%                    1.095500        0.732000                 0.463250   \n",
       "50%                    1.445500        0.957500                 0.621500   \n",
       "75%                    1.784750        1.114250                 0.719750   \n",
       "max                    2.209000        1.320000                 0.942000   \n",
       "\n",
       "        Freedom(Life Choices)  Generosity  Perceptions of Corruption  \\\n",
       "count              146.000000  146.000000                 146.000000   \n",
       "unique                    NaN         NaN                        NaN   \n",
       "top                       NaN         NaN                        NaN   \n",
       "freq                      NaN         NaN                        NaN   \n",
       "mean                 0.517226    0.147377                   0.154781   \n",
       "std                  0.145859    0.082799                   0.127514   \n",
       "min                  0.000000    0.000000                   0.000000   \n",
       "25%                  0.440500    0.089000                   0.068250   \n",
       "50%                  0.543500    0.132500                   0.119500   \n",
       "75%                  0.626000    0.197750                   0.198500   \n",
       "max                  0.740000    0.468000                   0.587000   \n",
       "\n",
       "        Dystopia Residual  \n",
       "count          146.000000  \n",
       "unique                NaN  \n",
       "top                   NaN  \n",
       "freq                  NaN  \n",
       "mean             1.831808  \n",
       "std              0.534994  \n",
       "min              0.187000  \n",
       "25%              1.555250  \n",
       "50%              1.894500  \n",
       "75%              2.153000  \n",
       "max              2.844000  "
      ]
     },
     "execution_count": 7,
     "metadata": {},
     "output_type": "execute_result"
    }
   ],
   "source": [
    "# Statistical summary of the numerical and categorical data \n",
    "df.describe(include = 'all')"
   ]
  },
  {
   "cell_type": "code",
   "execution_count": 8,
   "id": "a8dd2ea7",
   "metadata": {
    "execution": {
     "iopub.execute_input": "2022-06-06T20:02:45.060577Z",
     "iopub.status.busy": "2022-06-06T20:02:45.059959Z",
     "iopub.status.idle": "2022-06-06T20:02:45.074985Z",
     "shell.execute_reply": "2022-06-06T20:02:45.074220Z"
    },
    "papermill": {
     "duration": 0.030459,
     "end_time": "2022-06-06T20:02:45.077599",
     "exception": false,
     "start_time": "2022-06-06T20:02:45.047140",
     "status": "completed"
    },
    "tags": []
   },
   "outputs": [
    {
     "name": "stdout",
     "output_type": "stream",
     "text": [
      "<class 'pandas.core.frame.DataFrame'>\n",
      "RangeIndex: 146 entries, 0 to 145\n",
      "Data columns (total 12 columns):\n",
      " #   Column                     Non-Null Count  Dtype  \n",
      "---  ------                     --------------  -----  \n",
      " 0   Country                    146 non-null    object \n",
      " 1   Happiness Rank             146 non-null    int64  \n",
      " 2   Happiness Score            146 non-null    float64\n",
      " 3   Whisker_high               146 non-null    float64\n",
      " 4   Whisker_low                146 non-null    float64\n",
      " 5   Economy(GDP per capita)    146 non-null    float64\n",
      " 6   Social Support             146 non-null    float64\n",
      " 7   Healthy Life Expectancy    146 non-null    float64\n",
      " 8   Freedom(Life Choices)      146 non-null    float64\n",
      " 9   Generosity                 146 non-null    float64\n",
      " 10  Perceptions of Corruption  146 non-null    float64\n",
      " 11  Dystopia Residual          146 non-null    float64\n",
      "dtypes: float64(10), int64(1), object(1)\n",
      "memory usage: 13.8+ KB\n"
     ]
    }
   ],
   "source": [
    "# To get a quick overview of the dataset we use the info() function.\n",
    "df.info()"
   ]
  },
  {
   "cell_type": "code",
   "execution_count": 9,
   "id": "e664f038",
   "metadata": {
    "execution": {
     "iopub.execute_input": "2022-06-06T20:02:45.103115Z",
     "iopub.status.busy": "2022-06-06T20:02:45.102481Z",
     "iopub.status.idle": "2022-06-06T20:02:45.111072Z",
     "shell.execute_reply": "2022-06-06T20:02:45.110135Z"
    },
    "papermill": {
     "duration": 0.024251,
     "end_time": "2022-06-06T20:02:45.113129",
     "exception": false,
     "start_time": "2022-06-06T20:02:45.088878",
     "status": "completed"
    },
    "tags": []
   },
   "outputs": [
    {
     "data": {
      "text/plain": [
       "Country                      0\n",
       "Happiness Rank               0\n",
       "Happiness Score              0\n",
       "Whisker_high                 0\n",
       "Whisker_low                  0\n",
       "Economy(GDP per capita)      0\n",
       "Social Support               0\n",
       "Healthy Life Expectancy      0\n",
       "Freedom(Life Choices)        0\n",
       "Generosity                   0\n",
       "Perceptions of Corruption    0\n",
       "Dystopia Residual            0\n",
       "dtype: int64"
      ]
     },
     "execution_count": 9,
     "metadata": {},
     "output_type": "execute_result"
    }
   ],
   "source": [
    "#Detecting and counting missing values\n",
    "df.isnull().sum()"
   ]
  },
  {
   "cell_type": "markdown",
   "id": "473cb47e",
   "metadata": {
    "papermill": {
     "duration": 0.011063,
     "end_time": "2022-06-06T20:02:45.135445",
     "exception": false,
     "start_time": "2022-06-06T20:02:45.124382",
     "status": "completed"
    },
    "tags": []
   },
   "source": [
    "##### Correlating the features and plotting the correlation using Heatmaps"
   ]
  },
  {
   "cell_type": "code",
   "execution_count": 10,
   "id": "ddd923ba",
   "metadata": {
    "execution": {
     "iopub.execute_input": "2022-06-06T20:02:45.160757Z",
     "iopub.status.busy": "2022-06-06T20:02:45.159533Z",
     "iopub.status.idle": "2022-06-06T20:02:45.799028Z",
     "shell.execute_reply": "2022-06-06T20:02:45.797798Z"
    },
    "papermill": {
     "duration": 0.654418,
     "end_time": "2022-06-06T20:02:45.801178",
     "exception": false,
     "start_time": "2022-06-06T20:02:45.146760",
     "status": "completed"
    },
    "tags": []
   },
   "outputs": [
    {
     "data": {
      "image/png": "[encoded data removed]",
      "text/plain": [
       "<Figure size 576x576 with 2 Axes>"
      ]
     },
     "metadata": {
      "needs_background": "light"
     },
     "output_type": "display_data"
    }
   ],
   "source": [
    "# Subsetting the data\n",
    "df_hr = df[['Happiness Score','Economy(GDP per capita)','Social Support',\n",
    "            'Healthy Life Expectancy','Freedom(Life Choices)',\n",
    "            'Generosity','Perceptions of Corruption','Dystopia Residual']]\n",
    "\n",
    "cor_mat = df_hr.corr()\n",
    "\n",
    "fig,ax = plt.subplots()\n",
    "fig.set_figwidth(8)\n",
    "fig.set_figheight(8)\n",
    "htmp = sns.heatmap(cor_mat, square=True, annot=True, cmap=\"YlGnBu\")\n",
    "htmp.set_title('Correlation Heatmap', fontdict={'fontsize':14}, pad=12);\n"
   ]
  },
  {
   "cell_type": "markdown",
   "id": "03b502b7",
   "metadata": {
    "papermill": {
     "duration": 0.012516,
     "end_time": "2022-06-06T20:02:45.826265",
     "exception": false,
     "start_time": "2022-06-06T20:02:45.813749",
     "status": "completed"
    },
    "tags": []
   },
   "source": [
    "##### Agglomerative Clustering\n",
    "##### Bottom Up Approach\n",
    "\n",
    "* *Consider that individual datapoints are individual clusters*\n",
    "* *Combine the datapoints which are closer to one another thus reducing the number of clusters*\n",
    "* *Continue to shrink the clusters by recalculating the Euclidean Distance between the datapoints till no more datapoints are left and no more clusters can be formed*"
   ]
  },
  {
   "cell_type": "code",
   "execution_count": 11,
   "id": "e2693a18",
   "metadata": {
    "execution": {
     "iopub.execute_input": "2022-06-06T20:02:45.853452Z",
     "iopub.status.busy": "2022-06-06T20:02:45.853032Z",
     "iopub.status.idle": "2022-06-06T20:02:45.858549Z",
     "shell.execute_reply": "2022-06-06T20:02:45.857703Z"
    },
    "papermill": {
     "duration": 0.021951,
     "end_time": "2022-06-06T20:02:45.860491",
     "exception": false,
     "start_time": "2022-06-06T20:02:45.838540",
     "status": "completed"
    },
    "tags": []
   },
   "outputs": [],
   "source": [
    "def performAgglomerative(X, num_clusters):\n",
    "    model = AgglomerativeClustering(n_clusters=num_clusters,\n",
    "                                   affinity = \"euclidean\", #Distance method(Euclidean distance for numerical data)\n",
    "                                   linkage='ward')\n",
    "    cluster_pred = model.fit_predict(X)  #applying the clustering parameters on input features i.e X and create clusters\n",
    "    return cluster_pred"
   ]
  },
  {
   "cell_type": "code",
   "execution_count": 12,
   "id": "de0cbce3",
   "metadata": {
    "execution": {
     "iopub.execute_input": "2022-06-06T20:02:45.887430Z",
     "iopub.status.busy": "2022-06-06T20:02:45.886764Z",
     "iopub.status.idle": "2022-06-06T20:02:45.896593Z",
     "shell.execute_reply": "2022-06-06T20:02:45.895879Z"
    },
    "papermill": {
     "duration": 0.026157,
     "end_time": "2022-06-06T20:02:45.898961",
     "exception": false,
     "start_time": "2022-06-06T20:02:45.872804",
     "status": "completed"
    },
    "tags": []
   },
   "outputs": [],
   "source": [
    "cluster_pred = performAgglomerative(df_hr, 2) \n",
    "agglomerative = pd.DataFrame(cluster_pred) #List of clusters as a DataFrame\n",
    "df_hr.insert((df_hr.shape[1]),'Cluster_Number', agglomerative) #Adding the column 'agglomerative' to original Dataframe"
   ]
  },
  {
   "cell_type": "code",
   "execution_count": 13,
   "id": "f7037968",
   "metadata": {
    "execution": {
     "iopub.execute_input": "2022-06-06T20:02:45.926736Z",
     "iopub.status.busy": "2022-06-06T20:02:45.926071Z",
     "iopub.status.idle": "2022-06-06T20:02:45.931860Z",
     "shell.execute_reply": "2022-06-06T20:02:45.931166Z"
    },
    "papermill": {
     "duration": 0.021894,
     "end_time": "2022-06-06T20:02:45.933848",
     "exception": false,
     "start_time": "2022-06-06T20:02:45.911954",
     "status": "completed"
    },
    "tags": []
   },
   "outputs": [
    {
     "data": {
      "text/plain": [
       "array([0, 1])"
      ]
     },
     "execution_count": 13,
     "metadata": {},
     "output_type": "execute_result"
    }
   ],
   "source": [
    "#Viewing the distinct clusters formed\n",
    "df_hr[\"Cluster_Number\"].unique()"
   ]
  },
  {
   "cell_type": "markdown",
   "id": "fc3b6207",
   "metadata": {
    "papermill": {
     "duration": 0.012613,
     "end_time": "2022-06-06T20:02:45.959958",
     "exception": false,
     "start_time": "2022-06-06T20:02:45.947345",
     "status": "completed"
    },
    "tags": []
   },
   "source": [
    "##### Data Visualization using Scatter Plots"
   ]
  },
  {
   "cell_type": "code",
   "execution_count": 14,
   "id": "7cf3ef6c",
   "metadata": {
    "execution": {
     "iopub.execute_input": "2022-06-06T20:02:45.987495Z",
     "iopub.status.busy": "2022-06-06T20:02:45.987024Z",
     "iopub.status.idle": "2022-06-06T20:02:45.996463Z",
     "shell.execute_reply": "2022-06-06T20:02:45.995109Z"
    },
    "papermill": {
     "duration": 0.025957,
     "end_time": "2022-06-06T20:02:45.998799",
     "exception": false,
     "start_time": "2022-06-06T20:02:45.972842",
     "status": "completed"
    },
    "tags": []
   },
   "outputs": [
    {
     "data": {
      "text/plain": [
       "Index(['Happiness Score', 'Economy(GDP per capita)', 'Social Support',\n",
       "       'Healthy Life Expectancy', 'Freedom(Life Choices)', 'Generosity',\n",
       "       'Perceptions of Corruption', 'Dystopia Residual', 'Cluster_Number'],\n",
       "      dtype='object')"
      ]
     },
     "execution_count": 14,
     "metadata": {},
     "output_type": "execute_result"
    }
   ],
   "source": [
    "df_hr.columns"
   ]
  },
  {
   "cell_type": "code",
   "execution_count": 15,
   "id": "64896aa0",
   "metadata": {
    "execution": {
     "iopub.execute_input": "2022-06-06T20:02:46.028821Z",
     "iopub.status.busy": "2022-06-06T20:02:46.027330Z",
     "iopub.status.idle": "2022-06-06T20:02:46.436362Z",
     "shell.execute_reply": "2022-06-06T20:02:46.435662Z"
    },
    "papermill": {
     "duration": 0.42597,
     "end_time": "2022-06-06T20:02:46.438937",
     "exception": false,
     "start_time": "2022-06-06T20:02:46.012967",
     "status": "completed"
    },
    "tags": []
   },
   "outputs": [
    {
     "data": {
      "text/plain": [
       "<matplotlib.colorbar.Colorbar at 0x7fa56d308210>"
      ]
     },
     "execution_count": 15,
     "metadata": {},
     "output_type": "execute_result"
    },
    {
     "data": {
      "image/png": "[encoded data removed]",
      "text/plain": [
       "<Figure size 1152x432 with 3 Axes>"
      ]
     },
     "metadata": {
      "needs_background": "light"
     },
     "output_type": "display_data"
    }
   ],
   "source": [
    "#Plotting Scatter Plots\n",
    "fig, (ax0, ax1) = plt.subplots(ncols=2)\n",
    "fig.set_figwidth(16)\n",
    "fig.set_figheight(6)\n",
    "\n",
    "#Scatter plot of Corruption vs GDP\n",
    "scatter = ax0.scatter(df_hr['Economy(GDP per capita)'],df_hr['Perceptions of Corruption'],\n",
    "                     c = agglomerative[0], s = 50)\n",
    "ax0.set_title(\"Corruption vs GDP\")\n",
    "ax0.set_xlabel(\"Economy(GDP per capita)\")\n",
    "ax0.set_ylabel('Corruption')\n",
    "\n",
    "#Scatter plot of Corruption vs Freedom\n",
    "scatter = ax1.scatter(df_hr['Freedom(Life Choices)'],df_hr['Perceptions of Corruption'],\n",
    "                     c = agglomerative[0], s = 50)\n",
    "ax1.set_title(\"Corruption vs Freedom\")\n",
    "ax1.set_xlabel(\"Freedom(Life Choices)\")\n",
    "ax1.set_ylabel('Corruption')\n",
    "               \n",
    "plt.colorbar(scatter)"
   ]
  },
  {
   "cell_type": "markdown",
   "id": "da1b98ea",
   "metadata": {
    "papermill": {
     "duration": 0.0136,
     "end_time": "2022-06-06T20:02:46.467504",
     "exception": false,
     "start_time": "2022-06-06T20:02:46.453904",
     "status": "completed"
    },
    "tags": []
   },
   "source": [
    "*Corruption vs GDP*\n",
    "    \n",
    "    Countries having more GDP seem to have high rates of corruption \n",
    "\n",
    "*Corruption vs Freedom*\n",
    "\n",
    "    Countries having less corruption and more freedom to make their life decisions look happier "
   ]
  },
  {
   "cell_type": "markdown",
   "id": "eeac8d59",
   "metadata": {
    "papermill": {
     "duration": 0.013508,
     "end_time": "2022-06-06T20:02:46.494859",
     "exception": false,
     "start_time": "2022-06-06T20:02:46.481351",
     "status": "completed"
    },
    "tags": []
   },
   "source": [
    "##### Data Visualization via Box and Whisker Plots\n",
    "    To describe the statistical metrics "
   ]
  },
  {
   "cell_type": "code",
   "execution_count": 16,
   "id": "6bdfb57b",
   "metadata": {
    "execution": {
     "iopub.execute_input": "2022-06-06T20:02:46.525158Z",
     "iopub.status.busy": "2022-06-06T20:02:46.523900Z",
     "iopub.status.idle": "2022-06-06T20:02:46.531063Z",
     "shell.execute_reply": "2022-06-06T20:02:46.530371Z"
    },
    "papermill": {
     "duration": 0.024779,
     "end_time": "2022-06-06T20:02:46.533538",
     "exception": false,
     "start_time": "2022-06-06T20:02:46.508759",
     "status": "completed"
    },
    "tags": []
   },
   "outputs": [
    {
     "name": "stderr",
     "output_type": "stream",
     "text": [
      "/opt/conda/lib/python3.7/site-packages/ipykernel_launcher.py:3: SettingWithCopyWarning: \n",
      "A value is trying to be set on a copy of a slice from a DataFrame.\n",
      "Try using .loc[row_indexer,col_indexer] = value instead\n",
      "\n",
      "See the caveats in the documentation: https://pandas.pydata.org/pandas-docs/stable/user_guide/indexing.html#returning-a-view-versus-a-copy\n",
      "  This is separate from the ipykernel package so we can avoid doing imports until\n"
     ]
    }
   ],
   "source": [
    "#Representing Cluster numbers as cluster names\n",
    "clus_mapping = {0:'Clus_0',1:'Clus_1'}\n",
    "df_hr['Cluster_Name'] = df_hr['Cluster_Number'].apply(lambda x: clus_mapping[x])"
   ]
  },
  {
   "cell_type": "code",
   "execution_count": 17,
   "id": "f5dee9bc",
   "metadata": {
    "execution": {
     "iopub.execute_input": "2022-06-06T20:02:46.565277Z",
     "iopub.status.busy": "2022-06-06T20:02:46.564860Z",
     "iopub.status.idle": "2022-06-06T20:02:46.571351Z",
     "shell.execute_reply": "2022-06-06T20:02:46.570669Z"
    },
    "papermill": {
     "duration": 0.024816,
     "end_time": "2022-06-06T20:02:46.573642",
     "exception": false,
     "start_time": "2022-06-06T20:02:46.548826",
     "status": "completed"
    },
    "tags": []
   },
   "outputs": [
    {
     "data": {
      "text/plain": [
       "Index(['Happiness Score', 'Economy(GDP per capita)', 'Social Support',\n",
       "       'Healthy Life Expectancy', 'Freedom(Life Choices)', 'Generosity',\n",
       "       'Perceptions of Corruption', 'Dystopia Residual', 'Cluster_Number',\n",
       "       'Cluster_Name'],\n",
       "      dtype='object')"
      ]
     },
     "execution_count": 17,
     "metadata": {},
     "output_type": "execute_result"
    }
   ],
   "source": [
    "df_hr.columns"
   ]
  },
  {
   "cell_type": "code",
   "execution_count": 18,
   "id": "0eaf4e10",
   "metadata": {
    "execution": {
     "iopub.execute_input": "2022-06-06T20:02:46.605325Z",
     "iopub.status.busy": "2022-06-06T20:02:46.604676Z",
     "iopub.status.idle": "2022-06-06T20:02:46.610361Z",
     "shell.execute_reply": "2022-06-06T20:02:46.609706Z"
    },
    "papermill": {
     "duration": 0.023998,
     "end_time": "2022-06-06T20:02:46.612425",
     "exception": false,
     "start_time": "2022-06-06T20:02:46.588427",
     "status": "completed"
    },
    "tags": []
   },
   "outputs": [
    {
     "data": {
      "text/plain": [
       "array(['Clus_0', 'Clus_1'], dtype=object)"
      ]
     },
     "execution_count": 18,
     "metadata": {},
     "output_type": "execute_result"
    }
   ],
   "source": [
    "df_hr.Cluster_Name.unique()"
   ]
  },
  {
   "cell_type": "code",
   "execution_count": 19,
   "id": "4669248d",
   "metadata": {
    "execution": {
     "iopub.execute_input": "2022-06-06T20:02:46.644448Z",
     "iopub.status.busy": "2022-06-06T20:02:46.643785Z",
     "iopub.status.idle": "2022-06-06T20:02:46.680814Z",
     "shell.execute_reply": "2022-06-06T20:02:46.679621Z"
    },
    "papermill": {
     "duration": 0.056297,
     "end_time": "2022-06-06T20:02:46.683105",
     "exception": false,
     "start_time": "2022-06-06T20:02:46.626808",
     "status": "completed"
    },
    "tags": []
   },
   "outputs": [
    {
     "data": {
      "text/html": [
       "<div>\n",
       "<style scoped>\n",
       "    .dataframe tbody tr th:only-of-type {\n",
       "        vertical-align: middle;\n",
       "    }\n",
       "\n",
       "    .dataframe tbody tr th {\n",
       "        vertical-align: top;\n",
       "    }\n",
       "\n",
       "    .dataframe thead th {\n",
       "        text-align: right;\n",
       "    }\n",
       "</style>\n",
       "<table border=\"1\" class=\"dataframe\">\n",
       "  <thead>\n",
       "    <tr style=\"text-align: right;\">\n",
       "      <th></th>\n",
       "      <th>Happiness Score</th>\n",
       "      <th>Economy(GDP per capita)</th>\n",
       "      <th>Social Support</th>\n",
       "      <th>Healthy Life Expectancy</th>\n",
       "      <th>Freedom(Life Choices)</th>\n",
       "      <th>Generosity</th>\n",
       "      <th>Perceptions of Corruption</th>\n",
       "      <th>Dystopia Residual</th>\n",
       "      <th>Cluster_Number</th>\n",
       "    </tr>\n",
       "  </thead>\n",
       "  <tbody>\n",
       "    <tr>\n",
       "      <th>count</th>\n",
       "      <td>146.000000</td>\n",
       "      <td>146.000000</td>\n",
       "      <td>146.000000</td>\n",
       "      <td>146.000000</td>\n",
       "      <td>146.000000</td>\n",
       "      <td>146.000000</td>\n",
       "      <td>146.000000</td>\n",
       "      <td>146.000000</td>\n",
       "      <td>146.000000</td>\n",
       "    </tr>\n",
       "    <tr>\n",
       "      <th>mean</th>\n",
       "      <td>5.553575</td>\n",
       "      <td>1.410445</td>\n",
       "      <td>0.905863</td>\n",
       "      <td>0.586171</td>\n",
       "      <td>0.517226</td>\n",
       "      <td>0.147377</td>\n",
       "      <td>0.154781</td>\n",
       "      <td>1.831808</td>\n",
       "      <td>0.321918</td>\n",
       "    </tr>\n",
       "    <tr>\n",
       "      <th>std</th>\n",
       "      <td>1.086843</td>\n",
       "      <td>0.421663</td>\n",
       "      <td>0.280122</td>\n",
       "      <td>0.176336</td>\n",
       "      <td>0.145859</td>\n",
       "      <td>0.082799</td>\n",
       "      <td>0.127514</td>\n",
       "      <td>0.534994</td>\n",
       "      <td>0.468820</td>\n",
       "    </tr>\n",
       "    <tr>\n",
       "      <th>min</th>\n",
       "      <td>2.404000</td>\n",
       "      <td>0.000000</td>\n",
       "      <td>0.000000</td>\n",
       "      <td>0.000000</td>\n",
       "      <td>0.000000</td>\n",
       "      <td>0.000000</td>\n",
       "      <td>0.000000</td>\n",
       "      <td>0.187000</td>\n",
       "      <td>0.000000</td>\n",
       "    </tr>\n",
       "    <tr>\n",
       "      <th>25%</th>\n",
       "      <td>4.888750</td>\n",
       "      <td>1.095500</td>\n",
       "      <td>0.732000</td>\n",
       "      <td>0.463250</td>\n",
       "      <td>0.440500</td>\n",
       "      <td>0.089000</td>\n",
       "      <td>0.068250</td>\n",
       "      <td>1.555250</td>\n",
       "      <td>0.000000</td>\n",
       "    </tr>\n",
       "    <tr>\n",
       "      <th>50%</th>\n",
       "      <td>5.568500</td>\n",
       "      <td>1.445500</td>\n",
       "      <td>0.957500</td>\n",
       "      <td>0.621500</td>\n",
       "      <td>0.543500</td>\n",
       "      <td>0.132500</td>\n",
       "      <td>0.119500</td>\n",
       "      <td>1.894500</td>\n",
       "      <td>0.000000</td>\n",
       "    </tr>\n",
       "    <tr>\n",
       "      <th>75%</th>\n",
       "      <td>6.305000</td>\n",
       "      <td>1.784750</td>\n",
       "      <td>1.114250</td>\n",
       "      <td>0.719750</td>\n",
       "      <td>0.626000</td>\n",
       "      <td>0.197750</td>\n",
       "      <td>0.198500</td>\n",
       "      <td>2.153000</td>\n",
       "      <td>1.000000</td>\n",
       "    </tr>\n",
       "    <tr>\n",
       "      <th>max</th>\n",
       "      <td>7.821000</td>\n",
       "      <td>2.209000</td>\n",
       "      <td>1.320000</td>\n",
       "      <td>0.942000</td>\n",
       "      <td>0.740000</td>\n",
       "      <td>0.468000</td>\n",
       "      <td>0.587000</td>\n",
       "      <td>2.844000</td>\n",
       "      <td>1.000000</td>\n",
       "    </tr>\n",
       "  </tbody>\n",
       "</table>\n",
       "</div>"
      ],
      "text/plain": [
       "       Happiness Score  Economy(GDP per capita)  Social Support  \\\n",
       "count       146.000000               146.000000      146.000000   \n",
       "mean          5.553575                 1.410445        0.905863   \n",
       "std           1.086843                 0.421663        0.280122   \n",
       "min           2.404000                 0.000000        0.000000   \n",
       "25%           4.888750                 1.095500        0.732000   \n",
       "50%           5.568500                 1.445500        0.957500   \n",
       "75%           6.305000                 1.784750        1.114250   \n",
       "max           7.821000                 2.209000        1.320000   \n",
       "\n",
       "       Healthy Life Expectancy  Freedom(Life Choices)  Generosity  \\\n",
       "count               146.000000             146.000000  146.000000   \n",
       "mean                  0.586171               0.517226    0.147377   \n",
       "std                   0.176336               0.145859    0.082799   \n",
       "min                   0.000000               0.000000    0.000000   \n",
       "25%                   0.463250               0.440500    0.089000   \n",
       "50%                   0.621500               0.543500    0.132500   \n",
       "75%                   0.719750               0.626000    0.197750   \n",
       "max                   0.942000               0.740000    0.468000   \n",
       "\n",
       "       Perceptions of Corruption  Dystopia Residual  Cluster_Number  \n",
       "count                 146.000000         146.000000      146.000000  \n",
       "mean                    0.154781           1.831808        0.321918  \n",
       "std                     0.127514           0.534994        0.468820  \n",
       "min                     0.000000           0.187000        0.000000  \n",
       "25%                     0.068250           1.555250        0.000000  \n",
       "50%                     0.119500           1.894500        0.000000  \n",
       "75%                     0.198500           2.153000        1.000000  \n",
       "max                     0.587000           2.844000        1.000000  "
      ]
     },
     "execution_count": 19,
     "metadata": {},
     "output_type": "execute_result"
    }
   ],
   "source": [
    "df_hr.describe()"
   ]
  },
  {
   "cell_type": "code",
   "execution_count": 20,
   "id": "bd99a656",
   "metadata": {
    "execution": {
     "iopub.execute_input": "2022-06-06T20:02:46.714474Z",
     "iopub.status.busy": "2022-06-06T20:02:46.714091Z",
     "iopub.status.idle": "2022-06-06T20:02:47.815541Z",
     "shell.execute_reply": "2022-06-06T20:02:47.814360Z"
    },
    "papermill": {
     "duration": 1.121077,
     "end_time": "2022-06-06T20:02:47.818998",
     "exception": false,
     "start_time": "2022-06-06T20:02:46.697921",
     "status": "completed"
    },
    "tags": []
   },
   "outputs": [
    {
     "data": {
      "image/png": "[encoded data removed]",
      "text/plain": [
       "<Figure size 1152x2304 with 5 Axes>"
      ]
     },
     "metadata": {
      "needs_background": "light"
     },
     "output_type": "display_data"
    }
   ],
   "source": [
    "#Plotting Box Plots\n",
    "fig, (ax0, ax1, ax2, ax3, ax4) = plt.subplots(nrows=5)\n",
    "fig.set_figwidth(16)\n",
    "fig.set_figheight(32)\n",
    "\n",
    "x = sns.boxplot(x = 'Cluster_Name', y = 'Freedom(Life Choices)', data = df_hr, ax = ax0)\n",
    "x = sns.swarmplot(x = 'Cluster_Name', y = 'Freedom(Life Choices)', data=df_hr,\n",
    "                  color= '0.25', ax = ax0)\n",
    "\n",
    "x = sns.boxplot(x = 'Cluster_Name', y = 'Social Support',data = df_hr, ax = ax1)\n",
    "x = sns.swarmplot(x = 'Cluster_Name', y = 'Social Support', data=df_hr,\n",
    "                  color= '0.25', ax = ax1)\n",
    "\n",
    "x = sns.boxplot(x = 'Cluster_Name', y = 'Perceptions of Corruption',data = df_hr, ax = ax2)\n",
    "x = sns.swarmplot(x = 'Cluster_Name', y = 'Perceptions of Corruption', data=df_hr,\n",
    "                  color= '0.25', ax = ax2)\n",
    "\n",
    "\n",
    "x = sns.boxplot(x = 'Cluster_Name', y = 'Economy(GDP per capita)',data = df_hr, ax = ax3)\n",
    "x = sns.swarmplot(x = 'Cluster_Name', y = 'Economy(GDP per capita)', data=df_hr,\n",
    "                  color= '0.25', ax = ax3)\n",
    "\n",
    "x = sns.boxplot(x = 'Cluster_Name', y = 'Happiness Score',data = df_hr, ax = ax4)\n",
    "x = sns.swarmplot(x = 'Cluster_Name', y = 'Happiness Score', data=df_hr,\n",
    "                  color= '0.25', ax = ax4)"
   ]
  },
  {
   "cell_type": "markdown",
   "id": "8ad7aa9e",
   "metadata": {
    "papermill": {
     "duration": 0.015734,
     "end_time": "2022-06-06T20:02:47.851055",
     "exception": false,
     "start_time": "2022-06-06T20:02:47.835321",
     "status": "completed"
    },
    "tags": []
   },
   "source": [
    "*Counties in Cluster 0 seem to enjoy more **freedom** than countries in cluster 1.*\n",
    "\n",
    "*Citizens of countries in Cluster 0 look more supportive where countries of Cluster 1 get less **family and social support**. People in a country falling in Cluster 1 seem to low family and social support as represented by the outliers of its boxplot*\n",
    "\n",
    "*As the outliers depict,there are countries in Cluster 0 and Cluster 1 where the government is likely to be **corrupted** beyond the maximum possible limits*\n",
    "\n",
    "*As we progress from Cluster 0 towards Cluster 1, the **Economy** i.e GDP per capita keeps on reducing.\n",
    "Countries in Cluster 0 look economically strong*\n",
    "\n",
    "*Citizens of Countries in Cluster 0 seem to be **happier** than other countries.\n",
    "Also we can see that citizens of few countries in Cluster 1 are unhappy as they have low happiness score*\n",
    "\n",
    "**Countries in Cluster 0 are Developed or Developing countries and Countries in Cluster 1 are under Developed**\n"
   ]
  },
  {
   "cell_type": "code",
   "execution_count": 21,
   "id": "98f8e7ee",
   "metadata": {
    "execution": {
     "iopub.execute_input": "2022-06-06T20:02:47.885380Z",
     "iopub.status.busy": "2022-06-06T20:02:47.884931Z",
     "iopub.status.idle": "2022-06-06T20:02:47.895053Z",
     "shell.execute_reply": "2022-06-06T20:02:47.893964Z"
    },
    "papermill": {
     "duration": 0.029862,
     "end_time": "2022-06-06T20:02:47.897017",
     "exception": false,
     "start_time": "2022-06-06T20:02:47.867155",
     "status": "completed"
    },
    "tags": []
   },
   "outputs": [],
   "source": [
    "df_clustered = df_hr.join(df['Country'])"
   ]
  },
  {
   "cell_type": "code",
   "execution_count": 22,
   "id": "bd494941",
   "metadata": {
    "execution": {
     "iopub.execute_input": "2022-06-06T20:02:47.940863Z",
     "iopub.status.busy": "2022-06-06T20:02:47.939623Z",
     "iopub.status.idle": "2022-06-06T20:02:47.964949Z",
     "shell.execute_reply": "2022-06-06T20:02:47.963629Z"
    },
    "papermill": {
     "duration": 0.053594,
     "end_time": "2022-06-06T20:02:47.966977",
     "exception": false,
     "start_time": "2022-06-06T20:02:47.913383",
     "status": "completed"
    },
    "tags": []
   },
   "outputs": [
    {
     "data": {
      "text/html": [
       "<div>\n",
       "<style scoped>\n",
       "    .dataframe tbody tr th:only-of-type {\n",
       "        vertical-align: middle;\n",
       "    }\n",
       "\n",
       "    .dataframe tbody tr th {\n",
       "        vertical-align: top;\n",
       "    }\n",
       "\n",
       "    .dataframe thead th {\n",
       "        text-align: right;\n",
       "    }\n",
       "</style>\n",
       "<table border=\"1\" class=\"dataframe\">\n",
       "  <thead>\n",
       "    <tr style=\"text-align: right;\">\n",
       "      <th></th>\n",
       "      <th>Happiness Score</th>\n",
       "      <th>Economy(GDP per capita)</th>\n",
       "      <th>Social Support</th>\n",
       "      <th>Healthy Life Expectancy</th>\n",
       "      <th>Freedom(Life Choices)</th>\n",
       "      <th>Generosity</th>\n",
       "      <th>Perceptions of Corruption</th>\n",
       "      <th>Dystopia Residual</th>\n",
       "      <th>Cluster_Number</th>\n",
       "      <th>Cluster_Name</th>\n",
       "      <th>Country</th>\n",
       "    </tr>\n",
       "  </thead>\n",
       "  <tbody>\n",
       "    <tr>\n",
       "      <th>13</th>\n",
       "      <td>7.034</td>\n",
       "      <td>1.924</td>\n",
       "      <td>1.088</td>\n",
       "      <td>0.776</td>\n",
       "      <td>0.585</td>\n",
       "      <td>0.163</td>\n",
       "      <td>0.358</td>\n",
       "      <td>2.142</td>\n",
       "      <td>0</td>\n",
       "      <td>Clus_0</td>\n",
       "      <td>Germany</td>\n",
       "    </tr>\n",
       "    <tr>\n",
       "      <th>15</th>\n",
       "      <td>6.977</td>\n",
       "      <td>1.982</td>\n",
       "      <td>1.182</td>\n",
       "      <td>0.628</td>\n",
       "      <td>0.574</td>\n",
       "      <td>0.220</td>\n",
       "      <td>0.177</td>\n",
       "      <td>2.214</td>\n",
       "      <td>0</td>\n",
       "      <td>Clus_0</td>\n",
       "      <td>United States</td>\n",
       "    </tr>\n",
       "    <tr>\n",
       "      <th>30</th>\n",
       "      <td>6.467</td>\n",
       "      <td>1.834</td>\n",
       "      <td>1.052</td>\n",
       "      <td>0.801</td>\n",
       "      <td>0.412</td>\n",
       "      <td>0.085</td>\n",
       "      <td>0.059</td>\n",
       "      <td>2.222</td>\n",
       "      <td>0</td>\n",
       "      <td>Clus_0</td>\n",
       "      <td>Italy</td>\n",
       "    </tr>\n",
       "    <tr>\n",
       "      <th>63</th>\n",
       "      <td>5.828</td>\n",
       "      <td>1.069</td>\n",
       "      <td>1.109</td>\n",
       "      <td>0.638</td>\n",
       "      <td>0.693</td>\n",
       "      <td>0.208</td>\n",
       "      <td>0.025</td>\n",
       "      <td>2.087</td>\n",
       "      <td>0</td>\n",
       "      <td>Clus_0</td>\n",
       "      <td>Kyrgyzstan</td>\n",
       "    </tr>\n",
       "    <tr>\n",
       "      <th>101</th>\n",
       "      <td>5.048</td>\n",
       "      <td>0.968</td>\n",
       "      <td>0.672</td>\n",
       "      <td>0.317</td>\n",
       "      <td>0.397</td>\n",
       "      <td>0.152</td>\n",
       "      <td>0.074</td>\n",
       "      <td>2.469</td>\n",
       "      <td>1</td>\n",
       "      <td>Clus_1</td>\n",
       "      <td>Cameroon</td>\n",
       "    </tr>\n",
       "    <tr>\n",
       "      <th>135</th>\n",
       "      <td>3.777</td>\n",
       "      <td>1.167</td>\n",
       "      <td>0.376</td>\n",
       "      <td>0.471</td>\n",
       "      <td>0.647</td>\n",
       "      <td>0.198</td>\n",
       "      <td>0.123</td>\n",
       "      <td>0.795</td>\n",
       "      <td>1</td>\n",
       "      <td>Clus_1</td>\n",
       "      <td>India</td>\n",
       "    </tr>\n",
       "  </tbody>\n",
       "</table>\n",
       "</div>"
      ],
      "text/plain": [
       "     Happiness Score  Economy(GDP per capita)  Social Support  \\\n",
       "13             7.034                    1.924           1.088   \n",
       "15             6.977                    1.982           1.182   \n",
       "30             6.467                    1.834           1.052   \n",
       "63             5.828                    1.069           1.109   \n",
       "101            5.048                    0.968           0.672   \n",
       "135            3.777                    1.167           0.376   \n",
       "\n",
       "     Healthy Life Expectancy  Freedom(Life Choices)  Generosity  \\\n",
       "13                     0.776                  0.585       0.163   \n",
       "15                     0.628                  0.574       0.220   \n",
       "30                     0.801                  0.412       0.085   \n",
       "63                     0.638                  0.693       0.208   \n",
       "101                    0.317                  0.397       0.152   \n",
       "135                    0.471                  0.647       0.198   \n",
       "\n",
       "     Perceptions of Corruption  Dystopia Residual  Cluster_Number  \\\n",
       "13                       0.358              2.142               0   \n",
       "15                       0.177              2.214               0   \n",
       "30                       0.059              2.222               0   \n",
       "63                       0.025              2.087               0   \n",
       "101                      0.074              2.469               1   \n",
       "135                      0.123              0.795               1   \n",
       "\n",
       "    Cluster_Name        Country  \n",
       "13        Clus_0        Germany  \n",
       "15        Clus_0  United States  \n",
       "30        Clus_0          Italy  \n",
       "63        Clus_0     Kyrgyzstan  \n",
       "101       Clus_1       Cameroon  \n",
       "135       Clus_1          India  "
      ]
     },
     "execution_count": 22,
     "metadata": {},
     "output_type": "execute_result"
    }
   ],
   "source": [
    "# Ranking of the countries\n",
    "df_clustered[df_clustered.Country.isin(['India', 'Germany', 'Italy', 'United States','Kyrgyzstan','Cameroon'])]"
   ]
  },
  {
   "cell_type": "markdown",
   "id": "164b6b45",
   "metadata": {
    "papermill": {
     "duration": 0.017119,
     "end_time": "2022-06-06T20:02:48.000638",
     "exception": false,
     "start_time": "2022-06-06T20:02:47.983519",
     "status": "completed"
    },
    "tags": []
   },
   "source": [
    "*Germany and US belonging to Cluster 0 are Developed Countries and have good Happiness Score*"
   ]
  },
  {
   "cell_type": "markdown",
   "id": "80323869",
   "metadata": {
    "papermill": {
     "duration": 0.016677,
     "end_time": "2022-06-06T20:02:48.034958",
     "exception": false,
     "start_time": "2022-06-06T20:02:48.018281",
     "status": "completed"
    },
    "tags": []
   },
   "source": [
    "##### Visualizing Clusters using Dendograms\n",
    "* *The dendrogram illustrates how each cluster is composed by drawing a U-shaped link between a non-singleton cluster and its children.*\n",
    "* *The top of the U-link indicates a cluster merge.*\n",
    "* *The two legs of the U-link indicate which clusters were merged.*\n",
    "* *The length of the two legs of the U-link represents the distance between the child clusters. It is also the cophenetic distance between original observations in the two children clusters.*"
   ]
  },
  {
   "cell_type": "code",
   "execution_count": 23,
   "id": "561b6193",
   "metadata": {
    "execution": {
     "iopub.execute_input": "2022-06-06T20:02:48.070677Z",
     "iopub.status.busy": "2022-06-06T20:02:48.070059Z",
     "iopub.status.idle": "2022-06-06T20:02:48.077775Z",
     "shell.execute_reply": "2022-06-06T20:02:48.076759Z"
    },
    "papermill": {
     "duration": 0.027861,
     "end_time": "2022-06-06T20:02:48.079683",
     "exception": false,
     "start_time": "2022-06-06T20:02:48.051822",
     "status": "completed"
    },
    "tags": []
   },
   "outputs": [
    {
     "data": {
      "text/plain": [
       "Int64Index([1, 1, 1, 1, 1, 1, 1, 1, 1, 1], dtype='int64', name='Cluster_Number')"
      ]
     },
     "execution_count": 23,
     "metadata": {},
     "output_type": "execute_result"
    }
   ],
   "source": [
    "# Setting Cluster Numbers as Index\n",
    "\n",
    "# Scipy Dendogram works on the index and based on index, Clusters are created\n",
    "df_hr = df_clustered.set_index('Cluster_Number')\n",
    "df_hr.index[-10:]"
   ]
  },
  {
   "cell_type": "code",
   "execution_count": 24,
   "id": "57dcaef9",
   "metadata": {
    "execution": {
     "iopub.execute_input": "2022-06-06T20:02:48.115521Z",
     "iopub.status.busy": "2022-06-06T20:02:48.114915Z",
     "iopub.status.idle": "2022-06-06T20:02:51.127969Z",
     "shell.execute_reply": "2022-06-06T20:02:51.126898Z"
    },
    "papermill": {
     "duration": 3.034423,
     "end_time": "2022-06-06T20:02:51.130663",
     "exception": false,
     "start_time": "2022-06-06T20:02:48.096240",
     "status": "completed"
    },
    "tags": []
   },
   "outputs": [
    {
     "data": {
      "image/png": "[encoded data removed]",
      "text/plain": [
       "<Figure size 1152x576 with 1 Axes>"
      ]
     },
     "metadata": {
      "needs_background": "light"
     },
     "output_type": "display_data"
    }
   ],
   "source": [
    "Z = hierarchy.linkage(df_clustered.iloc[:,1:7],method = 'ward')\n",
    "hierarchy.set_link_color_palette(['r','g','b'])\n",
    "\n",
    "fig,ax = plt.subplots(figsize=(16,8))\n",
    "\n",
    "#Plotting the hierarchical clustering as a dendrogram\n",
    "dendogram1 = hierarchy.dendrogram(Z, ax = ax, above_threshold_color = 'b', orientation = 'top')\n",
    "#Z = linkage matrix encoding the hierarchical clustering to render as a dendrogram\n",
    "#Orientation = top :: Plots the root at the top, and plot descendent links going downwards\n",
    "hierarchy.set_link_color_palette(None) #Reset to default after use\n",
    "\n",
    "plt.title('Hierarchical Clustering Dendogram')\n",
    "plt.xlabel('Index')\n",
    "plt.ylabel('Distance')\n",
    "plt.show()\n"
   ]
  },
  {
   "cell_type": "markdown",
   "id": "0083111b",
   "metadata": {
    "papermill": {
     "duration": 0.016839,
     "end_time": "2022-06-06T20:02:51.171301",
     "exception": false,
     "start_time": "2022-06-06T20:02:51.154462",
     "status": "completed"
    },
    "tags": []
   },
   "source": [
    "*Larger number of Clusters(Countries) are falling in right part of the Dendogram \n",
    "OR Developed and Developing Countries are combined together.*\n",
    "\n",
    "*In this case, two clusters seem to provide better demarkation*\n",
    "\n",
    "*So a Domain Expert would guide to decide the optimal number of Clusters*"
   ]
  }
 ],
 "metadata": {
  "kernelspec": {
   "display_name": "Python 3",
   "language": "python",
   "name": "python3"
  },
  "language_info": {
   "codemirror_mode": {
    "name": "ipython",
    "version": 3
   },
   "file_extension": ".py",
   "mimetype": "text/x-python",
   "name": "python",
   "nbconvert_exporter": "python",
   "pygments_lexer": "ipython3",
   "version": "3.7.12"
  },
  "papermill": {
   "default_parameters": {},
   "duration": 20.128826,
   "end_time": "2022-06-06T20:02:52.312914",
   "environment_variables": {},
   "exception": null,
   "input_path": "__notebook__.ipynb",
   "output_path": "__notebook__.ipynb",
   "parameters": {},
   "start_time": "2022-06-06T20:02:32.184088",
   "version": "2.3.4"
  }
 },
 "nbformat": 4,
 "nbformat_minor": 5
}
