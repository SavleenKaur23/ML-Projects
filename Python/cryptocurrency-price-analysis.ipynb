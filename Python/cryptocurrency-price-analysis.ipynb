{
 "cells": [
  {
   "cell_type": "markdown",
   "id": "77a41e25",
   "metadata": {
    "papermill": {
     "duration": 0.020582,
     "end_time": "2022-05-06T20:04:29.288413",
     "exception": false,
     "start_time": "2022-05-06T20:04:29.267831",
     "status": "completed"
    },
    "tags": []
   },
   "source": [
    "#### Problem Statement\n",
    "* Extract OHLCV data from Binance\n",
    "* Plot Candlestick patterns for \"1d\" for last 1 year\n",
    "* Exponential Moving Average (EMA) of 200 days on the candlestick chart"
   ]
  },
  {
   "cell_type": "markdown",
   "id": "9ec2d0dc",
   "metadata": {
    "papermill": {
     "duration": 0.019496,
     "end_time": "2022-05-06T20:04:29.328267",
     "exception": false,
     "start_time": "2022-05-06T20:04:29.308771",
     "status": "completed"
    },
    "tags": []
   },
   "source": [
    "#### Flow of Analysis\n",
    "* Import Relevant Libraries\n",
    "* Load data from Binance Exchange for Bitcoin(BNB/BTC)/USDT\n",
    "* Clean OHLCV data\n",
    "* Method for Simple Moving Average(SMA/EMA) for 7 days, 20 days, 200 days\n",
    "* Plot Line Graph for Price vs SMA7, SMA20, SMA200"
   ]
  },
  {
   "cell_type": "code",
   "execution_count": 1,
   "id": "f817b29f",
   "metadata": {
    "execution": {
     "iopub.execute_input": "2022-05-06T20:04:29.369886Z",
     "iopub.status.busy": "2022-05-06T20:04:29.369449Z",
     "iopub.status.idle": "2022-05-06T20:05:00.898455Z",
     "shell.execute_reply": "2022-05-06T20:05:00.897238Z"
    },
    "papermill": {
     "duration": 31.552655,
     "end_time": "2022-05-06T20:05:00.900896",
     "exception": false,
     "start_time": "2022-05-06T20:04:29.348241",
     "status": "completed"
    },
    "tags": []
   },
   "outputs": [
    {
     "name": "stdout",
     "output_type": "stream",
     "text": [
      "Collecting ccxt\r\n",
      "  Downloading ccxt-1.81.73-py2.py3-none-any.whl (2.6 MB)\r\n",
      "\u001b[2K     \u001b[90m━━━━━━━━━━━━━━━━━━━━━━━━━━━━━━━━━━━━━━━━\u001b[0m \u001b[32m2.6/2.6 MB\u001b[0m \u001b[31m19.1 MB/s\u001b[0m eta \u001b[36m0:00:00\u001b[0m\r\n",
      "\u001b[?25hCollecting aiodns>=1.1.1\r\n",
      "  Downloading aiodns-3.0.0-py3-none-any.whl (5.0 kB)\r\n",
      "Collecting setuptools>=60.9.0\r\n",
      "  Downloading setuptools-62.1.0-py3-none-any.whl (1.1 MB)\r\n",
      "\u001b[2K     \u001b[90m━━━━━━━━━━━━━━━━━━━━━━━━━━━━━━━━━━━━━━━━\u001b[0m \u001b[32m1.1/1.1 MB\u001b[0m \u001b[31m53.1 MB/s\u001b[0m eta \u001b[36m0:00:00\u001b[0m\r\n",
      "\u001b[?25hRequirement already satisfied: requests>=2.18.4 in /opt/conda/lib/python3.7/site-packages (from ccxt) (2.27.1)\r\n",
      "Requirement already satisfied: yarl==1.7.2 in /opt/conda/lib/python3.7/site-packages (from ccxt) (1.7.2)\r\n",
      "Requirement already satisfied: aiohttp>=3.8 in /opt/conda/lib/python3.7/site-packages (from ccxt) (3.8.1)\r\n",
      "Requirement already satisfied: certifi>=2018.1.18 in /opt/conda/lib/python3.7/site-packages (from ccxt) (2021.10.8)\r\n",
      "Requirement already satisfied: cryptography>=2.6.1 in /opt/conda/lib/python3.7/site-packages (from ccxt) (36.0.1)\r\n",
      "Requirement already satisfied: typing-extensions>=3.7.4 in /opt/conda/lib/python3.7/site-packages (from yarl==1.7.2->ccxt) (4.2.0)\r\n",
      "Requirement already satisfied: idna>=2.0 in /opt/conda/lib/python3.7/site-packages (from yarl==1.7.2->ccxt) (3.3)\r\n",
      "Requirement already satisfied: multidict>=4.0 in /opt/conda/lib/python3.7/site-packages (from yarl==1.7.2->ccxt) (6.0.2)\r\n",
      "Collecting pycares>=4.0.0\r\n",
      "  Downloading pycares-4.1.2-cp37-cp37m-manylinux_2_5_x86_64.manylinux1_x86_64.manylinux_2_12_x86_64.manylinux2010_x86_64.whl (291 kB)\r\n",
      "\u001b[2K     \u001b[90m━━━━━━━━━━━━━━━━━━━━━━━━━━━━━━━━━━━━━━\u001b[0m \u001b[32m291.4/291.4 KB\u001b[0m \u001b[31m21.0 MB/s\u001b[0m eta \u001b[36m0:00:00\u001b[0m\r\n",
      "\u001b[?25hRequirement already satisfied: async-timeout<5.0,>=4.0.0a3 in /opt/conda/lib/python3.7/site-packages (from aiohttp>=3.8->ccxt) (4.0.2)\r\n",
      "Requirement already satisfied: charset-normalizer<3.0,>=2.0 in /opt/conda/lib/python3.7/site-packages (from aiohttp>=3.8->ccxt) (2.0.12)\r\n",
      "Requirement already satisfied: attrs>=17.3.0 in /opt/conda/lib/python3.7/site-packages (from aiohttp>=3.8->ccxt) (21.4.0)\r\n",
      "Requirement already satisfied: asynctest==0.13.0 in /opt/conda/lib/python3.7/site-packages (from aiohttp>=3.8->ccxt) (0.13.0)\r\n",
      "Requirement already satisfied: frozenlist>=1.1.1 in /opt/conda/lib/python3.7/site-packages (from aiohttp>=3.8->ccxt) (1.3.0)\r\n",
      "Requirement already satisfied: aiosignal>=1.1.2 in /opt/conda/lib/python3.7/site-packages (from aiohttp>=3.8->ccxt) (1.2.0)\r\n",
      "Requirement already satisfied: cffi>=1.12 in /opt/conda/lib/python3.7/site-packages (from cryptography>=2.6.1->ccxt) (1.15.0)\r\n",
      "Requirement already satisfied: urllib3<1.27,>=1.21.1 in /opt/conda/lib/python3.7/site-packages (from requests>=2.18.4->ccxt) (1.26.8)\r\n",
      "Requirement already satisfied: pycparser in /opt/conda/lib/python3.7/site-packages (from cffi>=1.12->cryptography>=2.6.1->ccxt) (2.21)\r\n",
      "Installing collected packages: setuptools, pycares, aiodns, ccxt\r\n",
      "  Attempting uninstall: setuptools\r\n",
      "    Found existing installation: setuptools 59.8.0\r\n",
      "    Uninstalling setuptools-59.8.0:\r\n",
      "      Successfully uninstalled setuptools-59.8.0\r\n",
      "\u001b[31mERROR: pip's dependency resolver does not currently take into account all the packages that are installed. This behaviour is the source of the following dependency conflicts.\r\n",
      "beatrix-jupyterlab 3.1.7 requires google-cloud-bigquery-storage, which is not installed.\r\n",
      "thinc 8.0.15 requires typing-extensions<4.0.0.0,>=3.7.4.1; python_version < \"3.8\", but you have typing-extensions 4.2.0 which is incompatible.\r\n",
      "spacy 3.2.4 requires typing-extensions<4.0.0.0,>=3.7.4; python_version < \"3.8\", but you have typing-extensions 4.2.0 which is incompatible.\r\n",
      "gcsfs 2022.2.0 requires fsspec==2022.02.0, but you have fsspec 2022.3.0 which is incompatible.\r\n",
      "cloud-tpu-client 0.10 requires google-api-python-client==1.8.0, but you have google-api-python-client 1.12.11 which is incompatible.\u001b[0m\u001b[31m\r\n",
      "\u001b[0mSuccessfully installed aiodns-3.0.0 ccxt-1.81.73 pycares-4.1.2 setuptools-62.1.0\r\n",
      "\u001b[33mWARNING: Running pip as the 'root' user can result in broken permissions and conflicting behaviour with the system package manager. It is recommended to use a virtual environment instead: https://pip.pypa.io/warnings/venv\u001b[0m\u001b[33m\r\n",
      "\u001b[0m"
     ]
    }
   ],
   "source": [
    "! pip install ccxt\n",
    "#CryptoCurrency eXchange Trading library\n",
    "#run line of code/script in (linux)terminal and not in python (python environment)\n",
    "#pip: package that connects our env to PyPi global repository"
   ]
  },
  {
   "cell_type": "code",
   "execution_count": 2,
   "id": "8a3c4453",
   "metadata": {
    "execution": {
     "iopub.execute_input": "2022-05-06T20:05:00.954697Z",
     "iopub.status.busy": "2022-05-06T20:05:00.954381Z",
     "iopub.status.idle": "2022-05-06T20:05:10.092437Z",
     "shell.execute_reply": "2022-05-06T20:05:10.091896Z"
    },
    "papermill": {
     "duration": 9.166822,
     "end_time": "2022-05-06T20:05:10.094388",
     "exception": false,
     "start_time": "2022-05-06T20:05:00.927566",
     "status": "completed"
    },
    "tags": []
   },
   "outputs": [
    {
     "name": "stdout",
     "output_type": "stream",
     "text": [
      "Collecting mpl_finance\r\n",
      "  Downloading mpl_finance-0.10.1-py3-none-any.whl (8.4 kB)\r\n",
      "Requirement already satisfied: matplotlib in /opt/conda/lib/python3.7/site-packages (from mpl_finance) (3.5.1)\r\n",
      "Requirement already satisfied: kiwisolver>=1.0.1 in /opt/conda/lib/python3.7/site-packages (from matplotlib->mpl_finance) (1.4.0)\r\n",
      "Requirement already satisfied: packaging>=20.0 in /opt/conda/lib/python3.7/site-packages (from matplotlib->mpl_finance) (21.3)\r\n",
      "Requirement already satisfied: pyparsing>=2.2.1 in /opt/conda/lib/python3.7/site-packages (from matplotlib->mpl_finance) (3.0.7)\r\n",
      "Requirement already satisfied: pillow>=6.2.0 in /opt/conda/lib/python3.7/site-packages (from matplotlib->mpl_finance) (9.0.1)\r\n",
      "Requirement already satisfied: fonttools>=4.22.0 in /opt/conda/lib/python3.7/site-packages (from matplotlib->mpl_finance) (4.30.0)\r\n",
      "Requirement already satisfied: numpy>=1.17 in /opt/conda/lib/python3.7/site-packages (from matplotlib->mpl_finance) (1.21.6)\r\n",
      "Requirement already satisfied: python-dateutil>=2.7 in /opt/conda/lib/python3.7/site-packages (from matplotlib->mpl_finance) (2.8.2)\r\n",
      "Requirement already satisfied: cycler>=0.10 in /opt/conda/lib/python3.7/site-packages (from matplotlib->mpl_finance) (0.11.0)\r\n",
      "Requirement already satisfied: typing-extensions in /opt/conda/lib/python3.7/site-packages (from kiwisolver>=1.0.1->matplotlib->mpl_finance) (4.2.0)\r\n",
      "Requirement already satisfied: six>=1.5 in /opt/conda/lib/python3.7/site-packages (from python-dateutil>=2.7->matplotlib->mpl_finance) (1.16.0)\r\n",
      "Installing collected packages: mpl_finance\r\n",
      "Successfully installed mpl_finance-0.10.1\r\n",
      "\u001b[33mWARNING: Running pip as the 'root' user can result in broken permissions and conflicting behaviour with the system package manager. It is recommended to use a virtual environment instead: https://pip.pypa.io/warnings/venv\u001b[0m\u001b[33m\r\n",
      "\u001b[0m"
     ]
    }
   ],
   "source": [
    "! pip install mpl_finance"
   ]
  },
  {
   "cell_type": "code",
   "execution_count": 3,
   "id": "9ea42e2e",
   "metadata": {
    "execution": {
     "iopub.execute_input": "2022-05-06T20:05:10.152323Z",
     "iopub.status.busy": "2022-05-06T20:05:10.152117Z",
     "iopub.status.idle": "2022-05-06T20:05:10.314124Z",
     "shell.execute_reply": "2022-05-06T20:05:10.312567Z"
    },
    "papermill": {
     "duration": 0.193986,
     "end_time": "2022-05-06T20:05:10.316818",
     "exception": false,
     "start_time": "2022-05-06T20:05:10.122832",
     "status": "completed"
    },
    "tags": []
   },
   "outputs": [
    {
     "name": "stderr",
     "output_type": "stream",
     "text": [
      "/opt/conda/lib/python3.7/site-packages/mpl_finance.py:22: DeprecationWarning: \n",
      "\n",
      "  =================================================================\n",
      "\n",
      "   WARNING: `mpl_finance` is deprecated:\n",
      "\n",
      "    Please use `mplfinance` instead (no hyphen, no underscore).\n",
      "\n",
      "    To install: `pip install --upgrade mplfinance` \n",
      "\n",
      "   For more information, see: https://pypi.org/project/mplfinance/\n",
      "\n",
      "  =================================================================\n",
      "\n",
      "  category=DeprecationWarning)\n"
     ]
    }
   ],
   "source": [
    "import pandas as pd \n",
    "import ccxt\n",
    "import matplotlib.pyplot as plt  \n",
    "%matplotlib inline               \n",
    "#magical function which renders the graph along with kaggle notebook\n",
    "#from ccxt.base import exchange\n",
    "import datetime                 \n",
    "#libraries to plot candlesticks                                \n",
    "from mpl_finance import candlestick_ohlc     \n",
    "import matplotlib.dates as mpdates\n",
    "import plotly.graph_objects as go"
   ]
  },
  {
   "cell_type": "code",
   "execution_count": 4,
   "id": "6aef63c6",
   "metadata": {
    "execution": {
     "iopub.execute_input": "2022-05-06T20:05:10.407399Z",
     "iopub.status.busy": "2022-05-06T20:05:10.407151Z",
     "iopub.status.idle": "2022-05-06T20:05:10.431520Z",
     "shell.execute_reply": "2022-05-06T20:05:10.430731Z"
    },
    "papermill": {
     "duration": 0.073081,
     "end_time": "2022-05-06T20:05:10.433856",
     "exception": false,
     "start_time": "2022-05-06T20:05:10.360775",
     "status": "completed"
    },
    "tags": []
   },
   "outputs": [],
   "source": [
    "exchange = ccxt.binance() \n",
    "#will have necessary backend ready for connecting to BINANCE portal\n",
    "#initializing the connector\n"
   ]
  },
  {
   "cell_type": "markdown",
   "id": "bbd31216",
   "metadata": {
    "papermill": {
     "duration": 0.04371,
     "end_time": "2022-05-06T20:05:10.520603",
     "exception": false,
     "start_time": "2022-05-06T20:05:10.476893",
     "status": "completed"
    },
    "tags": []
   },
   "source": [
    "#### API Application Programming Interface:\n",
    "one program(kaggle notebook) interacts with other program(Binance portal)\n",
    "\n",
    "Service providing the info puts some limitation on the data to be shared as it costs \n",
    "for Computation and Processing at Binance's end\n",
    "* we provide the start and end date\n",
    "* for every request, we create a batch i.e 20 records/request or 20 days/year\n"
   ]
  },
  {
   "cell_type": "code",
   "execution_count": 5,
   "id": "95560a6b",
   "metadata": {
    "execution": {
     "iopub.execute_input": "2022-05-06T20:05:10.608386Z",
     "iopub.status.busy": "2022-05-06T20:05:10.607906Z",
     "iopub.status.idle": "2022-05-06T20:05:10.616011Z",
     "shell.execute_reply": "2022-05-06T20:05:10.615137Z"
    },
    "papermill": {
     "duration": 0.054832,
     "end_time": "2022-05-06T20:05:10.618422",
     "exception": false,
     "start_time": "2022-05-06T20:05:10.563590",
     "status": "completed"
    },
    "tags": []
   },
   "outputs": [
    {
     "data": {
      "text/plain": [
       "1651867510610"
      ]
     },
     "execution_count": 5,
     "metadata": {},
     "output_type": "execute_result"
    }
   ],
   "source": [
    "exchange.milliseconds() \n",
    "#Current timestamp\n",
    "#View the Human Readable Date using https://www.epochconverter.com/\n",
    "#standard nomenclature in computer science"
   ]
  },
  {
   "cell_type": "code",
   "execution_count": 6,
   "id": "f0fe681c",
   "metadata": {
    "execution": {
     "iopub.execute_input": "2022-05-06T20:05:10.678145Z",
     "iopub.status.busy": "2022-05-06T20:05:10.677874Z",
     "iopub.status.idle": "2022-05-06T20:05:24.426754Z",
     "shell.execute_reply": "2022-05-06T20:05:24.426246Z"
    },
    "papermill": {
     "duration": 13.78103,
     "end_time": "2022-05-06T20:05:24.428459",
     "exception": false,
     "start_time": "2022-05-06T20:05:10.647429",
     "status": "completed"
    },
    "tags": []
   },
   "outputs": [],
   "source": [
    "if exchange.has['fetchOHLCV']:\n",
    "    #conditional loop to check exchange has fetchOHLCV\n",
    "    #get info from Binance :opening, high,low,closing price\n",
    "    ticker = \"BTC/USDT\"\n",
    "    #Binance recognizes the crytocurrency\n",
    "    since = exchange.parse8601(\"2020-11-01T00:00:00Z\") \n",
    "    #Unix epoch: number of seconds that have elapsed since January 1, 1970\n",
    "    all_orders = []  #blank list to be used for appending\n",
    "    while since < exchange.milliseconds():  \n",
    "        #start time is less than current time\n",
    "        #exchange.milliseconds(): converts the current time \n",
    "        limit = 20  # 20 days of data will be extracted from 1st of Nov\n",
    "        ohlcv = exchange.fetch_ohlcv(symbol = ticker, since = since, timeframe = \"1d\", limit = limit)\n",
    "        #class exchange has method fetch_ohlcv\n",
    "        if len(ohlcv) > 0:\n",
    "            since = ohlcv[len(ohlcv)-1][0] + 1 \n",
    "            #from 20 days of data,extract first element from the last request i.e milliseconds\n",
    "            #and increment by 1 i.e now 21st Nov\n",
    "            all_orders += ohlcv\n",
    "            #appending the list received from Binance to our empty list\n",
    "        else:\n",
    "            break"
   ]
  },
  {
   "cell_type": "code",
   "execution_count": 7,
   "id": "732f7524",
   "metadata": {
    "execution": {
     "iopub.execute_input": "2022-05-06T20:05:24.489008Z",
     "iopub.status.busy": "2022-05-06T20:05:24.488581Z",
     "iopub.status.idle": "2022-05-06T20:05:24.494021Z",
     "shell.execute_reply": "2022-05-06T20:05:24.493078Z"
    },
    "papermill": {
     "duration": 0.037575,
     "end_time": "2022-05-06T20:05:24.495960",
     "exception": false,
     "start_time": "2022-05-06T20:05:24.458385",
     "status": "completed"
    },
    "tags": []
   },
   "outputs": [
    {
     "name": "stdout",
     "output_type": "stream",
     "text": [
      "First 5 records: \n",
      "[[1604188800000, 13791.0, 13895.0, 13603.0, 13761.5, 36285.648526], [1604275200000, 13761.49, 13830.0, 13195.05, 13549.37, 64566.421908], [1604361600000, 13549.63, 14066.11, 13284.99, 14023.53, 74115.630787], [1604448000000, 14023.53, 14259.0, 13525.0, 14144.01, 93016.988262], [1604534400000, 14144.01, 15750.0, 14093.56, 15590.02, 143741.522673]]\n",
      "\n",
      "Total records: 552\n",
      "\n",
      "Last record is: [1651795200000, 36552.97, 36675.63, 35258.0, 35936.46, 65411.6437]\n"
     ]
    }
   ],
   "source": [
    "print(f\"First 5 records: \\n{all_orders[0:5]}\")\n",
    "#we have data for below number of days\n",
    "print(f\"\\nTotal records: {len(all_orders)}\")\n",
    "print(f\"\\nLast record is: {all_orders[-1]}\")"
   ]
  },
  {
   "cell_type": "code",
   "execution_count": 8,
   "id": "bccd9140",
   "metadata": {
    "execution": {
     "iopub.execute_input": "2022-05-06T20:05:24.555513Z",
     "iopub.status.busy": "2022-05-06T20:05:24.555237Z",
     "iopub.status.idle": "2022-05-06T20:05:24.562459Z",
     "shell.execute_reply": "2022-05-06T20:05:24.561214Z"
    },
    "papermill": {
     "duration": 0.039557,
     "end_time": "2022-05-06T20:05:24.564360",
     "exception": false,
     "start_time": "2022-05-06T20:05:24.524803",
     "status": "completed"
    },
    "tags": []
   },
   "outputs": [],
   "source": [
    "def cleanData(ohlcv_list):\n",
    "    temp = []\n",
    "    for i in ohlcv_list:\n",
    "        timestamp_with_ms = i[0]\n",
    "        dt = datetime.datetime.fromtimestamp(timestamp_with_ms / 1000)\n",
    "        formatted_time = dt.strftime('%Y-%m-%d %H:%M:%S.%f')[:-3]\n",
    "        #converts a datetime object containing current date and time to string formats\n",
    "        #extracting upto final 3 values to avoid high accuracy date\n",
    "        i[0] = dt\n",
    "        temp.append(i)\n",
    "    return temp"
   ]
  },
  {
   "cell_type": "code",
   "execution_count": 9,
   "id": "7b345b4a",
   "metadata": {
    "execution": {
     "iopub.execute_input": "2022-05-06T20:05:24.623417Z",
     "iopub.status.busy": "2022-05-06T20:05:24.623196Z",
     "iopub.status.idle": "2022-05-06T20:05:24.629262Z",
     "shell.execute_reply": "2022-05-06T20:05:24.628254Z"
    },
    "papermill": {
     "duration": 0.038221,
     "end_time": "2022-05-06T20:05:24.631840",
     "exception": false,
     "start_time": "2022-05-06T20:05:24.593619",
     "status": "completed"
    },
    "tags": []
   },
   "outputs": [],
   "source": [
    "data = cleanData(ohlcv_list = all_orders)"
   ]
  },
  {
   "cell_type": "code",
   "execution_count": 10,
   "id": "6eb5b4d8",
   "metadata": {
    "execution": {
     "iopub.execute_input": "2022-05-06T20:05:24.721430Z",
     "iopub.status.busy": "2022-05-06T20:05:24.721206Z",
     "iopub.status.idle": "2022-05-06T20:05:24.732293Z",
     "shell.execute_reply": "2022-05-06T20:05:24.731751Z"
    },
    "papermill": {
     "duration": 0.058129,
     "end_time": "2022-05-06T20:05:24.734216",
     "exception": false,
     "start_time": "2022-05-06T20:05:24.676087",
     "status": "completed"
    },
    "tags": []
   },
   "outputs": [],
   "source": [
    "ohlcv_df = pd.DataFrame(data, columns = [\"date\",\"open_price\",\"high_price\",\"low_price\",\"close_price\",\"volume_traded\"])"
   ]
  },
  {
   "cell_type": "code",
   "execution_count": 11,
   "id": "f7fbce78",
   "metadata": {
    "execution": {
     "iopub.execute_input": "2022-05-06T20:05:24.822696Z",
     "iopub.status.busy": "2022-05-06T20:05:24.822441Z",
     "iopub.status.idle": "2022-05-06T20:05:24.842911Z",
     "shell.execute_reply": "2022-05-06T20:05:24.841935Z"
    },
    "papermill": {
     "duration": 0.06702,
     "end_time": "2022-05-06T20:05:24.844820",
     "exception": false,
     "start_time": "2022-05-06T20:05:24.777800",
     "status": "completed"
    },
    "tags": []
   },
   "outputs": [
    {
     "data": {
      "text/html": [
       "<div>\n",
       "<style scoped>\n",
       "    .dataframe tbody tr th:only-of-type {\n",
       "        vertical-align: middle;\n",
       "    }\n",
       "\n",
       "    .dataframe tbody tr th {\n",
       "        vertical-align: top;\n",
       "    }\n",
       "\n",
       "    .dataframe thead th {\n",
       "        text-align: right;\n",
       "    }\n",
       "</style>\n",
       "<table border=\"1\" class=\"dataframe\">\n",
       "  <thead>\n",
       "    <tr style=\"text-align: right;\">\n",
       "      <th></th>\n",
       "      <th>date</th>\n",
       "      <th>open_price</th>\n",
       "      <th>high_price</th>\n",
       "      <th>low_price</th>\n",
       "      <th>close_price</th>\n",
       "      <th>volume_traded</th>\n",
       "    </tr>\n",
       "  </thead>\n",
       "  <tbody>\n",
       "    <tr>\n",
       "      <th>546</th>\n",
       "      <td>2022-05-01</td>\n",
       "      <td>37630.80</td>\n",
       "      <td>38675.00</td>\n",
       "      <td>37386.38</td>\n",
       "      <td>38468.35</td>\n",
       "      <td>38812.24104</td>\n",
       "    </tr>\n",
       "    <tr>\n",
       "      <th>547</th>\n",
       "      <td>2022-05-02</td>\n",
       "      <td>38468.35</td>\n",
       "      <td>39167.34</td>\n",
       "      <td>38052.00</td>\n",
       "      <td>38525.16</td>\n",
       "      <td>53200.92628</td>\n",
       "    </tr>\n",
       "    <tr>\n",
       "      <th>548</th>\n",
       "      <td>2022-05-03</td>\n",
       "      <td>38525.16</td>\n",
       "      <td>38651.51</td>\n",
       "      <td>37517.80</td>\n",
       "      <td>37728.95</td>\n",
       "      <td>40316.45358</td>\n",
       "    </tr>\n",
       "    <tr>\n",
       "      <th>549</th>\n",
       "      <td>2022-05-04</td>\n",
       "      <td>37728.95</td>\n",
       "      <td>40023.77</td>\n",
       "      <td>37670.00</td>\n",
       "      <td>39690.00</td>\n",
       "      <td>62574.61736</td>\n",
       "    </tr>\n",
       "    <tr>\n",
       "      <th>550</th>\n",
       "      <td>2022-05-05</td>\n",
       "      <td>39690.00</td>\n",
       "      <td>39845.51</td>\n",
       "      <td>35571.90</td>\n",
       "      <td>36552.97</td>\n",
       "      <td>88722.43355</td>\n",
       "    </tr>\n",
       "    <tr>\n",
       "      <th>551</th>\n",
       "      <td>2022-05-06</td>\n",
       "      <td>36552.97</td>\n",
       "      <td>36675.63</td>\n",
       "      <td>35258.00</td>\n",
       "      <td>35936.46</td>\n",
       "      <td>65411.64370</td>\n",
       "    </tr>\n",
       "  </tbody>\n",
       "</table>\n",
       "</div>"
      ],
      "text/plain": [
       "          date  open_price  high_price  low_price  close_price  volume_traded\n",
       "546 2022-05-01    37630.80    38675.00   37386.38     38468.35    38812.24104\n",
       "547 2022-05-02    38468.35    39167.34   38052.00     38525.16    53200.92628\n",
       "548 2022-05-03    38525.16    38651.51   37517.80     37728.95    40316.45358\n",
       "549 2022-05-04    37728.95    40023.77   37670.00     39690.00    62574.61736\n",
       "550 2022-05-05    39690.00    39845.51   35571.90     36552.97    88722.43355\n",
       "551 2022-05-06    36552.97    36675.63   35258.00     35936.46    65411.64370"
      ]
     },
     "execution_count": 11,
     "metadata": {},
     "output_type": "execute_result"
    }
   ],
   "source": [
    "ohlcv_df.tail(n=6)"
   ]
  },
  {
   "cell_type": "markdown",
   "id": "c5c42f38",
   "metadata": {
    "papermill": {
     "duration": 0.043962,
     "end_time": "2022-05-06T20:05:24.932716",
     "exception": false,
     "start_time": "2022-05-06T20:05:24.888754",
     "status": "completed"
    },
    "tags": []
   },
   "source": [
    "#### Data Exploration"
   ]
  },
  {
   "cell_type": "code",
   "execution_count": 12,
   "id": "8ae9a358",
   "metadata": {
    "execution": {
     "iopub.execute_input": "2022-05-06T20:05:25.024272Z",
     "iopub.status.busy": "2022-05-06T20:05:25.023903Z",
     "iopub.status.idle": "2022-05-06T20:05:25.029519Z",
     "shell.execute_reply": "2022-05-06T20:05:25.029115Z"
    },
    "papermill": {
     "duration": 0.054102,
     "end_time": "2022-05-06T20:05:25.031859",
     "exception": false,
     "start_time": "2022-05-06T20:05:24.977757",
     "status": "completed"
    },
    "tags": []
   },
   "outputs": [
    {
     "data": {
      "text/plain": [
       "date             2022-04-08 00:00:00\n",
       "open_price                   43444.2\n",
       "high_price                  43970.62\n",
       "low_price                   42107.14\n",
       "close_price                 42252.01\n",
       "volume_traded            42375.04203\n",
       "Name: 523, dtype: object"
      ]
     },
     "execution_count": 12,
     "metadata": {},
     "output_type": "execute_result"
    }
   ],
   "source": [
    "ohlcv_df.iloc[523,:]"
   ]
  },
  {
   "cell_type": "code",
   "execution_count": 13,
   "id": "d0f87c1c",
   "metadata": {
    "execution": {
     "iopub.execute_input": "2022-05-06T20:05:25.124343Z",
     "iopub.status.busy": "2022-05-06T20:05:25.124003Z",
     "iopub.status.idle": "2022-05-06T20:05:25.136072Z",
     "shell.execute_reply": "2022-05-06T20:05:25.135504Z"
    },
    "papermill": {
     "duration": 0.05993,
     "end_time": "2022-05-06T20:05:25.137565",
     "exception": false,
     "start_time": "2022-05-06T20:05:25.077635",
     "status": "completed"
    },
    "tags": []
   },
   "outputs": [
    {
     "data": {
      "text/plain": [
       "date         2021-07-13 00:00:00\n",
       "low_price               32202.25\n",
       "Name: 254, dtype: object"
      ]
     },
     "execution_count": 13,
     "metadata": {},
     "output_type": "execute_result"
    }
   ],
   "source": [
    "ohlcv_df.loc[254,[\"date\",\"low_price\"]]"
   ]
  },
  {
   "cell_type": "code",
   "execution_count": 14,
   "id": "8b95509f",
   "metadata": {
    "execution": {
     "iopub.execute_input": "2022-05-06T20:05:25.198116Z",
     "iopub.status.busy": "2022-05-06T20:05:25.197735Z",
     "iopub.status.idle": "2022-05-06T20:05:25.229438Z",
     "shell.execute_reply": "2022-05-06T20:05:25.228819Z"
    },
    "papermill": {
     "duration": 0.063736,
     "end_time": "2022-05-06T20:05:25.231039",
     "exception": false,
     "start_time": "2022-05-06T20:05:25.167303",
     "status": "completed"
    },
    "tags": []
   },
   "outputs": [
    {
     "data": {
      "text/html": [
       "<div>\n",
       "<style scoped>\n",
       "    .dataframe tbody tr th:only-of-type {\n",
       "        vertical-align: middle;\n",
       "    }\n",
       "\n",
       "    .dataframe tbody tr th {\n",
       "        vertical-align: top;\n",
       "    }\n",
       "\n",
       "    .dataframe thead th {\n",
       "        text-align: right;\n",
       "    }\n",
       "</style>\n",
       "<table border=\"1\" class=\"dataframe\">\n",
       "  <thead>\n",
       "    <tr style=\"text-align: right;\">\n",
       "      <th></th>\n",
       "      <th>open_price</th>\n",
       "      <th>high_price</th>\n",
       "      <th>low_price</th>\n",
       "      <th>close_price</th>\n",
       "      <th>volume_traded</th>\n",
       "    </tr>\n",
       "  </thead>\n",
       "  <tbody>\n",
       "    <tr>\n",
       "      <th>count</th>\n",
       "      <td>552.000000</td>\n",
       "      <td>552.000000</td>\n",
       "      <td>552.000000</td>\n",
       "      <td>552.000000</td>\n",
       "      <td>552.000000</td>\n",
       "    </tr>\n",
       "    <tr>\n",
       "      <th>mean</th>\n",
       "      <td>42832.267953</td>\n",
       "      <td>44078.562264</td>\n",
       "      <td>41420.772645</td>\n",
       "      <td>42872.598080</td>\n",
       "      <td>65888.186398</td>\n",
       "    </tr>\n",
       "    <tr>\n",
       "      <th>std</th>\n",
       "      <td>11980.499648</td>\n",
       "      <td>12190.263083</td>\n",
       "      <td>11688.635035</td>\n",
       "      <td>11920.164453</td>\n",
       "      <td>36187.235242</td>\n",
       "    </tr>\n",
       "    <tr>\n",
       "      <th>min</th>\n",
       "      <td>13549.630000</td>\n",
       "      <td>13830.000000</td>\n",
       "      <td>13195.050000</td>\n",
       "      <td>13549.370000</td>\n",
       "      <td>15805.447180</td>\n",
       "    </tr>\n",
       "    <tr>\n",
       "      <th>25%</th>\n",
       "      <td>36650.877500</td>\n",
       "      <td>37850.000000</td>\n",
       "      <td>34738.750000</td>\n",
       "      <td>36653.080000</td>\n",
       "      <td>42142.814248</td>\n",
       "    </tr>\n",
       "    <tr>\n",
       "      <th>50%</th>\n",
       "      <td>42843.325000</td>\n",
       "      <td>43935.000000</td>\n",
       "      <td>41791.875000</td>\n",
       "      <td>42843.325000</td>\n",
       "      <td>56467.929431</td>\n",
       "    </tr>\n",
       "    <tr>\n",
       "      <th>75%</th>\n",
       "      <td>50449.230000</td>\n",
       "      <td>51889.725000</td>\n",
       "      <td>48681.215000</td>\n",
       "      <td>50449.237500</td>\n",
       "      <td>81386.941388</td>\n",
       "    </tr>\n",
       "    <tr>\n",
       "      <th>max</th>\n",
       "      <td>67525.820000</td>\n",
       "      <td>69000.000000</td>\n",
       "      <td>66222.400000</td>\n",
       "      <td>67525.830000</td>\n",
       "      <td>354347.243161</td>\n",
       "    </tr>\n",
       "  </tbody>\n",
       "</table>\n",
       "</div>"
      ],
      "text/plain": [
       "         open_price    high_price     low_price   close_price  volume_traded\n",
       "count    552.000000    552.000000    552.000000    552.000000     552.000000\n",
       "mean   42832.267953  44078.562264  41420.772645  42872.598080   65888.186398\n",
       "std    11980.499648  12190.263083  11688.635035  11920.164453   36187.235242\n",
       "min    13549.630000  13830.000000  13195.050000  13549.370000   15805.447180\n",
       "25%    36650.877500  37850.000000  34738.750000  36653.080000   42142.814248\n",
       "50%    42843.325000  43935.000000  41791.875000  42843.325000   56467.929431\n",
       "75%    50449.230000  51889.725000  48681.215000  50449.237500   81386.941388\n",
       "max    67525.820000  69000.000000  66222.400000  67525.830000  354347.243161"
      ]
     },
     "execution_count": 14,
     "metadata": {},
     "output_type": "execute_result"
    }
   ],
   "source": [
    "ohlcv_df.describe()"
   ]
  },
  {
   "cell_type": "markdown",
   "id": "8a90b5bb",
   "metadata": {
    "papermill": {
     "duration": 0.029337,
     "end_time": "2022-05-06T20:05:25.289876",
     "exception": false,
     "start_time": "2022-05-06T20:05:25.260539",
     "status": "completed"
    },
    "tags": []
   },
   "source": [
    "* 25 percentile means 25% of data has values less tha 36650 as open value\n",
    "* 75 percentile means 75% of datapoints in our dataset are less than 50449 as open value\n",
    "* 50 percentile is Median\n",
    "* Rolling Average : what is the average based on specific range of dates\n",
    "* TimeSeries data: Data collected over a period of time(current use case)\n",
    "* EWMA and SMA: \n",
    "    * Exponentially Weighted Moving Average(recent timeseries data has higher weightage in the calculation of average as compared to previous data) \n",
    "    * Simple Moving Average(looks for 100 days of data without giving priority to latest or old days, no weightage to recency of data)"
   ]
  },
  {
   "cell_type": "code",
   "execution_count": 15,
   "id": "7337f663",
   "metadata": {
    "execution": {
     "iopub.execute_input": "2022-05-06T20:05:25.353394Z",
     "iopub.status.busy": "2022-05-06T20:05:25.352431Z",
     "iopub.status.idle": "2022-05-06T20:05:25.360116Z",
     "shell.execute_reply": "2022-05-06T20:05:25.359234Z"
    },
    "papermill": {
     "duration": 0.04092,
     "end_time": "2022-05-06T20:05:25.362038",
     "exception": false,
     "start_time": "2022-05-06T20:05:25.321118",
     "status": "completed"
    },
    "tags": []
   },
   "outputs": [],
   "source": [
    "#Calculating EWMA on the open prices; for 200 days\n",
    "ohlcv_df[\"ewm200\"]=ohlcv_df.open_price.ewm(span=200,min_periods = 0,adjust = False,ignore_na = False).mean()"
   ]
  },
  {
   "cell_type": "code",
   "execution_count": 16,
   "id": "e3bc4fb7",
   "metadata": {
    "execution": {
     "iopub.execute_input": "2022-05-06T20:05:25.425800Z",
     "iopub.status.busy": "2022-05-06T20:05:25.425394Z",
     "iopub.status.idle": "2022-05-06T20:05:25.437368Z",
     "shell.execute_reply": "2022-05-06T20:05:25.436884Z"
    },
    "papermill": {
     "duration": 0.045527,
     "end_time": "2022-05-06T20:05:25.438773",
     "exception": false,
     "start_time": "2022-05-06T20:05:25.393246",
     "status": "completed"
    },
    "tags": []
   },
   "outputs": [
    {
     "data": {
      "text/html": [
       "<div>\n",
       "<style scoped>\n",
       "    .dataframe tbody tr th:only-of-type {\n",
       "        vertical-align: middle;\n",
       "    }\n",
       "\n",
       "    .dataframe tbody tr th {\n",
       "        vertical-align: top;\n",
       "    }\n",
       "\n",
       "    .dataframe thead th {\n",
       "        text-align: right;\n",
       "    }\n",
       "</style>\n",
       "<table border=\"1\" class=\"dataframe\">\n",
       "  <thead>\n",
       "    <tr style=\"text-align: right;\">\n",
       "      <th></th>\n",
       "      <th>date</th>\n",
       "      <th>open_price</th>\n",
       "      <th>high_price</th>\n",
       "      <th>low_price</th>\n",
       "      <th>close_price</th>\n",
       "      <th>volume_traded</th>\n",
       "      <th>ewm200</th>\n",
       "    </tr>\n",
       "  </thead>\n",
       "  <tbody>\n",
       "    <tr>\n",
       "      <th>549</th>\n",
       "      <td>2022-05-04</td>\n",
       "      <td>37728.95</td>\n",
       "      <td>40023.77</td>\n",
       "      <td>37670.0</td>\n",
       "      <td>39690.00</td>\n",
       "      <td>62574.61736</td>\n",
       "      <td>43691.117674</td>\n",
       "    </tr>\n",
       "    <tr>\n",
       "      <th>550</th>\n",
       "      <td>2022-05-05</td>\n",
       "      <td>39690.00</td>\n",
       "      <td>39845.51</td>\n",
       "      <td>35571.9</td>\n",
       "      <td>36552.97</td>\n",
       "      <td>88722.43355</td>\n",
       "      <td>43651.305557</td>\n",
       "    </tr>\n",
       "    <tr>\n",
       "      <th>551</th>\n",
       "      <td>2022-05-06</td>\n",
       "      <td>36552.97</td>\n",
       "      <td>36675.63</td>\n",
       "      <td>35258.0</td>\n",
       "      <td>35936.46</td>\n",
       "      <td>65411.64370</td>\n",
       "      <td>43580.675353</td>\n",
       "    </tr>\n",
       "  </tbody>\n",
       "</table>\n",
       "</div>"
      ],
      "text/plain": [
       "          date  open_price  high_price  low_price  close_price  volume_traded  \\\n",
       "549 2022-05-04    37728.95    40023.77    37670.0     39690.00    62574.61736   \n",
       "550 2022-05-05    39690.00    39845.51    35571.9     36552.97    88722.43355   \n",
       "551 2022-05-06    36552.97    36675.63    35258.0     35936.46    65411.64370   \n",
       "\n",
       "           ewm200  \n",
       "549  43691.117674  \n",
       "550  43651.305557  \n",
       "551  43580.675353  "
      ]
     },
     "execution_count": 16,
     "metadata": {},
     "output_type": "execute_result"
    }
   ],
   "source": [
    "ohlcv_df[-3:]"
   ]
  },
  {
   "cell_type": "markdown",
   "id": "5adfb90f",
   "metadata": {
    "papermill": {
     "duration": 0.030636,
     "end_time": "2022-05-06T20:05:25.499355",
     "exception": false,
     "start_time": "2022-05-06T20:05:25.468719",
     "status": "completed"
    },
    "tags": []
   },
   "source": [
    "#### Plotting Line Graph"
   ]
  },
  {
   "cell_type": "code",
   "execution_count": 17,
   "id": "98908418",
   "metadata": {
    "execution": {
     "iopub.execute_input": "2022-05-06T20:05:25.563468Z",
     "iopub.status.busy": "2022-05-06T20:05:25.563259Z",
     "iopub.status.idle": "2022-05-06T20:05:25.889282Z",
     "shell.execute_reply": "2022-05-06T20:05:25.888722Z"
    },
    "papermill": {
     "duration": 0.360822,
     "end_time": "2022-05-06T20:05:25.890712",
     "exception": false,
     "start_time": "2022-05-06T20:05:25.529890",
     "status": "completed"
    },
    "tags": []
   },
   "outputs": [
    {
     "data": {
      "image/png": "[encoded data removed]",
      "text/plain": [
       "<Figure size 1440x720 with 1 Axes>"
      ]
     },
     "metadata": {
      "needs_background": "light"
     },
     "output_type": "display_data"
    }
   ],
   "source": [
    "plt.figure(figsize = (20,10))\n",
    "plt.plot(ohlcv_df.date, ohlcv_df.open_price, color = \"black\", label = \"Opening Value\")\n",
    "plt.plot(ohlcv_df.date, ohlcv_df.ewm200, color = \"red\", label = \"EWMA 200\")\n",
    "plt.title(\"Opening Price of Bitcoin vs EWMA 200\")\n",
    "plt.legend()\n",
    "plt.xlabel(\"Date\")\n",
    "plt.ylabel(\"Bitcoin Price\")\n",
    "plt.show()"
   ]
  },
  {
   "cell_type": "markdown",
   "id": "c930a733",
   "metadata": {
    "papermill": {
     "duration": 0.033508,
     "end_time": "2022-05-06T20:05:25.957378",
     "exception": false,
     "start_time": "2022-05-06T20:05:25.923870",
     "status": "completed"
    },
    "tags": []
   },
   "source": [
    "#### Plotting Candlesticks"
   ]
  },
  {
   "cell_type": "code",
   "execution_count": 18,
   "id": "a04b0032",
   "metadata": {
    "execution": {
     "iopub.execute_input": "2022-05-06T20:05:26.025798Z",
     "iopub.status.busy": "2022-05-06T20:05:26.025192Z",
     "iopub.status.idle": "2022-05-06T20:05:26.029211Z",
     "shell.execute_reply": "2022-05-06T20:05:26.028732Z"
    },
    "papermill": {
     "duration": 0.039864,
     "end_time": "2022-05-06T20:05:26.031090",
     "exception": false,
     "start_time": "2022-05-06T20:05:25.991226",
     "status": "completed"
    },
    "tags": []
   },
   "outputs": [],
   "source": [
    "cs_df = ohlcv_df.copy()"
   ]
  },
  {
   "cell_type": "code",
   "execution_count": 19,
   "id": "4ea7f306",
   "metadata": {
    "execution": {
     "iopub.execute_input": "2022-05-06T20:05:26.097804Z",
     "iopub.status.busy": "2022-05-06T20:05:26.097519Z",
     "iopub.status.idle": "2022-05-06T20:05:28.134831Z",
     "shell.execute_reply": "2022-05-06T20:05:28.133959Z"
    },
    "papermill": {
     "duration": 2.073103,
     "end_time": "2022-05-06T20:05:28.136835",
     "exception": false,
     "start_time": "2022-05-06T20:05:26.063732",
     "status": "completed"
    },
    "tags": []
   },
   "outputs": [
    {
     "data": {
      "image/png": "[encoded data removed]",
      "text/plain": [
       "<Figure size 1440x720 with 1 Axes>"
      ]
     },
     "metadata": {
      "needs_background": "light"
     },
     "output_type": "display_data"
    }
   ],
   "source": [
    "try:\n",
    "    cs_df[\"date\"] = cs_df[\"date\"].map(mpdates.date2num)\n",
    "except:\n",
    "    pass\n",
    "#re-execution of date conversion will throw an error so we use try-except\n",
    "#try: try line of code : transform/(.map is a in-built python method to)apply transformation across all elements of a list\n",
    "#date is transformed to numeric value required by matpotlib to plot candlesticks\n",
    "#if a code fails it comes to except: don't do anything just move on\n",
    "\n",
    "#Creating Subplots\n",
    "fig,ax = plt.subplots()\n",
    "fig.set_figwidth(20)\n",
    "fig.set_figheight(10)\n",
    "\n",
    "#Plotting the data\n",
    "candlestick_ohlc(ax,\n",
    "                 cs_df[[\"date\",\"open_price\",\"high_price\",\n",
    "                        \"low_price\",\"close_price\",\"volume_traded\"]].values,\n",
    "                 width = 0.8,colorup=\"green\",colordown=\"red\",alpha = 0.8)\n",
    "#Plotting EWMA\n",
    "plt.plot(ohlcv_df.date, ohlcv_df.ewm200, color = \"red\", label = \"EWMA 200\")\n",
    "#Setting labels\n",
    "ax.set_xlabel(\"Date\")\n",
    "ax.set_ylabel(\"Price\")\n",
    "\n",
    "#Setting Title\n",
    "plt.title(\"Bitcoin Candlesticks\")\n",
    "\n",
    "#Formatting Date\n",
    "date_format = mpdates.DateFormatter(\"%d-%m-%Y\")\n",
    "ax.xaxis.set_major_formatter(date_format)\n",
    "fig.autofmt_xdate()\n",
    "\n",
    "fig.tight_layout()\n",
    "#Show the plot\n",
    "plt.show()"
   ]
  },
  {
   "cell_type": "markdown",
   "id": "8ac67727",
   "metadata": {
    "papermill": {
     "duration": 0.034585,
     "end_time": "2022-05-06T20:05:28.206806",
     "exception": false,
     "start_time": "2022-05-06T20:05:28.172221",
     "status": "completed"
    },
    "tags": []
   },
   "source": [
    "#### Plotly : Interactive Graphs"
   ]
  },
  {
   "cell_type": "code",
   "execution_count": 20,
   "id": "9a058b4e",
   "metadata": {
    "execution": {
     "iopub.execute_input": "2022-05-06T20:05:28.277369Z",
     "iopub.status.busy": "2022-05-06T20:05:28.276510Z",
     "iopub.status.idle": "2022-05-06T20:05:28.409928Z",
     "shell.execute_reply": "2022-05-06T20:05:28.408804Z"
    },
    "papermill": {
     "duration": 0.170624,
     "end_time": "2022-05-06T20:05:28.411954",
     "exception": false,
     "start_time": "2022-05-06T20:05:28.241330",
     "status": "completed"
    },
    "tags": []
   },
   "outputs": [
    {
     "data": {
      "text/html": [
       "        <script type=\"text/javascript\">\n",
       "        window.PlotlyConfig = {MathJaxConfig: 'local'};\n",
       "        if (window.MathJax) {MathJax.Hub.Config({SVG: {font: \"STIX-Web\"}});}\n",
       "        if (typeof require !== 'undefined') {\n",
       "        require.undef(\"plotly\");\n",
       "        requirejs.config({\n",
       "            paths: {\n",
       "                'plotly': ['https://cdn.plot.ly/plotly-2.11.1.min']\n",
       "            }\n",
       "        });\n",
       "        require(['plotly'], function(Plotly) {\n",
       "            window._Plotly = Plotly;\n",
       "        });\n",
       "        }\n",
       "        </script>\n",
       "        "
      ]
     },
     "metadata": {},
     "output_type": "display_data"
    },
    {
     "data": {
      "text/html": [
       "<div>                            <div id=\"3ca0d764-5c50-4481-ae7d-d68fdf8cc982\" class=\"plotly-graph-div\" style=\"height:525px; width:100%;\"></div>            <script type=\"text/javascript\">                require([\"plotly\"], function(Plotly) {                    window.PLOTLYENV=window.PLOTLYENV || {};                                    if (document.getElementById(\"3ca0d764-5c50-4481-ae7d-d68fdf8cc982\")) {                    Plotly.newPlot(                        \"3ca0d764-5c50-4481-ae7d-d68fdf8cc982\",                        [{\"close\":[13761.5,13549.37,14023.53,14144.01,15590.02,15579.92,14818.3,15475.1,15328.41,15297.21,15684.24,16291.86,16320.7,16070.45,15957.0,16713.57,17659.38,17776.12,17802.82,18655.67,18703.8,18414.43,18368.0,19160.01,18719.11,17149.47,17139.52,17719.85,18184.99,19695.87,18764.96,19204.09,19421.9,18650.52,19147.66,19359.4,19166.9,18324.11,18541.28,18254.63,18036.53,18808.69,19174.99,19273.14,19426.43,21335.52,22797.16,23107.39,23821.61,23455.52,22719.71,23810.79,23232.76,23729.2,24712.47,26493.39,26281.66,27079.41,27385.0,28875.54,28923.63,29331.69,32178.33,33000.05,31988.71,33949.53,36769.36,39432.28,40582.81,40088.22,38150.02,35404.47,34051.24,37371.38,39144.5,36742.22,35994.98,35828.61,36631.27,35891.49,35468.23,30850.13,32945.17,32078.0,32259.9,32254.2,32467.77,30366.15,33364.86,34252.2,34262.88,33092.98,33526.37,35466.24,37618.87,36936.66,38290.24,39186.94,38795.69,46374.87,46420.42,44807.58,47969.51,47287.6,47153.69,48577.79,47911.1,49133.45,52119.71,51552.6,55906.0,55841.19,57408.57,54087.67,48891.0,49676.2,47073.73,46276.87,46106.43,45135.66,49587.03,48440.65,50349.37,48374.09,48751.71,48882.2,50971.75,52375.17,54884.5,55851.59,57773.16,57221.72,61188.39,58968.31,55605.2,56900.75,58912.97,57648.16,58030.01,58102.28,57351.56,54083.25,54340.89,52303.65,51293.78,55025.59,55817.14,55777.63,57635.47,58746.57,58740.55,58720.44,58950.01,57051.94,58202.01,59129.99,57991.15,55953.45,58077.52,58142.54,59769.13,60002.43,59860.0,63575.0,62959.53,63159.98,61334.8,60006.66,56150.01,55633.14,56425.0,53787.63,51690.96,51125.14,50047.84,49066.77,54001.39,55011.97,54846.22,53555.0,57694.27,57800.37,56578.21,57169.39,53200.01,57436.11,56393.68,57314.75,58862.05,58240.84,55816.14,56670.02,49631.32,49670.97,49841.45,46762.99,46431.5,43538.04,42849.78,36690.09,40526.64,37252.01,37449.73,34655.25,38796.29,38324.72,39241.91,38529.98,35663.49,34605.15,35641.27,37253.81,36693.09,37568.68,39246.79,36829.0,35513.2,35796.31,33552.79,33380.81,37388.05,36675.72,37331.98,35546.11,39020.57,40516.29,40144.04,38349.01,38092.97,35819.84,35483.72,35600.16,31608.93,32509.56,33678.07,34663.09,31584.45,32283.65,34700.34,34494.89,35911.73,35045.0,33504.69,33786.55,34669.13,35286.51,33690.14,34220.01,33862.12,32875.71,33815.81,33502.87,34258.99,33086.63,32729.77,32820.02,31880.0,31383.87,31520.07,31778.56,30839.65,29790.35,32144.51,32287.83,33634.09,34258.14,35381.02,37237.6,39457.87,40019.56,40016.48,42206.37,41461.83,39845.44,39147.82,38207.05,39723.18,40862.46,42836.87,44572.54,43794.37,46253.4,45584.99,45511.0,44399.0,47800.0,47068.51,46973.82,45901.29,44695.95,44705.29,46760.62,49322.47,48821.87,49239.22,49488.85,47674.01,48973.32,46843.87,49069.9,48895.35,48767.83,46982.91,47100.89,48810.52,49246.64,49999.14,49915.64,51756.88,52663.9,46863.73,46048.31,46395.14,44850.91,45173.69,46025.24,44940.73,47111.52,48121.41,47737.82,47299.98,48292.74,47241.75,43015.62,40734.38,43543.61,44865.26,42810.57,42670.64,43160.9,42147.35,41026.54,41524.28,43824.1,48141.61,47634.9,48200.01,49224.94,51471.99,55315.0,53785.22,53951.43,54949.72,54659.0,57471.35,55996.93,57367.0,57347.94,61672.42,60875.57,61528.33,62009.84,64280.59,66001.41,62193.15,60688.22,61286.75,60852.22,63078.78,60328.81,58413.44,60575.89,62253.71,61859.19,61299.8,60911.11,63219.99,62896.48,61395.01,60937.12,61470.61,63273.59,67525.83,66947.66,64882.43,64774.26,64122.23,64380.0,65519.1,63606.74,60058.87,60344.87,56891.62,58052.24,59707.51,58622.02,56247.18,57541.27,57138.29,58960.36,53726.53,54721.03,57274.88,57776.25,56950.56,57184.07,56480.34,53601.05,49152.47,49396.33,50441.92,50588.95,50471.19,47545.59,47140.54,49389.99,50053.9,46702.75,48343.28,48864.98,47632.38,46131.2,46834.48,46681.23,46914.16,48889.88,48588.16,50838.81,50820.0,50399.66,50775.49,50701.44,47543.74,46464.66,47120.87,46216.93,47722.65,47286.18,46446.1,45832.01,43451.13,43082.31,41566.48,41679.74,41864.62,41822.49,42729.29,43902.66,42560.11,43059.96,43084.29,43071.66,42201.62,42352.12,41660.01,40680.91,36445.31,35071.42,36244.55,36660.35,36958.32,36809.34,37160.1,37716.56,38166.84,37881.76,38466.9,38694.59,36896.36,37311.61,41574.25,41382.59,42380.87,43839.99,44042.99,44372.72,43495.44,42373.73,42217.87,42053.66,42535.94,44544.86,43873.56,40515.7,39974.44,40079.17,38386.89,37008.16,38230.33,37250.01,38327.21,39219.17,39116.72,37699.07,43160.0,44421.2,43892.98,42454.0,39148.66,39397.96,38420.81,37988.0,38730.63,41941.71,39422.0,38729.57,38807.36,37777.34,39671.37,39280.33,41114.0,40917.9,41757.51,42201.13,41262.11,41002.25,42364.13,42882.76,43991.46,44313.16,44511.27,46827.76,47122.21,47434.8,47067.99,45510.34,46283.49,45811.0,46407.35,46580.51,45497.55,43170.47,43444.19,42252.01,42753.97,42158.85,39530.45,40074.94,41147.79,39942.38,40551.9,40378.71,39678.12,40801.13,41493.18,41358.19,40480.01,39709.18,39441.6,39450.13,40426.08,38112.65,39235.72,39742.07,38596.11,37630.8,38468.35,38525.16,37728.95,39690.0,36552.97,35936.46],\"high\":[13895.0,13830.0,14066.11,14259.0,15750.0,15960.0,15753.52,15650.0,15840.0,15460.0,15965.0,16340.7,16480.0,16326.99,16180.0,16880.0,17858.82,18476.93,18179.8,18815.22,18965.9,18750.0,18766.0,19418.97,19484.21,18915.03,17457.62,17880.49,18360.05,19863.16,19888.0,19342.0,19598.0,19527.0,19177.0,19420.0,19420.91,19294.84,18639.57,18557.32,18292.73,18948.66,19411.0,19349.0,19570.0,21560.0,23800.0,23285.18,24171.47,24295.0,24102.77,23837.1,24100.0,23794.43,24789.86,26867.03,28422.0,27500.0,27410.0,28996.0,29300.0,29600.0,33300.0,34778.11,33600.0,34360.0,36939.21,40365.0,41950.0,41380.0,41350.0,38264.74,36628.0,37850.0,40100.0,39747.76,37950.0,36852.5,37469.83,37850.0,36415.31,35600.0,33826.53,33456.0,33071.0,34875.0,32921.88,32557.29,33783.98,38531.9,34933.0,34342.69,34717.27,35984.33,37662.63,38708.27,38310.12,40955.51,39700.0,46794.45,48142.19,47310.0,48678.9,48985.8,48150.0,49707.43,49010.92,50689.18,52618.74,52530.0,56368.0,57700.46,58352.8,57508.47,54183.59,51374.99,52041.73,48424.11,48394.0,46638.46,49790.0,50200.0,52640.0,51773.88,49448.93,49200.0,51450.03,52402.78,54895.0,57387.69,58150.0,58081.51,61844.0,61724.79,60633.43,56938.29,58974.73,60129.97,59468.0,59880.0,58589.1,58430.73,55830.9,57200.0,53287.0,55073.46,56700.36,56559.75,58405.82,59368.0,59800.0,59490.0,60200.0,59791.72,58492.85,59272.0,59495.24,58655.0,58153.31,58894.9,61500.0,60699.0,61300.0,63777.77,64854.0,63800.0,63520.61,62506.05,60499.0,57526.81,57076.24,56757.91,55521.48,52131.85,51166.22,50567.91,54356.62,55460.0,56428.0,55195.84,57963.0,58458.07,57911.02,58981.44,57200.0,58069.82,58360.0,58650.0,59500.0,59300.0,59500.0,56862.43,58000.01,51367.19,51483.0,50700.0,49795.89,46686.0,45799.29,43584.9,42451.67,42200.0,38829.0,38270.64,39920.0,39791.77,40841.0,40411.14,38877.83,37338.58,36488.0,37499.0,37894.81,38225.0,39476.0,39289.07,37925.0,36480.0,36900.0,34068.01,37534.79,38491.0,37680.4,37463.63,39380.0,41064.05,41330.0,40527.14,39559.88,38202.84,36457.0,36137.72,35750.0,33298.78,34881.0,35298.0,35500.0,32730.0,34749.0,35297.71,36600.0,36100.0,35057.57,33977.04,34945.61,35967.85,35293.78,35118.88,35059.09,33929.64,34100.0,34262.0,34666.0,34678.43,33340.0,33114.03,33185.25,32249.18,31955.92,32435.0,31899.0,31063.07,32858.0,32591.35,33650.0,34500.0,35398.0,40550.0,39542.61,40900.0,40640.0,42316.71,42448.0,42599.0,40480.01,39780.0,39969.66,41350.0,43392.43,44700.0,45310.0,46454.15,46700.0,46743.47,46218.12,47886.0,48144.0,47372.27,48053.83,47160.0,46000.0,47033.0,49382.99,49757.04,49500.0,50500.0,49860.0,49264.3,49352.84,49149.93,49299.0,49632.27,48888.61,48246.11,49156.0,50450.13,51000.0,50535.69,51900.0,52780.0,52920.0,47340.99,47399.97,47033.0,45987.93,46460.0,46880.0,47250.0,48500.0,48557.0,48150.0,48843.2,48372.83,47347.25,43639.0,44000.55,44978.0,45200.0,42966.84,43950.0,44350.0,42787.38,42590.0,44141.37,48495.0,48336.59,49228.08,49536.12,51886.3,55750.0,55332.31,56100.0,55489.0,56561.31,57839.04,57680.0,57777.0,58532.54,62933.0,62378.42,61718.39,62695.78,64486.0,67000.0,66639.74,63732.39,61747.64,61500.0,63710.63,63293.48,61496.0,62499.0,62980.0,62359.25,62405.3,62437.74,64270.0,63500.0,63086.31,62595.72,61560.49,63286.35,67789.0,68524.25,69000.0,65600.07,65450.7,65000.0,65550.51,66401.82,63617.31,60840.23,60976.0,58320.0,59845.0,60029.76,59444.0,58009.99,57735.0,59398.9,59150.0,55280.0,57445.05,58865.97,59176.99,59053.55,57375.47,57600.0,53859.1,49699.05,50891.11,51936.33,51200.0,50797.76,50125.0,49485.71,50777.0,50189.97,48700.41,49500.0,49436.43,47995.96,47392.37,48300.01,47537.57,49328.96,49576.13,51375.0,51810.0,51156.23,51280.0,52088.0,50704.05,48139.08,47900.0,48548.26,47954.63,47990.0,47570.0,47557.54,47070.0,43816.0,43145.83,42300.0,42786.7,42248.5,43100.0,44322.0,44500.0,43448.78,43800.0,43475.0,43176.18,42691.0,42559.13,43505.0,41100.0,36835.22,36499.0,37550.0,37545.14,38919.98,37234.47,38000.0,38720.74,38359.26,38744.0,39265.2,38855.92,37387.0,41772.33,41913.69,42656.0,44500.5,45492.0,44799.0,45821.0,43920.0,43079.49,42760.0,42842.4,44751.4,44549.97,44164.71,40959.88,40444.32,40125.44,39494.35,38429.0,39249.93,39843.0,39683.53,40348.45,39855.7,44225.84,44949.0,45400.0,44101.12,42527.3,39613.24,39693.87,39547.57,39362.08,42594.06,42039.63,40236.26,39486.71,39310.0,39947.12,39887.61,41718.0,41478.82,42325.02,42400.0,42296.26,41544.22,43361.0,43025.96,44220.89,45094.14,44792.99,46999.0,48189.84,48096.47,47700.22,47600.0,46720.09,47213.0,47444.11,46890.71,47200.0,45507.14,43900.99,43970.62,42800.0,43410.3,42414.71,40699.0,41561.31,41500.0,40870.36,40709.35,40595.67,41116.73,41760.0,42199.0,42976.0,40795.06,39980.0,39940.0,40616.0,40797.31,39474.72,40372.63,39925.25,38795.38,38675.0,39167.34,38651.51,40023.77,39845.51,36675.63],\"low\":[13603.0,13195.05,13284.99,13525.0,14093.56,15166.0,14344.22,14703.88,14805.54,15072.46,15272.68,15440.64,15952.35,15670.0,15774.72,15864.0,16538.0,17214.45,17335.65,17740.04,18308.58,17610.86,18000.0,18018.0,18500.27,16188.0,16438.08,16865.56,17517.0,18184.99,18001.12,18330.0,18867.2,18565.31,18500.0,18857.0,18902.88,18200.0,17650.0,17911.12,17572.33,18020.7,18711.12,19000.0,19050.0,19278.6,21230.0,22350.0,22750.0,23060.0,21815.0,22353.4,22600.0,22703.42,23433.6,24500.0,25700.0,26101.0,25880.0,27320.0,27850.0,28624.57,28946.53,31962.99,28130.0,29900.0,33288.0,36300.0,36500.0,38720.0,35111.11,30420.0,32531.0,32380.0,36701.23,34408.0,35357.8,33850.0,34800.0,35844.06,33400.0,30071.0,28850.0,31390.16,30900.0,31910.0,30837.37,29241.72,29842.1,31915.4,32825.0,32171.67,32296.16,33418.0,35362.38,36161.95,36570.0,38215.94,37351.0,37988.89,44961.09,43727.0,43994.02,46125.0,46202.53,47014.17,45570.79,47003.62,48947.0,50901.9,50710.2,53863.93,55477.59,47622.0,44892.56,46988.69,46674.34,44106.78,45000.0,43000.0,44950.53,47047.6,48100.71,47500.0,46300.0,47070.0,48882.2,49274.67,51789.41,53005.0,54272.82,54962.84,56078.23,58966.78,54600.0,53271.34,54123.69,57023.0,56270.74,57820.17,55450.11,53650.0,53000.0,51700.0,50427.56,51214.6,53950.0,54691.84,54800.01,57071.35,56769.0,57935.45,58428.57,56880.0,56388.0,56777.77,57413.02,55473.0,55700.0,57654.0,57900.01,59232.52,59350.59,59805.15,61301.0,62020.0,60000.0,59580.91,50931.3,54221.58,53329.96,53536.02,50500.0,47500.0,48657.14,46930.0,48753.44,53222.0,53813.16,52330.94,53013.01,56956.14,56035.25,56435.0,53046.69,52900.0,55200.0,55241.63,56900.0,56235.66,53400.0,54370.0,48600.0,46000.0,48799.75,46555.0,43825.39,42001.0,42250.02,30000.0,34850.0,33488.0,35200.62,31111.01,34031.0,36419.62,37800.44,37134.27,34684.0,33632.76,33379.0,34153.84,35666.0,35920.0,37170.0,35555.15,34800.0,35222.0,33300.0,31000.0,32396.82,35782.0,35936.77,34600.36,34757.0,38730.0,39506.4,38116.01,37365.0,35129.29,34803.52,33336.0,31251.23,28805.0,31683.0,32286.57,31275.0,30151.0,31973.45,33862.72,34225.43,34017.55,32711.0,32699.0,33316.73,34357.15,33125.55,33532.0,33777.77,32077.0,32261.07,33004.78,33306.47,32658.34,32202.25,31550.0,31133.0,31020.0,31164.31,31108.97,30407.44,29278.0,29482.61,31708.0,31924.32,33401.14,33851.12,35205.78,36383.0,38772.0,39200.0,38313.23,41000.15,39422.01,38690.0,37642.03,37508.56,37332.7,39853.86,42446.41,43261.0,42779.0,44589.46,45341.14,43770.0,44217.39,45971.03,45500.0,45660.0,44376.0,44203.28,43927.7,46622.99,48222.0,48050.0,49029.0,47600.0,47126.28,46250.0,46348.0,48346.88,47762.54,46853.0,46700.0,46512.0,48584.06,48316.84,49370.0,49450.0,50969.33,42843.05,44412.02,45513.08,44132.29,44722.22,44742.06,43370.0,44594.44,46682.32,47021.1,46699.56,47035.56,46829.18,42500.0,39600.0,40565.39,43069.09,40675.0,41646.28,40750.0,42098.0,40888.0,40753.88,41410.17,43283.03,47430.18,47088.0,46891.0,49022.4,50382.41,53357.0,53617.61,53661.67,54080.0,54415.06,53879.0,54167.19,56818.05,56850.0,60150.0,58963.0,59844.45,61322.22,63481.4,62000.0,60000.0,59562.15,59510.63,60650.0,59817.55,58000.0,57820.0,60174.81,60673.0,59945.36,59405.0,60624.68,60382.76,60677.01,60721.0,60050.0,61322.78,63273.58,66222.4,62822.9,64100.0,62278.0,63360.22,63576.27,63400.0,58574.07,58373.0,56474.26,55600.0,57353.0,58486.65,55610.0,55317.0,55837.0,57000.0,53500.0,53610.0,53256.64,56666.67,55875.55,56458.01,55777.77,51680.0,42000.3,47727.21,47100.0,50039.74,48600.0,47320.0,46852.0,46751.0,48638.0,45672.75,46290.0,46547.0,47511.0,45456.0,45500.0,46406.91,45558.85,46630.0,48421.87,47920.42,50384.43,50142.32,49412.0,50449.0,47313.01,46096.99,45900.0,45678.0,46208.37,46654.0,45696.0,45500.0,42500.0,42430.58,40610.0,40501.0,41200.02,39650.0,41268.93,42450.0,42311.22,41725.95,42555.0,42581.79,41540.42,41250.0,41138.56,40553.31,35440.45,34008.0,34601.01,32917.17,35701.0,36234.63,35507.01,36155.01,37268.44,37351.63,36632.61,38000.0,36586.95,36250.0,37026.73,40843.01,41116.56,41645.85,42666.0,43117.92,43174.01,41938.51,41688.88,41870.0,41550.56,42427.03,43307.0,40073.21,39450.0,39639.03,38000.0,36800.0,36350.0,37036.79,34322.28,38014.37,38573.18,37000.0,37450.17,42809.98,43334.09,41832.28,38550.0,38407.59,38088.57,37155.0,37867.65,38656.45,38539.73,38223.6,38660.52,37578.51,37555.0,38098.33,38828.48,40500.0,40135.04,41499.29,40911.0,40467.94,40875.51,41751.47,42560.46,43579.0,44071.97,44421.46,46663.56,46950.85,46445.42,45200.0,44200.0,45620.0,45530.92,45118.0,45353.81,43121.0,42727.35,42107.14,42125.48,41868.0,39200.0,39254.63,39588.54,39551.94,39766.4,39991.55,39546.17,38536.51,40571.0,40820.0,39751.0,39177.0,39285.0,38929.62,38200.0,37702.26,37881.31,38881.43,38175.0,37578.2,37386.38,38052.0,37517.8,37670.0,35571.9,35258.0],\"open\":[13791.0,13761.49,13549.63,14023.53,14144.01,15590.02,15579.93,14818.3,15475.1,15328.41,15297.21,15684.25,16291.85,16320.04,16069.56,15957.0,16713.08,17659.38,17777.75,17802.81,18655.66,18703.8,18413.88,18368.01,19160.0,18718.83,17149.47,17139.53,17719.84,18185.0,19695.87,18764.96,19204.08,19422.34,18650.51,19147.66,19358.67,19166.9,18324.11,18541.29,18254.81,18036.53,18808.69,19174.99,19273.69,19426.43,21335.52,22797.15,23107.39,23821.6,23455.54,22719.88,23810.79,23232.39,23728.99,24712.47,26493.4,26281.54,27079.42,27385.0,28875.55,28923.63,29331.7,32176.45,33000.05,31989.75,33949.53,36769.36,39432.48,40586.96,40088.22,38150.02,35410.37,34049.15,37371.38,39145.21,36737.43,35994.98,35824.99,36622.46,35901.94,35468.23,30851.99,32950.0,32078.0,32259.45,32254.19,32464.01,30362.19,33368.18,34246.28,34262.89,33092.97,33517.09,35472.71,37620.26,36936.65,38289.32,39181.01,38795.69,46374.86,46420.42,44807.58,47968.66,47298.15,47156.78,48580.47,47911.1,49133.45,52117.67,51552.61,55906.0,55841.19,57412.35,54087.67,48891.0,49676.21,47073.73,46276.88,46103.67,45134.11,49595.76,48436.61,50349.37,48374.09,48746.81,48882.2,50959.11,52375.18,54874.67,55851.59,57773.15,57221.72,61188.38,58976.08,55605.2,56900.74,58912.97,57641.0,58030.01,58100.02,57351.56,54083.25,54342.8,52303.66,51293.78,55025.59,55817.14,55777.65,57635.46,58746.57,58739.46,58720.45,58950.01,57051.95,58202.01,59129.99,57990.03,55953.44,58077.52,58142.55,59769.13,59998.8,59860.01,63575.01,62959.53,63158.74,61334.81,60006.67,56150.01,55633.14,56425.0,53787.62,51690.95,51110.56,50047.84,49066.76,54001.38,55011.97,54846.23,53555.0,57697.25,57797.35,56578.21,57169.39,53205.05,57436.11,56393.68,57315.49,58866.53,58240.83,55816.14,56670.02,49537.15,49671.92,49844.16,46762.99,46426.83,43538.02,42849.78,36671.23,40525.39,37263.35,37458.51,34681.44,38810.99,38324.72,39241.92,38529.99,35661.79,34605.15,35641.26,37253.82,36694.85,37568.68,39246.78,36829.15,35516.07,35796.31,33556.96,33380.8,37388.05,36677.83,37331.98,35546.12,39020.56,40516.28,40143.8,38349.0,38092.97,35820.48,35483.72,35600.17,31614.12,32509.56,33675.07,34663.08,31576.09,32283.65,34702.49,34494.89,35911.72,35045.0,33502.33,33786.54,34669.12,35288.13,33690.15,34220.02,33862.11,32875.71,33815.81,33502.87,34259.0,33086.94,32729.12,32820.03,31874.49,31383.86,31520.07,31778.57,30839.65,29790.34,32144.51,32287.58,33634.1,34261.51,35381.02,37241.33,39456.61,40019.57,40018.49,42206.36,41461.84,39850.27,39146.86,38207.04,39723.17,40862.46,42836.87,44572.54,43794.36,46248.87,45585.0,45510.67,44400.06,47799.99,47068.5,46973.82,45901.3,44695.95,44699.37,46760.62,49322.47,48821.88,49239.22,49488.85,47674.01,48973.32,46843.86,49069.9,48895.35,48767.84,46982.91,47100.89,48810.51,49246.63,49998.0,49917.54,51756.88,52666.2,46868.57,46048.31,46395.14,44842.2,45173.68,46025.23,44940.72,47103.28,48121.4,47737.81,47299.98,48292.75,47241.75,43016.64,40734.09,43546.37,44865.26,42810.58,42670.63,43160.9,42147.35,41025.01,41524.29,43820.01,48141.6,47634.89,48200.01,49224.93,51471.99,55315.0,53785.22,53955.67,54949.72,54659.01,57471.35,55996.91,57370.83,57347.94,61672.42,60875.57,61528.32,62005.6,64280.59,66001.4,62193.15,60688.23,61286.75,60852.22,63078.78,60328.81,58413.44,60575.9,62253.7,61859.19,61299.81,60911.12,63220.57,62896.49,61395.01,60940.18,61470.62,63273.58,67525.82,66947.67,64882.42,64774.25,64122.22,64380.01,65519.11,63606.73,60058.87,60344.86,56891.62,58057.1,59707.52,58617.7,56243.83,57541.26,57138.29,58960.37,53723.72,54716.47,57274.89,57776.25,56950.56,57184.07,56484.26,53601.05,49152.46,49396.32,50441.91,50588.95,50471.19,47535.9,47140.54,49389.99,50053.9,46702.76,48336.95,48864.98,47632.38,46133.83,46834.47,46681.24,46914.17,48887.59,48588.17,50838.82,50819.99,50399.67,50775.48,50701.44,47543.74,46464.66,47120.88,46216.93,47722.66,47286.18,46446.1,45832.01,43451.14,43082.3,41566.48,41679.74,41864.62,41822.49,42729.29,43902.65,42558.35,43059.96,43084.29,43071.66,42201.63,42352.12,41660.0,40680.92,36445.31,35071.42,36244.55,36660.35,36958.32,36807.24,37160.11,37716.57,38166.83,37881.75,38466.9,38694.59,36896.37,37311.98,41571.7,41382.6,42380.87,43839.99,44043.0,44372.71,43495.44,42373.73,42217.87,42053.65,42535.94,44544.85,43873.56,40515.71,39974.45,40079.17,38386.89,37008.16,38230.33,37250.02,38328.68,39219.16,39116.73,37699.08,43160.0,44421.2,43892.99,42454.0,39148.65,39397.97,38420.8,37988.01,38730.63,41941.7,39422.01,38729.57,38807.35,37777.35,39671.37,39280.33,41114.01,40917.89,41757.51,42201.13,41262.11,41002.26,42364.13,42882.76,43991.46,44313.16,44511.27,46827.76,47122.21,47434.79,47067.99,45510.35,46283.49,45810.99,46407.36,46580.5,45497.54,43170.47,43444.2,42252.02,42753.96,42158.85,39530.45,40074.95,41147.78,39942.37,40551.9,40378.7,39678.11,40801.13,41493.19,41358.19,40480.01,39709.19,39441.61,39450.12,40426.08,38112.64,39235.72,39742.06,38596.11,37630.8,38468.35,38525.16,37728.95,39690.0,36552.97],\"x\":[18567.0,18568.0,18569.0,18570.0,18571.0,18572.0,18573.0,18574.0,18575.0,18576.0,18577.0,18578.0,18579.0,18580.0,18581.0,18582.0,18583.0,18584.0,18585.0,18586.0,18587.0,18588.0,18589.0,18590.0,18591.0,18592.0,18593.0,18594.0,18595.0,18596.0,18597.0,18598.0,18599.0,18600.0,18601.0,18602.0,18603.0,18604.0,18605.0,18606.0,18607.0,18608.0,18609.0,18610.0,18611.0,18612.0,18613.0,18614.0,18615.0,18616.0,18617.0,18618.0,18619.0,18620.0,18621.0,18622.0,18623.0,18624.0,18625.0,18626.0,18627.0,18628.0,18629.0,18630.0,18631.0,18632.0,18633.0,18634.0,18635.0,18636.0,18637.0,18638.0,18639.0,18640.0,18641.0,18642.0,18643.0,18644.0,18645.0,18646.0,18647.0,18648.0,18649.0,18650.0,18651.0,18652.0,18653.0,18654.0,18655.0,18656.0,18657.0,18658.0,18659.0,18660.0,18661.0,18662.0,18663.0,18664.0,18665.0,18666.0,18667.0,18668.0,18669.0,18670.0,18671.0,18672.0,18673.0,18674.0,18675.0,18676.0,18677.0,18678.0,18679.0,18680.0,18681.0,18682.0,18683.0,18684.0,18685.0,18686.0,18687.0,18688.0,18689.0,18690.0,18691.0,18692.0,18693.0,18694.0,18695.0,18696.0,18697.0,18698.0,18699.0,18700.0,18701.0,18702.0,18703.0,18704.0,18705.0,18706.0,18707.0,18708.0,18709.0,18710.0,18711.0,18712.0,18713.0,18714.0,18715.0,18716.0,18717.0,18718.0,18719.0,18720.0,18721.0,18722.0,18723.0,18724.0,18725.0,18726.0,18727.0,18728.0,18729.0,18730.0,18731.0,18732.0,18733.0,18734.0,18735.0,18736.0,18737.0,18738.0,18739.0,18740.0,18741.0,18742.0,18743.0,18744.0,18745.0,18746.0,18747.0,18748.0,18749.0,18750.0,18751.0,18752.0,18753.0,18754.0,18755.0,18756.0,18757.0,18758.0,18759.0,18760.0,18761.0,18762.0,18763.0,18764.0,18765.0,18766.0,18767.0,18768.0,18769.0,18770.0,18771.0,18772.0,18773.0,18774.0,18775.0,18776.0,18777.0,18778.0,18779.0,18780.0,18781.0,18782.0,18783.0,18784.0,18785.0,18786.0,18787.0,18788.0,18789.0,18790.0,18791.0,18792.0,18793.0,18794.0,18795.0,18796.0,18797.0,18798.0,18799.0,18800.0,18801.0,18802.0,18803.0,18804.0,18805.0,18806.0,18807.0,18808.0,18809.0,18810.0,18811.0,18812.0,18813.0,18814.0,18815.0,18816.0,18817.0,18818.0,18819.0,18820.0,18821.0,18822.0,18823.0,18824.0,18825.0,18826.0,18827.0,18828.0,18829.0,18830.0,18831.0,18832.0,18833.0,18834.0,18835.0,18836.0,18837.0,18838.0,18839.0,18840.0,18841.0,18842.0,18843.0,18844.0,18845.0,18846.0,18847.0,18848.0,18849.0,18850.0,18851.0,18852.0,18853.0,18854.0,18855.0,18856.0,18857.0,18858.0,18859.0,18860.0,18861.0,18862.0,18863.0,18864.0,18865.0,18866.0,18867.0,18868.0,18869.0,18870.0,18871.0,18872.0,18873.0,18874.0,18875.0,18876.0,18877.0,18878.0,18879.0,18880.0,18881.0,18882.0,18883.0,18884.0,18885.0,18886.0,18887.0,18888.0,18889.0,18890.0,18891.0,18892.0,18893.0,18894.0,18895.0,18896.0,18897.0,18898.0,18899.0,18900.0,18901.0,18902.0,18903.0,18904.0,18905.0,18906.0,18907.0,18908.0,18909.0,18910.0,18911.0,18912.0,18913.0,18914.0,18915.0,18916.0,18917.0,18918.0,18919.0,18920.0,18921.0,18922.0,18923.0,18924.0,18925.0,18926.0,18927.0,18928.0,18929.0,18930.0,18931.0,18932.0,18933.0,18934.0,18935.0,18936.0,18937.0,18938.0,18939.0,18940.0,18941.0,18942.0,18943.0,18944.0,18945.0,18946.0,18947.0,18948.0,18949.0,18950.0,18951.0,18952.0,18953.0,18954.0,18955.0,18956.0,18957.0,18958.0,18959.0,18960.0,18961.0,18962.0,18963.0,18964.0,18965.0,18966.0,18967.0,18968.0,18969.0,18970.0,18971.0,18972.0,18973.0,18974.0,18975.0,18976.0,18977.0,18978.0,18979.0,18980.0,18981.0,18982.0,18983.0,18984.0,18985.0,18986.0,18987.0,18988.0,18989.0,18990.0,18991.0,18992.0,18993.0,18994.0,18995.0,18996.0,18997.0,18998.0,18999.0,19000.0,19001.0,19002.0,19003.0,19004.0,19005.0,19006.0,19007.0,19008.0,19009.0,19010.0,19011.0,19012.0,19013.0,19014.0,19015.0,19016.0,19017.0,19018.0,19019.0,19020.0,19021.0,19022.0,19023.0,19024.0,19025.0,19026.0,19027.0,19028.0,19029.0,19030.0,19031.0,19032.0,19033.0,19034.0,19035.0,19036.0,19037.0,19038.0,19039.0,19040.0,19041.0,19042.0,19043.0,19044.0,19045.0,19046.0,19047.0,19048.0,19049.0,19050.0,19051.0,19052.0,19053.0,19054.0,19055.0,19056.0,19057.0,19058.0,19059.0,19060.0,19061.0,19062.0,19063.0,19064.0,19065.0,19066.0,19067.0,19068.0,19069.0,19070.0,19071.0,19072.0,19073.0,19074.0,19075.0,19076.0,19077.0,19078.0,19079.0,19080.0,19081.0,19082.0,19083.0,19084.0,19085.0,19086.0,19087.0,19088.0,19089.0,19090.0,19091.0,19092.0,19093.0,19094.0,19095.0,19096.0,19097.0,19098.0,19099.0,19100.0,19101.0,19102.0,19103.0,19104.0,19105.0,19106.0,19107.0,19108.0,19109.0,19110.0,19111.0,19112.0,19113.0,19114.0,19115.0,19116.0,19117.0,19118.0],\"type\":\"candlestick\"},{\"line\":{\"color\":\"teal\"},\"mode\":\"lines\",\"name\":\"ewm200\",\"x\":[18567.0,18568.0,18569.0,18570.0,18571.0,18572.0,18573.0,18574.0,18575.0,18576.0,18577.0,18578.0,18579.0,18580.0,18581.0,18582.0,18583.0,18584.0,18585.0,18586.0,18587.0,18588.0,18589.0,18590.0,18591.0,18592.0,18593.0,18594.0,18595.0,18596.0,18597.0,18598.0,18599.0,18600.0,18601.0,18602.0,18603.0,18604.0,18605.0,18606.0,18607.0,18608.0,18609.0,18610.0,18611.0,18612.0,18613.0,18614.0,18615.0,18616.0,18617.0,18618.0,18619.0,18620.0,18621.0,18622.0,18623.0,18624.0,18625.0,18626.0,18627.0,18628.0,18629.0,18630.0,18631.0,18632.0,18633.0,18634.0,18635.0,18636.0,18637.0,18638.0,18639.0,18640.0,18641.0,18642.0,18643.0,18644.0,18645.0,18646.0,18647.0,18648.0,18649.0,18650.0,18651.0,18652.0,18653.0,18654.0,18655.0,18656.0,18657.0,18658.0,18659.0,18660.0,18661.0,18662.0,18663.0,18664.0,18665.0,18666.0,18667.0,18668.0,18669.0,18670.0,18671.0,18672.0,18673.0,18674.0,18675.0,18676.0,18677.0,18678.0,18679.0,18680.0,18681.0,18682.0,18683.0,18684.0,18685.0,18686.0,18687.0,18688.0,18689.0,18690.0,18691.0,18692.0,18693.0,18694.0,18695.0,18696.0,18697.0,18698.0,18699.0,18700.0,18701.0,18702.0,18703.0,18704.0,18705.0,18706.0,18707.0,18708.0,18709.0,18710.0,18711.0,18712.0,18713.0,18714.0,18715.0,18716.0,18717.0,18718.0,18719.0,18720.0,18721.0,18722.0,18723.0,18724.0,18725.0,18726.0,18727.0,18728.0,18729.0,18730.0,18731.0,18732.0,18733.0,18734.0,18735.0,18736.0,18737.0,18738.0,18739.0,18740.0,18741.0,18742.0,18743.0,18744.0,18745.0,18746.0,18747.0,18748.0,18749.0,18750.0,18751.0,18752.0,18753.0,18754.0,18755.0,18756.0,18757.0,18758.0,18759.0,18760.0,18761.0,18762.0,18763.0,18764.0,18765.0,18766.0,18767.0,18768.0,18769.0,18770.0,18771.0,18772.0,18773.0,18774.0,18775.0,18776.0,18777.0,18778.0,18779.0,18780.0,18781.0,18782.0,18783.0,18784.0,18785.0,18786.0,18787.0,18788.0,18789.0,18790.0,18791.0,18792.0,18793.0,18794.0,18795.0,18796.0,18797.0,18798.0,18799.0,18800.0,18801.0,18802.0,18803.0,18804.0,18805.0,18806.0,18807.0,18808.0,18809.0,18810.0,18811.0,18812.0,18813.0,18814.0,18815.0,18816.0,18817.0,18818.0,18819.0,18820.0,18821.0,18822.0,18823.0,18824.0,18825.0,18826.0,18827.0,18828.0,18829.0,18830.0,18831.0,18832.0,18833.0,18834.0,18835.0,18836.0,18837.0,18838.0,18839.0,18840.0,18841.0,18842.0,18843.0,18844.0,18845.0,18846.0,18847.0,18848.0,18849.0,18850.0,18851.0,18852.0,18853.0,18854.0,18855.0,18856.0,18857.0,18858.0,18859.0,18860.0,18861.0,18862.0,18863.0,18864.0,18865.0,18866.0,18867.0,18868.0,18869.0,18870.0,18871.0,18872.0,18873.0,18874.0,18875.0,18876.0,18877.0,18878.0,18879.0,18880.0,18881.0,18882.0,18883.0,18884.0,18885.0,18886.0,18887.0,18888.0,18889.0,18890.0,18891.0,18892.0,18893.0,18894.0,18895.0,18896.0,18897.0,18898.0,18899.0,18900.0,18901.0,18902.0,18903.0,18904.0,18905.0,18906.0,18907.0,18908.0,18909.0,18910.0,18911.0,18912.0,18913.0,18914.0,18915.0,18916.0,18917.0,18918.0,18919.0,18920.0,18921.0,18922.0,18923.0,18924.0,18925.0,18926.0,18927.0,18928.0,18929.0,18930.0,18931.0,18932.0,18933.0,18934.0,18935.0,18936.0,18937.0,18938.0,18939.0,18940.0,18941.0,18942.0,18943.0,18944.0,18945.0,18946.0,18947.0,18948.0,18949.0,18950.0,18951.0,18952.0,18953.0,18954.0,18955.0,18956.0,18957.0,18958.0,18959.0,18960.0,18961.0,18962.0,18963.0,18964.0,18965.0,18966.0,18967.0,18968.0,18969.0,18970.0,18971.0,18972.0,18973.0,18974.0,18975.0,18976.0,18977.0,18978.0,18979.0,18980.0,18981.0,18982.0,18983.0,18984.0,18985.0,18986.0,18987.0,18988.0,18989.0,18990.0,18991.0,18992.0,18993.0,18994.0,18995.0,18996.0,18997.0,18998.0,18999.0,19000.0,19001.0,19002.0,19003.0,19004.0,19005.0,19006.0,19007.0,19008.0,19009.0,19010.0,19011.0,19012.0,19013.0,19014.0,19015.0,19016.0,19017.0,19018.0,19019.0,19020.0,19021.0,19022.0,19023.0,19024.0,19025.0,19026.0,19027.0,19028.0,19029.0,19030.0,19031.0,19032.0,19033.0,19034.0,19035.0,19036.0,19037.0,19038.0,19039.0,19040.0,19041.0,19042.0,19043.0,19044.0,19045.0,19046.0,19047.0,19048.0,19049.0,19050.0,19051.0,19052.0,19053.0,19054.0,19055.0,19056.0,19057.0,19058.0,19059.0,19060.0,19061.0,19062.0,19063.0,19064.0,19065.0,19066.0,19067.0,19068.0,19069.0,19070.0,19071.0,19072.0,19073.0,19074.0,19075.0,19076.0,19077.0,19078.0,19079.0,19080.0,19081.0,19082.0,19083.0,19084.0,19085.0,19086.0,19087.0,19088.0,19089.0,19090.0,19091.0,19092.0,19093.0,19094.0,19095.0,19096.0,19097.0,19098.0,19099.0,19100.0,19101.0,19102.0,19103.0,19104.0,19105.0,19106.0,19107.0,19108.0,19109.0,19110.0,19111.0,19112.0,19113.0,19114.0,19115.0,19116.0,19117.0,19118.0],\"y\":[13791.0,13790.706368159204,13788.307598326775,13790.648119736461,13794.16415834605,13812.033370700816,13829.624381937623,13839.461950276553,13855.736955746439,13870.39041887334,13884.587628635794,13902.494716908075,13926.269396341826,13950.08800931355,13971.17728285272,13990.936712874085,14018.02271573106,14054.255126519807,14091.304826753441,14128.235226487239,14173.284229208759,14218.363988122104,14260.11041610099,14300.985038826353,14349.333446400222,14392.811024047982,14420.240466594769,14447.298073892332,14479.86068012226,14516.727738031492,14568.261491881925,14610.019685992555,14655.731728918003,14703.16066693872,14742.437774730375,14786.270831698233,14831.767340835566,14874.902989185463,14909.223456954762,14945.363422557202,14978.293239248176,15008.72345577307,15046.534068153438,15087.613231654399,15129.265736812067,15172.023590177123,15233.351912662923,15308.613585173742,15386.213350495396,15470.147546012855,15549.60418734606,15620.950215332667,15702.441158463685,15777.366022558575,15856.486659150034,15944.605896372423,16049.569021781652,16151.379678281339,16260.11639790043,16370.811757125302,16495.23701327331,16618.902615131286,16745.39811149814,16898.940916358853,17059.1509569921,17207.714131549394,17374.299364071292,17567.285042040734,17784.849170975653,18011.73584589132,18231.402354887425,18429.597555336306,18598.56046523346,18752.297674534617,18937.562175285515,19138.633297919492,19313.74570291532,19479.728133732082,19642.36755528699,19811.32369901548,19971.429333851145,20125.626355404867,20232.356341918254,20358.900059909116,20475.50801951201,20592.761173546718,20708.795291222872,20825.76260175797,20920.6524266161,21044.508422371164,21175.869333591352,21306.088444699897,21423.37084823522,21543.70636218313,21682.303413305686,21840.890046009114,21991.096612715493,22153.2679897034,22322.69825846257,22486.608624050008,22724.3026675918,22960.08492960581,23177.4729402565,23424.151418462905,23661.70364315482,23895.485497451784,24141.10723379555,24377.62457475281,24623.951195899546,24897.52053723388,25162.745308007674,25468.64833976879,25770.862684646716,26085.703354451227,26364.329888237782,26588.4758594991,26818.204557414534,27019.75207425618,27211.36528744766,27399.348418915844,27575.813708279868,27794.917651481064,28000.30762509817,28222.686355196696,28423.197834249466,28625.422830923602,28826.98280275521,29047.202973872074,29279.32214826141,29534.002226388162,29795.868771399226,30074.2496791465,30344.373761941064,30651.27929664812,30933.1181096168,31178.611461759916,31434.553039254843,31707.970123441362,31966.01022171558,32225.353503091545,32482.81287121999,32730.263091406858,32942.73062283565,33155.66663653878,33346.193933687646,33524.7768796211,33738.71531862985,33958.40113635493,34175.50809022204,34408.94044753327,34651.105915717024,34890.79103098352,35127.902065501105,35364.93796534687,35580.729129870786,35805.81650171287,36037.89783005403,36256.327005874395,36452.318179945294,36667.49431745827,36881.176463553216,37108.91729476164,37336.67732167944,37560.79008464781,37819.63804400455,38069.78622267117,38319.427553788875,38548.4363343482,38761.951097190504,38934.96660866124,39101.11758767954,39273.49452710561,39417.91368603989,39540.0334503579,39655.16306776728,39758.57278848602,39851.19156671004,39991.98946156865,40141.442004239616,40287.7583027049,40419.77065790186,40591.68587523617,40762.886513293524,40920.252916146324,41081.93587220457,41202.56387347617,41364.09169563063,41513.63983796267,41670.87217788344,41841.97325074032,42005.14595471305,42142.568781034315,42287.12053445686,42359.26013112893,42432.022915893824,42505.77552369588,42548.13586674368,42586.72983821887,42596.195411967936,42598.7186416996,42539.73865521503,42519.69538501389,42467.3934408844,42417.553804656694,42340.57754789394,42305.45727378554,42265.84794767822,42235.75911237794,42198.88578787667,42133.84005864408,42058.92771975209,41995.07032950581,41947.89370931172,41895.62461767678,41852.57044237652,41826.642179268296,41776.91588892732,41714.61891490814,41655.730268988664,41575.145490192765,41493.60971417095,41452.758373731434,41405.24664861968,41364.7166322155,41306.820148312865,41284.071291115724,41276.43157677627,41265.1616108382,41236.14507739703,41204.86970349258,41151.293686542405,41094.89991851711,41040.225988979626,40946.4338895868,40862.484895660564,40790.96832953459,40729.9943163054,40638.910691267534,40555.77376896637,40497.53213942442,40437.804356942586,40392.76869169938,40339.55706292625,40271.52495284738,40206.997739386214,40151.8944782978,40103.49881184708,40039.68439580881,39981.777287392804,39920.88507557795,39850.783831044835,39790.73434018867,39728.16852585843,39673.74893853646,39608.20855108834,39539.75990878896,39472.896924621906,39397.29088557095,39317.55525486875,39239.96833690986,39165.72556738837,39082.879044329784,38990.41596926183,38922.29750190599,38856.28041233479,38804.31841818221,38759.116344369446,38725.5034454205,38710.7355504412,38718.15718675522,38731.10656798154,38743.916353374756,38778.36852896307,38805.0697376301,38815.46974024075,38818.76715576074,38812.68031838998,38821.73991721198,38842.045589677524,38881.79508629765,38938.41941379718,38986.737230575316,39058.99725813178,39123.932608797135,39187.482234580246,39239.34868000731,39324.529190654,39401.583626567895,39476.92926212444,39540.85334906847,39592.14784310759,39642.96597402194,39713.78840214113,39809.39717425913,39899.07362028641,39992.01040018406,40086.50631660014,40162.0038656887,40249.67865309479,40315.292397840116,40402.40292124469,40486.90985735171,40569.30717220394,40633.1241157641,40697.479995209236,40778.20666192358,40862.469580710414,40953.37038090235,41042.56609850531,41149.1761870774,41263.77343894728,41319.542558957764,41366.59497130644,41416.63024522379,41450.71551641559,41487.759939137824,41532.9088949673,41566.81746317659,41621.90664264747,41686.57821834252,41746.789479851555,41802.04510691771,41866.62923520709,41920.1130239115,41931.023740091485,41919.11395163287,41935.30555410418,41964.45932968524,41972.87844083265,41979.82124241641,41991.57326985506,41993.12328707043,41983.49031903988,41978.9211616365,41997.24045356051,42058.37835949523,42113.866037510204,42174.42468390314,42244.57896565535,42336.39400082297,42465.53435902374,42578.168046993655,42691.377021650434,42813.350583624066,42931.21784149846,43075.89577342385,43204.46307916092,43345.421953995145,43484.75049176634,43665.72232766916,43836.96459306549,44012.997980199165,44192.028846067835,44391.91502670398,44606.93477768206,44781.92199382453,44940.19371527902,45102.84601661953,45259.55620550889,45436.86191490681,45585.040502818185,45712.6862689593,45860.57894290001,46023.69457530896,46181.2616939626,46331.695010440584,46476.76391580934,46643.36895147293,46805.09154897071,46950.2648668914,47089.46800254422,47232.56404231991,47392.17614140131,47592.51090616349,47785.09955386336,47955.2221453672,48122.57565635858,48281.776097588845,48441.95752945363,48611.87944458345,48761.08193767218,48873.497739287384,48987.64064735418,49066.287208077025,49155.74803187726,49260.74078777898,49353.844859542376,49422.401925616585,49503.18658307314,49579.157761351016,49672.50315676046,49712.81377211608,49762.601396274134,49837.350536609716,49916.34456112106,49986.336754542746,50057.95599081595,50121.89931429042,50156.5177290736,50146.52710490372,50139.06235759125,50142.07576696845,50146.52227674986,50149.75280135932,50123.744315773656,50094.060690741084,50087.05501222625,50086.72511160709,50053.05381696424,50035.97815709395,50024.326434137794,50000.525972106574,49962.05138531944,49930.931172530196,49898.59593698263,49868.90015651514,49859.13587635082,49846.48944972046,49856.363385544144,49865.95171006609,49871.262339816676,49880.25953046527,49888.4304804109,49865.10022687447,49831.26500073642,49804.29599575397,49768.60081171662,49748.24319169955,49723.745050488615,49691.13166690167,49652.73244633548,49591.025058809755,49526.26162538877,49447.05981817097,49369.77305381107,49295.094913972156,49220.74063622119,49156.149087602076,49103.87546483987,49038.745858224545,48979.25545167505,48920.59907902157,48862.40068022534,48796.124355048974,48732.00490873009,48661.636700683026,48582.22658425832,48461.46124511147,48328.22700386658,48207.99141178831,48093.0895071934,47982.295780753666,47871.10119587054,47764.52416904596,47664.54452557287,47570.03990342787,47473.6390088664,47384.019715245835,47297.55772802947,47194.063322775444,47095.73413548415,47040.76862169824,46984.46843640771,46938.661486791716,46907.82893468434,46879.32317414021,46854.381749521905,46820.959443556516,46776.70840431715,46731.34682815479,46684.80258110847,46643.52036637108,46622.63807416838,46595.28406348015,46534.79078921667,46469.513766438395,46405.92825632458,46326.136830888514,46233.42064351649,46153.78790079494,46065.193195314394,45988.21296451525,45920.85920367431,45853.156425528294,45772.021336717065,45746.03107466018,45732.84867590735,45714.541624405785,45682.09842416294,45617.088987106596,45555.20720614036,45484.21807971111,45409.6289445896,45343.171243648416,45309.325758636995,45250.74550233215,45185.858183900986,45122.39044077759,45049.305461267366,44995.79366563287,44938.92338040269,44900.86454079669,44861.23295332608,44830.350137870104,44804.188743463434,44768.94417885186,44731.46473428617,44707.909164790784,44689.74847658392,44682.8003325383,44679.12231927922,44677.45214694808,44698.8482449884,44722.96129727708,44749.94466745343,44773.00979514046,44780.34651359678,44795.303165202786,44805.409501867434,44821.349307819,44838.85329480588,44845.40739137498,44828.74134767971,44814.96481685703,44789.462878380844,44769.20911839695,44743.235395825846,44691.3668844246,44645.43238806217,44610.62987673817,44564.17952970595,44524.25635030589,44483.00703338743,44435.19711265721,44399.03724088948,44370.12333799506,44340.15385204486,44301.74446048222,44256.04740117395,44208.14255141102,44160.79904343679,44123.63765992001,44063.82673793076,44015.78587486677,43973.261239295956,43919.757246865156,43857.180557841624,43803.56035328599,43751.03895673589,43691.11767358429,43651.30555742922,43580.67535287769],\"type\":\"scatter\"}],                        {\"template\":{\"data\":{\"histogram2dcontour\":[{\"type\":\"histogram2dcontour\",\"colorbar\":{\"outlinewidth\":0,\"ticks\":\"\"},\"colorscale\":[[0.0,\"#0d0887\"],[0.1111111111111111,\"#46039f\"],[0.2222222222222222,\"#7201a8\"],[0.3333333333333333,\"#9c179e\"],[0.4444444444444444,\"#bd3786\"],[0.5555555555555556,\"#d8576b\"],[0.6666666666666666,\"#ed7953\"],[0.7777777777777778,\"#fb9f3a\"],[0.8888888888888888,\"#fdca26\"],[1.0,\"#f0f921\"]]}],\"choropleth\":[{\"type\":\"choropleth\",\"colorbar\":{\"outlinewidth\":0,\"ticks\":\"\"}}],\"histogram2d\":[{\"type\":\"histogram2d\",\"colorbar\":{\"outlinewidth\":0,\"ticks\":\"\"},\"colorscale\":[[0.0,\"#0d0887\"],[0.1111111111111111,\"#46039f\"],[0.2222222222222222,\"#7201a8\"],[0.3333333333333333,\"#9c179e\"],[0.4444444444444444,\"#bd3786\"],[0.5555555555555556,\"#d8576b\"],[0.6666666666666666,\"#ed7953\"],[0.7777777777777778,\"#fb9f3a\"],[0.8888888888888888,\"#fdca26\"],[1.0,\"#f0f921\"]]}],\"heatmap\":[{\"type\":\"heatmap\",\"colorbar\":{\"outlinewidth\":0,\"ticks\":\"\"},\"colorscale\":[[0.0,\"#0d0887\"],[0.1111111111111111,\"#46039f\"],[0.2222222222222222,\"#7201a8\"],[0.3333333333333333,\"#9c179e\"],[0.4444444444444444,\"#bd3786\"],[0.5555555555555556,\"#d8576b\"],[0.6666666666666666,\"#ed7953\"],[0.7777777777777778,\"#fb9f3a\"],[0.8888888888888888,\"#fdca26\"],[1.0,\"#f0f921\"]]}],\"heatmapgl\":[{\"type\":\"heatmapgl\",\"colorbar\":{\"outlinewidth\":0,\"ticks\":\"\"},\"colorscale\":[[0.0,\"#0d0887\"],[0.1111111111111111,\"#46039f\"],[0.2222222222222222,\"#7201a8\"],[0.3333333333333333,\"#9c179e\"],[0.4444444444444444,\"#bd3786\"],[0.5555555555555556,\"#d8576b\"],[0.6666666666666666,\"#ed7953\"],[0.7777777777777778,\"#fb9f3a\"],[0.8888888888888888,\"#fdca26\"],[1.0,\"#f0f921\"]]}],\"contourcarpet\":[{\"type\":\"contourcarpet\",\"colorbar\":{\"outlinewidth\":0,\"ticks\":\"\"}}],\"contour\":[{\"type\":\"contour\",\"colorbar\":{\"outlinewidth\":0,\"ticks\":\"\"},\"colorscale\":[[0.0,\"#0d0887\"],[0.1111111111111111,\"#46039f\"],[0.2222222222222222,\"#7201a8\"],[0.3333333333333333,\"#9c179e\"],[0.4444444444444444,\"#bd3786\"],[0.5555555555555556,\"#d8576b\"],[0.6666666666666666,\"#ed7953\"],[0.7777777777777778,\"#fb9f3a\"],[0.8888888888888888,\"#fdca26\"],[1.0,\"#f0f921\"]]}],\"surface\":[{\"type\":\"surface\",\"colorbar\":{\"outlinewidth\":0,\"ticks\":\"\"},\"colorscale\":[[0.0,\"#0d0887\"],[0.1111111111111111,\"#46039f\"],[0.2222222222222222,\"#7201a8\"],[0.3333333333333333,\"#9c179e\"],[0.4444444444444444,\"#bd3786\"],[0.5555555555555556,\"#d8576b\"],[0.6666666666666666,\"#ed7953\"],[0.7777777777777778,\"#fb9f3a\"],[0.8888888888888888,\"#fdca26\"],[1.0,\"#f0f921\"]]}],\"mesh3d\":[{\"type\":\"mesh3d\",\"colorbar\":{\"outlinewidth\":0,\"ticks\":\"\"}}],\"scatter\":[{\"fillpattern\":{\"fillmode\":\"overlay\",\"size\":10,\"solidity\":0.2},\"type\":\"scatter\"}],\"parcoords\":[{\"type\":\"parcoords\",\"line\":{\"colorbar\":{\"outlinewidth\":0,\"ticks\":\"\"}}}],\"scatterpolargl\":[{\"type\":\"scatterpolargl\",\"marker\":{\"colorbar\":{\"outlinewidth\":0,\"ticks\":\"\"}}}],\"bar\":[{\"error_x\":{\"color\":\"#2a3f5f\"},\"error_y\":{\"color\":\"#2a3f5f\"},\"marker\":{\"line\":{\"color\":\"#E5ECF6\",\"width\":0.5},\"pattern\":{\"fillmode\":\"overlay\",\"size\":10,\"solidity\":0.2}},\"type\":\"bar\"}],\"scattergeo\":[{\"type\":\"scattergeo\",\"marker\":{\"colorbar\":{\"outlinewidth\":0,\"ticks\":\"\"}}}],\"scatterpolar\":[{\"type\":\"scatterpolar\",\"marker\":{\"colorbar\":{\"outlinewidth\":0,\"ticks\":\"\"}}}],\"histogram\":[{\"marker\":{\"pattern\":{\"fillmode\":\"overlay\",\"size\":10,\"solidity\":0.2}},\"type\":\"histogram\"}],\"scattergl\":[{\"type\":\"scattergl\",\"marker\":{\"colorbar\":{\"outlinewidth\":0,\"ticks\":\"\"}}}],\"scatter3d\":[{\"type\":\"scatter3d\",\"line\":{\"colorbar\":{\"outlinewidth\":0,\"ticks\":\"\"}},\"marker\":{\"colorbar\":{\"outlinewidth\":0,\"ticks\":\"\"}}}],\"scattermapbox\":[{\"type\":\"scattermapbox\",\"marker\":{\"colorbar\":{\"outlinewidth\":0,\"ticks\":\"\"}}}],\"scatterternary\":[{\"type\":\"scatterternary\",\"marker\":{\"colorbar\":{\"outlinewidth\":0,\"ticks\":\"\"}}}],\"scattercarpet\":[{\"type\":\"scattercarpet\",\"marker\":{\"colorbar\":{\"outlinewidth\":0,\"ticks\":\"\"}}}],\"carpet\":[{\"aaxis\":{\"endlinecolor\":\"#2a3f5f\",\"gridcolor\":\"white\",\"linecolor\":\"white\",\"minorgridcolor\":\"white\",\"startlinecolor\":\"#2a3f5f\"},\"baxis\":{\"endlinecolor\":\"#2a3f5f\",\"gridcolor\":\"white\",\"linecolor\":\"white\",\"minorgridcolor\":\"white\",\"startlinecolor\":\"#2a3f5f\"},\"type\":\"carpet\"}],\"table\":[{\"cells\":{\"fill\":{\"color\":\"#EBF0F8\"},\"line\":{\"color\":\"white\"}},\"header\":{\"fill\":{\"color\":\"#C8D4E3\"},\"line\":{\"color\":\"white\"}},\"type\":\"table\"}],\"barpolar\":[{\"marker\":{\"line\":{\"color\":\"#E5ECF6\",\"width\":0.5},\"pattern\":{\"fillmode\":\"overlay\",\"size\":10,\"solidity\":0.2}},\"type\":\"barpolar\"}],\"pie\":[{\"automargin\":true,\"type\":\"pie\"}]},\"layout\":{\"autotypenumbers\":\"strict\",\"colorway\":[\"#636efa\",\"#EF553B\",\"#00cc96\",\"#ab63fa\",\"#FFA15A\",\"#19d3f3\",\"#FF6692\",\"#B6E880\",\"#FF97FF\",\"#FECB52\"],\"font\":{\"color\":\"#2a3f5f\"},\"hovermode\":\"closest\",\"hoverlabel\":{\"align\":\"left\"},\"paper_bgcolor\":\"white\",\"plot_bgcolor\":\"#E5ECF6\",\"polar\":{\"bgcolor\":\"#E5ECF6\",\"angularaxis\":{\"gridcolor\":\"white\",\"linecolor\":\"white\",\"ticks\":\"\"},\"radialaxis\":{\"gridcolor\":\"white\",\"linecolor\":\"white\",\"ticks\":\"\"}},\"ternary\":{\"bgcolor\":\"#E5ECF6\",\"aaxis\":{\"gridcolor\":\"white\",\"linecolor\":\"white\",\"ticks\":\"\"},\"baxis\":{\"gridcolor\":\"white\",\"linecolor\":\"white\",\"ticks\":\"\"},\"caxis\":{\"gridcolor\":\"white\",\"linecolor\":\"white\",\"ticks\":\"\"}},\"coloraxis\":{\"colorbar\":{\"outlinewidth\":0,\"ticks\":\"\"}},\"colorscale\":{\"sequential\":[[0.0,\"#0d0887\"],[0.1111111111111111,\"#46039f\"],[0.2222222222222222,\"#7201a8\"],[0.3333333333333333,\"#9c179e\"],[0.4444444444444444,\"#bd3786\"],[0.5555555555555556,\"#d8576b\"],[0.6666666666666666,\"#ed7953\"],[0.7777777777777778,\"#fb9f3a\"],[0.8888888888888888,\"#fdca26\"],[1.0,\"#f0f921\"]],\"sequentialminus\":[[0.0,\"#0d0887\"],[0.1111111111111111,\"#46039f\"],[0.2222222222222222,\"#7201a8\"],[0.3333333333333333,\"#9c179e\"],[0.4444444444444444,\"#bd3786\"],[0.5555555555555556,\"#d8576b\"],[0.6666666666666666,\"#ed7953\"],[0.7777777777777778,\"#fb9f3a\"],[0.8888888888888888,\"#fdca26\"],[1.0,\"#f0f921\"]],\"diverging\":[[0,\"#8e0152\"],[0.1,\"#c51b7d\"],[0.2,\"#de77ae\"],[0.3,\"#f1b6da\"],[0.4,\"#fde0ef\"],[0.5,\"#f7f7f7\"],[0.6,\"#e6f5d0\"],[0.7,\"#b8e186\"],[0.8,\"#7fbc41\"],[0.9,\"#4d9221\"],[1,\"#276419\"]]},\"xaxis\":{\"gridcolor\":\"white\",\"linecolor\":\"white\",\"ticks\":\"\",\"title\":{\"standoff\":15},\"zerolinecolor\":\"white\",\"automargin\":true,\"zerolinewidth\":2},\"yaxis\":{\"gridcolor\":\"white\",\"linecolor\":\"white\",\"ticks\":\"\",\"title\":{\"standoff\":15},\"zerolinecolor\":\"white\",\"automargin\":true,\"zerolinewidth\":2},\"scene\":{\"xaxis\":{\"backgroundcolor\":\"#E5ECF6\",\"gridcolor\":\"white\",\"linecolor\":\"white\",\"showbackground\":true,\"ticks\":\"\",\"zerolinecolor\":\"white\",\"gridwidth\":2},\"yaxis\":{\"backgroundcolor\":\"#E5ECF6\",\"gridcolor\":\"white\",\"linecolor\":\"white\",\"showbackground\":true,\"ticks\":\"\",\"zerolinecolor\":\"white\",\"gridwidth\":2},\"zaxis\":{\"backgroundcolor\":\"#E5ECF6\",\"gridcolor\":\"white\",\"linecolor\":\"white\",\"showbackground\":true,\"ticks\":\"\",\"zerolinecolor\":\"white\",\"gridwidth\":2}},\"shapedefaults\":{\"line\":{\"color\":\"#2a3f5f\"}},\"annotationdefaults\":{\"arrowcolor\":\"#2a3f5f\",\"arrowhead\":0,\"arrowwidth\":1},\"geo\":{\"bgcolor\":\"white\",\"landcolor\":\"#E5ECF6\",\"subunitcolor\":\"white\",\"showland\":true,\"showlakes\":true,\"lakecolor\":\"white\"},\"title\":{\"x\":0.05},\"mapbox\":{\"style\":\"light\"}}},\"title\":{\"text\":\"Bitcoin Candlesticks\"},\"plot_bgcolor\":\"white\"},                        {\"responsive\": true}                    ).then(function(){\n",
       "                            \n",
       "var gd = document.getElementById('3ca0d764-5c50-4481-ae7d-d68fdf8cc982');\n",
       "var x = new MutationObserver(function (mutations, observer) {{\n",
       "        var display = window.getComputedStyle(gd).display;\n",
       "        if (!display || display === 'none') {{\n",
       "            console.log([gd, 'removed!']);\n",
       "            Plotly.purge(gd);\n",
       "            observer.disconnect();\n",
       "        }}\n",
       "}});\n",
       "\n",
       "// Listen for the removal of the full notebook cells\n",
       "var notebookContainer = gd.closest('#notebook-container');\n",
       "if (notebookContainer) {{\n",
       "    x.observe(notebookContainer, {childList: true});\n",
       "}}\n",
       "\n",
       "// Listen for the clearing of the current output cell\n",
       "var outputEl = gd.closest('.output');\n",
       "if (outputEl) {{\n",
       "    x.observe(outputEl, {childList: true});\n",
       "}}\n",
       "\n",
       "                        })                };                });            </script>        </div>"
      ]
     },
     "metadata": {},
     "output_type": "display_data"
    }
   ],
   "source": [
    "fig = go.Figure(data = [go.Candlestick(x = cs_df[\"date\"],\n",
    "                                       open = cs_df[\"open_price\"],\n",
    "                                       high = cs_df[\"high_price\"],\n",
    "                                       low = cs_df[\"low_price\"],\n",
    "                                       close = cs_df[\"close_price\"])])\n",
    "#Line plot with Plotly\n",
    "fig.add_trace(go.Scatter(x = cs_df[\"date\"], y = cs_df[\"ewm200\"],\n",
    "                        mode = \"lines\",name = \"ewm200\",\n",
    "                        line = dict(color = \"teal\")))\n",
    "#remove grid\n",
    "fig.update_layout(title = \"Bitcoin Candlesticks\", plot_bgcolor=\"white\")\n",
    "#Show the plot\n",
    "fig.show()"
   ]
  }
 ],
 "metadata": {
  "kernelspec": {
   "display_name": "Python 3",
   "language": "python",
   "name": "python3"
  },
  "language_info": {
   "codemirror_mode": {
    "name": "ipython",
    "version": 3
   },
   "file_extension": ".py",
   "mimetype": "text/x-python",
   "name": "python",
   "nbconvert_exporter": "python",
   "pygments_lexer": "ipython3",
   "version": "3.7.12"
  },
  "papermill": {
   "default_parameters": {},
   "duration": 70.606372,
   "end_time": "2022-05-06T20:05:29.470452",
   "environment_variables": {},
   "exception": null,
   "input_path": "__notebook__.ipynb",
   "output_path": "__notebook__.ipynb",
   "parameters": {},
   "start_time": "2022-05-06T20:04:18.864080",
   "version": "2.3.4"
  }
 },
 "nbformat": 4,
 "nbformat_minor": 5
}
