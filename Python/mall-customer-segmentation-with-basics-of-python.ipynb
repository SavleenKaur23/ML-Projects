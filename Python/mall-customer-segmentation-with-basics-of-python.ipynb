{
 "cells": [
  {
   "cell_type": "markdown",
   "id": "93c080bc",
   "metadata": {
    "papermill": {
     "duration": 0.038506,
     "end_time": "2022-03-31T05:46:57.611867",
     "exception": false,
     "start_time": "2022-03-31T05:46:57.573361",
     "status": "completed"
    },
    "tags": []
   },
   "source": [
    "### Mall Customer Segmentation Data\n",
    "https://www.kaggle.com/vjchoudhary7/customer-segmentation-tutorial-in-python\n",
    "\n",
    "#### Description of dataset: \n",
    "This file contains the basic information (ID, age, gender, income, spending score) about the customer\n",
    "\n",
    "#### Explore the dataset for following questons:\n",
    "- Does age of a customer impact spending nature ?\n",
    "- Does Annual Income play a role in spendings by a customer ?"
   ]
  },
  {
   "cell_type": "code",
   "execution_count": 1,
   "id": "c8dc9f8a",
   "metadata": {
    "execution": {
     "iopub.execute_input": "2022-03-31T05:46:57.693980Z",
     "iopub.status.busy": "2022-03-31T05:46:57.692916Z",
     "iopub.status.idle": "2022-03-31T05:46:57.740506Z",
     "shell.execute_reply": "2022-03-31T05:46:57.739859Z",
     "shell.execute_reply.started": "2022-03-31T05:45:44.664853Z"
    },
    "papermill": {
     "duration": 0.089998,
     "end_time": "2022-03-31T05:46:57.740686",
     "exception": false,
     "start_time": "2022-03-31T05:46:57.650688",
     "status": "completed"
    },
    "tags": []
   },
   "outputs": [
    {
     "name": "stdout",
     "output_type": "stream",
     "text": [
      "CustomerID,Gender,Age,Annual Income (k$),Spending Score (1-100)\n",
      "\n",
      "1,Male,19,15,39\n",
      "\n",
      "2,Male,21,15,81\n",
      "\n",
      "3,Female,20,16,6\n",
      "\n",
      "4,Female,23,16,77\n",
      "\n",
      "5,Female,31,17,40\n",
      "\n",
      "6,Female,22,17,76\n",
      "\n",
      "7,Female,35,18,6\n",
      "\n",
      "8,Female,23,18,94\n",
      "\n",
      "9,Male,64,19,3\n",
      "\n",
      "10,Female,30,19,72\n",
      "\n",
      "11,Male,67,19,14\n",
      "\n",
      "12,Female,35,19,99\n",
      "\n",
      "13,Female,58,20,15\n",
      "\n",
      "14,Female,24,20,77\n",
      "\n",
      "15,Male,37,20,13\n",
      "\n",
      "16,Male,22,20,79\n",
      "\n",
      "17,Female,35,21,35\n",
      "\n",
      "18,Male,20,21,66\n",
      "\n",
      "19,Male,52,23,29\n",
      "\n",
      "20,Female,35,23,98\n",
      "\n",
      "21,Male,35,24,35\n",
      "\n",
      "22,Male,25,24,73\n",
      "\n",
      "23,Female,46,25,5\n",
      "\n",
      "24,Male,31,25,73\n",
      "\n",
      "25,Female,54,28,14\n",
      "\n",
      "26,Male,29,28,82\n",
      "\n",
      "27,Female,45,28,32\n",
      "\n",
      "28,Male,35,28,61\n",
      "\n",
      "29,Female,40,29,31\n",
      "\n",
      "30,Female,23,29,87\n",
      "\n",
      "31,Male,60,30,4\n",
      "\n",
      "32,Female,21,30,73\n",
      "\n",
      "33,Male,53,33,4\n",
      "\n",
      "34,Male,18,33,92\n",
      "\n",
      "35,Female,49,33,14\n",
      "\n",
      "36,Female,21,33,81\n",
      "\n",
      "37,Female,42,34,17\n",
      "\n",
      "38,Female,30,34,73\n",
      "\n",
      "39,Female,36,37,26\n",
      "\n",
      "40,Female,20,37,75\n",
      "\n",
      "41,Female,65,38,35\n",
      "\n",
      "42,Male,24,38,92\n",
      "\n",
      "43,Male,48,39,36\n",
      "\n",
      "44,Female,31,39,61\n",
      "\n",
      "45,Female,49,39,28\n",
      "\n",
      "46,Female,24,39,65\n",
      "\n",
      "47,Female,50,40,55\n",
      "\n",
      "48,Female,27,40,47\n",
      "\n",
      "49,Female,29,40,42\n",
      "\n",
      "50,Female,31,40,42\n",
      "\n",
      "51,Female,49,42,52\n",
      "\n",
      "52,Male,33,42,60\n",
      "\n",
      "53,Female,31,43,54\n",
      "\n",
      "54,Male,59,43,60\n",
      "\n",
      "55,Female,50,43,45\n",
      "\n",
      "56,Male,47,43,41\n",
      "\n",
      "57,Female,51,44,50\n",
      "\n",
      "58,Male,69,44,46\n",
      "\n",
      "59,Female,27,46,51\n",
      "\n",
      "60,Male,53,46,46\n",
      "\n",
      "61,Male,70,46,56\n",
      "\n",
      "62,Male,19,46,55\n",
      "\n",
      "63,Female,67,47,52\n",
      "\n",
      "64,Female,54,47,59\n",
      "\n",
      "65,Male,63,48,51\n",
      "\n",
      "66,Male,18,48,59\n",
      "\n",
      "67,Female,43,48,50\n",
      "\n",
      "68,Female,68,48,48\n",
      "\n",
      "69,Male,19,48,59\n",
      "\n",
      "70,Female,32,48,47\n",
      "\n",
      "71,Male,70,49,55\n",
      "\n",
      "72,Female,47,49,42\n",
      "\n",
      "73,Female,60,50,49\n",
      "\n",
      "74,Female,60,50,56\n",
      "\n",
      "75,Male,59,54,47\n",
      "\n",
      "76,Male,26,54,54\n",
      "\n",
      "77,Female,45,54,53\n",
      "\n",
      "78,Male,40,54,48\n",
      "\n",
      "79,Female,23,54,52\n",
      "\n",
      "80,Female,49,54,42\n",
      "\n",
      "81,Male,57,54,51\n",
      "\n",
      "82,Male,38,54,55\n",
      "\n",
      "83,Male,67,54,41\n",
      "\n",
      "84,Female,46,54,44\n",
      "\n",
      "85,Female,21,54,57\n",
      "\n",
      "86,Male,48,54,46\n",
      "\n",
      "87,Female,55,57,58\n",
      "\n",
      "88,Female,22,57,55\n",
      "\n",
      "89,Female,34,58,60\n",
      "\n",
      "90,Female,50,58,46\n",
      "\n",
      "91,Female,68,59,55\n",
      "\n",
      "92,Male,18,59,41\n",
      "\n",
      "93,Male,48,60,49\n",
      "\n",
      "94,Female,40,60,40\n",
      "\n",
      "95,Female,32,60,42\n",
      "\n",
      "96,Male,24,60,52\n",
      "\n",
      "97,Female,47,60,47\n",
      "\n",
      "98,Female,27,60,50\n",
      "\n",
      "99,Male,48,61,42\n",
      "\n",
      "100,Male,20,61,49\n",
      "\n",
      "101,Female,23,62,41\n",
      "\n",
      "102,Female,49,62,48\n",
      "\n",
      "103,Male,67,62,59\n",
      "\n",
      "104,Male,26,62,55\n",
      "\n",
      "105,Male,49,62,56\n",
      "\n",
      "106,Female,21,62,42\n",
      "\n",
      "107,Female,66,63,50\n",
      "\n",
      "108,Male,54,63,46\n",
      "\n",
      "109,Male,68,63,43\n",
      "\n",
      "110,Male,66,63,48\n",
      "\n",
      "111,Male,65,63,52\n",
      "\n",
      "112,Female,19,63,54\n",
      "\n",
      "113,Female,38,64,42\n",
      "\n",
      "114,Male,19,64,46\n",
      "\n",
      "115,Female,18,65,48\n",
      "\n",
      "116,Female,19,65,50\n",
      "\n",
      "117,Female,63,65,43\n",
      "\n",
      "118,Female,49,65,59\n",
      "\n",
      "119,Female,51,67,43\n",
      "\n",
      "120,Female,50,67,57\n",
      "\n",
      "121,Male,27,67,56\n",
      "\n",
      "122,Female,38,67,40\n",
      "\n",
      "123,Female,40,69,58\n",
      "\n",
      "124,Male,39,69,91\n",
      "\n",
      "125,Female,23,70,29\n",
      "\n",
      "126,Female,31,70,77\n",
      "\n",
      "127,Male,43,71,35\n",
      "\n",
      "128,Male,40,71,95\n",
      "\n",
      "129,Male,59,71,11\n",
      "\n",
      "130,Male,38,71,75\n",
      "\n",
      "131,Male,47,71,9\n",
      "\n",
      "132,Male,39,71,75\n",
      "\n",
      "133,Female,25,72,34\n",
      "\n",
      "134,Female,31,72,71\n",
      "\n",
      "135,Male,20,73,5\n",
      "\n",
      "136,Female,29,73,88\n",
      "\n",
      "137,Female,44,73,7\n",
      "\n",
      "138,Male,32,73,73\n",
      "\n",
      "139,Male,19,74,10\n",
      "\n",
      "140,Female,35,74,72\n",
      "\n",
      "141,Female,57,75,5\n",
      "\n",
      "142,Male,32,75,93\n",
      "\n",
      "143,Female,28,76,40\n",
      "\n",
      "144,Female,32,76,87\n",
      "\n",
      "145,Male,25,77,12\n",
      "\n",
      "146,Male,28,77,97\n",
      "\n",
      "147,Male,48,77,36\n",
      "\n",
      "148,Female,32,77,74\n",
      "\n",
      "149,Female,34,78,22\n",
      "\n",
      "150,Male,34,78,90\n",
      "\n",
      "151,Male,43,78,17\n",
      "\n",
      "152,Male,39,78,88\n",
      "\n",
      "153,Female,44,78,20\n",
      "\n",
      "154,Female,38,78,76\n",
      "\n",
      "155,Female,47,78,16\n",
      "\n",
      "156,Female,27,78,89\n",
      "\n",
      "157,Male,37,78,1\n",
      "\n",
      "158,Female,30,78,78\n",
      "\n",
      "159,Male,34,78,1\n",
      "\n",
      "160,Female,30,78,73\n",
      "\n",
      "161,Female,56,79,35\n",
      "\n",
      "162,Female,29,79,83\n",
      "\n",
      "163,Male,19,81,5\n",
      "\n",
      "164,Female,31,81,93\n",
      "\n",
      "165,Male,50,85,26\n",
      "\n",
      "166,Female,36,85,75\n",
      "\n",
      "167,Male,42,86,20\n",
      "\n",
      "168,Female,33,86,95\n",
      "\n",
      "169,Female,36,87,27\n",
      "\n",
      "170,Male,32,87,63\n",
      "\n",
      "171,Male,40,87,13\n",
      "\n",
      "172,Male,28,87,75\n",
      "\n",
      "173,Male,36,87,10\n",
      "\n",
      "174,Male,36,87,92\n",
      "\n",
      "175,Female,52,88,13\n",
      "\n",
      "176,Female,30,88,86\n",
      "\n",
      "177,Male,58,88,15\n",
      "\n",
      "178,Male,27,88,69\n",
      "\n",
      "179,Male,59,93,14\n",
      "\n",
      "180,Male,35,93,90\n",
      "\n",
      "181,Female,37,97,32\n",
      "\n",
      "182,Female,32,97,86\n",
      "\n",
      "183,Male,46,98,15\n",
      "\n",
      "184,Female,29,98,88\n",
      "\n",
      "185,Female,41,99,39\n",
      "\n",
      "186,Male,30,99,97\n",
      "\n",
      "187,Female,54,101,24\n",
      "\n",
      "188,Male,28,101,68\n",
      "\n",
      "189,Female,41,103,17\n",
      "\n",
      "190,Female,36,103,85\n",
      "\n",
      "191,Female,34,103,23\n",
      "\n",
      "192,Female,32,103,69\n",
      "\n",
      "193,Male,33,113,8\n",
      "\n",
      "194,Female,38,113,91\n",
      "\n",
      "195,Female,47,120,16\n",
      "\n",
      "196,Female,35,120,79\n",
      "\n",
      "197,Female,45,126,28\n",
      "\n",
      "198,Male,32,126,74\n",
      "\n",
      "199,Male,32,137,18\n",
      "\n",
      "200,Male,30,137,83\n",
      "\n"
     ]
    }
   ],
   "source": [
    "# Pythonic way to read a file\n",
    "with open('../input/customer-segmentation-tutorial-in-python/Mall_Customers.csv',\"r\") as file: # f is a file handler, while \"r\" is the mode (r for read)\n",
    "    for line in file:\n",
    "        print(line)"
   ]
  },
  {
   "cell_type": "code",
   "execution_count": 2,
   "id": "c381f8c4",
   "metadata": {
    "execution": {
     "iopub.execute_input": "2022-03-31T05:46:57.822906Z",
     "iopub.status.busy": "2022-03-31T05:46:57.822251Z",
     "iopub.status.idle": "2022-03-31T05:46:57.825585Z",
     "shell.execute_reply": "2022-03-31T05:46:57.825035Z",
     "shell.execute_reply.started": "2022-03-31T05:45:44.818401Z"
    },
    "papermill": {
     "duration": 0.047374,
     "end_time": "2022-03-31T05:46:57.825712",
     "exception": false,
     "start_time": "2022-03-31T05:46:57.778338",
     "status": "completed"
    },
    "tags": []
   },
   "outputs": [
    {
     "data": {
      "text/plain": [
       "['8', 'Female', '23', '18', '94']"
      ]
     },
     "execution_count": 2,
     "metadata": {},
     "output_type": "execute_result"
    }
   ],
   "source": [
    "\"8,Female,23,18,94\".split(\",\")"
   ]
  },
  {
   "cell_type": "code",
   "execution_count": 3,
   "id": "647dfbcf",
   "metadata": {
    "execution": {
     "iopub.execute_input": "2022-03-31T05:46:57.909525Z",
     "iopub.status.busy": "2022-03-31T05:46:57.908156Z",
     "iopub.status.idle": "2022-03-31T05:46:57.940709Z",
     "shell.execute_reply": "2022-03-31T05:46:57.940202Z",
     "shell.execute_reply.started": "2022-03-31T05:45:44.914887Z"
    },
    "papermill": {
     "duration": 0.077191,
     "end_time": "2022-03-31T05:46:57.940859",
     "exception": false,
     "start_time": "2022-03-31T05:46:57.863668",
     "status": "completed"
    },
    "tags": []
   },
   "outputs": [
    {
     "name": "stdout",
     "output_type": "stream",
     "text": [
      "['CustomerID', 'Gender', 'Age', 'Annual Income (k$)', 'Spending Score (1-100)\\n']\n",
      "['1', 'Male', '19', '15', '39\\n']\n",
      "['2', 'Male', '21', '15', '81\\n']\n",
      "['3', 'Female', '20', '16', '6\\n']\n",
      "['4', 'Female', '23', '16', '77\\n']\n",
      "['5', 'Female', '31', '17', '40\\n']\n",
      "['6', 'Female', '22', '17', '76\\n']\n",
      "['7', 'Female', '35', '18', '6\\n']\n",
      "['8', 'Female', '23', '18', '94\\n']\n",
      "['9', 'Male', '64', '19', '3\\n']\n",
      "['10', 'Female', '30', '19', '72\\n']\n",
      "['11', 'Male', '67', '19', '14\\n']\n",
      "['12', 'Female', '35', '19', '99\\n']\n",
      "['13', 'Female', '58', '20', '15\\n']\n",
      "['14', 'Female', '24', '20', '77\\n']\n",
      "['15', 'Male', '37', '20', '13\\n']\n",
      "['16', 'Male', '22', '20', '79\\n']\n",
      "['17', 'Female', '35', '21', '35\\n']\n",
      "['18', 'Male', '20', '21', '66\\n']\n",
      "['19', 'Male', '52', '23', '29\\n']\n",
      "['20', 'Female', '35', '23', '98\\n']\n",
      "['21', 'Male', '35', '24', '35\\n']\n",
      "['22', 'Male', '25', '24', '73\\n']\n",
      "['23', 'Female', '46', '25', '5\\n']\n",
      "['24', 'Male', '31', '25', '73\\n']\n",
      "['25', 'Female', '54', '28', '14\\n']\n",
      "['26', 'Male', '29', '28', '82\\n']\n",
      "['27', 'Female', '45', '28', '32\\n']\n",
      "['28', 'Male', '35', '28', '61\\n']\n",
      "['29', 'Female', '40', '29', '31\\n']\n",
      "['30', 'Female', '23', '29', '87\\n']\n",
      "['31', 'Male', '60', '30', '4\\n']\n",
      "['32', 'Female', '21', '30', '73\\n']\n",
      "['33', 'Male', '53', '33', '4\\n']\n",
      "['34', 'Male', '18', '33', '92\\n']\n",
      "['35', 'Female', '49', '33', '14\\n']\n",
      "['36', 'Female', '21', '33', '81\\n']\n",
      "['37', 'Female', '42', '34', '17\\n']\n",
      "['38', 'Female', '30', '34', '73\\n']\n",
      "['39', 'Female', '36', '37', '26\\n']\n",
      "['40', 'Female', '20', '37', '75\\n']\n",
      "['41', 'Female', '65', '38', '35\\n']\n",
      "['42', 'Male', '24', '38', '92\\n']\n",
      "['43', 'Male', '48', '39', '36\\n']\n",
      "['44', 'Female', '31', '39', '61\\n']\n",
      "['45', 'Female', '49', '39', '28\\n']\n",
      "['46', 'Female', '24', '39', '65\\n']\n",
      "['47', 'Female', '50', '40', '55\\n']\n",
      "['48', 'Female', '27', '40', '47\\n']\n",
      "['49', 'Female', '29', '40', '42\\n']\n",
      "['50', 'Female', '31', '40', '42\\n']\n",
      "['51', 'Female', '49', '42', '52\\n']\n",
      "['52', 'Male', '33', '42', '60\\n']\n",
      "['53', 'Female', '31', '43', '54\\n']\n",
      "['54', 'Male', '59', '43', '60\\n']\n",
      "['55', 'Female', '50', '43', '45\\n']\n",
      "['56', 'Male', '47', '43', '41\\n']\n",
      "['57', 'Female', '51', '44', '50\\n']\n",
      "['58', 'Male', '69', '44', '46\\n']\n",
      "['59', 'Female', '27', '46', '51\\n']\n",
      "['60', 'Male', '53', '46', '46\\n']\n",
      "['61', 'Male', '70', '46', '56\\n']\n",
      "['62', 'Male', '19', '46', '55\\n']\n",
      "['63', 'Female', '67', '47', '52\\n']\n",
      "['64', 'Female', '54', '47', '59\\n']\n",
      "['65', 'Male', '63', '48', '51\\n']\n",
      "['66', 'Male', '18', '48', '59\\n']\n",
      "['67', 'Female', '43', '48', '50\\n']\n",
      "['68', 'Female', '68', '48', '48\\n']\n",
      "['69', 'Male', '19', '48', '59\\n']\n",
      "['70', 'Female', '32', '48', '47\\n']\n",
      "['71', 'Male', '70', '49', '55\\n']\n",
      "['72', 'Female', '47', '49', '42\\n']\n",
      "['73', 'Female', '60', '50', '49\\n']\n",
      "['74', 'Female', '60', '50', '56\\n']\n",
      "['75', 'Male', '59', '54', '47\\n']\n",
      "['76', 'Male', '26', '54', '54\\n']\n",
      "['77', 'Female', '45', '54', '53\\n']\n",
      "['78', 'Male', '40', '54', '48\\n']\n",
      "['79', 'Female', '23', '54', '52\\n']\n",
      "['80', 'Female', '49', '54', '42\\n']\n",
      "['81', 'Male', '57', '54', '51\\n']\n",
      "['82', 'Male', '38', '54', '55\\n']\n",
      "['83', 'Male', '67', '54', '41\\n']\n",
      "['84', 'Female', '46', '54', '44\\n']\n",
      "['85', 'Female', '21', '54', '57\\n']\n",
      "['86', 'Male', '48', '54', '46\\n']\n",
      "['87', 'Female', '55', '57', '58\\n']\n",
      "['88', 'Female', '22', '57', '55\\n']\n",
      "['89', 'Female', '34', '58', '60\\n']\n",
      "['90', 'Female', '50', '58', '46\\n']\n",
      "['91', 'Female', '68', '59', '55\\n']\n",
      "['92', 'Male', '18', '59', '41\\n']\n",
      "['93', 'Male', '48', '60', '49\\n']\n",
      "['94', 'Female', '40', '60', '40\\n']\n",
      "['95', 'Female', '32', '60', '42\\n']\n",
      "['96', 'Male', '24', '60', '52\\n']\n",
      "['97', 'Female', '47', '60', '47\\n']\n",
      "['98', 'Female', '27', '60', '50\\n']\n",
      "['99', 'Male', '48', '61', '42\\n']\n",
      "['100', 'Male', '20', '61', '49\\n']\n",
      "['101', 'Female', '23', '62', '41\\n']\n",
      "['102', 'Female', '49', '62', '48\\n']\n",
      "['103', 'Male', '67', '62', '59\\n']\n",
      "['104', 'Male', '26', '62', '55\\n']\n",
      "['105', 'Male', '49', '62', '56\\n']\n",
      "['106', 'Female', '21', '62', '42\\n']\n",
      "['107', 'Female', '66', '63', '50\\n']\n",
      "['108', 'Male', '54', '63', '46\\n']\n",
      "['109', 'Male', '68', '63', '43\\n']\n",
      "['110', 'Male', '66', '63', '48\\n']\n",
      "['111', 'Male', '65', '63', '52\\n']\n",
      "['112', 'Female', '19', '63', '54\\n']\n",
      "['113', 'Female', '38', '64', '42\\n']\n",
      "['114', 'Male', '19', '64', '46\\n']\n",
      "['115', 'Female', '18', '65', '48\\n']\n",
      "['116', 'Female', '19', '65', '50\\n']\n",
      "['117', 'Female', '63', '65', '43\\n']\n",
      "['118', 'Female', '49', '65', '59\\n']\n",
      "['119', 'Female', '51', '67', '43\\n']\n",
      "['120', 'Female', '50', '67', '57\\n']\n",
      "['121', 'Male', '27', '67', '56\\n']\n",
      "['122', 'Female', '38', '67', '40\\n']\n",
      "['123', 'Female', '40', '69', '58\\n']\n",
      "['124', 'Male', '39', '69', '91\\n']\n",
      "['125', 'Female', '23', '70', '29\\n']\n",
      "['126', 'Female', '31', '70', '77\\n']\n",
      "['127', 'Male', '43', '71', '35\\n']\n",
      "['128', 'Male', '40', '71', '95\\n']\n",
      "['129', 'Male', '59', '71', '11\\n']\n",
      "['130', 'Male', '38', '71', '75\\n']\n",
      "['131', 'Male', '47', '71', '9\\n']\n",
      "['132', 'Male', '39', '71', '75\\n']\n",
      "['133', 'Female', '25', '72', '34\\n']\n",
      "['134', 'Female', '31', '72', '71\\n']\n",
      "['135', 'Male', '20', '73', '5\\n']\n",
      "['136', 'Female', '29', '73', '88\\n']\n",
      "['137', 'Female', '44', '73', '7\\n']\n",
      "['138', 'Male', '32', '73', '73\\n']\n",
      "['139', 'Male', '19', '74', '10\\n']\n",
      "['140', 'Female', '35', '74', '72\\n']\n",
      "['141', 'Female', '57', '75', '5\\n']\n",
      "['142', 'Male', '32', '75', '93\\n']\n",
      "['143', 'Female', '28', '76', '40\\n']\n",
      "['144', 'Female', '32', '76', '87\\n']\n",
      "['145', 'Male', '25', '77', '12\\n']\n",
      "['146', 'Male', '28', '77', '97\\n']\n",
      "['147', 'Male', '48', '77', '36\\n']\n",
      "['148', 'Female', '32', '77', '74\\n']\n",
      "['149', 'Female', '34', '78', '22\\n']\n",
      "['150', 'Male', '34', '78', '90\\n']\n",
      "['151', 'Male', '43', '78', '17\\n']\n",
      "['152', 'Male', '39', '78', '88\\n']\n",
      "['153', 'Female', '44', '78', '20\\n']\n",
      "['154', 'Female', '38', '78', '76\\n']\n",
      "['155', 'Female', '47', '78', '16\\n']\n",
      "['156', 'Female', '27', '78', '89\\n']\n",
      "['157', 'Male', '37', '78', '1\\n']\n",
      "['158', 'Female', '30', '78', '78\\n']\n",
      "['159', 'Male', '34', '78', '1\\n']\n",
      "['160', 'Female', '30', '78', '73\\n']\n",
      "['161', 'Female', '56', '79', '35\\n']\n",
      "['162', 'Female', '29', '79', '83\\n']\n",
      "['163', 'Male', '19', '81', '5\\n']\n",
      "['164', 'Female', '31', '81', '93\\n']\n",
      "['165', 'Male', '50', '85', '26\\n']\n",
      "['166', 'Female', '36', '85', '75\\n']\n",
      "['167', 'Male', '42', '86', '20\\n']\n",
      "['168', 'Female', '33', '86', '95\\n']\n",
      "['169', 'Female', '36', '87', '27\\n']\n",
      "['170', 'Male', '32', '87', '63\\n']\n",
      "['171', 'Male', '40', '87', '13\\n']\n",
      "['172', 'Male', '28', '87', '75\\n']\n",
      "['173', 'Male', '36', '87', '10\\n']\n",
      "['174', 'Male', '36', '87', '92\\n']\n",
      "['175', 'Female', '52', '88', '13\\n']\n",
      "['176', 'Female', '30', '88', '86\\n']\n",
      "['177', 'Male', '58', '88', '15\\n']\n",
      "['178', 'Male', '27', '88', '69\\n']\n",
      "['179', 'Male', '59', '93', '14\\n']\n",
      "['180', 'Male', '35', '93', '90\\n']\n",
      "['181', 'Female', '37', '97', '32\\n']\n",
      "['182', 'Female', '32', '97', '86\\n']\n",
      "['183', 'Male', '46', '98', '15\\n']\n",
      "['184', 'Female', '29', '98', '88\\n']\n",
      "['185', 'Female', '41', '99', '39\\n']\n",
      "['186', 'Male', '30', '99', '97\\n']\n",
      "['187', 'Female', '54', '101', '24\\n']\n",
      "['188', 'Male', '28', '101', '68\\n']\n",
      "['189', 'Female', '41', '103', '17\\n']\n",
      "['190', 'Female', '36', '103', '85\\n']\n",
      "['191', 'Female', '34', '103', '23\\n']\n",
      "['192', 'Female', '32', '103', '69\\n']\n",
      "['193', 'Male', '33', '113', '8\\n']\n",
      "['194', 'Female', '38', '113', '91\\n']\n",
      "['195', 'Female', '47', '120', '16\\n']\n",
      "['196', 'Female', '35', '120', '79\\n']\n",
      "['197', 'Female', '45', '126', '28\\n']\n",
      "['198', 'Male', '32', '126', '74\\n']\n",
      "['199', 'Male', '32', '137', '18\\n']\n",
      "['200', 'Male', '30', '137', '83\\n']\n"
     ]
    }
   ],
   "source": [
    "# Initiate lists to store individual column values\n",
    "read_list = []\n",
    "customerID =[]\n",
    "gender = []\n",
    "age =[]\n",
    "annual_income_dollar = []\n",
    "spending_score = []\n",
    "\n",
    "# Use Python I/O file handlers\n",
    "with open('../input/customer-segmentation-tutorial-in-python/Mall_Customers.csv') as file:\n",
    "    for f in file:\n",
    "        temp = f.split(',') # splitting each line as values are separated by ','\n",
    "        print(temp)\n",
    "        customerID.append(temp[0]) # appending each value to respective list\n",
    "        gender.append(temp[1])\n",
    "        age.append(temp[2])\n",
    "        annual_income_dollar.append(temp[3])\n",
    "        spending_score.append(temp[4])\n",
    "\n",
    "# Create dictionary to combine data\n",
    "mall_dict = {customerID[0]:customerID[1:], gender[0]:gender[1:],age[0]:age[1:], \n",
    "             annual_income_dollar[0]: annual_income_dollar[1:], \n",
    "             spending_score[0]:spending_score[1:]}"
   ]
  },
  {
   "cell_type": "code",
   "execution_count": 4,
   "id": "0950af09",
   "metadata": {
    "execution": {
     "iopub.execute_input": "2022-03-31T05:46:58.020691Z",
     "iopub.status.busy": "2022-03-31T05:46:58.020104Z",
     "iopub.status.idle": "2022-03-31T05:46:58.022815Z",
     "shell.execute_reply": "2022-03-31T05:46:58.022319Z",
     "shell.execute_reply.started": "2022-03-31T05:45:45.018028Z"
    },
    "papermill": {
     "duration": 0.044022,
     "end_time": "2022-03-31T05:46:58.022941",
     "exception": false,
     "start_time": "2022-03-31T05:46:57.978919",
     "status": "completed"
    },
    "tags": []
   },
   "outputs": [],
   "source": [
    "#mall_dict"
   ]
  },
  {
   "cell_type": "code",
   "execution_count": 5,
   "id": "f72a1259",
   "metadata": {
    "execution": {
     "iopub.execute_input": "2022-03-31T05:46:58.105015Z",
     "iopub.status.busy": "2022-03-31T05:46:58.104388Z",
     "iopub.status.idle": "2022-03-31T05:46:58.107214Z",
     "shell.execute_reply": "2022-03-31T05:46:58.106636Z",
     "shell.execute_reply.started": "2022-03-31T05:45:45.102422Z"
    },
    "papermill": {
     "duration": 0.046454,
     "end_time": "2022-03-31T05:46:58.107343",
     "exception": false,
     "start_time": "2022-03-31T05:46:58.060889",
     "status": "completed"
    },
    "tags": []
   },
   "outputs": [
    {
     "name": "stdout",
     "output_type": "stream",
     "text": [
      "[39, 81, 6, 77, 40]\n",
      "[39, 81, 6, 77, 40]\n"
     ]
    }
   ],
   "source": [
    "temporary_list = []\n",
    "for x in spending_score[1:]:\n",
    "    temp = x.split('\\n')\n",
    "    temp = temp[0]\n",
    "    temp = int(temp)\n",
    "    temporary_list.append(temp)\n",
    "print(temporary_list[0:5])\n",
    "\n",
    "listComprehension = [int(x.split('\\n')[0]) for x in spending_score[1:]]\n",
    "print(listComprehension[0:5])"
   ]
  },
  {
   "cell_type": "code",
   "execution_count": 6,
   "id": "85a4403b",
   "metadata": {
    "execution": {
     "iopub.execute_input": "2022-03-31T05:46:58.197961Z",
     "iopub.status.busy": "2022-03-31T05:46:58.196973Z",
     "iopub.status.idle": "2022-03-31T05:46:58.199928Z",
     "shell.execute_reply": "2022-03-31T05:46:58.199186Z",
     "shell.execute_reply.started": "2022-03-31T05:45:45.191680Z"
    },
    "papermill": {
     "duration": 0.053317,
     "end_time": "2022-03-31T05:46:58.200094",
     "exception": false,
     "start_time": "2022-03-31T05:46:58.146777",
     "status": "completed"
    },
    "tags": []
   },
   "outputs": [],
   "source": [
    "mall_dict['spending_score'] = [int(x.split('\\n')[0]) for x in spending_score[1:]]\n",
    "#print(mall_dict)"
   ]
  },
  {
   "cell_type": "markdown",
   "id": "86c12f83",
   "metadata": {
    "papermill": {
     "duration": 0.037915,
     "end_time": "2022-03-31T05:46:58.284418",
     "exception": false,
     "start_time": "2022-03-31T05:46:58.246503",
     "status": "completed"
    },
    "tags": []
   },
   "source": [
    "__List Comprehensions__. List comprehensions is a pythonic way to provide a concise way to create lists. It consists of brackets containing an expression followed by a for clause, then zero or more for or if clauses. "
   ]
  },
  {
   "cell_type": "code",
   "execution_count": 7,
   "id": "72573d0a",
   "metadata": {
    "execution": {
     "iopub.execute_input": "2022-03-31T05:46:58.367727Z",
     "iopub.status.busy": "2022-03-31T05:46:58.367079Z",
     "iopub.status.idle": "2022-03-31T05:46:58.370664Z",
     "shell.execute_reply": "2022-03-31T05:46:58.370081Z",
     "shell.execute_reply.started": "2022-03-31T05:45:45.289717Z"
    },
    "papermill": {
     "duration": 0.048285,
     "end_time": "2022-03-31T05:46:58.370804",
     "exception": false,
     "start_time": "2022-03-31T05:46:58.322519",
     "status": "completed"
    },
    "tags": []
   },
   "outputs": [
    {
     "name": "stdout",
     "output_type": "stream",
     "text": [
      "{'CustomerID': ['1', '2', '3', '4', '5', '6', '7', '8', '9', '10', '11', '12', '13', '14', '15', '16', '17', '18', '19', '20', '21', '22', '23', '24', '25', '26', '27', '28', '29', '30', '31', '32', '33', '34', '35', '36', '37', '38', '39', '40', '41', '42', '43', '44', '45', '46', '47', '48', '49', '50', '51', '52', '53', '54', '55', '56', '57', '58', '59', '60', '61', '62', '63', '64', '65', '66', '67', '68', '69', '70', '71', '72', '73', '74', '75', '76', '77', '78', '79', '80', '81', '82', '83', '84', '85', '86', '87', '88', '89', '90', '91', '92', '93', '94', '95', '96', '97', '98', '99', '100', '101', '102', '103', '104', '105', '106', '107', '108', '109', '110', '111', '112', '113', '114', '115', '116', '117', '118', '119', '120', '121', '122', '123', '124', '125', '126', '127', '128', '129', '130', '131', '132', '133', '134', '135', '136', '137', '138', '139', '140', '141', '142', '143', '144', '145', '146', '147', '148', '149', '150', '151', '152', '153', '154', '155', '156', '157', '158', '159', '160', '161', '162', '163', '164', '165', '166', '167', '168', '169', '170', '171', '172', '173', '174', '175', '176', '177', '178', '179', '180', '181', '182', '183', '184', '185', '186', '187', '188', '189', '190', '191', '192', '193', '194', '195', '196', '197', '198', '199', '200'], 'Gender': ['Male', 'Male', 'Female', 'Female', 'Female', 'Female', 'Female', 'Female', 'Male', 'Female', 'Male', 'Female', 'Female', 'Female', 'Male', 'Male', 'Female', 'Male', 'Male', 'Female', 'Male', 'Male', 'Female', 'Male', 'Female', 'Male', 'Female', 'Male', 'Female', 'Female', 'Male', 'Female', 'Male', 'Male', 'Female', 'Female', 'Female', 'Female', 'Female', 'Female', 'Female', 'Male', 'Male', 'Female', 'Female', 'Female', 'Female', 'Female', 'Female', 'Female', 'Female', 'Male', 'Female', 'Male', 'Female', 'Male', 'Female', 'Male', 'Female', 'Male', 'Male', 'Male', 'Female', 'Female', 'Male', 'Male', 'Female', 'Female', 'Male', 'Female', 'Male', 'Female', 'Female', 'Female', 'Male', 'Male', 'Female', 'Male', 'Female', 'Female', 'Male', 'Male', 'Male', 'Female', 'Female', 'Male', 'Female', 'Female', 'Female', 'Female', 'Female', 'Male', 'Male', 'Female', 'Female', 'Male', 'Female', 'Female', 'Male', 'Male', 'Female', 'Female', 'Male', 'Male', 'Male', 'Female', 'Female', 'Male', 'Male', 'Male', 'Male', 'Female', 'Female', 'Male', 'Female', 'Female', 'Female', 'Female', 'Female', 'Female', 'Male', 'Female', 'Female', 'Male', 'Female', 'Female', 'Male', 'Male', 'Male', 'Male', 'Male', 'Male', 'Female', 'Female', 'Male', 'Female', 'Female', 'Male', 'Male', 'Female', 'Female', 'Male', 'Female', 'Female', 'Male', 'Male', 'Male', 'Female', 'Female', 'Male', 'Male', 'Male', 'Female', 'Female', 'Female', 'Female', 'Male', 'Female', 'Male', 'Female', 'Female', 'Female', 'Male', 'Female', 'Male', 'Female', 'Male', 'Female', 'Female', 'Male', 'Male', 'Male', 'Male', 'Male', 'Female', 'Female', 'Male', 'Male', 'Male', 'Male', 'Female', 'Female', 'Male', 'Female', 'Female', 'Male', 'Female', 'Male', 'Female', 'Female', 'Female', 'Female', 'Male', 'Female', 'Female', 'Female', 'Female', 'Male', 'Male', 'Male'], 'Age': [19, 21, 20, 23, 31, 22, 35, 23, 64, 30, 67, 35, 58, 24, 37, 22, 35, 20, 52, 35, 35, 25, 46, 31, 54, 29, 45, 35, 40, 23, 60, 21, 53, 18, 49, 21, 42, 30, 36, 20, 65, 24, 48, 31, 49, 24, 50, 27, 29, 31, 49, 33, 31, 59, 50, 47, 51, 69, 27, 53, 70, 19, 67, 54, 63, 18, 43, 68, 19, 32, 70, 47, 60, 60, 59, 26, 45, 40, 23, 49, 57, 38, 67, 46, 21, 48, 55, 22, 34, 50, 68, 18, 48, 40, 32, 24, 47, 27, 48, 20, 23, 49, 67, 26, 49, 21, 66, 54, 68, 66, 65, 19, 38, 19, 18, 19, 63, 49, 51, 50, 27, 38, 40, 39, 23, 31, 43, 40, 59, 38, 47, 39, 25, 31, 20, 29, 44, 32, 19, 35, 57, 32, 28, 32, 25, 28, 48, 32, 34, 34, 43, 39, 44, 38, 47, 27, 37, 30, 34, 30, 56, 29, 19, 31, 50, 36, 42, 33, 36, 32, 40, 28, 36, 36, 52, 30, 58, 27, 59, 35, 37, 32, 46, 29, 41, 30, 54, 28, 41, 36, 34, 32, 33, 38, 47, 35, 45, 32, 32, 30], 'Annual Income (k$)': [15, 15, 16, 16, 17, 17, 18, 18, 19, 19, 19, 19, 20, 20, 20, 20, 21, 21, 23, 23, 24, 24, 25, 25, 28, 28, 28, 28, 29, 29, 30, 30, 33, 33, 33, 33, 34, 34, 37, 37, 38, 38, 39, 39, 39, 39, 40, 40, 40, 40, 42, 42, 43, 43, 43, 43, 44, 44, 46, 46, 46, 46, 47, 47, 48, 48, 48, 48, 48, 48, 49, 49, 50, 50, 54, 54, 54, 54, 54, 54, 54, 54, 54, 54, 54, 54, 57, 57, 58, 58, 59, 59, 60, 60, 60, 60, 60, 60, 61, 61, 62, 62, 62, 62, 62, 62, 63, 63, 63, 63, 63, 63, 64, 64, 65, 65, 65, 65, 67, 67, 67, 67, 69, 69, 70, 70, 71, 71, 71, 71, 71, 71, 72, 72, 73, 73, 73, 73, 74, 74, 75, 75, 76, 76, 77, 77, 77, 77, 78, 78, 78, 78, 78, 78, 78, 78, 78, 78, 78, 78, 79, 79, 81, 81, 85, 85, 86, 86, 87, 87, 87, 87, 87, 87, 88, 88, 88, 88, 93, 93, 97, 97, 98, 98, 99, 99, 101, 101, 103, 103, 103, 103, 113, 113, 120, 120, 126, 126, 137, 137], 'Spending Score (1-100)\\n': [39, 81, 6, 77, 40, 76, 6, 94, 3, 72, 14, 99, 15, 77, 13, 79, 35, 66, 29, 98, 35, 73, 5, 73, 14, 82, 32, 61, 31, 87, 4, 73, 4, 92, 14, 81, 17, 73, 26, 75, 35, 92, 36, 61, 28, 65, 55, 47, 42, 42, 52, 60, 54, 60, 45, 41, 50, 46, 51, 46, 56, 55, 52, 59, 51, 59, 50, 48, 59, 47, 55, 42, 49, 56, 47, 54, 53, 48, 52, 42, 51, 55, 41, 44, 57, 46, 58, 55, 60, 46, 55, 41, 49, 40, 42, 52, 47, 50, 42, 49, 41, 48, 59, 55, 56, 42, 50, 46, 43, 48, 52, 54, 42, 46, 48, 50, 43, 59, 43, 57, 56, 40, 58, 91, 29, 77, 35, 95, 11, 75, 9, 75, 34, 71, 5, 88, 7, 73, 10, 72, 5, 93, 40, 87, 12, 97, 36, 74, 22, 90, 17, 88, 20, 76, 16, 89, 1, 78, 1, 73, 35, 83, 5, 93, 26, 75, 20, 95, 27, 63, 13, 75, 10, 92, 13, 86, 15, 69, 14, 90, 32, 86, 15, 88, 39, 97, 24, 68, 17, 85, 23, 69, 8, 91, 16, 79, 28, 74, 18, 83]}\n"
     ]
    }
   ],
   "source": [
    "mall_dict = {customerID[0]:customerID[1:], gender[0]:gender[1:],age[0]:[int(x) for x in age[1:]], \n",
    "             annual_income_dollar[0]: [int(x) for x in annual_income_dollar[1:]]\n",
    "             , spending_score[0]: [int(x.split('\\n')[0]) for x in spending_score[1:]]}\n",
    "print(mall_dict)"
   ]
  },
  {
   "cell_type": "markdown",
   "id": "25c497ec",
   "metadata": {
    "papermill": {
     "duration": 0.038755,
     "end_time": "2022-03-31T05:46:58.448684",
     "exception": false,
     "start_time": "2022-03-31T05:46:58.409929",
     "status": "completed"
    },
    "tags": []
   },
   "source": [
    "##### Now thats tedious !!!! To Write so many lines to export a file"
   ]
  },
  {
   "cell_type": "markdown",
   "id": "bf5b1d1a",
   "metadata": {
    "papermill": {
     "duration": 0.038369,
     "end_time": "2022-03-31T05:46:58.525991",
     "exception": false,
     "start_time": "2022-03-31T05:46:58.487622",
     "status": "completed"
    },
    "tags": []
   },
   "source": [
    "### Libraries\n",
    "We need to _import libraries_ \n",
    "\n",
    "#### Built in Packages\n",
    "Python provides many built-in packages\n",
    "\n",
    "#### Most Commonly used Packags for Machine Learning in Python:\n",
    "- Pandas\n",
    "- Numpy \n",
    "- Scipy\n",
    "- Matplotlib\n",
    "- Scikit learn"
   ]
  },
  {
   "cell_type": "markdown",
   "id": "906830fb",
   "metadata": {
    "papermill": {
     "duration": 0.044741,
     "end_time": "2022-03-31T05:46:58.609706",
     "exception": false,
     "start_time": "2022-03-31T05:46:58.564965",
     "status": "completed"
    },
    "tags": []
   },
   "source": [
    "### Pandas (Python Data Analysis Library) \n",
    "##### is a great package for data structures\n",
    "A library to slice and dice data and visualize it in a columnar format."
   ]
  },
  {
   "cell_type": "code",
   "execution_count": 8,
   "id": "a1d3b0bf",
   "metadata": {
    "execution": {
     "iopub.execute_input": "2022-03-31T05:46:58.705325Z",
     "iopub.status.busy": "2022-03-31T05:46:58.704760Z",
     "iopub.status.idle": "2022-03-31T05:46:58.707192Z",
     "shell.execute_reply": "2022-03-31T05:46:58.706726Z",
     "shell.execute_reply.started": "2022-03-31T05:45:45.370047Z"
    },
    "papermill": {
     "duration": 0.051209,
     "end_time": "2022-03-31T05:46:58.707320",
     "exception": false,
     "start_time": "2022-03-31T05:46:58.656111",
     "status": "completed"
    },
    "tags": []
   },
   "outputs": [],
   "source": [
    "# Export the Mall dataset using Pandas\n",
    "import pandas as pd # loading pandas library and giving it an alias pd to make code less verbose\n",
    "import numpy as np"
   ]
  },
  {
   "cell_type": "code",
   "execution_count": 9,
   "id": "b9280ffe",
   "metadata": {
    "execution": {
     "iopub.execute_input": "2022-03-31T05:46:58.787628Z",
     "iopub.status.busy": "2022-03-31T05:46:58.787032Z",
     "iopub.status.idle": "2022-03-31T05:46:58.796941Z",
     "shell.execute_reply": "2022-03-31T05:46:58.797488Z",
     "shell.execute_reply.started": "2022-03-31T05:45:45.444855Z"
    },
    "papermill": {
     "duration": 0.051552,
     "end_time": "2022-03-31T05:46:58.797675",
     "exception": false,
     "start_time": "2022-03-31T05:46:58.746123",
     "status": "completed"
    },
    "tags": []
   },
   "outputs": [],
   "source": [
    "df = pd.read_csv(filepath_or_buffer='../input/customer-segmentation-tutorial-in-python/Mall_Customers.csv')"
   ]
  },
  {
   "cell_type": "code",
   "execution_count": 10,
   "id": "99dfb1de",
   "metadata": {
    "execution": {
     "iopub.execute_input": "2022-03-31T05:46:58.879815Z",
     "iopub.status.busy": "2022-03-31T05:46:58.879166Z",
     "iopub.status.idle": "2022-03-31T05:46:58.894511Z",
     "shell.execute_reply": "2022-03-31T05:46:58.893993Z",
     "shell.execute_reply.started": "2022-03-31T05:45:45.501225Z"
    },
    "papermill": {
     "duration": 0.05773,
     "end_time": "2022-03-31T05:46:58.894644",
     "exception": false,
     "start_time": "2022-03-31T05:46:58.836914",
     "status": "completed"
    },
    "tags": []
   },
   "outputs": [
    {
     "data": {
      "text/html": [
       "<div>\n",
       "<style scoped>\n",
       "    .dataframe tbody tr th:only-of-type {\n",
       "        vertical-align: middle;\n",
       "    }\n",
       "\n",
       "    .dataframe tbody tr th {\n",
       "        vertical-align: top;\n",
       "    }\n",
       "\n",
       "    .dataframe thead th {\n",
       "        text-align: right;\n",
       "    }\n",
       "</style>\n",
       "<table border=\"1\" class=\"dataframe\">\n",
       "  <thead>\n",
       "    <tr style=\"text-align: right;\">\n",
       "      <th></th>\n",
       "      <th>CustomerID</th>\n",
       "      <th>Gender</th>\n",
       "      <th>Age</th>\n",
       "      <th>Annual Income (k$)</th>\n",
       "      <th>Spending Score (1-100)</th>\n",
       "    </tr>\n",
       "  </thead>\n",
       "  <tbody>\n",
       "    <tr>\n",
       "      <th>0</th>\n",
       "      <td>1</td>\n",
       "      <td>Male</td>\n",
       "      <td>19</td>\n",
       "      <td>15</td>\n",
       "      <td>39</td>\n",
       "    </tr>\n",
       "    <tr>\n",
       "      <th>1</th>\n",
       "      <td>2</td>\n",
       "      <td>Male</td>\n",
       "      <td>21</td>\n",
       "      <td>15</td>\n",
       "      <td>81</td>\n",
       "    </tr>\n",
       "    <tr>\n",
       "      <th>2</th>\n",
       "      <td>3</td>\n",
       "      <td>Female</td>\n",
       "      <td>20</td>\n",
       "      <td>16</td>\n",
       "      <td>6</td>\n",
       "    </tr>\n",
       "    <tr>\n",
       "      <th>3</th>\n",
       "      <td>4</td>\n",
       "      <td>Female</td>\n",
       "      <td>23</td>\n",
       "      <td>16</td>\n",
       "      <td>77</td>\n",
       "    </tr>\n",
       "    <tr>\n",
       "      <th>4</th>\n",
       "      <td>5</td>\n",
       "      <td>Female</td>\n",
       "      <td>31</td>\n",
       "      <td>17</td>\n",
       "      <td>40</td>\n",
       "    </tr>\n",
       "  </tbody>\n",
       "</table>\n",
       "</div>"
      ],
      "text/plain": [
       "   CustomerID  Gender  Age  Annual Income (k$)  Spending Score (1-100)\n",
       "0           1    Male   19                  15                      39\n",
       "1           2    Male   21                  15                      81\n",
       "2           3  Female   20                  16                       6\n",
       "3           4  Female   23                  16                      77\n",
       "4           5  Female   31                  17                      40"
      ]
     },
     "execution_count": 10,
     "metadata": {},
     "output_type": "execute_result"
    }
   ],
   "source": [
    "df.head()"
   ]
  },
  {
   "cell_type": "code",
   "execution_count": 11,
   "id": "78e7d3e4",
   "metadata": {
    "execution": {
     "iopub.execute_input": "2022-03-31T05:46:58.981047Z",
     "iopub.status.busy": "2022-03-31T05:46:58.980259Z",
     "iopub.status.idle": "2022-03-31T05:46:58.983979Z",
     "shell.execute_reply": "2022-03-31T05:46:58.983416Z",
     "shell.execute_reply.started": "2022-03-31T05:45:45.569884Z"
    },
    "papermill": {
     "duration": 0.050131,
     "end_time": "2022-03-31T05:46:58.984114",
     "exception": false,
     "start_time": "2022-03-31T05:46:58.933983",
     "status": "completed"
    },
    "tags": []
   },
   "outputs": [
    {
     "data": {
      "text/plain": [
       "pandas.core.frame.DataFrame"
      ]
     },
     "execution_count": 11,
     "metadata": {},
     "output_type": "execute_result"
    }
   ],
   "source": [
    "type(df)"
   ]
  },
  {
   "cell_type": "code",
   "execution_count": 12,
   "id": "c3299c70",
   "metadata": {
    "execution": {
     "iopub.execute_input": "2022-03-31T05:46:59.076028Z",
     "iopub.status.busy": "2022-03-31T05:46:59.074132Z",
     "iopub.status.idle": "2022-03-31T05:46:59.078870Z",
     "shell.execute_reply": "2022-03-31T05:46:59.079337Z",
     "shell.execute_reply.started": "2022-03-31T05:45:45.624261Z"
    },
    "papermill": {
     "duration": 0.055611,
     "end_time": "2022-03-31T05:46:59.079563",
     "exception": false,
     "start_time": "2022-03-31T05:46:59.023952",
     "status": "completed"
    },
    "tags": []
   },
   "outputs": [
    {
     "data": {
      "text/plain": [
       "Index(['CustomerID', 'Gender', 'Age', 'Annual Income (k$)',\n",
       "       'Spending Score (1-100)'],\n",
       "      dtype='object')"
      ]
     },
     "execution_count": 12,
     "metadata": {},
     "output_type": "execute_result"
    }
   ],
   "source": [
    "df.columns"
   ]
  },
  {
   "cell_type": "code",
   "execution_count": 13,
   "id": "4bdf77bc",
   "metadata": {
    "execution": {
     "iopub.execute_input": "2022-03-31T05:46:59.175803Z",
     "iopub.status.busy": "2022-03-31T05:46:59.175152Z",
     "iopub.status.idle": "2022-03-31T05:46:59.184653Z",
     "shell.execute_reply": "2022-03-31T05:46:59.185119Z",
     "shell.execute_reply.started": "2022-03-31T05:45:45.691529Z"
    },
    "papermill": {
     "duration": 0.059384,
     "end_time": "2022-03-31T05:46:59.185277",
     "exception": false,
     "start_time": "2022-03-31T05:46:59.125893",
     "status": "completed"
    },
    "tags": []
   },
   "outputs": [
    {
     "name": "stdout",
     "output_type": "stream",
     "text": [
      "   CustomerID  Gender  Age  Annual Income (k$)  Spending Score (1-100)\n",
      "0           1    Male   19                  15                      39\n",
      "1           2    Male   21                  15                      81\n",
      "2           3  Female   20                  16                       6\n",
      "3           4  Female   23                  16                      77\n",
      "4           5  Female   31                  17                      40\n",
      "     CustomerID  Gender  Age  Annual Income (k$)  Spending Score (1-100)\n",
      "190         191  Female   34                 103                      23\n",
      "191         192  Female   32                 103                      69\n",
      "192         193    Male   33                 113                       8\n",
      "193         194  Female   38                 113                      91\n",
      "194         195  Female   47                 120                      16\n",
      "195         196  Female   35                 120                      79\n",
      "196         197  Female   45                 126                      28\n",
      "197         198    Male   32                 126                      74\n",
      "198         199    Male   32                 137                      18\n",
      "199         200    Male   30                 137                      83\n",
      "(200, 5)\n"
     ]
    }
   ],
   "source": [
    "print(df.head()) # top n reocrds\n",
    "print(df.tail(n=10)) # last n records\n",
    "print(df.shape) # rows x columns"
   ]
  },
  {
   "cell_type": "code",
   "execution_count": 14,
   "id": "dce31fc5",
   "metadata": {
    "execution": {
     "iopub.execute_input": "2022-03-31T05:46:59.274878Z",
     "iopub.status.busy": "2022-03-31T05:46:59.274235Z",
     "iopub.status.idle": "2022-03-31T05:46:59.306603Z",
     "shell.execute_reply": "2022-03-31T05:46:59.307181Z",
     "shell.execute_reply.started": "2022-03-31T05:45:45.755868Z"
    },
    "papermill": {
     "duration": 0.077015,
     "end_time": "2022-03-31T05:46:59.307348",
     "exception": false,
     "start_time": "2022-03-31T05:46:59.230333",
     "status": "completed"
    },
    "tags": []
   },
   "outputs": [
    {
     "data": {
      "text/html": [
       "<div>\n",
       "<style scoped>\n",
       "    .dataframe tbody tr th:only-of-type {\n",
       "        vertical-align: middle;\n",
       "    }\n",
       "\n",
       "    .dataframe tbody tr th {\n",
       "        vertical-align: top;\n",
       "    }\n",
       "\n",
       "    .dataframe thead th {\n",
       "        text-align: right;\n",
       "    }\n",
       "</style>\n",
       "<table border=\"1\" class=\"dataframe\">\n",
       "  <thead>\n",
       "    <tr style=\"text-align: right;\">\n",
       "      <th></th>\n",
       "      <th>CustomerID</th>\n",
       "      <th>Gender</th>\n",
       "      <th>Age</th>\n",
       "      <th>Annual Income (k$)</th>\n",
       "      <th>Spending Score (1-100)</th>\n",
       "    </tr>\n",
       "  </thead>\n",
       "  <tbody>\n",
       "    <tr>\n",
       "      <th>count</th>\n",
       "      <td>200.000000</td>\n",
       "      <td>200</td>\n",
       "      <td>200.000000</td>\n",
       "      <td>200.000000</td>\n",
       "      <td>200.000000</td>\n",
       "    </tr>\n",
       "    <tr>\n",
       "      <th>unique</th>\n",
       "      <td>NaN</td>\n",
       "      <td>2</td>\n",
       "      <td>NaN</td>\n",
       "      <td>NaN</td>\n",
       "      <td>NaN</td>\n",
       "    </tr>\n",
       "    <tr>\n",
       "      <th>top</th>\n",
       "      <td>NaN</td>\n",
       "      <td>Female</td>\n",
       "      <td>NaN</td>\n",
       "      <td>NaN</td>\n",
       "      <td>NaN</td>\n",
       "    </tr>\n",
       "    <tr>\n",
       "      <th>freq</th>\n",
       "      <td>NaN</td>\n",
       "      <td>112</td>\n",
       "      <td>NaN</td>\n",
       "      <td>NaN</td>\n",
       "      <td>NaN</td>\n",
       "    </tr>\n",
       "    <tr>\n",
       "      <th>mean</th>\n",
       "      <td>100.500000</td>\n",
       "      <td>NaN</td>\n",
       "      <td>38.850000</td>\n",
       "      <td>60.560000</td>\n",
       "      <td>50.200000</td>\n",
       "    </tr>\n",
       "    <tr>\n",
       "      <th>std</th>\n",
       "      <td>57.879185</td>\n",
       "      <td>NaN</td>\n",
       "      <td>13.969007</td>\n",
       "      <td>26.264721</td>\n",
       "      <td>25.823522</td>\n",
       "    </tr>\n",
       "    <tr>\n",
       "      <th>min</th>\n",
       "      <td>1.000000</td>\n",
       "      <td>NaN</td>\n",
       "      <td>18.000000</td>\n",
       "      <td>15.000000</td>\n",
       "      <td>1.000000</td>\n",
       "    </tr>\n",
       "    <tr>\n",
       "      <th>25%</th>\n",
       "      <td>50.750000</td>\n",
       "      <td>NaN</td>\n",
       "      <td>28.750000</td>\n",
       "      <td>41.500000</td>\n",
       "      <td>34.750000</td>\n",
       "    </tr>\n",
       "    <tr>\n",
       "      <th>50%</th>\n",
       "      <td>100.500000</td>\n",
       "      <td>NaN</td>\n",
       "      <td>36.000000</td>\n",
       "      <td>61.500000</td>\n",
       "      <td>50.000000</td>\n",
       "    </tr>\n",
       "    <tr>\n",
       "      <th>75%</th>\n",
       "      <td>150.250000</td>\n",
       "      <td>NaN</td>\n",
       "      <td>49.000000</td>\n",
       "      <td>78.000000</td>\n",
       "      <td>73.000000</td>\n",
       "    </tr>\n",
       "    <tr>\n",
       "      <th>max</th>\n",
       "      <td>200.000000</td>\n",
       "      <td>NaN</td>\n",
       "      <td>70.000000</td>\n",
       "      <td>137.000000</td>\n",
       "      <td>99.000000</td>\n",
       "    </tr>\n",
       "  </tbody>\n",
       "</table>\n",
       "</div>"
      ],
      "text/plain": [
       "        CustomerID  Gender         Age  Annual Income (k$)  \\\n",
       "count   200.000000     200  200.000000          200.000000   \n",
       "unique         NaN       2         NaN                 NaN   \n",
       "top            NaN  Female         NaN                 NaN   \n",
       "freq           NaN     112         NaN                 NaN   \n",
       "mean    100.500000     NaN   38.850000           60.560000   \n",
       "std      57.879185     NaN   13.969007           26.264721   \n",
       "min       1.000000     NaN   18.000000           15.000000   \n",
       "25%      50.750000     NaN   28.750000           41.500000   \n",
       "50%     100.500000     NaN   36.000000           61.500000   \n",
       "75%     150.250000     NaN   49.000000           78.000000   \n",
       "max     200.000000     NaN   70.000000          137.000000   \n",
       "\n",
       "        Spending Score (1-100)  \n",
       "count               200.000000  \n",
       "unique                     NaN  \n",
       "top                        NaN  \n",
       "freq                       NaN  \n",
       "mean                 50.200000  \n",
       "std                  25.823522  \n",
       "min                   1.000000  \n",
       "25%                  34.750000  \n",
       "50%                  50.000000  \n",
       "75%                  73.000000  \n",
       "max                  99.000000  "
      ]
     },
     "execution_count": 14,
     "metadata": {},
     "output_type": "execute_result"
    }
   ],
   "source": [
    "df.describe(include = \"all\")"
   ]
  },
  {
   "cell_type": "code",
   "execution_count": 15,
   "id": "22ffa1ee",
   "metadata": {
    "execution": {
     "iopub.execute_input": "2022-03-31T05:46:59.394624Z",
     "iopub.status.busy": "2022-03-31T05:46:59.394016Z",
     "iopub.status.idle": "2022-03-31T05:46:59.407779Z",
     "shell.execute_reply": "2022-03-31T05:46:59.408207Z",
     "shell.execute_reply.started": "2022-03-31T05:45:45.820913Z"
    },
    "papermill": {
     "duration": 0.058725,
     "end_time": "2022-03-31T05:46:59.408374",
     "exception": false,
     "start_time": "2022-03-31T05:46:59.349649",
     "status": "completed"
    },
    "tags": []
   },
   "outputs": [
    {
     "data": {
      "text/html": [
       "<div>\n",
       "<style scoped>\n",
       "    .dataframe tbody tr th:only-of-type {\n",
       "        vertical-align: middle;\n",
       "    }\n",
       "\n",
       "    .dataframe tbody tr th {\n",
       "        vertical-align: top;\n",
       "    }\n",
       "\n",
       "    .dataframe thead th {\n",
       "        text-align: right;\n",
       "    }\n",
       "</style>\n",
       "<table border=\"1\" class=\"dataframe\">\n",
       "  <thead>\n",
       "    <tr style=\"text-align: right;\">\n",
       "      <th></th>\n",
       "      <th>CustomerID</th>\n",
       "      <th>Age</th>\n",
       "      <th>Annual Income (k$)</th>\n",
       "      <th>Spending Score (1-100)</th>\n",
       "    </tr>\n",
       "    <tr>\n",
       "      <th>Gender</th>\n",
       "      <th></th>\n",
       "      <th></th>\n",
       "      <th></th>\n",
       "      <th></th>\n",
       "    </tr>\n",
       "  </thead>\n",
       "  <tbody>\n",
       "    <tr>\n",
       "      <th>Female</th>\n",
       "      <td>97.562500</td>\n",
       "      <td>38.098214</td>\n",
       "      <td>59.250000</td>\n",
       "      <td>51.526786</td>\n",
       "    </tr>\n",
       "    <tr>\n",
       "      <th>Male</th>\n",
       "      <td>104.238636</td>\n",
       "      <td>39.806818</td>\n",
       "      <td>62.227273</td>\n",
       "      <td>48.511364</td>\n",
       "    </tr>\n",
       "  </tbody>\n",
       "</table>\n",
       "</div>"
      ],
      "text/plain": [
       "        CustomerID        Age  Annual Income (k$)  Spending Score (1-100)\n",
       "Gender                                                                   \n",
       "Female   97.562500  38.098214           59.250000               51.526786\n",
       "Male    104.238636  39.806818           62.227273               48.511364"
      ]
     },
     "execution_count": 15,
     "metadata": {},
     "output_type": "execute_result"
    }
   ],
   "source": [
    "df.groupby(['Gender']).mean()"
   ]
  },
  {
   "cell_type": "code",
   "execution_count": 16,
   "id": "eaef07f4",
   "metadata": {
    "execution": {
     "iopub.execute_input": "2022-03-31T05:46:59.494717Z",
     "iopub.status.busy": "2022-03-31T05:46:59.494102Z",
     "iopub.status.idle": "2022-03-31T05:46:59.503105Z",
     "shell.execute_reply": "2022-03-31T05:46:59.503543Z",
     "shell.execute_reply.started": "2022-03-31T05:45:45.903455Z"
    },
    "papermill": {
     "duration": 0.05317,
     "end_time": "2022-03-31T05:46:59.503708",
     "exception": false,
     "start_time": "2022-03-31T05:46:59.450538",
     "status": "completed"
    },
    "tags": []
   },
   "outputs": [
    {
     "data": {
      "text/html": [
       "<div>\n",
       "<style scoped>\n",
       "    .dataframe tbody tr th:only-of-type {\n",
       "        vertical-align: middle;\n",
       "    }\n",
       "\n",
       "    .dataframe tbody tr th {\n",
       "        vertical-align: top;\n",
       "    }\n",
       "\n",
       "    .dataframe thead th {\n",
       "        text-align: right;\n",
       "    }\n",
       "</style>\n",
       "<table border=\"1\" class=\"dataframe\">\n",
       "  <thead>\n",
       "    <tr style=\"text-align: right;\">\n",
       "      <th></th>\n",
       "      <th>CustomerID</th>\n",
       "      <th>Age</th>\n",
       "      <th>Annual Income (k$)</th>\n",
       "      <th>Spending Score (1-100)</th>\n",
       "    </tr>\n",
       "    <tr>\n",
       "      <th>Gender</th>\n",
       "      <th></th>\n",
       "      <th></th>\n",
       "      <th></th>\n",
       "      <th></th>\n",
       "    </tr>\n",
       "  </thead>\n",
       "  <tbody>\n",
       "    <tr>\n",
       "      <th>Female</th>\n",
       "      <td>112</td>\n",
       "      <td>112</td>\n",
       "      <td>112</td>\n",
       "      <td>112</td>\n",
       "    </tr>\n",
       "    <tr>\n",
       "      <th>Male</th>\n",
       "      <td>88</td>\n",
       "      <td>88</td>\n",
       "      <td>88</td>\n",
       "      <td>88</td>\n",
       "    </tr>\n",
       "  </tbody>\n",
       "</table>\n",
       "</div>"
      ],
      "text/plain": [
       "        CustomerID  Age  Annual Income (k$)  Spending Score (1-100)\n",
       "Gender                                                             \n",
       "Female         112  112                 112                     112\n",
       "Male            88   88                  88                      88"
      ]
     },
     "execution_count": 16,
     "metadata": {},
     "output_type": "execute_result"
    }
   ],
   "source": [
    "df.groupby(['Gender']).count()"
   ]
  },
  {
   "cell_type": "code",
   "execution_count": 17,
   "id": "7eb2966a",
   "metadata": {
    "execution": {
     "iopub.execute_input": "2022-03-31T05:46:59.590752Z",
     "iopub.status.busy": "2022-03-31T05:46:59.590136Z",
     "iopub.status.idle": "2022-03-31T05:46:59.594584Z",
     "shell.execute_reply": "2022-03-31T05:46:59.595039Z",
     "shell.execute_reply.started": "2022-03-31T05:45:45.969572Z"
    },
    "papermill": {
     "duration": 0.049174,
     "end_time": "2022-03-31T05:46:59.595200",
     "exception": false,
     "start_time": "2022-03-31T05:46:59.546026",
     "status": "completed"
    },
    "tags": []
   },
   "outputs": [
    {
     "data": {
      "text/plain": [
       "Index(['CustomerID', 'Gender', 'Age', 'Annual Income (k$)',\n",
       "       'Spending Score (1-100)'],\n",
       "      dtype='object')"
      ]
     },
     "execution_count": 17,
     "metadata": {},
     "output_type": "execute_result"
    }
   ],
   "source": [
    "df.columns"
   ]
  },
  {
   "cell_type": "code",
   "execution_count": 18,
   "id": "d54cc0fc",
   "metadata": {
    "execution": {
     "iopub.execute_input": "2022-03-31T05:46:59.682053Z",
     "iopub.status.busy": "2022-03-31T05:46:59.681461Z",
     "iopub.status.idle": "2022-03-31T05:46:59.691287Z",
     "shell.execute_reply": "2022-03-31T05:46:59.690823Z",
     "shell.execute_reply.started": "2022-03-31T05:45:46.144581Z"
    },
    "papermill": {
     "duration": 0.054218,
     "end_time": "2022-03-31T05:46:59.691436",
     "exception": false,
     "start_time": "2022-03-31T05:46:59.637218",
     "status": "completed"
    },
    "tags": []
   },
   "outputs": [
    {
     "data": {
      "text/html": [
       "<div>\n",
       "<style scoped>\n",
       "    .dataframe tbody tr th:only-of-type {\n",
       "        vertical-align: middle;\n",
       "    }\n",
       "\n",
       "    .dataframe tbody tr th {\n",
       "        vertical-align: top;\n",
       "    }\n",
       "\n",
       "    .dataframe thead th {\n",
       "        text-align: right;\n",
       "    }\n",
       "</style>\n",
       "<table border=\"1\" class=\"dataframe\">\n",
       "  <thead>\n",
       "    <tr style=\"text-align: right;\">\n",
       "      <th></th>\n",
       "      <th>CustomerID</th>\n",
       "      <th>Gender</th>\n",
       "      <th>Age</th>\n",
       "      <th>Annual Income (k$)</th>\n",
       "      <th>Spending Score (1-100)</th>\n",
       "    </tr>\n",
       "  </thead>\n",
       "  <tbody>\n",
       "    <tr>\n",
       "      <th>0</th>\n",
       "      <td>1</td>\n",
       "      <td>Male</td>\n",
       "      <td>19</td>\n",
       "      <td>15</td>\n",
       "      <td>39</td>\n",
       "    </tr>\n",
       "    <tr>\n",
       "      <th>1</th>\n",
       "      <td>2</td>\n",
       "      <td>Male</td>\n",
       "      <td>21</td>\n",
       "      <td>15</td>\n",
       "      <td>81</td>\n",
       "    </tr>\n",
       "    <tr>\n",
       "      <th>2</th>\n",
       "      <td>3</td>\n",
       "      <td>Female</td>\n",
       "      <td>20</td>\n",
       "      <td>16</td>\n",
       "      <td>6</td>\n",
       "    </tr>\n",
       "    <tr>\n",
       "      <th>3</th>\n",
       "      <td>4</td>\n",
       "      <td>Female</td>\n",
       "      <td>23</td>\n",
       "      <td>16</td>\n",
       "      <td>77</td>\n",
       "    </tr>\n",
       "    <tr>\n",
       "      <th>4</th>\n",
       "      <td>5</td>\n",
       "      <td>Female</td>\n",
       "      <td>31</td>\n",
       "      <td>17</td>\n",
       "      <td>40</td>\n",
       "    </tr>\n",
       "  </tbody>\n",
       "</table>\n",
       "</div>"
      ],
      "text/plain": [
       "   CustomerID  Gender  Age  Annual Income (k$)  Spending Score (1-100)\n",
       "0           1    Male   19                  15                      39\n",
       "1           2    Male   21                  15                      81\n",
       "2           3  Female   20                  16                       6\n",
       "3           4  Female   23                  16                      77\n",
       "4           5  Female   31                  17                      40"
      ]
     },
     "execution_count": 18,
     "metadata": {},
     "output_type": "execute_result"
    }
   ],
   "source": [
    "df.head()"
   ]
  },
  {
   "cell_type": "code",
   "execution_count": 19,
   "id": "12d5e27b",
   "metadata": {
    "execution": {
     "iopub.execute_input": "2022-03-31T05:46:59.781873Z",
     "iopub.status.busy": "2022-03-31T05:46:59.781037Z",
     "iopub.status.idle": "2022-03-31T05:46:59.784675Z",
     "shell.execute_reply": "2022-03-31T05:46:59.784115Z",
     "shell.execute_reply.started": "2022-03-31T05:45:46.204734Z"
    },
    "papermill": {
     "duration": 0.050874,
     "end_time": "2022-03-31T05:46:59.784805",
     "exception": false,
     "start_time": "2022-03-31T05:46:59.733931",
     "status": "completed"
    },
    "tags": []
   },
   "outputs": [
    {
     "name": "stdout",
     "output_type": "stream",
     "text": [
      "0 1 2 3 4 "
     ]
    }
   ],
   "source": [
    "a  = df.head()\n",
    "\n",
    "for row in a.index:\n",
    "    print(row, end = \" \")"
   ]
  },
  {
   "cell_type": "code",
   "execution_count": 20,
   "id": "fb69db8a",
   "metadata": {
    "execution": {
     "iopub.execute_input": "2022-03-31T05:46:59.873301Z",
     "iopub.status.busy": "2022-03-31T05:46:59.872726Z",
     "iopub.status.idle": "2022-03-31T05:46:59.878419Z",
     "shell.execute_reply": "2022-03-31T05:46:59.877974Z",
     "shell.execute_reply.started": "2022-03-31T05:45:46.261122Z"
    },
    "papermill": {
     "duration": 0.051201,
     "end_time": "2022-03-31T05:46:59.878576",
     "exception": false,
     "start_time": "2022-03-31T05:46:59.827375",
     "status": "completed"
    },
    "tags": []
   },
   "outputs": [
    {
     "data": {
      "text/plain": [
       "[0, 1, 2, 3, 4]"
      ]
     },
     "execution_count": 20,
     "metadata": {},
     "output_type": "execute_result"
    }
   ],
   "source": [
    "df_top = df.head()\n",
    "\n",
    "list(df_top.index)"
   ]
  },
  {
   "cell_type": "code",
   "execution_count": 21,
   "id": "8691d166",
   "metadata": {
    "execution": {
     "iopub.execute_input": "2022-03-31T05:46:59.968834Z",
     "iopub.status.busy": "2022-03-31T05:46:59.968159Z",
     "iopub.status.idle": "2022-03-31T05:46:59.976256Z",
     "shell.execute_reply": "2022-03-31T05:46:59.975657Z",
     "shell.execute_reply.started": "2022-03-31T05:45:46.328583Z"
    },
    "papermill": {
     "duration": 0.054389,
     "end_time": "2022-03-31T05:46:59.976387",
     "exception": false,
     "start_time": "2022-03-31T05:46:59.921998",
     "status": "completed"
    },
    "tags": []
   },
   "outputs": [
    {
     "data": {
      "text/plain": [
       "[0,\n",
       " 1,\n",
       " 2,\n",
       " 3,\n",
       " 4,\n",
       " 5,\n",
       " 6,\n",
       " 7,\n",
       " 8,\n",
       " 9,\n",
       " 10,\n",
       " 11,\n",
       " 12,\n",
       " 13,\n",
       " 14,\n",
       " 15,\n",
       " 16,\n",
       " 17,\n",
       " 18,\n",
       " 19,\n",
       " 20,\n",
       " 21,\n",
       " 22,\n",
       " 23,\n",
       " 24,\n",
       " 25,\n",
       " 26,\n",
       " 27,\n",
       " 28,\n",
       " 29,\n",
       " 30,\n",
       " 31,\n",
       " 32,\n",
       " 33,\n",
       " 34,\n",
       " 35,\n",
       " 36,\n",
       " 37,\n",
       " 38,\n",
       " 39,\n",
       " 40,\n",
       " 41,\n",
       " 42,\n",
       " 43,\n",
       " 44,\n",
       " 45,\n",
       " 46,\n",
       " 47,\n",
       " 48,\n",
       " 49,\n",
       " 50,\n",
       " 51,\n",
       " 52,\n",
       " 53,\n",
       " 54,\n",
       " 55,\n",
       " 56,\n",
       " 57,\n",
       " 58,\n",
       " 59,\n",
       " 60,\n",
       " 61,\n",
       " 62,\n",
       " 63,\n",
       " 64,\n",
       " 65,\n",
       " 66,\n",
       " 67,\n",
       " 68,\n",
       " 69,\n",
       " 70,\n",
       " 71,\n",
       " 72,\n",
       " 73,\n",
       " 74,\n",
       " 75,\n",
       " 76,\n",
       " 77,\n",
       " 78,\n",
       " 79,\n",
       " 80,\n",
       " 81,\n",
       " 82,\n",
       " 83,\n",
       " 84,\n",
       " 85,\n",
       " 86,\n",
       " 87,\n",
       " 88,\n",
       " 89,\n",
       " 90,\n",
       " 91,\n",
       " 92,\n",
       " 93,\n",
       " 94,\n",
       " 95,\n",
       " 96,\n",
       " 97,\n",
       " 98,\n",
       " 99,\n",
       " 100,\n",
       " 101,\n",
       " 102,\n",
       " 103,\n",
       " 104,\n",
       " 105,\n",
       " 106,\n",
       " 107,\n",
       " 108,\n",
       " 109,\n",
       " 110,\n",
       " 111,\n",
       " 112,\n",
       " 113,\n",
       " 114,\n",
       " 115,\n",
       " 116,\n",
       " 117,\n",
       " 118,\n",
       " 119,\n",
       " 120,\n",
       " 121,\n",
       " 122,\n",
       " 123,\n",
       " 124,\n",
       " 125,\n",
       " 126,\n",
       " 127,\n",
       " 128,\n",
       " 129,\n",
       " 130,\n",
       " 131,\n",
       " 132,\n",
       " 133,\n",
       " 134,\n",
       " 135,\n",
       " 136,\n",
       " 137,\n",
       " 138,\n",
       " 139,\n",
       " 140,\n",
       " 141,\n",
       " 142,\n",
       " 143,\n",
       " 144,\n",
       " 145,\n",
       " 146,\n",
       " 147,\n",
       " 148,\n",
       " 149,\n",
       " 150,\n",
       " 151,\n",
       " 152,\n",
       " 153,\n",
       " 154,\n",
       " 155,\n",
       " 156,\n",
       " 157,\n",
       " 158,\n",
       " 159,\n",
       " 160,\n",
       " 161,\n",
       " 162,\n",
       " 163,\n",
       " 164,\n",
       " 165,\n",
       " 166,\n",
       " 167,\n",
       " 168,\n",
       " 169,\n",
       " 170,\n",
       " 171,\n",
       " 172,\n",
       " 173,\n",
       " 174,\n",
       " 175,\n",
       " 176,\n",
       " 177,\n",
       " 178,\n",
       " 179,\n",
       " 180,\n",
       " 181,\n",
       " 182,\n",
       " 183,\n",
       " 184,\n",
       " 185,\n",
       " 186,\n",
       " 187,\n",
       " 188,\n",
       " 189,\n",
       " 190,\n",
       " 191,\n",
       " 192,\n",
       " 193,\n",
       " 194,\n",
       " 195,\n",
       " 196,\n",
       " 197,\n",
       " 198,\n",
       " 199]"
      ]
     },
     "execution_count": 21,
     "metadata": {},
     "output_type": "execute_result"
    }
   ],
   "source": [
    "df.index.tolist()"
   ]
  },
  {
   "cell_type": "code",
   "execution_count": 22,
   "id": "a896ada7",
   "metadata": {
    "execution": {
     "iopub.execute_input": "2022-03-31T05:47:00.070143Z",
     "iopub.status.busy": "2022-03-31T05:47:00.069509Z",
     "iopub.status.idle": "2022-03-31T05:47:00.071817Z",
     "shell.execute_reply": "2022-03-31T05:47:00.071339Z",
     "shell.execute_reply.started": "2022-03-31T05:45:46.396128Z"
    },
    "papermill": {
     "duration": 0.051928,
     "end_time": "2022-03-31T05:47:00.071958",
     "exception": false,
     "start_time": "2022-03-31T05:47:00.020030",
     "status": "completed"
    },
    "tags": []
   },
   "outputs": [],
   "source": [
    "# Rename a single or multiple columns\n",
    "df.rename(columns={'CustomerID':'id','Spending Score (1-100)':'score','Annual Income (k$)':'income'},inplace=True)"
   ]
  },
  {
   "cell_type": "code",
   "execution_count": 23,
   "id": "37bd0ab1",
   "metadata": {
    "execution": {
     "iopub.execute_input": "2022-03-31T05:47:00.165263Z",
     "iopub.status.busy": "2022-03-31T05:47:00.164618Z",
     "iopub.status.idle": "2022-03-31T05:47:00.173696Z",
     "shell.execute_reply": "2022-03-31T05:47:00.174479Z",
     "shell.execute_reply.started": "2022-03-31T05:45:46.460375Z"
    },
    "papermill": {
     "duration": 0.059125,
     "end_time": "2022-03-31T05:47:00.174739",
     "exception": false,
     "start_time": "2022-03-31T05:47:00.115614",
     "status": "completed"
    },
    "tags": []
   },
   "outputs": [
    {
     "data": {
      "text/plain": [
       "Index(['id', 'Gender', 'Age', 'income', 'score'], dtype='object')"
      ]
     },
     "execution_count": 23,
     "metadata": {},
     "output_type": "execute_result"
    }
   ],
   "source": [
    "df.columns"
   ]
  },
  {
   "cell_type": "markdown",
   "id": "e5113fa7",
   "metadata": {
    "papermill": {
     "duration": 0.056227,
     "end_time": "2022-03-31T05:47:00.288807",
     "exception": false,
     "start_time": "2022-03-31T05:47:00.232580",
     "status": "completed"
    },
    "tags": []
   },
   "source": [
    "### Slicinig a data frame \n",
    "It is one the most common operation done while analyzing the data. Slicing of a dataframe can happen using either name of columns / rows or location index of the columns."
   ]
  },
  {
   "cell_type": "code",
   "execution_count": 24,
   "id": "ed756a30",
   "metadata": {
    "execution": {
     "iopub.execute_input": "2022-03-31T05:47:00.385125Z",
     "iopub.status.busy": "2022-03-31T05:47:00.384548Z",
     "iopub.status.idle": "2022-03-31T05:47:00.390990Z",
     "shell.execute_reply": "2022-03-31T05:47:00.391457Z",
     "shell.execute_reply.started": "2022-03-31T05:45:46.519182Z"
    },
    "papermill": {
     "duration": 0.054683,
     "end_time": "2022-03-31T05:47:00.391636",
     "exception": false,
     "start_time": "2022-03-31T05:47:00.336953",
     "status": "completed"
    },
    "tags": []
   },
   "outputs": [
    {
     "data": {
      "text/plain": [
       "0        1\n",
       "1        2\n",
       "2        3\n",
       "3        4\n",
       "4        5\n",
       "      ... \n",
       "195    196\n",
       "196    197\n",
       "197    198\n",
       "198    199\n",
       "199    200\n",
       "Name: id, Length: 200, dtype: int64"
      ]
     },
     "execution_count": 24,
     "metadata": {},
     "output_type": "execute_result"
    }
   ],
   "source": [
    "df_new = df['id'] # to select a specific column by its name\n",
    "df_new"
   ]
  },
  {
   "cell_type": "code",
   "execution_count": 25,
   "id": "c00313a8",
   "metadata": {
    "execution": {
     "iopub.execute_input": "2022-03-31T05:47:00.483134Z",
     "iopub.status.busy": "2022-03-31T05:47:00.482532Z",
     "iopub.status.idle": "2022-03-31T05:47:00.493198Z",
     "shell.execute_reply": "2022-03-31T05:47:00.492747Z",
     "shell.execute_reply.started": "2022-03-31T05:45:46.573138Z"
    },
    "papermill": {
     "duration": 0.057603,
     "end_time": "2022-03-31T05:47:00.493328",
     "exception": false,
     "start_time": "2022-03-31T05:47:00.435725",
     "status": "completed"
    },
    "tags": []
   },
   "outputs": [
    {
     "data": {
      "text/html": [
       "<div>\n",
       "<style scoped>\n",
       "    .dataframe tbody tr th:only-of-type {\n",
       "        vertical-align: middle;\n",
       "    }\n",
       "\n",
       "    .dataframe tbody tr th {\n",
       "        vertical-align: top;\n",
       "    }\n",
       "\n",
       "    .dataframe thead th {\n",
       "        text-align: right;\n",
       "    }\n",
       "</style>\n",
       "<table border=\"1\" class=\"dataframe\">\n",
       "  <thead>\n",
       "    <tr style=\"text-align: right;\">\n",
       "      <th></th>\n",
       "      <th>Gender</th>\n",
       "      <th>Age</th>\n",
       "    </tr>\n",
       "  </thead>\n",
       "  <tbody>\n",
       "    <tr>\n",
       "      <th>0</th>\n",
       "      <td>Male</td>\n",
       "      <td>19</td>\n",
       "    </tr>\n",
       "    <tr>\n",
       "      <th>1</th>\n",
       "      <td>Male</td>\n",
       "      <td>21</td>\n",
       "    </tr>\n",
       "    <tr>\n",
       "      <th>2</th>\n",
       "      <td>Female</td>\n",
       "      <td>20</td>\n",
       "    </tr>\n",
       "    <tr>\n",
       "      <th>3</th>\n",
       "      <td>Female</td>\n",
       "      <td>23</td>\n",
       "    </tr>\n",
       "    <tr>\n",
       "      <th>4</th>\n",
       "      <td>Female</td>\n",
       "      <td>31</td>\n",
       "    </tr>\n",
       "    <tr>\n",
       "      <th>5</th>\n",
       "      <td>Female</td>\n",
       "      <td>22</td>\n",
       "    </tr>\n",
       "    <tr>\n",
       "      <th>6</th>\n",
       "      <td>Female</td>\n",
       "      <td>35</td>\n",
       "    </tr>\n",
       "    <tr>\n",
       "      <th>7</th>\n",
       "      <td>Female</td>\n",
       "      <td>23</td>\n",
       "    </tr>\n",
       "    <tr>\n",
       "      <th>8</th>\n",
       "      <td>Male</td>\n",
       "      <td>64</td>\n",
       "    </tr>\n",
       "    <tr>\n",
       "      <th>9</th>\n",
       "      <td>Female</td>\n",
       "      <td>30</td>\n",
       "    </tr>\n",
       "    <tr>\n",
       "      <th>10</th>\n",
       "      <td>Male</td>\n",
       "      <td>67</td>\n",
       "    </tr>\n",
       "  </tbody>\n",
       "</table>\n",
       "</div>"
      ],
      "text/plain": [
       "    Gender  Age\n",
       "0     Male   19\n",
       "1     Male   21\n",
       "2   Female   20\n",
       "3   Female   23\n",
       "4   Female   31\n",
       "5   Female   22\n",
       "6   Female   35\n",
       "7   Female   23\n",
       "8     Male   64\n",
       "9   Female   30\n",
       "10    Male   67"
      ]
     },
     "execution_count": 25,
     "metadata": {},
     "output_type": "execute_result"
    }
   ],
   "source": [
    "df_new = df.loc[0:10,['Gender','Age']] # uisng poistional slicing of dataframe along with name of columns\n",
    "df_new"
   ]
  },
  {
   "cell_type": "code",
   "execution_count": 26,
   "id": "f625548f",
   "metadata": {
    "execution": {
     "iopub.execute_input": "2022-03-31T05:47:00.591589Z",
     "iopub.status.busy": "2022-03-31T05:47:00.590919Z",
     "iopub.status.idle": "2022-03-31T05:47:00.593534Z",
     "shell.execute_reply": "2022-03-31T05:47:00.593997Z",
     "shell.execute_reply.started": "2022-03-31T05:45:46.639279Z"
    },
    "papermill": {
     "duration": 0.055917,
     "end_time": "2022-03-31T05:47:00.594163",
     "exception": false,
     "start_time": "2022-03-31T05:47:00.538246",
     "status": "completed"
    },
    "tags": []
   },
   "outputs": [
    {
     "data": {
      "text/html": [
       "<div>\n",
       "<style scoped>\n",
       "    .dataframe tbody tr th:only-of-type {\n",
       "        vertical-align: middle;\n",
       "    }\n",
       "\n",
       "    .dataframe tbody tr th {\n",
       "        vertical-align: top;\n",
       "    }\n",
       "\n",
       "    .dataframe thead th {\n",
       "        text-align: right;\n",
       "    }\n",
       "</style>\n",
       "<table border=\"1\" class=\"dataframe\">\n",
       "  <thead>\n",
       "    <tr style=\"text-align: right;\">\n",
       "      <th></th>\n",
       "      <th>id</th>\n",
       "      <th>Gender</th>\n",
       "    </tr>\n",
       "  </thead>\n",
       "  <tbody>\n",
       "    <tr>\n",
       "      <th>0</th>\n",
       "      <td>1</td>\n",
       "      <td>Male</td>\n",
       "    </tr>\n",
       "    <tr>\n",
       "      <th>1</th>\n",
       "      <td>2</td>\n",
       "      <td>Male</td>\n",
       "    </tr>\n",
       "    <tr>\n",
       "      <th>2</th>\n",
       "      <td>3</td>\n",
       "      <td>Female</td>\n",
       "    </tr>\n",
       "    <tr>\n",
       "      <th>3</th>\n",
       "      <td>4</td>\n",
       "      <td>Female</td>\n",
       "    </tr>\n",
       "    <tr>\n",
       "      <th>4</th>\n",
       "      <td>5</td>\n",
       "      <td>Female</td>\n",
       "    </tr>\n",
       "    <tr>\n",
       "      <th>5</th>\n",
       "      <td>6</td>\n",
       "      <td>Female</td>\n",
       "    </tr>\n",
       "    <tr>\n",
       "      <th>6</th>\n",
       "      <td>7</td>\n",
       "      <td>Female</td>\n",
       "    </tr>\n",
       "    <tr>\n",
       "      <th>7</th>\n",
       "      <td>8</td>\n",
       "      <td>Female</td>\n",
       "    </tr>\n",
       "    <tr>\n",
       "      <th>8</th>\n",
       "      <td>9</td>\n",
       "      <td>Male</td>\n",
       "    </tr>\n",
       "    <tr>\n",
       "      <th>9</th>\n",
       "      <td>10</td>\n",
       "      <td>Female</td>\n",
       "    </tr>\n",
       "  </tbody>\n",
       "</table>\n",
       "</div>"
      ],
      "text/plain": [
       "   id  Gender\n",
       "0   1    Male\n",
       "1   2    Male\n",
       "2   3  Female\n",
       "3   4  Female\n",
       "4   5  Female\n",
       "5   6  Female\n",
       "6   7  Female\n",
       "7   8  Female\n",
       "8   9    Male\n",
       "9  10  Female"
      ]
     },
     "execution_count": 26,
     "metadata": {},
     "output_type": "execute_result"
    }
   ],
   "source": [
    "df_new = df.iloc[0:10,0:2] # using iloc for positional slicing along rows and columns\n",
    "df_new"
   ]
  },
  {
   "cell_type": "markdown",
   "id": "fe46c6ef",
   "metadata": {
    "papermill": {
     "duration": 0.045007,
     "end_time": "2022-03-31T05:47:00.684501",
     "exception": false,
     "start_time": "2022-03-31T05:47:00.639494",
     "status": "completed"
    },
    "tags": []
   },
   "source": [
    "### Filter & Sort dataframe\n",
    "Filtering or sorting dataframe is commonly done to extract specific values basis a rule. Filtering / Sorting can happen basis one more columns"
   ]
  },
  {
   "cell_type": "code",
   "execution_count": 27,
   "id": "ef15d443",
   "metadata": {
    "execution": {
     "iopub.execute_input": "2022-03-31T05:47:00.778122Z",
     "iopub.status.busy": "2022-03-31T05:47:00.777471Z",
     "iopub.status.idle": "2022-03-31T05:47:00.786740Z",
     "shell.execute_reply": "2022-03-31T05:47:00.786138Z",
     "shell.execute_reply.started": "2022-03-31T05:45:46.693478Z"
    },
    "papermill": {
     "duration": 0.057203,
     "end_time": "2022-03-31T05:47:00.786882",
     "exception": false,
     "start_time": "2022-03-31T05:47:00.729679",
     "status": "completed"
    },
    "tags": []
   },
   "outputs": [
    {
     "data": {
      "text/html": [
       "<div>\n",
       "<style scoped>\n",
       "    .dataframe tbody tr th:only-of-type {\n",
       "        vertical-align: middle;\n",
       "    }\n",
       "\n",
       "    .dataframe tbody tr th {\n",
       "        vertical-align: top;\n",
       "    }\n",
       "\n",
       "    .dataframe thead th {\n",
       "        text-align: right;\n",
       "    }\n",
       "</style>\n",
       "<table border=\"1\" class=\"dataframe\">\n",
       "  <thead>\n",
       "    <tr style=\"text-align: right;\">\n",
       "      <th></th>\n",
       "      <th>id</th>\n",
       "      <th>Gender</th>\n",
       "      <th>Age</th>\n",
       "      <th>income</th>\n",
       "      <th>score</th>\n",
       "    </tr>\n",
       "  </thead>\n",
       "  <tbody>\n",
       "    <tr>\n",
       "      <th>0</th>\n",
       "      <td>1</td>\n",
       "      <td>Male</td>\n",
       "      <td>19</td>\n",
       "      <td>15</td>\n",
       "      <td>39</td>\n",
       "    </tr>\n",
       "    <tr>\n",
       "      <th>1</th>\n",
       "      <td>2</td>\n",
       "      <td>Male</td>\n",
       "      <td>21</td>\n",
       "      <td>15</td>\n",
       "      <td>81</td>\n",
       "    </tr>\n",
       "    <tr>\n",
       "      <th>2</th>\n",
       "      <td>3</td>\n",
       "      <td>Female</td>\n",
       "      <td>20</td>\n",
       "      <td>16</td>\n",
       "      <td>6</td>\n",
       "    </tr>\n",
       "    <tr>\n",
       "      <th>3</th>\n",
       "      <td>4</td>\n",
       "      <td>Female</td>\n",
       "      <td>23</td>\n",
       "      <td>16</td>\n",
       "      <td>77</td>\n",
       "    </tr>\n",
       "    <tr>\n",
       "      <th>4</th>\n",
       "      <td>5</td>\n",
       "      <td>Female</td>\n",
       "      <td>31</td>\n",
       "      <td>17</td>\n",
       "      <td>40</td>\n",
       "    </tr>\n",
       "  </tbody>\n",
       "</table>\n",
       "</div>"
      ],
      "text/plain": [
       "   id  Gender  Age  income  score\n",
       "0   1    Male   19      15     39\n",
       "1   2    Male   21      15     81\n",
       "2   3  Female   20      16      6\n",
       "3   4  Female   23      16     77\n",
       "4   5  Female   31      17     40"
      ]
     },
     "execution_count": 27,
     "metadata": {},
     "output_type": "execute_result"
    }
   ],
   "source": [
    "df.head()"
   ]
  },
  {
   "cell_type": "code",
   "execution_count": 28,
   "id": "ad5a1e66",
   "metadata": {
    "execution": {
     "iopub.execute_input": "2022-03-31T05:47:00.883314Z",
     "iopub.status.busy": "2022-03-31T05:47:00.882696Z",
     "iopub.status.idle": "2022-03-31T05:47:00.895006Z",
     "shell.execute_reply": "2022-03-31T05:47:00.894520Z",
     "shell.execute_reply.started": "2022-03-31T05:45:46.751687Z"
    },
    "papermill": {
     "duration": 0.062494,
     "end_time": "2022-03-31T05:47:00.895142",
     "exception": false,
     "start_time": "2022-03-31T05:47:00.832648",
     "status": "completed"
    },
    "tags": []
   },
   "outputs": [
    {
     "data": {
      "text/html": [
       "<div>\n",
       "<style scoped>\n",
       "    .dataframe tbody tr th:only-of-type {\n",
       "        vertical-align: middle;\n",
       "    }\n",
       "\n",
       "    .dataframe tbody tr th {\n",
       "        vertical-align: top;\n",
       "    }\n",
       "\n",
       "    .dataframe thead th {\n",
       "        text-align: right;\n",
       "    }\n",
       "</style>\n",
       "<table border=\"1\" class=\"dataframe\">\n",
       "  <thead>\n",
       "    <tr style=\"text-align: right;\">\n",
       "      <th></th>\n",
       "      <th>id</th>\n",
       "      <th>Gender</th>\n",
       "      <th>Age</th>\n",
       "      <th>income</th>\n",
       "      <th>score</th>\n",
       "    </tr>\n",
       "  </thead>\n",
       "  <tbody>\n",
       "    <tr>\n",
       "      <th>199</th>\n",
       "      <td>200</td>\n",
       "      <td>Male</td>\n",
       "      <td>30</td>\n",
       "      <td>137</td>\n",
       "      <td>83</td>\n",
       "    </tr>\n",
       "    <tr>\n",
       "      <th>198</th>\n",
       "      <td>199</td>\n",
       "      <td>Male</td>\n",
       "      <td>32</td>\n",
       "      <td>137</td>\n",
       "      <td>18</td>\n",
       "    </tr>\n",
       "    <tr>\n",
       "      <th>197</th>\n",
       "      <td>198</td>\n",
       "      <td>Male</td>\n",
       "      <td>32</td>\n",
       "      <td>126</td>\n",
       "      <td>74</td>\n",
       "    </tr>\n",
       "    <tr>\n",
       "      <th>196</th>\n",
       "      <td>197</td>\n",
       "      <td>Female</td>\n",
       "      <td>45</td>\n",
       "      <td>126</td>\n",
       "      <td>28</td>\n",
       "    </tr>\n",
       "    <tr>\n",
       "      <th>195</th>\n",
       "      <td>196</td>\n",
       "      <td>Female</td>\n",
       "      <td>35</td>\n",
       "      <td>120</td>\n",
       "      <td>79</td>\n",
       "    </tr>\n",
       "    <tr>\n",
       "      <th>...</th>\n",
       "      <td>...</td>\n",
       "      <td>...</td>\n",
       "      <td>...</td>\n",
       "      <td>...</td>\n",
       "      <td>...</td>\n",
       "    </tr>\n",
       "    <tr>\n",
       "      <th>4</th>\n",
       "      <td>5</td>\n",
       "      <td>Female</td>\n",
       "      <td>31</td>\n",
       "      <td>17</td>\n",
       "      <td>40</td>\n",
       "    </tr>\n",
       "    <tr>\n",
       "      <th>3</th>\n",
       "      <td>4</td>\n",
       "      <td>Female</td>\n",
       "      <td>23</td>\n",
       "      <td>16</td>\n",
       "      <td>77</td>\n",
       "    </tr>\n",
       "    <tr>\n",
       "      <th>2</th>\n",
       "      <td>3</td>\n",
       "      <td>Female</td>\n",
       "      <td>20</td>\n",
       "      <td>16</td>\n",
       "      <td>6</td>\n",
       "    </tr>\n",
       "    <tr>\n",
       "      <th>1</th>\n",
       "      <td>2</td>\n",
       "      <td>Male</td>\n",
       "      <td>21</td>\n",
       "      <td>15</td>\n",
       "      <td>81</td>\n",
       "    </tr>\n",
       "    <tr>\n",
       "      <th>0</th>\n",
       "      <td>1</td>\n",
       "      <td>Male</td>\n",
       "      <td>19</td>\n",
       "      <td>15</td>\n",
       "      <td>39</td>\n",
       "    </tr>\n",
       "  </tbody>\n",
       "</table>\n",
       "<p>200 rows × 5 columns</p>\n",
       "</div>"
      ],
      "text/plain": [
       "      id  Gender  Age  income  score\n",
       "199  200    Male   30     137     83\n",
       "198  199    Male   32     137     18\n",
       "197  198    Male   32     126     74\n",
       "196  197  Female   45     126     28\n",
       "195  196  Female   35     120     79\n",
       "..   ...     ...  ...     ...    ...\n",
       "4      5  Female   31      17     40\n",
       "3      4  Female   23      16     77\n",
       "2      3  Female   20      16      6\n",
       "1      2    Male   21      15     81\n",
       "0      1    Male   19      15     39\n",
       "\n",
       "[200 rows x 5 columns]"
      ]
     },
     "execution_count": 28,
     "metadata": {},
     "output_type": "execute_result"
    }
   ],
   "source": [
    "df.iloc[::-1]"
   ]
  },
  {
   "cell_type": "code",
   "execution_count": 29,
   "id": "818ae712",
   "metadata": {
    "execution": {
     "iopub.execute_input": "2022-03-31T05:47:00.990023Z",
     "iopub.status.busy": "2022-03-31T05:47:00.989406Z",
     "iopub.status.idle": "2022-03-31T05:47:01.001094Z",
     "shell.execute_reply": "2022-03-31T05:47:01.001630Z",
     "shell.execute_reply.started": "2022-03-31T05:45:46.800321Z"
    },
    "papermill": {
     "duration": 0.060431,
     "end_time": "2022-03-31T05:47:01.001785",
     "exception": false,
     "start_time": "2022-03-31T05:47:00.941354",
     "status": "completed"
    },
    "tags": []
   },
   "outputs": [
    {
     "data": {
      "text/html": [
       "<div>\n",
       "<style scoped>\n",
       "    .dataframe tbody tr th:only-of-type {\n",
       "        vertical-align: middle;\n",
       "    }\n",
       "\n",
       "    .dataframe tbody tr th {\n",
       "        vertical-align: top;\n",
       "    }\n",
       "\n",
       "    .dataframe thead th {\n",
       "        text-align: right;\n",
       "    }\n",
       "</style>\n",
       "<table border=\"1\" class=\"dataframe\">\n",
       "  <thead>\n",
       "    <tr style=\"text-align: right;\">\n",
       "      <th></th>\n",
       "      <th>id</th>\n",
       "      <th>Gender</th>\n",
       "      <th>Age</th>\n",
       "      <th>income</th>\n",
       "      <th>score</th>\n",
       "    </tr>\n",
       "  </thead>\n",
       "  <tbody>\n",
       "    <tr>\n",
       "      <th>0</th>\n",
       "      <td>1</td>\n",
       "      <td>Male</td>\n",
       "      <td>19</td>\n",
       "      <td>15</td>\n",
       "      <td>39</td>\n",
       "    </tr>\n",
       "    <tr>\n",
       "      <th>1</th>\n",
       "      <td>2</td>\n",
       "      <td>Male</td>\n",
       "      <td>21</td>\n",
       "      <td>15</td>\n",
       "      <td>81</td>\n",
       "    </tr>\n",
       "    <tr>\n",
       "      <th>8</th>\n",
       "      <td>9</td>\n",
       "      <td>Male</td>\n",
       "      <td>64</td>\n",
       "      <td>19</td>\n",
       "      <td>3</td>\n",
       "    </tr>\n",
       "    <tr>\n",
       "      <th>10</th>\n",
       "      <td>11</td>\n",
       "      <td>Male</td>\n",
       "      <td>67</td>\n",
       "      <td>19</td>\n",
       "      <td>14</td>\n",
       "    </tr>\n",
       "    <tr>\n",
       "      <th>14</th>\n",
       "      <td>15</td>\n",
       "      <td>Male</td>\n",
       "      <td>37</td>\n",
       "      <td>20</td>\n",
       "      <td>13</td>\n",
       "    </tr>\n",
       "    <tr>\n",
       "      <th>...</th>\n",
       "      <td>...</td>\n",
       "      <td>...</td>\n",
       "      <td>...</td>\n",
       "      <td>...</td>\n",
       "      <td>...</td>\n",
       "    </tr>\n",
       "    <tr>\n",
       "      <th>187</th>\n",
       "      <td>188</td>\n",
       "      <td>Male</td>\n",
       "      <td>28</td>\n",
       "      <td>101</td>\n",
       "      <td>68</td>\n",
       "    </tr>\n",
       "    <tr>\n",
       "      <th>192</th>\n",
       "      <td>193</td>\n",
       "      <td>Male</td>\n",
       "      <td>33</td>\n",
       "      <td>113</td>\n",
       "      <td>8</td>\n",
       "    </tr>\n",
       "    <tr>\n",
       "      <th>197</th>\n",
       "      <td>198</td>\n",
       "      <td>Male</td>\n",
       "      <td>32</td>\n",
       "      <td>126</td>\n",
       "      <td>74</td>\n",
       "    </tr>\n",
       "    <tr>\n",
       "      <th>198</th>\n",
       "      <td>199</td>\n",
       "      <td>Male</td>\n",
       "      <td>32</td>\n",
       "      <td>137</td>\n",
       "      <td>18</td>\n",
       "    </tr>\n",
       "    <tr>\n",
       "      <th>199</th>\n",
       "      <td>200</td>\n",
       "      <td>Male</td>\n",
       "      <td>30</td>\n",
       "      <td>137</td>\n",
       "      <td>83</td>\n",
       "    </tr>\n",
       "  </tbody>\n",
       "</table>\n",
       "<p>88 rows × 5 columns</p>\n",
       "</div>"
      ],
      "text/plain": [
       "      id Gender  Age  income  score\n",
       "0      1   Male   19      15     39\n",
       "1      2   Male   21      15     81\n",
       "8      9   Male   64      19      3\n",
       "10    11   Male   67      19     14\n",
       "14    15   Male   37      20     13\n",
       "..   ...    ...  ...     ...    ...\n",
       "187  188   Male   28     101     68\n",
       "192  193   Male   33     113      8\n",
       "197  198   Male   32     126     74\n",
       "198  199   Male   32     137     18\n",
       "199  200   Male   30     137     83\n",
       "\n",
       "[88 rows x 5 columns]"
      ]
     },
     "execution_count": 29,
     "metadata": {},
     "output_type": "execute_result"
    }
   ],
   "source": [
    "df_new = df[df['Gender'] == 'Male']\n",
    "df_new"
   ]
  },
  {
   "cell_type": "code",
   "execution_count": 30,
   "id": "d285b890",
   "metadata": {
    "execution": {
     "iopub.execute_input": "2022-03-31T05:47:01.096065Z",
     "iopub.status.busy": "2022-03-31T05:47:01.095478Z",
     "iopub.status.idle": "2022-03-31T05:47:01.107405Z",
     "shell.execute_reply": "2022-03-31T05:47:01.107892Z",
     "shell.execute_reply.started": "2022-03-31T05:45:46.855688Z"
    },
    "papermill": {
     "duration": 0.060374,
     "end_time": "2022-03-31T05:47:01.108046",
     "exception": false,
     "start_time": "2022-03-31T05:47:01.047672",
     "status": "completed"
    },
    "tags": []
   },
   "outputs": [
    {
     "data": {
      "text/html": [
       "<div>\n",
       "<style scoped>\n",
       "    .dataframe tbody tr th:only-of-type {\n",
       "        vertical-align: middle;\n",
       "    }\n",
       "\n",
       "    .dataframe tbody tr th {\n",
       "        vertical-align: top;\n",
       "    }\n",
       "\n",
       "    .dataframe thead th {\n",
       "        text-align: right;\n",
       "    }\n",
       "</style>\n",
       "<table border=\"1\" class=\"dataframe\">\n",
       "  <thead>\n",
       "    <tr style=\"text-align: right;\">\n",
       "      <th></th>\n",
       "      <th>id</th>\n",
       "      <th>Gender</th>\n",
       "      <th>Age</th>\n",
       "      <th>income</th>\n",
       "      <th>score</th>\n",
       "    </tr>\n",
       "  </thead>\n",
       "  <tbody>\n",
       "    <tr>\n",
       "      <th>0</th>\n",
       "      <td>1</td>\n",
       "      <td>Male</td>\n",
       "      <td>19</td>\n",
       "      <td>15</td>\n",
       "      <td>39</td>\n",
       "    </tr>\n",
       "    <tr>\n",
       "      <th>1</th>\n",
       "      <td>2</td>\n",
       "      <td>Male</td>\n",
       "      <td>21</td>\n",
       "      <td>15</td>\n",
       "      <td>81</td>\n",
       "    </tr>\n",
       "    <tr>\n",
       "      <th>2</th>\n",
       "      <td>3</td>\n",
       "      <td>Female</td>\n",
       "      <td>20</td>\n",
       "      <td>16</td>\n",
       "      <td>6</td>\n",
       "    </tr>\n",
       "    <tr>\n",
       "      <th>3</th>\n",
       "      <td>4</td>\n",
       "      <td>Female</td>\n",
       "      <td>23</td>\n",
       "      <td>16</td>\n",
       "      <td>77</td>\n",
       "    </tr>\n",
       "    <tr>\n",
       "      <th>4</th>\n",
       "      <td>5</td>\n",
       "      <td>Female</td>\n",
       "      <td>31</td>\n",
       "      <td>17</td>\n",
       "      <td>40</td>\n",
       "    </tr>\n",
       "    <tr>\n",
       "      <th>...</th>\n",
       "      <td>...</td>\n",
       "      <td>...</td>\n",
       "      <td>...</td>\n",
       "      <td>...</td>\n",
       "      <td>...</td>\n",
       "    </tr>\n",
       "    <tr>\n",
       "      <th>195</th>\n",
       "      <td>196</td>\n",
       "      <td>Female</td>\n",
       "      <td>35</td>\n",
       "      <td>120</td>\n",
       "      <td>79</td>\n",
       "    </tr>\n",
       "    <tr>\n",
       "      <th>196</th>\n",
       "      <td>197</td>\n",
       "      <td>Female</td>\n",
       "      <td>45</td>\n",
       "      <td>126</td>\n",
       "      <td>28</td>\n",
       "    </tr>\n",
       "    <tr>\n",
       "      <th>197</th>\n",
       "      <td>198</td>\n",
       "      <td>Male</td>\n",
       "      <td>32</td>\n",
       "      <td>126</td>\n",
       "      <td>74</td>\n",
       "    </tr>\n",
       "    <tr>\n",
       "      <th>198</th>\n",
       "      <td>199</td>\n",
       "      <td>Male</td>\n",
       "      <td>32</td>\n",
       "      <td>137</td>\n",
       "      <td>18</td>\n",
       "    </tr>\n",
       "    <tr>\n",
       "      <th>199</th>\n",
       "      <td>200</td>\n",
       "      <td>Male</td>\n",
       "      <td>30</td>\n",
       "      <td>137</td>\n",
       "      <td>83</td>\n",
       "    </tr>\n",
       "  </tbody>\n",
       "</table>\n",
       "<p>197 rows × 5 columns</p>\n",
       "</div>"
      ],
      "text/plain": [
       "      id  Gender  Age  income  score\n",
       "0      1    Male   19      15     39\n",
       "1      2    Male   21      15     81\n",
       "2      3  Female   20      16      6\n",
       "3      4  Female   23      16     77\n",
       "4      5  Female   31      17     40\n",
       "..   ...     ...  ...     ...    ...\n",
       "195  196  Female   35     120     79\n",
       "196  197  Female   45     126     28\n",
       "197  198    Male   32     126     74\n",
       "198  199    Male   32     137     18\n",
       "199  200    Male   30     137     83\n",
       "\n",
       "[197 rows x 5 columns]"
      ]
     },
     "execution_count": 30,
     "metadata": {},
     "output_type": "execute_result"
    }
   ],
   "source": [
    "# Using & operator, don't forget to wrap the sub-statements with ()\n",
    "df_new = df[(df['Gender'] == 'Male') | (df['Age'] >= 20)] \n",
    "df_new"
   ]
  },
  {
   "cell_type": "code",
   "execution_count": 31,
   "id": "315626ec",
   "metadata": {
    "execution": {
     "iopub.execute_input": "2022-03-31T05:47:01.204089Z",
     "iopub.status.busy": "2022-03-31T05:47:01.203488Z",
     "iopub.status.idle": "2022-03-31T05:47:01.216117Z",
     "shell.execute_reply": "2022-03-31T05:47:01.216657Z",
     "shell.execute_reply.started": "2022-03-31T05:45:46.920449Z"
    },
    "papermill": {
     "duration": 0.062326,
     "end_time": "2022-03-31T05:47:01.216929",
     "exception": false,
     "start_time": "2022-03-31T05:47:01.154603",
     "status": "completed"
    },
    "tags": []
   },
   "outputs": [
    {
     "data": {
      "text/html": [
       "<div>\n",
       "<style scoped>\n",
       "    .dataframe tbody tr th:only-of-type {\n",
       "        vertical-align: middle;\n",
       "    }\n",
       "\n",
       "    .dataframe tbody tr th {\n",
       "        vertical-align: top;\n",
       "    }\n",
       "\n",
       "    .dataframe thead th {\n",
       "        text-align: right;\n",
       "    }\n",
       "</style>\n",
       "<table border=\"1\" class=\"dataframe\">\n",
       "  <thead>\n",
       "    <tr style=\"text-align: right;\">\n",
       "      <th></th>\n",
       "      <th>id</th>\n",
       "      <th>Gender</th>\n",
       "      <th>Age</th>\n",
       "      <th>income</th>\n",
       "      <th>score</th>\n",
       "    </tr>\n",
       "  </thead>\n",
       "  <tbody>\n",
       "    <tr>\n",
       "      <th>11</th>\n",
       "      <td>12</td>\n",
       "      <td>Female</td>\n",
       "      <td>35</td>\n",
       "      <td>19</td>\n",
       "      <td>99</td>\n",
       "    </tr>\n",
       "    <tr>\n",
       "      <th>19</th>\n",
       "      <td>20</td>\n",
       "      <td>Female</td>\n",
       "      <td>35</td>\n",
       "      <td>23</td>\n",
       "      <td>98</td>\n",
       "    </tr>\n",
       "    <tr>\n",
       "      <th>145</th>\n",
       "      <td>146</td>\n",
       "      <td>Male</td>\n",
       "      <td>28</td>\n",
       "      <td>77</td>\n",
       "      <td>97</td>\n",
       "    </tr>\n",
       "    <tr>\n",
       "      <th>185</th>\n",
       "      <td>186</td>\n",
       "      <td>Male</td>\n",
       "      <td>30</td>\n",
       "      <td>99</td>\n",
       "      <td>97</td>\n",
       "    </tr>\n",
       "    <tr>\n",
       "      <th>127</th>\n",
       "      <td>128</td>\n",
       "      <td>Male</td>\n",
       "      <td>40</td>\n",
       "      <td>71</td>\n",
       "      <td>95</td>\n",
       "    </tr>\n",
       "    <tr>\n",
       "      <th>...</th>\n",
       "      <td>...</td>\n",
       "      <td>...</td>\n",
       "      <td>...</td>\n",
       "      <td>...</td>\n",
       "      <td>...</td>\n",
       "    </tr>\n",
       "    <tr>\n",
       "      <th>30</th>\n",
       "      <td>31</td>\n",
       "      <td>Male</td>\n",
       "      <td>60</td>\n",
       "      <td>30</td>\n",
       "      <td>4</td>\n",
       "    </tr>\n",
       "    <tr>\n",
       "      <th>32</th>\n",
       "      <td>33</td>\n",
       "      <td>Male</td>\n",
       "      <td>53</td>\n",
       "      <td>33</td>\n",
       "      <td>4</td>\n",
       "    </tr>\n",
       "    <tr>\n",
       "      <th>8</th>\n",
       "      <td>9</td>\n",
       "      <td>Male</td>\n",
       "      <td>64</td>\n",
       "      <td>19</td>\n",
       "      <td>3</td>\n",
       "    </tr>\n",
       "    <tr>\n",
       "      <th>158</th>\n",
       "      <td>159</td>\n",
       "      <td>Male</td>\n",
       "      <td>34</td>\n",
       "      <td>78</td>\n",
       "      <td>1</td>\n",
       "    </tr>\n",
       "    <tr>\n",
       "      <th>156</th>\n",
       "      <td>157</td>\n",
       "      <td>Male</td>\n",
       "      <td>37</td>\n",
       "      <td>78</td>\n",
       "      <td>1</td>\n",
       "    </tr>\n",
       "  </tbody>\n",
       "</table>\n",
       "<p>200 rows × 5 columns</p>\n",
       "</div>"
      ],
      "text/plain": [
       "      id  Gender  Age  income  score\n",
       "11    12  Female   35      19     99\n",
       "19    20  Female   35      23     98\n",
       "145  146    Male   28      77     97\n",
       "185  186    Male   30      99     97\n",
       "127  128    Male   40      71     95\n",
       "..   ...     ...  ...     ...    ...\n",
       "30    31    Male   60      30      4\n",
       "32    33    Male   53      33      4\n",
       "8      9    Male   64      19      3\n",
       "158  159    Male   34      78      1\n",
       "156  157    Male   37      78      1\n",
       "\n",
       "[200 rows x 5 columns]"
      ]
     },
     "execution_count": 31,
     "metadata": {},
     "output_type": "execute_result"
    }
   ],
   "source": [
    "#Sorting of data frame basis a single columns\n",
    "df_new = df.sort_values(by = ['score'], ascending=[False])\n",
    "df_new"
   ]
  },
  {
   "cell_type": "code",
   "execution_count": 32,
   "id": "f791588d",
   "metadata": {
    "execution": {
     "iopub.execute_input": "2022-03-31T05:47:01.316140Z",
     "iopub.status.busy": "2022-03-31T05:47:01.315549Z",
     "iopub.status.idle": "2022-03-31T05:47:01.329279Z",
     "shell.execute_reply": "2022-03-31T05:47:01.329806Z",
     "shell.execute_reply.started": "2022-03-31T05:45:46.981111Z"
    },
    "papermill": {
     "duration": 0.064577,
     "end_time": "2022-03-31T05:47:01.329980",
     "exception": false,
     "start_time": "2022-03-31T05:47:01.265403",
     "status": "completed"
    },
    "tags": []
   },
   "outputs": [
    {
     "data": {
      "text/html": [
       "<div>\n",
       "<style scoped>\n",
       "    .dataframe tbody tr th:only-of-type {\n",
       "        vertical-align: middle;\n",
       "    }\n",
       "\n",
       "    .dataframe tbody tr th {\n",
       "        vertical-align: top;\n",
       "    }\n",
       "\n",
       "    .dataframe thead th {\n",
       "        text-align: right;\n",
       "    }\n",
       "</style>\n",
       "<table border=\"1\" class=\"dataframe\">\n",
       "  <thead>\n",
       "    <tr style=\"text-align: right;\">\n",
       "      <th></th>\n",
       "      <th>id</th>\n",
       "      <th>Gender</th>\n",
       "      <th>Age</th>\n",
       "      <th>income</th>\n",
       "      <th>score</th>\n",
       "    </tr>\n",
       "  </thead>\n",
       "  <tbody>\n",
       "    <tr>\n",
       "      <th>196</th>\n",
       "      <td>197</td>\n",
       "      <td>Female</td>\n",
       "      <td>45</td>\n",
       "      <td>126</td>\n",
       "      <td>28</td>\n",
       "    </tr>\n",
       "    <tr>\n",
       "      <th>194</th>\n",
       "      <td>195</td>\n",
       "      <td>Female</td>\n",
       "      <td>47</td>\n",
       "      <td>120</td>\n",
       "      <td>16</td>\n",
       "    </tr>\n",
       "    <tr>\n",
       "      <th>195</th>\n",
       "      <td>196</td>\n",
       "      <td>Female</td>\n",
       "      <td>35</td>\n",
       "      <td>120</td>\n",
       "      <td>79</td>\n",
       "    </tr>\n",
       "    <tr>\n",
       "      <th>193</th>\n",
       "      <td>194</td>\n",
       "      <td>Female</td>\n",
       "      <td>38</td>\n",
       "      <td>113</td>\n",
       "      <td>91</td>\n",
       "    </tr>\n",
       "    <tr>\n",
       "      <th>188</th>\n",
       "      <td>189</td>\n",
       "      <td>Female</td>\n",
       "      <td>41</td>\n",
       "      <td>103</td>\n",
       "      <td>17</td>\n",
       "    </tr>\n",
       "    <tr>\n",
       "      <th>...</th>\n",
       "      <td>...</td>\n",
       "      <td>...</td>\n",
       "      <td>...</td>\n",
       "      <td>...</td>\n",
       "      <td>...</td>\n",
       "    </tr>\n",
       "    <tr>\n",
       "      <th>15</th>\n",
       "      <td>16</td>\n",
       "      <td>Male</td>\n",
       "      <td>22</td>\n",
       "      <td>20</td>\n",
       "      <td>79</td>\n",
       "    </tr>\n",
       "    <tr>\n",
       "      <th>8</th>\n",
       "      <td>9</td>\n",
       "      <td>Male</td>\n",
       "      <td>64</td>\n",
       "      <td>19</td>\n",
       "      <td>3</td>\n",
       "    </tr>\n",
       "    <tr>\n",
       "      <th>10</th>\n",
       "      <td>11</td>\n",
       "      <td>Male</td>\n",
       "      <td>67</td>\n",
       "      <td>19</td>\n",
       "      <td>14</td>\n",
       "    </tr>\n",
       "    <tr>\n",
       "      <th>0</th>\n",
       "      <td>1</td>\n",
       "      <td>Male</td>\n",
       "      <td>19</td>\n",
       "      <td>15</td>\n",
       "      <td>39</td>\n",
       "    </tr>\n",
       "    <tr>\n",
       "      <th>1</th>\n",
       "      <td>2</td>\n",
       "      <td>Male</td>\n",
       "      <td>21</td>\n",
       "      <td>15</td>\n",
       "      <td>81</td>\n",
       "    </tr>\n",
       "  </tbody>\n",
       "</table>\n",
       "<p>200 rows × 5 columns</p>\n",
       "</div>"
      ],
      "text/plain": [
       "      id  Gender  Age  income  score\n",
       "196  197  Female   45     126     28\n",
       "194  195  Female   47     120     16\n",
       "195  196  Female   35     120     79\n",
       "193  194  Female   38     113     91\n",
       "188  189  Female   41     103     17\n",
       "..   ...     ...  ...     ...    ...\n",
       "15    16    Male   22      20     79\n",
       "8      9    Male   64      19      3\n",
       "10    11    Male   67      19     14\n",
       "0      1    Male   19      15     39\n",
       "1      2    Male   21      15     81\n",
       "\n",
       "[200 rows x 5 columns]"
      ]
     },
     "execution_count": 32,
     "metadata": {},
     "output_type": "execute_result"
    }
   ],
   "source": [
    "#Sorting of data frame basis multiple columns\n",
    "df_new = df.sort_values(by = ['Gender','income'], ascending=[True,False])\n",
    "df_new"
   ]
  },
  {
   "cell_type": "markdown",
   "id": "7a449e06",
   "metadata": {
    "papermill": {
     "duration": 0.04718,
     "end_time": "2022-03-31T05:47:01.424486",
     "exception": false,
     "start_time": "2022-03-31T05:47:01.377306",
     "status": "completed"
    },
    "tags": []
   },
   "source": [
    "### Data Visualization\n",
    "Visualization is one of the most important things of data analysis. Besides just producing ___readable___ plots, we should make an effort to improve the overall attractiveness of the plots. `matplotlib` is a powerful package for ___Python___ users. Let's start with an example."
   ]
  },
  {
   "cell_type": "code",
   "execution_count": 33,
   "id": "62d67f7d",
   "metadata": {
    "execution": {
     "iopub.execute_input": "2022-03-31T05:47:01.522303Z",
     "iopub.status.busy": "2022-03-31T05:47:01.521708Z",
     "iopub.status.idle": "2022-03-31T05:47:01.527293Z",
     "shell.execute_reply": "2022-03-31T05:47:01.527888Z",
     "shell.execute_reply.started": "2022-03-31T05:45:47.036122Z"
    },
    "papermill": {
     "duration": 0.056115,
     "end_time": "2022-03-31T05:47:01.528051",
     "exception": false,
     "start_time": "2022-03-31T05:47:01.471936",
     "status": "completed"
    },
    "tags": []
   },
   "outputs": [],
   "source": [
    "from matplotlib import pyplot as plt\n",
    "%matplotlib inline\n",
    "from numpy.polynomial.polynomial import polyfit\n",
    "# this magic line is important to plot graph within jupyter notebook cell"
   ]
  },
  {
   "cell_type": "code",
   "execution_count": 34,
   "id": "98873317",
   "metadata": {
    "execution": {
     "iopub.execute_input": "2022-03-31T05:47:01.626051Z",
     "iopub.status.busy": "2022-03-31T05:47:01.625472Z",
     "iopub.status.idle": "2022-03-31T05:47:01.885075Z",
     "shell.execute_reply": "2022-03-31T05:47:01.884610Z",
     "shell.execute_reply.started": "2022-03-31T05:45:47.155615Z"
    },
    "papermill": {
     "duration": 0.309631,
     "end_time": "2022-03-31T05:47:01.885208",
     "exception": false,
     "start_time": "2022-03-31T05:47:01.575577",
     "status": "completed"
    },
    "tags": []
   },
   "outputs": [
    {
     "data": {
      "text/plain": [
       "Text(0.5, 1.0, 'Relationship between Age & Spending Score')"
      ]
     },
     "execution_count": 34,
     "metadata": {},
     "output_type": "execute_result"
    },
    {
     "data": {
      "image/png": "[encoded data removed]",
      "text/plain": [
       "<Figure size 720x432 with 1 Axes>"
      ]
     },
     "metadata": {
      "needs_background": "light"
     },
     "output_type": "display_data"
    }
   ],
   "source": [
    "x , y = df['Age'] , df.score\n",
    "b0, b1 = polyfit(x, y, 1)\n",
    "plt.figure(figsize= (10,6))\n",
    "plt.scatter(x = df['Age'], y = df.score)\n",
    "plt.plot(x, b0 + b1 * x)\n",
    "plt.xlabel('Age')\n",
    "plt.ylabel('Spending Score')\n",
    "# set title\n",
    "plt.title('Relationship between Age & Spending Score')# df.score - is another method to access a specific column of data frame"
   ]
  },
  {
   "cell_type": "code",
   "execution_count": 35,
   "id": "d09b66c3",
   "metadata": {
    "execution": {
     "iopub.execute_input": "2022-03-31T05:47:01.986543Z",
     "iopub.status.busy": "2022-03-31T05:47:01.985946Z",
     "iopub.status.idle": "2022-03-31T05:47:02.936506Z",
     "shell.execute_reply": "2022-03-31T05:47:02.935826Z",
     "shell.execute_reply.started": "2022-03-31T05:45:47.411189Z"
    },
    "papermill": {
     "duration": 1.002511,
     "end_time": "2022-03-31T05:47:02.936642",
     "exception": false,
     "start_time": "2022-03-31T05:47:01.934131",
     "status": "completed"
    },
    "tags": []
   },
   "outputs": [],
   "source": [
    "import seaborn as sns; sns.set(color_codes=True)"
   ]
  },
  {
   "cell_type": "code",
   "execution_count": 36,
   "id": "516a0fd9",
   "metadata": {
    "execution": {
     "iopub.execute_input": "2022-03-31T05:47:03.045631Z",
     "iopub.status.busy": "2022-03-31T05:47:03.044994Z",
     "iopub.status.idle": "2022-03-31T05:47:03.426067Z",
     "shell.execute_reply": "2022-03-31T05:47:03.426537Z",
     "shell.execute_reply.started": "2022-03-31T05:45:47.928746Z"
    },
    "papermill": {
     "duration": 0.440636,
     "end_time": "2022-03-31T05:47:03.426701",
     "exception": false,
     "start_time": "2022-03-31T05:47:02.986065",
     "status": "completed"
    },
    "tags": []
   },
   "outputs": [
    {
     "data": {
      "image/png": "[encoded data removed]",
      "text/plain": [
       "<Figure size 1152x576 with 1 Axes>"
      ]
     },
     "metadata": {},
     "output_type": "display_data"
    }
   ],
   "source": [
    "ax = sns.regplot(x=\"Age\", y=\"score\", data=df)\n",
    "ax.figure.set_figwidth(16)\n",
    "ax.figure.set_figheight(8)"
   ]
  },
  {
   "cell_type": "markdown",
   "id": "4cfd0d9f",
   "metadata": {
    "papermill": {
     "duration": 0.050709,
     "end_time": "2022-03-31T05:47:03.528203",
     "exception": false,
     "start_time": "2022-03-31T05:47:03.477494",
     "status": "completed"
    },
    "tags": []
   },
   "source": [
    "The above graph does not have any labels and is inconclusive of any information. Lets add some context to the above scatter plot."
   ]
  },
  {
   "cell_type": "code",
   "execution_count": 37,
   "id": "0cd713ef",
   "metadata": {
    "execution": {
     "iopub.execute_input": "2022-03-31T05:47:03.634243Z",
     "iopub.status.busy": "2022-03-31T05:47:03.633222Z",
     "iopub.status.idle": "2022-03-31T05:47:03.920102Z",
     "shell.execute_reply": "2022-03-31T05:47:03.919440Z",
     "shell.execute_reply.started": "2022-03-31T05:45:48.369583Z"
    },
    "papermill": {
     "duration": 0.341036,
     "end_time": "2022-03-31T05:47:03.920240",
     "exception": false,
     "start_time": "2022-03-31T05:47:03.579204",
     "status": "completed"
    },
    "tags": []
   },
   "outputs": [
    {
     "data": {
      "text/plain": [
       "Text(0.5, 1.0, 'Age vs Spending Score')"
      ]
     },
     "execution_count": 37,
     "metadata": {},
     "output_type": "execute_result"
    },
    {
     "data": {
      "image/png": "[encoded data removed]",
      "text/plain": [
       "<Figure size 1152x576 with 1 Axes>"
      ]
     },
     "metadata": {},
     "output_type": "display_data"
    }
   ],
   "source": [
    "plt.figure(figsize=(16,8)) # Adding size to the graph- width by height\n",
    "# Use `+` as marker; color set as `g` (green); size proportion to Y values\n",
    "plt.scatter(x = df['Age'], y = df.score, c='r') \n",
    "# set x/y labels\n",
    "plt.xlabel('Age')\n",
    "plt.ylabel('Spending Score')\n",
    "# set title\n",
    "plt.title('Age vs Spending Score')"
   ]
  },
  {
   "cell_type": "markdown",
   "id": "ab652d17",
   "metadata": {
    "papermill": {
     "duration": 0.052472,
     "end_time": "2022-03-31T05:47:04.025688",
     "exception": false,
     "start_time": "2022-03-31T05:47:03.973216",
     "status": "completed"
    },
    "tags": []
   },
   "source": [
    "### Anatomy of Figure\n",
    "Before we go deeper, let's take a look at the structure of a figure in `matplotlib`:\n",
    "\n",
    "<img width=700 src=\"https://matplotlib.org/_images/anatomy1.png\">\n",
    "\n",
    "As you can see, we have done things for many of the elements. There's no need to memorize them, though. We can always Google and find information on specific parts that we want to update."
   ]
  },
  {
   "cell_type": "code",
   "execution_count": 38,
   "id": "ef3cece3",
   "metadata": {
    "execution": {
     "iopub.execute_input": "2022-03-31T05:47:04.159396Z",
     "iopub.status.busy": "2022-03-31T05:47:04.158132Z",
     "iopub.status.idle": "2022-03-31T05:47:04.353663Z",
     "shell.execute_reply": "2022-03-31T05:47:04.354075Z",
     "shell.execute_reply.started": "2022-03-31T05:45:48.680034Z"
    },
    "papermill": {
     "duration": 0.277012,
     "end_time": "2022-03-31T05:47:04.354241",
     "exception": false,
     "start_time": "2022-03-31T05:47:04.077229",
     "status": "completed"
    },
    "tags": []
   },
   "outputs": [
    {
     "data": {
      "image/png": "[encoded data removed]",
      "text/plain": [
       "<Figure size 432x288 with 1 Axes>"
      ]
     },
     "metadata": {},
     "output_type": "display_data"
    }
   ],
   "source": [
    "fig, ax = plt.subplots()"
   ]
  },
  {
   "cell_type": "code",
   "execution_count": 39,
   "id": "dfb03502",
   "metadata": {
    "execution": {
     "iopub.execute_input": "2022-03-31T05:47:04.505470Z",
     "iopub.status.busy": "2022-03-31T05:47:04.504362Z",
     "iopub.status.idle": "2022-03-31T05:47:04.793003Z",
     "shell.execute_reply": "2022-03-31T05:47:04.792522Z",
     "shell.execute_reply.started": "2022-03-31T05:45:48.919927Z"
    },
    "papermill": {
     "duration": 0.369085,
     "end_time": "2022-03-31T05:47:04.793140",
     "exception": false,
     "start_time": "2022-03-31T05:47:04.424055",
     "status": "completed"
    },
    "tags": []
   },
   "outputs": [
    {
     "data": {
      "text/plain": [
       "Text(0.5, 1.0, 'Age Vs Spending Score')"
      ]
     },
     "execution_count": 39,
     "metadata": {},
     "output_type": "execute_result"
    },
    {
     "data": {
      "image/png": "[encoded data removed]",
      "text/plain": [
       "<Figure size 1152x576 with 1 Axes>"
      ]
     },
     "metadata": {},
     "output_type": "display_data"
    }
   ],
   "source": [
    "#The Figure is like a canvas, and the Axes is a part of that canvas on which we will make a particular visualization.\n",
    "fig, ax = plt.subplots()\n",
    "fig.set_figwidth(16)\n",
    "fig.set_figheight(8)\n",
    "# What we just did, applying to `ax`\n",
    "ax.scatter(x = df['Age'], y = df.score, c='g') \n",
    "#ax.plot(x = df['Age'], y = df.score, linestyle='dashed', color='k')\n",
    "#ax.axis([0, 10, 0, 35])\n",
    "ax.set_xlabel('Age')\n",
    "ax.set_ylabel('Spending Score')\n",
    "ax.set_title('Age Vs Spending Score')"
   ]
  },
  {
   "cell_type": "code",
   "execution_count": 40,
   "id": "f274d2c0",
   "metadata": {
    "execution": {
     "iopub.execute_input": "2022-03-31T05:47:04.914894Z",
     "iopub.status.busy": "2022-03-31T05:47:04.914015Z",
     "iopub.status.idle": "2022-03-31T05:47:04.917110Z",
     "shell.execute_reply": "2022-03-31T05:47:04.917591Z",
     "shell.execute_reply.started": "2022-03-31T05:45:49.228577Z"
    },
    "papermill": {
     "duration": 0.06912,
     "end_time": "2022-03-31T05:47:04.917756",
     "exception": false,
     "start_time": "2022-03-31T05:47:04.848636",
     "status": "completed"
    },
    "scrolled": true,
    "tags": []
   },
   "outputs": [
    {
     "name": "stdout",
     "output_type": "stream",
     "text": [
      "                id        Age     income      score\n",
      "Gender                                             \n",
      "Female   97.562500  38.098214  59.250000  51.526786\n",
      "Male    104.238636  39.806818  62.227273  48.511364\n"
     ]
    }
   ],
   "source": [
    "means = df.groupby('Gender').mean()\n",
    "print(means)"
   ]
  },
  {
   "cell_type": "code",
   "execution_count": 41,
   "id": "516455e0",
   "metadata": {
    "execution": {
     "iopub.execute_input": "2022-03-31T05:47:05.034245Z",
     "iopub.status.busy": "2022-03-31T05:47:05.033382Z",
     "iopub.status.idle": "2022-03-31T05:47:05.037120Z",
     "shell.execute_reply": "2022-03-31T05:47:05.036658Z",
     "shell.execute_reply.started": "2022-03-31T05:45:49.241538Z"
    },
    "papermill": {
     "duration": 0.064403,
     "end_time": "2022-03-31T05:47:05.037249",
     "exception": false,
     "start_time": "2022-03-31T05:47:04.972846",
     "status": "completed"
    },
    "tags": []
   },
   "outputs": [
    {
     "data": {
      "text/plain": [
       "pandas.core.frame.DataFrame"
      ]
     },
     "execution_count": 41,
     "metadata": {},
     "output_type": "execute_result"
    }
   ],
   "source": [
    "type(means)"
   ]
  },
  {
   "cell_type": "code",
   "execution_count": 42,
   "id": "4eb652cb",
   "metadata": {
    "execution": {
     "iopub.execute_input": "2022-03-31T05:47:05.150273Z",
     "iopub.status.busy": "2022-03-31T05:47:05.149665Z",
     "iopub.status.idle": "2022-03-31T05:47:05.155584Z",
     "shell.execute_reply": "2022-03-31T05:47:05.155088Z",
     "shell.execute_reply.started": "2022-03-31T05:45:49.258406Z"
    },
    "papermill": {
     "duration": 0.063558,
     "end_time": "2022-03-31T05:47:05.155717",
     "exception": false,
     "start_time": "2022-03-31T05:47:05.092159",
     "status": "completed"
    },
    "tags": []
   },
   "outputs": [
    {
     "name": "stdout",
     "output_type": "stream",
     "text": [
      "Index(['Female', 'Male'], dtype='object', name='Gender')\n"
     ]
    }
   ],
   "source": [
    "print(means.index)"
   ]
  },
  {
   "cell_type": "code",
   "execution_count": 43,
   "id": "e5d489ec",
   "metadata": {
    "execution": {
     "iopub.execute_input": "2022-03-31T05:47:05.287098Z",
     "iopub.status.busy": "2022-03-31T05:47:05.286304Z",
     "iopub.status.idle": "2022-03-31T05:47:05.465966Z",
     "shell.execute_reply": "2022-03-31T05:47:05.465411Z",
     "shell.execute_reply.started": "2022-03-31T05:45:49.268122Z"
    },
    "papermill": {
     "duration": 0.252219,
     "end_time": "2022-03-31T05:47:05.466110",
     "exception": false,
     "start_time": "2022-03-31T05:47:05.213891",
     "status": "completed"
    },
    "tags": []
   },
   "outputs": [
    {
     "data": {
      "image/png": "[encoded data removed]",
      "text/plain": [
       "<Figure size 432x288 with 1 Axes>"
      ]
     },
     "metadata": {},
     "output_type": "display_data"
    }
   ],
   "source": [
    "fig, ax = plt.subplots()\n",
    "\n",
    "ax.bar(x = means.index, height = means['score'])\n",
    "#ax.barh(x = df['Gender'], height = np.mean(df.score))\n",
    "ax.set_title('Mean of Spending Score')\n",
    "ax.set_xlabel('Gender')\n",
    "ax.set_ylabel('Mean of Spending Score')\n",
    "ax.set_ylim(top = 60)\n",
    "for i, v in enumerate(means['score']):\n",
    "    ax.text(i, v + 2, s = int(v), color='blue', fontweight='bold')"
   ]
  },
  {
   "cell_type": "code",
   "execution_count": 44,
   "id": "f861ec9f",
   "metadata": {
    "execution": {
     "iopub.execute_input": "2022-03-31T05:47:05.584187Z",
     "iopub.status.busy": "2022-03-31T05:47:05.583129Z",
     "iopub.status.idle": "2022-03-31T05:47:05.587781Z",
     "shell.execute_reply": "2022-03-31T05:47:05.588366Z",
     "shell.execute_reply.started": "2022-03-31T05:45:49.472426Z"
    },
    "papermill": {
     "duration": 0.066474,
     "end_time": "2022-03-31T05:47:05.588564",
     "exception": false,
     "start_time": "2022-03-31T05:47:05.522090",
     "status": "completed"
    },
    "tags": []
   },
   "outputs": [
    {
     "name": "stdout",
     "output_type": "stream",
     "text": [
      "Position is: 0\n",
      "Value is: 51.526785714285715\n",
      "Position is: 1\n",
      "Value is: 48.51136363636363\n"
     ]
    }
   ],
   "source": [
    "l = [\"a\",\"b\",\"c\"]\n",
    "for pos , value in enumerate(means[\"score\"]):\n",
    "    print(\"Position is: %s\"%(pos))\n",
    "    print(\"Value is: %s\"%(value))"
   ]
  }
 ],
 "metadata": {
  "kernelspec": {
   "display_name": "Python 3",
   "language": "python",
   "name": "python3"
  },
  "language_info": {
   "codemirror_mode": {
    "name": "ipython",
    "version": 3
   },
   "file_extension": ".py",
   "mimetype": "text/x-python",
   "name": "python",
   "nbconvert_exporter": "python",
   "pygments_lexer": "ipython3",
   "version": "3.7.12"
  },
  "papermill": {
   "default_parameters": {},
   "duration": 16.911214,
   "end_time": "2022-03-31T05:47:06.354313",
   "environment_variables": {},
   "exception": null,
   "input_path": "__notebook__.ipynb",
   "output_path": "__notebook__.ipynb",
   "parameters": {},
   "start_time": "2022-03-31T05:46:49.443099",
   "version": "2.3.3"
  }
 },
 "nbformat": 4,
 "nbformat_minor": 5
}
